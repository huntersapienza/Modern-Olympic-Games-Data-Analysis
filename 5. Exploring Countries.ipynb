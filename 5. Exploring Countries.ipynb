{
 "cells": [
  {
   "cell_type": "code",
   "execution_count": 32,
   "metadata": {},
   "outputs": [
    {
     "data": {
      "text/html": [
       "        <script type=\"text/javascript\">\n",
       "        window.PlotlyConfig = {MathJaxConfig: 'local'};\n",
       "        if (window.MathJax) {MathJax.Hub.Config({SVG: {font: \"STIX-Web\"}});}\n",
       "        if (typeof require !== 'undefined') {\n",
       "        require.undef(\"plotly\");\n",
       "        requirejs.config({\n",
       "            paths: {\n",
       "                'plotly': ['https://cdn.plot.ly/plotly-latest.min']\n",
       "            }\n",
       "        });\n",
       "        require(['plotly'], function(Plotly) {\n",
       "            window._Plotly = Plotly;\n",
       "        });\n",
       "        }\n",
       "        </script>\n",
       "        "
      ]
     },
     "metadata": {},
     "output_type": "display_data"
    }
   ],
   "source": [
    "import pandas as pd\n",
    "import numpy as np\n",
    "import matplotlib.pyplot as plt\n",
    "%matplotlib inline\n",
    "import seaborn as sns\n",
    "import chart_studio.plotly as py\n",
    "import plotly.graph_objs as go\n",
    "import plotly.figure_factory as ff\n",
    "from plotly import tools\n",
    "from plotly.offline import download_plotlyjs, init_notebook_mode, plot, iplot\n",
    "init_notebook_mode(connected=True)"
   ]
  },
  {
   "cell_type": "code",
   "execution_count": 4,
   "metadata": {},
   "outputs": [],
   "source": [
    "data = pd.read_csv('cleaned_data.csv')"
   ]
  },
  {
   "cell_type": "code",
   "execution_count": 5,
   "metadata": {},
   "outputs": [
    {
     "data": {
      "text/html": [
       "<div>\n",
       "<style scoped>\n",
       "    .dataframe tbody tr th:only-of-type {\n",
       "        vertical-align: middle;\n",
       "    }\n",
       "\n",
       "    .dataframe tbody tr th {\n",
       "        vertical-align: top;\n",
       "    }\n",
       "\n",
       "    .dataframe thead th {\n",
       "        text-align: right;\n",
       "    }\n",
       "</style>\n",
       "<table border=\"1\" class=\"dataframe\">\n",
       "  <thead>\n",
       "    <tr style=\"text-align: right;\">\n",
       "      <th></th>\n",
       "      <th>Unnamed: 0</th>\n",
       "      <th>ID</th>\n",
       "      <th>Name</th>\n",
       "      <th>Sex</th>\n",
       "      <th>Age</th>\n",
       "      <th>Height</th>\n",
       "      <th>Weight</th>\n",
       "      <th>Team</th>\n",
       "      <th>NOC</th>\n",
       "      <th>Games</th>\n",
       "      <th>Year</th>\n",
       "      <th>Season</th>\n",
       "      <th>City</th>\n",
       "      <th>Sport</th>\n",
       "      <th>Event</th>\n",
       "      <th>Medal</th>\n",
       "    </tr>\n",
       "  </thead>\n",
       "  <tbody>\n",
       "    <tr>\n",
       "      <th>0</th>\n",
       "      <td>0</td>\n",
       "      <td>1</td>\n",
       "      <td>A Dijiang</td>\n",
       "      <td>M</td>\n",
       "      <td>24.0</td>\n",
       "      <td>180.0</td>\n",
       "      <td>80.0</td>\n",
       "      <td>China</td>\n",
       "      <td>CHN</td>\n",
       "      <td>1992 Summer</td>\n",
       "      <td>1992</td>\n",
       "      <td>Summer</td>\n",
       "      <td>Barcelona</td>\n",
       "      <td>Basketball</td>\n",
       "      <td>Basketball Men's Basketball</td>\n",
       "      <td>None</td>\n",
       "    </tr>\n",
       "    <tr>\n",
       "      <th>1</th>\n",
       "      <td>1</td>\n",
       "      <td>2</td>\n",
       "      <td>A Lamusi</td>\n",
       "      <td>M</td>\n",
       "      <td>23.0</td>\n",
       "      <td>170.0</td>\n",
       "      <td>60.0</td>\n",
       "      <td>China</td>\n",
       "      <td>CHN</td>\n",
       "      <td>2012 Summer</td>\n",
       "      <td>2012</td>\n",
       "      <td>Summer</td>\n",
       "      <td>London</td>\n",
       "      <td>Judo</td>\n",
       "      <td>Judo Men's Extra-Lightweight</td>\n",
       "      <td>None</td>\n",
       "    </tr>\n",
       "    <tr>\n",
       "      <th>2</th>\n",
       "      <td>2</td>\n",
       "      <td>3</td>\n",
       "      <td>Gunnar Nielsen Aaby</td>\n",
       "      <td>M</td>\n",
       "      <td>24.0</td>\n",
       "      <td>179.0</td>\n",
       "      <td>74.0</td>\n",
       "      <td>Denmark</td>\n",
       "      <td>DEN</td>\n",
       "      <td>1920 Summer</td>\n",
       "      <td>1920</td>\n",
       "      <td>Summer</td>\n",
       "      <td>Antwerpen</td>\n",
       "      <td>Football</td>\n",
       "      <td>Football Men's Football</td>\n",
       "      <td>None</td>\n",
       "    </tr>\n",
       "    <tr>\n",
       "      <th>3</th>\n",
       "      <td>3</td>\n",
       "      <td>4</td>\n",
       "      <td>Edgar Lindenau Aabye</td>\n",
       "      <td>M</td>\n",
       "      <td>34.0</td>\n",
       "      <td>179.0</td>\n",
       "      <td>74.0</td>\n",
       "      <td>Denmark/Sweden</td>\n",
       "      <td>DEN</td>\n",
       "      <td>1900 Summer</td>\n",
       "      <td>1900</td>\n",
       "      <td>Summer</td>\n",
       "      <td>Paris</td>\n",
       "      <td>Tug-Of-War</td>\n",
       "      <td>Tug-Of-War Men's Tug-Of-War</td>\n",
       "      <td>Gold</td>\n",
       "    </tr>\n",
       "    <tr>\n",
       "      <th>4</th>\n",
       "      <td>4</td>\n",
       "      <td>5</td>\n",
       "      <td>Christine Jacoba Aaftink</td>\n",
       "      <td>F</td>\n",
       "      <td>21.0</td>\n",
       "      <td>185.0</td>\n",
       "      <td>82.0</td>\n",
       "      <td>Netherlands</td>\n",
       "      <td>NED</td>\n",
       "      <td>1988 Winter</td>\n",
       "      <td>1988</td>\n",
       "      <td>Winter</td>\n",
       "      <td>Calgary</td>\n",
       "      <td>Speed Skating</td>\n",
       "      <td>Speed Skating Women's 500 metres</td>\n",
       "      <td>None</td>\n",
       "    </tr>\n",
       "  </tbody>\n",
       "</table>\n",
       "</div>"
      ],
      "text/plain": [
       "   Unnamed: 0  ID                      Name Sex   Age  Height  Weight  \\\n",
       "0           0   1                 A Dijiang   M  24.0   180.0    80.0   \n",
       "1           1   2                  A Lamusi   M  23.0   170.0    60.0   \n",
       "2           2   3       Gunnar Nielsen Aaby   M  24.0   179.0    74.0   \n",
       "3           3   4      Edgar Lindenau Aabye   M  34.0   179.0    74.0   \n",
       "4           4   5  Christine Jacoba Aaftink   F  21.0   185.0    82.0   \n",
       "\n",
       "             Team  NOC        Games  Year  Season       City          Sport  \\\n",
       "0           China  CHN  1992 Summer  1992  Summer  Barcelona     Basketball   \n",
       "1           China  CHN  2012 Summer  2012  Summer     London           Judo   \n",
       "2         Denmark  DEN  1920 Summer  1920  Summer  Antwerpen       Football   \n",
       "3  Denmark/Sweden  DEN  1900 Summer  1900  Summer      Paris     Tug-Of-War   \n",
       "4     Netherlands  NED  1988 Winter  1988  Winter    Calgary  Speed Skating   \n",
       "\n",
       "                              Event Medal  \n",
       "0       Basketball Men's Basketball  None  \n",
       "1      Judo Men's Extra-Lightweight  None  \n",
       "2           Football Men's Football  None  \n",
       "3       Tug-Of-War Men's Tug-Of-War  Gold  \n",
       "4  Speed Skating Women's 500 metres  None  "
      ]
     },
     "execution_count": 5,
     "metadata": {},
     "output_type": "execute_result"
    }
   ],
   "source": [
    "data.head()"
   ]
  },
  {
   "cell_type": "code",
   "execution_count": 6,
   "metadata": {},
   "outputs": [],
   "source": [
    "country_codes = pd.read_csv('noc_regions.csv')"
   ]
  },
  {
   "cell_type": "code",
   "execution_count": 7,
   "metadata": {},
   "outputs": [
    {
     "data": {
      "text/html": [
       "<div>\n",
       "<style scoped>\n",
       "    .dataframe tbody tr th:only-of-type {\n",
       "        vertical-align: middle;\n",
       "    }\n",
       "\n",
       "    .dataframe tbody tr th {\n",
       "        vertical-align: top;\n",
       "    }\n",
       "\n",
       "    .dataframe thead th {\n",
       "        text-align: right;\n",
       "    }\n",
       "</style>\n",
       "<table border=\"1\" class=\"dataframe\">\n",
       "  <thead>\n",
       "    <tr style=\"text-align: right;\">\n",
       "      <th></th>\n",
       "      <th>NOC</th>\n",
       "      <th>region</th>\n",
       "      <th>notes</th>\n",
       "    </tr>\n",
       "  </thead>\n",
       "  <tbody>\n",
       "    <tr>\n",
       "      <th>0</th>\n",
       "      <td>AFG</td>\n",
       "      <td>Afghanistan</td>\n",
       "      <td>NaN</td>\n",
       "    </tr>\n",
       "    <tr>\n",
       "      <th>1</th>\n",
       "      <td>AHO</td>\n",
       "      <td>Curacao</td>\n",
       "      <td>Netherlands Antilles</td>\n",
       "    </tr>\n",
       "    <tr>\n",
       "      <th>2</th>\n",
       "      <td>ALB</td>\n",
       "      <td>Albania</td>\n",
       "      <td>NaN</td>\n",
       "    </tr>\n",
       "    <tr>\n",
       "      <th>3</th>\n",
       "      <td>ALG</td>\n",
       "      <td>Algeria</td>\n",
       "      <td>NaN</td>\n",
       "    </tr>\n",
       "    <tr>\n",
       "      <th>4</th>\n",
       "      <td>AND</td>\n",
       "      <td>Andorra</td>\n",
       "      <td>NaN</td>\n",
       "    </tr>\n",
       "  </tbody>\n",
       "</table>\n",
       "</div>"
      ],
      "text/plain": [
       "   NOC       region                 notes\n",
       "0  AFG  Afghanistan                   NaN\n",
       "1  AHO      Curacao  Netherlands Antilles\n",
       "2  ALB      Albania                   NaN\n",
       "3  ALG      Algeria                   NaN\n",
       "4  AND      Andorra                   NaN"
      ]
     },
     "execution_count": 7,
     "metadata": {},
     "output_type": "execute_result"
    }
   ],
   "source": [
    "country_codes.head()"
   ]
  },
  {
   "cell_type": "code",
   "execution_count": 8,
   "metadata": {},
   "outputs": [],
   "source": [
    "medals_per_country = data.pivot_table(index='NOC', values='Name', columns='Medal', aggfunc='count')"
   ]
  },
  {
   "cell_type": "code",
   "execution_count": 9,
   "metadata": {},
   "outputs": [
    {
     "data": {
      "text/html": [
       "<div>\n",
       "<style scoped>\n",
       "    .dataframe tbody tr th:only-of-type {\n",
       "        vertical-align: middle;\n",
       "    }\n",
       "\n",
       "    .dataframe tbody tr th {\n",
       "        vertical-align: top;\n",
       "    }\n",
       "\n",
       "    .dataframe thead th {\n",
       "        text-align: right;\n",
       "    }\n",
       "</style>\n",
       "<table border=\"1\" class=\"dataframe\">\n",
       "  <thead>\n",
       "    <tr style=\"text-align: right;\">\n",
       "      <th>Medal</th>\n",
       "      <th>Bronze</th>\n",
       "      <th>Gold</th>\n",
       "      <th>None</th>\n",
       "      <th>Silver</th>\n",
       "    </tr>\n",
       "    <tr>\n",
       "      <th>NOC</th>\n",
       "      <th></th>\n",
       "      <th></th>\n",
       "      <th></th>\n",
       "      <th></th>\n",
       "    </tr>\n",
       "  </thead>\n",
       "  <tbody>\n",
       "    <tr>\n",
       "      <th>AFG</th>\n",
       "      <td>2.0</td>\n",
       "      <td>NaN</td>\n",
       "      <td>124.0</td>\n",
       "      <td>NaN</td>\n",
       "    </tr>\n",
       "    <tr>\n",
       "      <th>AHO</th>\n",
       "      <td>NaN</td>\n",
       "      <td>NaN</td>\n",
       "      <td>78.0</td>\n",
       "      <td>1.0</td>\n",
       "    </tr>\n",
       "    <tr>\n",
       "      <th>ALB</th>\n",
       "      <td>NaN</td>\n",
       "      <td>NaN</td>\n",
       "      <td>70.0</td>\n",
       "      <td>NaN</td>\n",
       "    </tr>\n",
       "    <tr>\n",
       "      <th>ALG</th>\n",
       "      <td>8.0</td>\n",
       "      <td>5.0</td>\n",
       "      <td>534.0</td>\n",
       "      <td>4.0</td>\n",
       "    </tr>\n",
       "    <tr>\n",
       "      <th>AND</th>\n",
       "      <td>NaN</td>\n",
       "      <td>NaN</td>\n",
       "      <td>169.0</td>\n",
       "      <td>NaN</td>\n",
       "    </tr>\n",
       "  </tbody>\n",
       "</table>\n",
       "</div>"
      ],
      "text/plain": [
       "Medal  Bronze  Gold   None  Silver\n",
       "NOC                               \n",
       "AFG       2.0   NaN  124.0     NaN\n",
       "AHO       NaN   NaN   78.0     1.0\n",
       "ALB       NaN   NaN   70.0     NaN\n",
       "ALG       8.0   5.0  534.0     4.0\n",
       "AND       NaN   NaN  169.0     NaN"
      ]
     },
     "execution_count": 9,
     "metadata": {},
     "output_type": "execute_result"
    }
   ],
   "source": [
    "medals_per_country.head()"
   ]
  },
  {
   "cell_type": "code",
   "execution_count": 10,
   "metadata": {},
   "outputs": [],
   "source": [
    "medals_per_country.fillna(0, inplace=True)"
   ]
  },
  {
   "cell_type": "code",
   "execution_count": 11,
   "metadata": {},
   "outputs": [],
   "source": [
    "medals_per_country['Total Athletes'] = medals_per_country.sum(axis=1)\n",
    "medals_per_country['Total Medals'] = medals_per_country['Bronze']+medals_per_country['Silver']+medals_per_country['Gold']"
   ]
  },
  {
   "cell_type": "code",
   "execution_count": 12,
   "metadata": {},
   "outputs": [
    {
     "data": {
      "text/html": [
       "<div>\n",
       "<style scoped>\n",
       "    .dataframe tbody tr th:only-of-type {\n",
       "        vertical-align: middle;\n",
       "    }\n",
       "\n",
       "    .dataframe tbody tr th {\n",
       "        vertical-align: top;\n",
       "    }\n",
       "\n",
       "    .dataframe thead th {\n",
       "        text-align: right;\n",
       "    }\n",
       "</style>\n",
       "<table border=\"1\" class=\"dataframe\">\n",
       "  <thead>\n",
       "    <tr style=\"text-align: right;\">\n",
       "      <th>Medal</th>\n",
       "      <th>Bronze</th>\n",
       "      <th>Gold</th>\n",
       "      <th>None</th>\n",
       "      <th>Silver</th>\n",
       "      <th>Total Athletes</th>\n",
       "      <th>Total Medals</th>\n",
       "    </tr>\n",
       "    <tr>\n",
       "      <th>NOC</th>\n",
       "      <th></th>\n",
       "      <th></th>\n",
       "      <th></th>\n",
       "      <th></th>\n",
       "      <th></th>\n",
       "      <th></th>\n",
       "    </tr>\n",
       "  </thead>\n",
       "  <tbody>\n",
       "    <tr>\n",
       "      <th>AFG</th>\n",
       "      <td>2.0</td>\n",
       "      <td>0.0</td>\n",
       "      <td>124.0</td>\n",
       "      <td>0.0</td>\n",
       "      <td>126.0</td>\n",
       "      <td>2.0</td>\n",
       "    </tr>\n",
       "    <tr>\n",
       "      <th>AHO</th>\n",
       "      <td>0.0</td>\n",
       "      <td>0.0</td>\n",
       "      <td>78.0</td>\n",
       "      <td>1.0</td>\n",
       "      <td>79.0</td>\n",
       "      <td>1.0</td>\n",
       "    </tr>\n",
       "    <tr>\n",
       "      <th>ALB</th>\n",
       "      <td>0.0</td>\n",
       "      <td>0.0</td>\n",
       "      <td>70.0</td>\n",
       "      <td>0.0</td>\n",
       "      <td>70.0</td>\n",
       "      <td>0.0</td>\n",
       "    </tr>\n",
       "    <tr>\n",
       "      <th>ALG</th>\n",
       "      <td>8.0</td>\n",
       "      <td>5.0</td>\n",
       "      <td>534.0</td>\n",
       "      <td>4.0</td>\n",
       "      <td>551.0</td>\n",
       "      <td>17.0</td>\n",
       "    </tr>\n",
       "    <tr>\n",
       "      <th>AND</th>\n",
       "      <td>0.0</td>\n",
       "      <td>0.0</td>\n",
       "      <td>169.0</td>\n",
       "      <td>0.0</td>\n",
       "      <td>169.0</td>\n",
       "      <td>0.0</td>\n",
       "    </tr>\n",
       "  </tbody>\n",
       "</table>\n",
       "</div>"
      ],
      "text/plain": [
       "Medal  Bronze  Gold   None  Silver  Total Athletes  Total Medals\n",
       "NOC                                                             \n",
       "AFG       2.0   0.0  124.0     0.0           126.0           2.0\n",
       "AHO       0.0   0.0   78.0     1.0            79.0           1.0\n",
       "ALB       0.0   0.0   70.0     0.0            70.0           0.0\n",
       "ALG       8.0   5.0  534.0     4.0           551.0          17.0\n",
       "AND       0.0   0.0  169.0     0.0           169.0           0.0"
      ]
     },
     "execution_count": 12,
     "metadata": {},
     "output_type": "execute_result"
    }
   ],
   "source": [
    "medals_per_country.head()"
   ]
  },
  {
   "cell_type": "code",
   "execution_count": 13,
   "metadata": {},
   "outputs": [],
   "source": [
    "medals_per_country_final = pd.merge(medals_per_country, country_codes, on='NOC')"
   ]
  },
  {
   "cell_type": "code",
   "execution_count": 14,
   "metadata": {},
   "outputs": [
    {
     "data": {
      "text/html": [
       "<div>\n",
       "<style scoped>\n",
       "    .dataframe tbody tr th:only-of-type {\n",
       "        vertical-align: middle;\n",
       "    }\n",
       "\n",
       "    .dataframe tbody tr th {\n",
       "        vertical-align: top;\n",
       "    }\n",
       "\n",
       "    .dataframe thead th {\n",
       "        text-align: right;\n",
       "    }\n",
       "</style>\n",
       "<table border=\"1\" class=\"dataframe\">\n",
       "  <thead>\n",
       "    <tr style=\"text-align: right;\">\n",
       "      <th></th>\n",
       "      <th>NOC</th>\n",
       "      <th>Bronze</th>\n",
       "      <th>Gold</th>\n",
       "      <th>None</th>\n",
       "      <th>Silver</th>\n",
       "      <th>Total Athletes</th>\n",
       "      <th>Total Medals</th>\n",
       "      <th>region</th>\n",
       "      <th>notes</th>\n",
       "    </tr>\n",
       "  </thead>\n",
       "  <tbody>\n",
       "    <tr>\n",
       "      <th>0</th>\n",
       "      <td>AFG</td>\n",
       "      <td>2.0</td>\n",
       "      <td>0.0</td>\n",
       "      <td>124.0</td>\n",
       "      <td>0.0</td>\n",
       "      <td>126.0</td>\n",
       "      <td>2.0</td>\n",
       "      <td>Afghanistan</td>\n",
       "      <td>NaN</td>\n",
       "    </tr>\n",
       "    <tr>\n",
       "      <th>1</th>\n",
       "      <td>AHO</td>\n",
       "      <td>0.0</td>\n",
       "      <td>0.0</td>\n",
       "      <td>78.0</td>\n",
       "      <td>1.0</td>\n",
       "      <td>79.0</td>\n",
       "      <td>1.0</td>\n",
       "      <td>Curacao</td>\n",
       "      <td>Netherlands Antilles</td>\n",
       "    </tr>\n",
       "    <tr>\n",
       "      <th>2</th>\n",
       "      <td>ALB</td>\n",
       "      <td>0.0</td>\n",
       "      <td>0.0</td>\n",
       "      <td>70.0</td>\n",
       "      <td>0.0</td>\n",
       "      <td>70.0</td>\n",
       "      <td>0.0</td>\n",
       "      <td>Albania</td>\n",
       "      <td>NaN</td>\n",
       "    </tr>\n",
       "    <tr>\n",
       "      <th>3</th>\n",
       "      <td>ALG</td>\n",
       "      <td>8.0</td>\n",
       "      <td>5.0</td>\n",
       "      <td>534.0</td>\n",
       "      <td>4.0</td>\n",
       "      <td>551.0</td>\n",
       "      <td>17.0</td>\n",
       "      <td>Algeria</td>\n",
       "      <td>NaN</td>\n",
       "    </tr>\n",
       "    <tr>\n",
       "      <th>4</th>\n",
       "      <td>AND</td>\n",
       "      <td>0.0</td>\n",
       "      <td>0.0</td>\n",
       "      <td>169.0</td>\n",
       "      <td>0.0</td>\n",
       "      <td>169.0</td>\n",
       "      <td>0.0</td>\n",
       "      <td>Andorra</td>\n",
       "      <td>NaN</td>\n",
       "    </tr>\n",
       "  </tbody>\n",
       "</table>\n",
       "</div>"
      ],
      "text/plain": [
       "   NOC  Bronze  Gold   None  Silver  Total Athletes  Total Medals  \\\n",
       "0  AFG     2.0   0.0  124.0     0.0           126.0           2.0   \n",
       "1  AHO     0.0   0.0   78.0     1.0            79.0           1.0   \n",
       "2  ALB     0.0   0.0   70.0     0.0            70.0           0.0   \n",
       "3  ALG     8.0   5.0  534.0     4.0           551.0          17.0   \n",
       "4  AND     0.0   0.0  169.0     0.0           169.0           0.0   \n",
       "\n",
       "        region                 notes  \n",
       "0  Afghanistan                   NaN  \n",
       "1      Curacao  Netherlands Antilles  \n",
       "2      Albania                   NaN  \n",
       "3      Algeria                   NaN  \n",
       "4      Andorra                   NaN  "
      ]
     },
     "execution_count": 14,
     "metadata": {},
     "output_type": "execute_result"
    }
   ],
   "source": [
    "medals_per_country_final.head()"
   ]
  },
  {
   "cell_type": "code",
   "execution_count": 15,
   "metadata": {},
   "outputs": [],
   "source": [
    "to_drop = ['notes']\n",
    "medals_per_country_final.drop(to_drop, axis=1, inplace=True)"
   ]
  },
  {
   "cell_type": "code",
   "execution_count": 16,
   "metadata": {},
   "outputs": [
    {
     "data": {
      "text/html": [
       "<div>\n",
       "<style scoped>\n",
       "    .dataframe tbody tr th:only-of-type {\n",
       "        vertical-align: middle;\n",
       "    }\n",
       "\n",
       "    .dataframe tbody tr th {\n",
       "        vertical-align: top;\n",
       "    }\n",
       "\n",
       "    .dataframe thead th {\n",
       "        text-align: right;\n",
       "    }\n",
       "</style>\n",
       "<table border=\"1\" class=\"dataframe\">\n",
       "  <thead>\n",
       "    <tr style=\"text-align: right;\">\n",
       "      <th></th>\n",
       "      <th>NOC</th>\n",
       "      <th>Bronze</th>\n",
       "      <th>Gold</th>\n",
       "      <th>None</th>\n",
       "      <th>Silver</th>\n",
       "      <th>Total Athletes</th>\n",
       "      <th>Total Medals</th>\n",
       "      <th>region</th>\n",
       "    </tr>\n",
       "  </thead>\n",
       "  <tbody>\n",
       "    <tr>\n",
       "      <th>0</th>\n",
       "      <td>AFG</td>\n",
       "      <td>2.0</td>\n",
       "      <td>0.0</td>\n",
       "      <td>124.0</td>\n",
       "      <td>0.0</td>\n",
       "      <td>126.0</td>\n",
       "      <td>2.0</td>\n",
       "      <td>Afghanistan</td>\n",
       "    </tr>\n",
       "    <tr>\n",
       "      <th>1</th>\n",
       "      <td>AHO</td>\n",
       "      <td>0.0</td>\n",
       "      <td>0.0</td>\n",
       "      <td>78.0</td>\n",
       "      <td>1.0</td>\n",
       "      <td>79.0</td>\n",
       "      <td>1.0</td>\n",
       "      <td>Curacao</td>\n",
       "    </tr>\n",
       "    <tr>\n",
       "      <th>2</th>\n",
       "      <td>ALB</td>\n",
       "      <td>0.0</td>\n",
       "      <td>0.0</td>\n",
       "      <td>70.0</td>\n",
       "      <td>0.0</td>\n",
       "      <td>70.0</td>\n",
       "      <td>0.0</td>\n",
       "      <td>Albania</td>\n",
       "    </tr>\n",
       "    <tr>\n",
       "      <th>3</th>\n",
       "      <td>ALG</td>\n",
       "      <td>8.0</td>\n",
       "      <td>5.0</td>\n",
       "      <td>534.0</td>\n",
       "      <td>4.0</td>\n",
       "      <td>551.0</td>\n",
       "      <td>17.0</td>\n",
       "      <td>Algeria</td>\n",
       "    </tr>\n",
       "    <tr>\n",
       "      <th>4</th>\n",
       "      <td>AND</td>\n",
       "      <td>0.0</td>\n",
       "      <td>0.0</td>\n",
       "      <td>169.0</td>\n",
       "      <td>0.0</td>\n",
       "      <td>169.0</td>\n",
       "      <td>0.0</td>\n",
       "      <td>Andorra</td>\n",
       "    </tr>\n",
       "  </tbody>\n",
       "</table>\n",
       "</div>"
      ],
      "text/plain": [
       "   NOC  Bronze  Gold   None  Silver  Total Athletes  Total Medals       region\n",
       "0  AFG     2.0   0.0  124.0     0.0           126.0           2.0  Afghanistan\n",
       "1  AHO     0.0   0.0   78.0     1.0            79.0           1.0      Curacao\n",
       "2  ALB     0.0   0.0   70.0     0.0            70.0           0.0      Albania\n",
       "3  ALG     8.0   5.0  534.0     4.0           551.0          17.0      Algeria\n",
       "4  AND     0.0   0.0  169.0     0.0           169.0           0.0      Andorra"
      ]
     },
     "execution_count": 16,
     "metadata": {},
     "output_type": "execute_result"
    }
   ],
   "source": [
    "medals_per_country_final.head()"
   ]
  },
  {
   "cell_type": "markdown",
   "metadata": {},
   "source": [
    "## Accounting for Multiple Country Codes"
   ]
  },
  {
   "cell_type": "code",
   "execution_count": 42,
   "metadata": {},
   "outputs": [
    {
     "data": {
      "text/plain": [
       "Germany            4\n",
       "Yemen              3\n",
       "Serbia             3\n",
       "Czech Republic     3\n",
       "Russia             3\n",
       "Malaysia           3\n",
       "Greece             2\n",
       "Trinidad           2\n",
       "Vietnam            2\n",
       "Zimbabwe           2\n",
       "Australia          2\n",
       "Syria              2\n",
       "Canada             2\n",
       "China              2\n",
       "Solomon Islands    1\n",
       "Name: region, dtype: int64"
      ]
     },
     "execution_count": 42,
     "metadata": {},
     "output_type": "execute_result"
    }
   ],
   "source": [
    "medals_per_country_final.region.value_counts().head(15)"
   ]
  },
  {
   "cell_type": "code",
   "execution_count": 95,
   "metadata": {},
   "outputs": [
    {
     "data": {
      "text/html": [
       "<div>\n",
       "<style scoped>\n",
       "    .dataframe tbody tr th:only-of-type {\n",
       "        vertical-align: middle;\n",
       "    }\n",
       "\n",
       "    .dataframe tbody tr th {\n",
       "        vertical-align: top;\n",
       "    }\n",
       "\n",
       "    .dataframe thead th {\n",
       "        text-align: right;\n",
       "    }\n",
       "</style>\n",
       "<table border=\"1\" class=\"dataframe\">\n",
       "  <thead>\n",
       "    <tr style=\"text-align: right;\">\n",
       "      <th></th>\n",
       "      <th>NOC</th>\n",
       "      <th>Bronze</th>\n",
       "      <th>Gold</th>\n",
       "      <th>None</th>\n",
       "      <th>Silver</th>\n",
       "      <th>Total Athletes</th>\n",
       "      <th>Total Medals</th>\n",
       "      <th>region</th>\n",
       "    </tr>\n",
       "  </thead>\n",
       "  <tbody>\n",
       "    <tr>\n",
       "      <th>41</th>\n",
       "      <td>CHN</td>\n",
       "      <td>292.0</td>\n",
       "      <td>350.0</td>\n",
       "      <td>4152.0</td>\n",
       "      <td>347.0</td>\n",
       "      <td>5141.0</td>\n",
       "      <td>989.0</td>\n",
       "      <td>China</td>\n",
       "    </tr>\n",
       "    <tr>\n",
       "      <th>88</th>\n",
       "      <td>HKG</td>\n",
       "      <td>1.0</td>\n",
       "      <td>1.0</td>\n",
       "      <td>681.0</td>\n",
       "      <td>2.0</td>\n",
       "      <td>685.0</td>\n",
       "      <td>4.0</td>\n",
       "      <td>China</td>\n",
       "    </tr>\n",
       "  </tbody>\n",
       "</table>\n",
       "</div>"
      ],
      "text/plain": [
       "    NOC  Bronze   Gold    None  Silver  Total Athletes  Total Medals region\n",
       "41  CHN   292.0  350.0  4152.0   347.0          5141.0         989.0  China\n",
       "88  HKG     1.0    1.0   681.0     2.0           685.0           4.0  China"
      ]
     },
     "execution_count": 95,
     "metadata": {},
     "output_type": "execute_result"
    }
   ],
   "source": [
    "medals_per_country_final[medals_per_country_final.region=='China']"
   ]
  },
  {
   "cell_type": "code",
   "execution_count": 97,
   "metadata": {},
   "outputs": [],
   "source": [
    "# to_append = pd.DataFrame([['GER', 1260.0, 1301.0, 12127.0, 1195.0, 15883.0, 3756.0, 'Germany']],\n",
    "#                         columns=['NOC','Bronze','Gold','None','Silver','Total Athletes','Total Medals','region'])\n",
    "to_append = pd.DataFrame([['GER',1260.0,1301.0,12127.0,1195.0,15883.0,3756,'Germany'],\n",
    "                          ['YEM', 0.0, 0.0, 48.0, 0.0, 48.0, 0.0, 'Yemen'],\n",
    "                          ['YUG', 160.0, 157.0, 2757.0, 222.0, 3296.0, 539.0, 'Serbia'],\n",
    "                          ['TCH', 259.0, 123.0, 5787.0, 262.0, 6431.0, 644.0, 'Czech Republic'],\n",
    "                          ['RUS', 1178.0, 1599.0, 7745.0, 1170.0, 11692.0, 3947.0, 'Russia'],\n",
    "                          ['MAS', 5.0, 0.0, 561.0, 11.0, 577.0, 16.0, 'Malaysia'],\n",
    "                          ['GRE', 84.0, 62.0, 2937.0, 109.0, 3192.0, 255.0, 'Greece'],\n",
    "                          ['TTO', 22.0, 7.0, 358.0, 8.0, 395.0, 37.0, 'Trinidad'],\n",
    "                          ['VIE', 0.0, 1.0, 212.0, 3.0, 216.0, 4.0, 'Vietnam'],\n",
    "                          ['ZIM', 1.0, 17.0, 301.0, 4.0, 323.0, 22.0, 'Zimbabwe'],\n",
    "                          ['AUS', 522.0, 368.0, 6375.0, 459.0, 7724.0, 1349.0, 'Australia'],\n",
    "                          ['SYR', 2.0, 1.0, 274.0, 2.0, 279.0, 5.0, 'Syria'],\n",
    "                          ['CAN', 451.0, 463.0, 8382.0, 438.0, 9734.0, 1352.0, 'Canada'],\n",
    "                          ['CHN', 293.0, 351.0, 4833.0, 349.0, 5826.0, 993.0, 'China'],\n",
    "                         ], columns=['NOC','Bronze','Gold','None','Silver','Total Athletes','Total Medals','region'])"
   ]
  },
  {
   "cell_type": "code",
   "execution_count": 96,
   "metadata": {},
   "outputs": [
    {
     "data": {
      "text/plain": [
       "NOC                   CHNHKG\n",
       "Bronze                   293\n",
       "Gold                     351\n",
       "None                    4833\n",
       "Silver                   349\n",
       "Total Athletes          5826\n",
       "Total Medals             993\n",
       "region            ChinaChina\n",
       "dtype: object"
      ]
     },
     "execution_count": 96,
     "metadata": {},
     "output_type": "execute_result"
    }
   ],
   "source": [
    "medals_per_country_final[medals_per_country_final.region=='China'].sum()"
   ]
  },
  {
   "cell_type": "code",
   "execution_count": 98,
   "metadata": {},
   "outputs": [],
   "source": [
    "medals_per_country_map = medals_per_country_final.copy()"
   ]
  },
  {
   "cell_type": "code",
   "execution_count": 99,
   "metadata": {},
   "outputs": [],
   "source": [
    "to_drop = ['Germany','Yemen','Serbia','Czech Republic','Russia','Malaysia','Greece','Trinidad','Zimbabwe','Australia','Syria','Canada','China']\n",
    "for country in to_drop:\n",
    "    medals_per_country_map.drop(medals_per_country_map.index[medals_per_country_map['region'] == country], inplace = True)"
   ]
  },
  {
   "cell_type": "code",
   "execution_count": 105,
   "metadata": {},
   "outputs": [
    {
     "data": {
      "text/html": [
       "<div>\n",
       "<style scoped>\n",
       "    .dataframe tbody tr th:only-of-type {\n",
       "        vertical-align: middle;\n",
       "    }\n",
       "\n",
       "    .dataframe tbody tr th {\n",
       "        vertical-align: top;\n",
       "    }\n",
       "\n",
       "    .dataframe thead th {\n",
       "        text-align: right;\n",
       "    }\n",
       "</style>\n",
       "<table border=\"1\" class=\"dataframe\">\n",
       "  <thead>\n",
       "    <tr style=\"text-align: right;\">\n",
       "      <th></th>\n",
       "      <th>NOC</th>\n",
       "      <th>Bronze</th>\n",
       "      <th>Gold</th>\n",
       "      <th>None</th>\n",
       "      <th>Silver</th>\n",
       "      <th>Total Athletes</th>\n",
       "      <th>Total Medals</th>\n",
       "      <th>region</th>\n",
       "    </tr>\n",
       "  </thead>\n",
       "  <tbody>\n",
       "  </tbody>\n",
       "</table>\n",
       "</div>"
      ],
      "text/plain": [
       "Empty DataFrame\n",
       "Columns: [NOC, Bronze, Gold, None, Silver, Total Athletes, Total Medals, region]\n",
       "Index: []"
      ]
     },
     "execution_count": 105,
     "metadata": {},
     "output_type": "execute_result"
    }
   ],
   "source": [
    "medals_per_country_map[medals_per_country_map.region=='Russia']"
   ]
  },
  {
   "cell_type": "code",
   "execution_count": 106,
   "metadata": {},
   "outputs": [],
   "source": [
    "medals_per_country_map = medals_per_country_map.append(to_append,ignore_index=True)"
   ]
  },
  {
   "cell_type": "code",
   "execution_count": 107,
   "metadata": {},
   "outputs": [
    {
     "data": {
      "text/html": [
       "<div>\n",
       "<style scoped>\n",
       "    .dataframe tbody tr th:only-of-type {\n",
       "        vertical-align: middle;\n",
       "    }\n",
       "\n",
       "    .dataframe tbody tr th {\n",
       "        vertical-align: top;\n",
       "    }\n",
       "\n",
       "    .dataframe thead th {\n",
       "        text-align: right;\n",
       "    }\n",
       "</style>\n",
       "<table border=\"1\" class=\"dataframe\">\n",
       "  <thead>\n",
       "    <tr style=\"text-align: right;\">\n",
       "      <th></th>\n",
       "      <th>NOC</th>\n",
       "      <th>Bronze</th>\n",
       "      <th>Gold</th>\n",
       "      <th>None</th>\n",
       "      <th>Silver</th>\n",
       "      <th>Total Athletes</th>\n",
       "      <th>Total Medals</th>\n",
       "      <th>region</th>\n",
       "    </tr>\n",
       "  </thead>\n",
       "  <tbody>\n",
       "    <tr>\n",
       "      <th>195</th>\n",
       "      <td>OMA</td>\n",
       "      <td>0.0</td>\n",
       "      <td>0.0</td>\n",
       "      <td>66.0</td>\n",
       "      <td>0.0</td>\n",
       "      <td>66.0</td>\n",
       "      <td>0.0</td>\n",
       "      <td>Oman</td>\n",
       "    </tr>\n",
       "    <tr>\n",
       "      <th>196</th>\n",
       "      <td>GER</td>\n",
       "      <td>1260.0</td>\n",
       "      <td>1301.0</td>\n",
       "      <td>12127.0</td>\n",
       "      <td>1195.0</td>\n",
       "      <td>15883.0</td>\n",
       "      <td>3756.0</td>\n",
       "      <td>Germany</td>\n",
       "    </tr>\n",
       "    <tr>\n",
       "      <th>197</th>\n",
       "      <td>YEM</td>\n",
       "      <td>0.0</td>\n",
       "      <td>0.0</td>\n",
       "      <td>48.0</td>\n",
       "      <td>0.0</td>\n",
       "      <td>48.0</td>\n",
       "      <td>0.0</td>\n",
       "      <td>Yemen</td>\n",
       "    </tr>\n",
       "    <tr>\n",
       "      <th>198</th>\n",
       "      <td>YUG</td>\n",
       "      <td>160.0</td>\n",
       "      <td>157.0</td>\n",
       "      <td>2757.0</td>\n",
       "      <td>222.0</td>\n",
       "      <td>3296.0</td>\n",
       "      <td>539.0</td>\n",
       "      <td>Serbia</td>\n",
       "    </tr>\n",
       "    <tr>\n",
       "      <th>199</th>\n",
       "      <td>TCH</td>\n",
       "      <td>259.0</td>\n",
       "      <td>123.0</td>\n",
       "      <td>5787.0</td>\n",
       "      <td>262.0</td>\n",
       "      <td>6431.0</td>\n",
       "      <td>644.0</td>\n",
       "      <td>Czech Republic</td>\n",
       "    </tr>\n",
       "    <tr>\n",
       "      <th>200</th>\n",
       "      <td>RUS</td>\n",
       "      <td>1178.0</td>\n",
       "      <td>1599.0</td>\n",
       "      <td>7745.0</td>\n",
       "      <td>1170.0</td>\n",
       "      <td>11692.0</td>\n",
       "      <td>3947.0</td>\n",
       "      <td>Russia</td>\n",
       "    </tr>\n",
       "    <tr>\n",
       "      <th>201</th>\n",
       "      <td>MAS</td>\n",
       "      <td>5.0</td>\n",
       "      <td>0.0</td>\n",
       "      <td>561.0</td>\n",
       "      <td>11.0</td>\n",
       "      <td>577.0</td>\n",
       "      <td>16.0</td>\n",
       "      <td>Malaysia</td>\n",
       "    </tr>\n",
       "    <tr>\n",
       "      <th>202</th>\n",
       "      <td>GRE</td>\n",
       "      <td>84.0</td>\n",
       "      <td>62.0</td>\n",
       "      <td>2937.0</td>\n",
       "      <td>109.0</td>\n",
       "      <td>3192.0</td>\n",
       "      <td>255.0</td>\n",
       "      <td>Greece</td>\n",
       "    </tr>\n",
       "    <tr>\n",
       "      <th>203</th>\n",
       "      <td>TTO</td>\n",
       "      <td>22.0</td>\n",
       "      <td>7.0</td>\n",
       "      <td>358.0</td>\n",
       "      <td>8.0</td>\n",
       "      <td>395.0</td>\n",
       "      <td>37.0</td>\n",
       "      <td>Trinidad</td>\n",
       "    </tr>\n",
       "    <tr>\n",
       "      <th>204</th>\n",
       "      <td>VIE</td>\n",
       "      <td>0.0</td>\n",
       "      <td>1.0</td>\n",
       "      <td>212.0</td>\n",
       "      <td>3.0</td>\n",
       "      <td>216.0</td>\n",
       "      <td>4.0</td>\n",
       "      <td>Vietnam</td>\n",
       "    </tr>\n",
       "    <tr>\n",
       "      <th>205</th>\n",
       "      <td>ZIM</td>\n",
       "      <td>1.0</td>\n",
       "      <td>17.0</td>\n",
       "      <td>301.0</td>\n",
       "      <td>4.0</td>\n",
       "      <td>323.0</td>\n",
       "      <td>22.0</td>\n",
       "      <td>Zimbabwe</td>\n",
       "    </tr>\n",
       "    <tr>\n",
       "      <th>206</th>\n",
       "      <td>AUS</td>\n",
       "      <td>522.0</td>\n",
       "      <td>368.0</td>\n",
       "      <td>6375.0</td>\n",
       "      <td>459.0</td>\n",
       "      <td>7724.0</td>\n",
       "      <td>1349.0</td>\n",
       "      <td>Australia</td>\n",
       "    </tr>\n",
       "    <tr>\n",
       "      <th>207</th>\n",
       "      <td>SYR</td>\n",
       "      <td>2.0</td>\n",
       "      <td>1.0</td>\n",
       "      <td>274.0</td>\n",
       "      <td>2.0</td>\n",
       "      <td>279.0</td>\n",
       "      <td>5.0</td>\n",
       "      <td>Syria</td>\n",
       "    </tr>\n",
       "    <tr>\n",
       "      <th>208</th>\n",
       "      <td>CAN</td>\n",
       "      <td>451.0</td>\n",
       "      <td>463.0</td>\n",
       "      <td>8382.0</td>\n",
       "      <td>438.0</td>\n",
       "      <td>9734.0</td>\n",
       "      <td>1352.0</td>\n",
       "      <td>Canada</td>\n",
       "    </tr>\n",
       "    <tr>\n",
       "      <th>209</th>\n",
       "      <td>CHN</td>\n",
       "      <td>293.0</td>\n",
       "      <td>351.0</td>\n",
       "      <td>4833.0</td>\n",
       "      <td>349.0</td>\n",
       "      <td>5826.0</td>\n",
       "      <td>993.0</td>\n",
       "      <td>China</td>\n",
       "    </tr>\n",
       "  </tbody>\n",
       "</table>\n",
       "</div>"
      ],
      "text/plain": [
       "     NOC  Bronze    Gold     None  Silver  Total Athletes  Total Medals  \\\n",
       "195  OMA     0.0     0.0     66.0     0.0            66.0           0.0   \n",
       "196  GER  1260.0  1301.0  12127.0  1195.0         15883.0        3756.0   \n",
       "197  YEM     0.0     0.0     48.0     0.0            48.0           0.0   \n",
       "198  YUG   160.0   157.0   2757.0   222.0          3296.0         539.0   \n",
       "199  TCH   259.0   123.0   5787.0   262.0          6431.0         644.0   \n",
       "200  RUS  1178.0  1599.0   7745.0  1170.0         11692.0        3947.0   \n",
       "201  MAS     5.0     0.0    561.0    11.0           577.0          16.0   \n",
       "202  GRE    84.0    62.0   2937.0   109.0          3192.0         255.0   \n",
       "203  TTO    22.0     7.0    358.0     8.0           395.0          37.0   \n",
       "204  VIE     0.0     1.0    212.0     3.0           216.0           4.0   \n",
       "205  ZIM     1.0    17.0    301.0     4.0           323.0          22.0   \n",
       "206  AUS   522.0   368.0   6375.0   459.0          7724.0        1349.0   \n",
       "207  SYR     2.0     1.0    274.0     2.0           279.0           5.0   \n",
       "208  CAN   451.0   463.0   8382.0   438.0          9734.0        1352.0   \n",
       "209  CHN   293.0   351.0   4833.0   349.0          5826.0         993.0   \n",
       "\n",
       "             region  \n",
       "195            Oman  \n",
       "196         Germany  \n",
       "197           Yemen  \n",
       "198          Serbia  \n",
       "199  Czech Republic  \n",
       "200          Russia  \n",
       "201        Malaysia  \n",
       "202          Greece  \n",
       "203        Trinidad  \n",
       "204         Vietnam  \n",
       "205        Zimbabwe  \n",
       "206       Australia  \n",
       "207           Syria  \n",
       "208          Canada  \n",
       "209           China  "
      ]
     },
     "execution_count": 107,
     "metadata": {},
     "output_type": "execute_result"
    }
   ],
   "source": [
    "medals_per_country_map.tail(15)"
   ]
  },
  {
   "cell_type": "code",
   "execution_count": null,
   "metadata": {},
   "outputs": [],
   "source": []
  },
  {
   "cell_type": "code",
   "execution_count": null,
   "metadata": {},
   "outputs": [],
   "source": []
  },
  {
   "cell_type": "code",
   "execution_count": null,
   "metadata": {},
   "outputs": [],
   "source": []
  },
  {
   "cell_type": "code",
   "execution_count": null,
   "metadata": {},
   "outputs": [],
   "source": []
  },
  {
   "cell_type": "code",
   "execution_count": null,
   "metadata": {},
   "outputs": [],
   "source": []
  },
  {
   "cell_type": "code",
   "execution_count": 17,
   "metadata": {},
   "outputs": [],
   "source": [
    "medals_per_country_final.sort_values('Total Medals',ascending=False,inplace=True)\n",
    "to_graph = medals_per_country_final.head(50)"
   ]
  },
  {
   "cell_type": "code",
   "execution_count": 18,
   "metadata": {},
   "outputs": [
    {
     "data": {
      "image/png": "[encoded data removed]",
      "text/plain": [
       "<Figure size 2160x1080 with 1 Axes>"
      ]
     },
     "metadata": {
      "needs_background": "light"
     },
     "output_type": "display_data"
    }
   ],
   "source": [
    "f, ax = plt.subplots(figsize = (30, 15))\n",
    "sns.barplot(to_graph.head(50)['NOC'],to_graph.head(50)['Total Medals'],ci=False)\n",
    "plt.xticks(rotation = 90,fontsize=20)\n",
    "plt.title(\"Total Number of Medals Won by Country\",fontsize=30)\n",
    "plt.ylabel(\"Number of Medals\",fontsize=25)\n",
    "plt.xlabel(\"Country\",fontsize=25)\n",
    "plt.show()"
   ]
  },
  {
   "cell_type": "code",
   "execution_count": 108,
   "metadata": {},
   "outputs": [],
   "source": [
    "medals_per_country_map.sort_values('Total Medals',ascending=False,inplace=True)\n",
    "to_graph = medals_per_country_map.head(50)"
   ]
  },
  {
   "cell_type": "code",
   "execution_count": 109,
   "metadata": {},
   "outputs": [
    {
     "data": {
      "image/png": "[encoded data removed]",
      "text/plain": [
       "<Figure size 2160x1080 with 1 Axes>"
      ]
     },
     "metadata": {
      "needs_background": "light"
     },
     "output_type": "display_data"
    }
   ],
   "source": [
    "f, ax = plt.subplots(figsize = (30, 15))\n",
    "sns.barplot(to_graph.head(50)['NOC'],to_graph.head(50)['Total Medals'],ci=False)\n",
    "plt.xticks(rotation = 90,fontsize=20)\n",
    "plt.title(\"Total Number of Medals Won by Country\",fontsize=30)\n",
    "plt.ylabel(\"Number of Medals\",fontsize=25)\n",
    "plt.xlabel(\"Country\",fontsize=25)\n",
    "plt.show()"
   ]
  },
  {
   "cell_type": "markdown",
   "metadata": {},
   "source": [
    "## Proportion of Athletes Winning Medals per Country"
   ]
  },
  {
   "cell_type": "code",
   "execution_count": 19,
   "metadata": {},
   "outputs": [],
   "source": [
    "total_olympians_per_country = data.NOC.value_counts()"
   ]
  },
  {
   "cell_type": "code",
   "execution_count": 20,
   "metadata": {},
   "outputs": [
    {
     "data": {
      "text/plain": [
       "USA    18853\n",
       "FRA    12758\n",
       "GBR    12256\n",
       "ITA    10715\n",
       "GER     9830\n",
       "Name: NOC, dtype: int64"
      ]
     },
     "execution_count": 20,
     "metadata": {},
     "output_type": "execute_result"
    }
   ],
   "source": [
    "total_olympians_per_country.head()"
   ]
  },
  {
   "cell_type": "code",
   "execution_count": 21,
   "metadata": {},
   "outputs": [],
   "source": [
    "propor_medals_per_country = medals_per_country_final.copy()"
   ]
  },
  {
   "cell_type": "code",
   "execution_count": 22,
   "metadata": {},
   "outputs": [
    {
     "data": {
      "text/html": [
       "<div>\n",
       "<style scoped>\n",
       "    .dataframe tbody tr th:only-of-type {\n",
       "        vertical-align: middle;\n",
       "    }\n",
       "\n",
       "    .dataframe tbody tr th {\n",
       "        vertical-align: top;\n",
       "    }\n",
       "\n",
       "    .dataframe thead th {\n",
       "        text-align: right;\n",
       "    }\n",
       "</style>\n",
       "<table border=\"1\" class=\"dataframe\">\n",
       "  <thead>\n",
       "    <tr style=\"text-align: right;\">\n",
       "      <th></th>\n",
       "      <th>NOC</th>\n",
       "      <th>Bronze</th>\n",
       "      <th>Gold</th>\n",
       "      <th>None</th>\n",
       "      <th>Silver</th>\n",
       "      <th>Total Athletes</th>\n",
       "      <th>Total Medals</th>\n",
       "      <th>region</th>\n",
       "    </tr>\n",
       "  </thead>\n",
       "  <tbody>\n",
       "    <tr>\n",
       "      <th>215</th>\n",
       "      <td>USA</td>\n",
       "      <td>1358.0</td>\n",
       "      <td>2638.0</td>\n",
       "      <td>13216.0</td>\n",
       "      <td>1641.0</td>\n",
       "      <td>18853.0</td>\n",
       "      <td>5637.0</td>\n",
       "      <td>USA</td>\n",
       "    </tr>\n",
       "    <tr>\n",
       "      <th>213</th>\n",
       "      <td>URS</td>\n",
       "      <td>689.0</td>\n",
       "      <td>1082.0</td>\n",
       "      <td>3182.0</td>\n",
       "      <td>732.0</td>\n",
       "      <td>5685.0</td>\n",
       "      <td>2503.0</td>\n",
       "      <td>Russia</td>\n",
       "    </tr>\n",
       "    <tr>\n",
       "      <th>79</th>\n",
       "      <td>GER</td>\n",
       "      <td>746.0</td>\n",
       "      <td>745.0</td>\n",
       "      <td>7665.0</td>\n",
       "      <td>674.0</td>\n",
       "      <td>9830.0</td>\n",
       "      <td>2165.0</td>\n",
       "      <td>Germany</td>\n",
       "    </tr>\n",
       "    <tr>\n",
       "      <th>74</th>\n",
       "      <td>GBR</td>\n",
       "      <td>651.0</td>\n",
       "      <td>678.0</td>\n",
       "      <td>10188.0</td>\n",
       "      <td>739.0</td>\n",
       "      <td>12256.0</td>\n",
       "      <td>2068.0</td>\n",
       "      <td>UK</td>\n",
       "    </tr>\n",
       "    <tr>\n",
       "      <th>69</th>\n",
       "      <td>FRA</td>\n",
       "      <td>666.0</td>\n",
       "      <td>501.0</td>\n",
       "      <td>10981.0</td>\n",
       "      <td>610.0</td>\n",
       "      <td>12758.0</td>\n",
       "      <td>1777.0</td>\n",
       "      <td>France</td>\n",
       "    </tr>\n",
       "  </tbody>\n",
       "</table>\n",
       "</div>"
      ],
      "text/plain": [
       "     NOC  Bronze    Gold     None  Silver  Total Athletes  Total Medals  \\\n",
       "215  USA  1358.0  2638.0  13216.0  1641.0         18853.0        5637.0   \n",
       "213  URS   689.0  1082.0   3182.0   732.0          5685.0        2503.0   \n",
       "79   GER   746.0   745.0   7665.0   674.0          9830.0        2165.0   \n",
       "74   GBR   651.0   678.0  10188.0   739.0         12256.0        2068.0   \n",
       "69   FRA   666.0   501.0  10981.0   610.0         12758.0        1777.0   \n",
       "\n",
       "      region  \n",
       "215      USA  \n",
       "213   Russia  \n",
       "79   Germany  \n",
       "74        UK  \n",
       "69    France  "
      ]
     },
     "execution_count": 22,
     "metadata": {},
     "output_type": "execute_result"
    }
   ],
   "source": [
    "propor_medals_per_country.head()"
   ]
  },
  {
   "cell_type": "code",
   "execution_count": 23,
   "metadata": {},
   "outputs": [],
   "source": [
    "to_propor = ['Bronze','Gold','None','Silver','Total Medals']\n",
    "for column in to_propor:\n",
    "    propor_medals_per_country[column] = (100*(propor_medals_per_country[column]/propor_medals_per_country['Total Athletes'])).round(2)"
   ]
  },
  {
   "cell_type": "code",
   "execution_count": 24,
   "metadata": {},
   "outputs": [
    {
     "data": {
      "text/html": [
       "<div>\n",
       "<style scoped>\n",
       "    .dataframe tbody tr th:only-of-type {\n",
       "        vertical-align: middle;\n",
       "    }\n",
       "\n",
       "    .dataframe tbody tr th {\n",
       "        vertical-align: top;\n",
       "    }\n",
       "\n",
       "    .dataframe thead th {\n",
       "        text-align: right;\n",
       "    }\n",
       "</style>\n",
       "<table border=\"1\" class=\"dataframe\">\n",
       "  <thead>\n",
       "    <tr style=\"text-align: right;\">\n",
       "      <th></th>\n",
       "      <th>NOC</th>\n",
       "      <th>Bronze</th>\n",
       "      <th>Gold</th>\n",
       "      <th>None</th>\n",
       "      <th>Silver</th>\n",
       "      <th>Total Athletes</th>\n",
       "      <th>Total Medals</th>\n",
       "      <th>region</th>\n",
       "    </tr>\n",
       "  </thead>\n",
       "  <tbody>\n",
       "    <tr>\n",
       "      <th>215</th>\n",
       "      <td>USA</td>\n",
       "      <td>7.20</td>\n",
       "      <td>13.99</td>\n",
       "      <td>70.10</td>\n",
       "      <td>8.70</td>\n",
       "      <td>18853.0</td>\n",
       "      <td>29.90</td>\n",
       "      <td>USA</td>\n",
       "    </tr>\n",
       "    <tr>\n",
       "      <th>213</th>\n",
       "      <td>URS</td>\n",
       "      <td>12.12</td>\n",
       "      <td>19.03</td>\n",
       "      <td>55.97</td>\n",
       "      <td>12.88</td>\n",
       "      <td>5685.0</td>\n",
       "      <td>44.03</td>\n",
       "      <td>Russia</td>\n",
       "    </tr>\n",
       "    <tr>\n",
       "      <th>79</th>\n",
       "      <td>GER</td>\n",
       "      <td>7.59</td>\n",
       "      <td>7.58</td>\n",
       "      <td>77.98</td>\n",
       "      <td>6.86</td>\n",
       "      <td>9830.0</td>\n",
       "      <td>22.02</td>\n",
       "      <td>Germany</td>\n",
       "    </tr>\n",
       "    <tr>\n",
       "      <th>74</th>\n",
       "      <td>GBR</td>\n",
       "      <td>5.31</td>\n",
       "      <td>5.53</td>\n",
       "      <td>83.13</td>\n",
       "      <td>6.03</td>\n",
       "      <td>12256.0</td>\n",
       "      <td>16.87</td>\n",
       "      <td>UK</td>\n",
       "    </tr>\n",
       "    <tr>\n",
       "      <th>69</th>\n",
       "      <td>FRA</td>\n",
       "      <td>5.22</td>\n",
       "      <td>3.93</td>\n",
       "      <td>86.07</td>\n",
       "      <td>4.78</td>\n",
       "      <td>12758.0</td>\n",
       "      <td>13.93</td>\n",
       "      <td>France</td>\n",
       "    </tr>\n",
       "  </tbody>\n",
       "</table>\n",
       "</div>"
      ],
      "text/plain": [
       "     NOC  Bronze   Gold   None  Silver  Total Athletes  Total Medals   region\n",
       "215  USA    7.20  13.99  70.10    8.70         18853.0         29.90      USA\n",
       "213  URS   12.12  19.03  55.97   12.88          5685.0         44.03   Russia\n",
       "79   GER    7.59   7.58  77.98    6.86          9830.0         22.02  Germany\n",
       "74   GBR    5.31   5.53  83.13    6.03         12256.0         16.87       UK\n",
       "69   FRA    5.22   3.93  86.07    4.78         12758.0         13.93   France"
      ]
     },
     "execution_count": 24,
     "metadata": {},
     "output_type": "execute_result"
    }
   ],
   "source": [
    "propor_medals_per_country.head()"
   ]
  },
  {
   "cell_type": "code",
   "execution_count": 25,
   "metadata": {},
   "outputs": [],
   "source": [
    "propor_medals_per_country.drop(['Total Athletes'],axis=1,inplace=True)"
   ]
  },
  {
   "cell_type": "code",
   "execution_count": 26,
   "metadata": {},
   "outputs": [
    {
     "data": {
      "text/html": [
       "<div>\n",
       "<style scoped>\n",
       "    .dataframe tbody tr th:only-of-type {\n",
       "        vertical-align: middle;\n",
       "    }\n",
       "\n",
       "    .dataframe tbody tr th {\n",
       "        vertical-align: top;\n",
       "    }\n",
       "\n",
       "    .dataframe thead th {\n",
       "        text-align: right;\n",
       "    }\n",
       "</style>\n",
       "<table border=\"1\" class=\"dataframe\">\n",
       "  <thead>\n",
       "    <tr style=\"text-align: right;\">\n",
       "      <th></th>\n",
       "      <th>NOC</th>\n",
       "      <th>Bronze</th>\n",
       "      <th>Gold</th>\n",
       "      <th>None</th>\n",
       "      <th>Silver</th>\n",
       "      <th>Total Medals</th>\n",
       "      <th>region</th>\n",
       "    </tr>\n",
       "  </thead>\n",
       "  <tbody>\n",
       "    <tr>\n",
       "      <th>215</th>\n",
       "      <td>USA</td>\n",
       "      <td>7.20</td>\n",
       "      <td>13.99</td>\n",
       "      <td>70.10</td>\n",
       "      <td>8.70</td>\n",
       "      <td>29.90</td>\n",
       "      <td>USA</td>\n",
       "    </tr>\n",
       "    <tr>\n",
       "      <th>213</th>\n",
       "      <td>URS</td>\n",
       "      <td>12.12</td>\n",
       "      <td>19.03</td>\n",
       "      <td>55.97</td>\n",
       "      <td>12.88</td>\n",
       "      <td>44.03</td>\n",
       "      <td>Russia</td>\n",
       "    </tr>\n",
       "    <tr>\n",
       "      <th>79</th>\n",
       "      <td>GER</td>\n",
       "      <td>7.59</td>\n",
       "      <td>7.58</td>\n",
       "      <td>77.98</td>\n",
       "      <td>6.86</td>\n",
       "      <td>22.02</td>\n",
       "      <td>Germany</td>\n",
       "    </tr>\n",
       "    <tr>\n",
       "      <th>74</th>\n",
       "      <td>GBR</td>\n",
       "      <td>5.31</td>\n",
       "      <td>5.53</td>\n",
       "      <td>83.13</td>\n",
       "      <td>6.03</td>\n",
       "      <td>16.87</td>\n",
       "      <td>UK</td>\n",
       "    </tr>\n",
       "    <tr>\n",
       "      <th>69</th>\n",
       "      <td>FRA</td>\n",
       "      <td>5.22</td>\n",
       "      <td>3.93</td>\n",
       "      <td>86.07</td>\n",
       "      <td>4.78</td>\n",
       "      <td>13.93</td>\n",
       "      <td>France</td>\n",
       "    </tr>\n",
       "  </tbody>\n",
       "</table>\n",
       "</div>"
      ],
      "text/plain": [
       "     NOC  Bronze   Gold   None  Silver  Total Medals   region\n",
       "215  USA    7.20  13.99  70.10    8.70         29.90      USA\n",
       "213  URS   12.12  19.03  55.97   12.88         44.03   Russia\n",
       "79   GER    7.59   7.58  77.98    6.86         22.02  Germany\n",
       "74   GBR    5.31   5.53  83.13    6.03         16.87       UK\n",
       "69   FRA    5.22   3.93  86.07    4.78         13.93   France"
      ]
     },
     "execution_count": 26,
     "metadata": {},
     "output_type": "execute_result"
    }
   ],
   "source": [
    "propor_medals_per_country.head()"
   ]
  },
  {
   "cell_type": "code",
   "execution_count": 27,
   "metadata": {},
   "outputs": [],
   "source": [
    "propor_medals_per_country.sort_values('Total Medals',ascending=False,inplace=True)\n",
    "to_graph = propor_medals_per_country.head(50)"
   ]
  },
  {
   "cell_type": "code",
   "execution_count": 28,
   "metadata": {
    "scrolled": false
   },
   "outputs": [
    {
     "data": {
      "image/png": "[encoded data removed]",
      "text/plain": [
       "<Figure size 2160x1080 with 1 Axes>"
      ]
     },
     "metadata": {
      "needs_background": "light"
     },
     "output_type": "display_data"
    }
   ],
   "source": [
    "f, ax = plt.subplots(figsize = (30, 15))\n",
    "sns.barplot(to_graph.head(50)['NOC'],to_graph.head(50)['Total Medals'],ci=False)\n",
    "plt.xticks(rotation = 90,fontsize=20)\n",
    "plt.title(\"Proportion of Country's Olympians Winning Medals\",fontsize=30)\n",
    "plt.ylabel(\"Proportion of Medals Won\",fontsize=25)\n",
    "plt.xlabel(\"Country\",fontsize=25)\n",
    "plt.show()"
   ]
  },
  {
   "cell_type": "code",
   "execution_count": 29,
   "metadata": {},
   "outputs": [
    {
     "data": {
      "image/png": "[encoded data removed]",
      "text/plain": [
       "<Figure size 2160x1080 with 1 Axes>"
      ]
     },
     "metadata": {
      "needs_background": "light"
     },
     "output_type": "display_data"
    }
   ],
   "source": [
    "f, ax = plt.subplots(figsize = (30, 15))\n",
    "sns.barplot(to_graph.head(50)['region'],to_graph.head(50)['Total Medals'],ci=False)\n",
    "plt.xticks(rotation = 90,fontsize=20)\n",
    "plt.title(\"Proportion of Country's Olympians Winning Medals\",fontsize=30)\n",
    "plt.ylabel(\"Proportion of Medals Won\",fontsize=25)\n",
    "plt.xlabel(\"Country\",fontsize=25)\n",
    "plt.show()"
   ]
  },
  {
   "cell_type": "markdown",
   "metadata": {},
   "source": [
    "### with mapping data (multiple codes accounted for)"
   ]
  },
  {
   "cell_type": "code",
   "execution_count": 110,
   "metadata": {},
   "outputs": [],
   "source": [
    "propor_map = medals_per_country_map.copy()"
   ]
  },
  {
   "cell_type": "code",
   "execution_count": 111,
   "metadata": {},
   "outputs": [],
   "source": [
    "to_propor = ['Bronze','Gold','None','Silver','Total Medals']\n",
    "for column in to_propor:\n",
    "    propor_map[column] = (100*(propor_map[column]/propor_map['Total Athletes'])).round(2)"
   ]
  },
  {
   "cell_type": "code",
   "execution_count": 112,
   "metadata": {},
   "outputs": [],
   "source": [
    "propor_map.drop(['Total Athletes'],axis=1,inplace=True)"
   ]
  },
  {
   "cell_type": "code",
   "execution_count": 113,
   "metadata": {},
   "outputs": [],
   "source": [
    "propor_map.sort_values('Total Medals',ascending=False,inplace=True)\n",
    "to_graph = propor_map.head(50)"
   ]
  },
  {
   "cell_type": "code",
   "execution_count": 114,
   "metadata": {
    "scrolled": false
   },
   "outputs": [
    {
     "data": {
      "image/png": "[encoded data removed]",
      "text/plain": [
       "<Figure size 2160x1080 with 1 Axes>"
      ]
     },
     "metadata": {
      "needs_background": "light"
     },
     "output_type": "display_data"
    }
   ],
   "source": [
    "f, ax = plt.subplots(figsize = (30, 15))\n",
    "sns.barplot(to_graph.head(50)['NOC'],to_graph.head(50)['Total Medals'],ci=False)\n",
    "plt.xticks(rotation = 90,fontsize=20)\n",
    "plt.title(\"Proportion of Country's Olympians Winning Medals\",fontsize=30)\n",
    "plt.ylabel(\"Proportion of Medals Won\",fontsize=25)\n",
    "plt.xlabel(\"Country\",fontsize=25)\n",
    "plt.show()"
   ]
  },
  {
   "cell_type": "code",
   "execution_count": null,
   "metadata": {},
   "outputs": [],
   "source": []
  },
  {
   "cell_type": "code",
   "execution_count": null,
   "metadata": {},
   "outputs": [],
   "source": []
  },
  {
   "cell_type": "code",
   "execution_count": null,
   "metadata": {},
   "outputs": [],
   "source": []
  },
  {
   "cell_type": "code",
   "execution_count": null,
   "metadata": {},
   "outputs": [],
   "source": []
  },
  {
   "cell_type": "code",
   "execution_count": null,
   "metadata": {},
   "outputs": [],
   "source": []
  },
  {
   "cell_type": "code",
   "execution_count": null,
   "metadata": {},
   "outputs": [],
   "source": []
  },
  {
   "cell_type": "code",
   "execution_count": null,
   "metadata": {},
   "outputs": [],
   "source": []
  },
  {
   "cell_type": "markdown",
   "metadata": {},
   "source": [
    "# Plotly"
   ]
  },
  {
   "cell_type": "code",
   "execution_count": 115,
   "metadata": {},
   "outputs": [
    {
     "data": {
      "text/html": [
       "<div>\n",
       "<style scoped>\n",
       "    .dataframe tbody tr th:only-of-type {\n",
       "        vertical-align: middle;\n",
       "    }\n",
       "\n",
       "    .dataframe tbody tr th {\n",
       "        vertical-align: top;\n",
       "    }\n",
       "\n",
       "    .dataframe thead th {\n",
       "        text-align: right;\n",
       "    }\n",
       "</style>\n",
       "<table border=\"1\" class=\"dataframe\">\n",
       "  <thead>\n",
       "    <tr style=\"text-align: right;\">\n",
       "      <th></th>\n",
       "      <th>NOC</th>\n",
       "      <th>Bronze</th>\n",
       "      <th>Gold</th>\n",
       "      <th>None</th>\n",
       "      <th>Silver</th>\n",
       "      <th>Total Athletes</th>\n",
       "      <th>Total Medals</th>\n",
       "      <th>region</th>\n",
       "    </tr>\n",
       "  </thead>\n",
       "  <tbody>\n",
       "    <tr>\n",
       "      <th>0</th>\n",
       "      <td>USA</td>\n",
       "      <td>1358.0</td>\n",
       "      <td>2638.0</td>\n",
       "      <td>13216.0</td>\n",
       "      <td>1641.0</td>\n",
       "      <td>18853.0</td>\n",
       "      <td>5637.0</td>\n",
       "      <td>USA</td>\n",
       "    </tr>\n",
       "    <tr>\n",
       "      <th>200</th>\n",
       "      <td>RUS</td>\n",
       "      <td>1178.0</td>\n",
       "      <td>1599.0</td>\n",
       "      <td>7745.0</td>\n",
       "      <td>1170.0</td>\n",
       "      <td>11692.0</td>\n",
       "      <td>3947.0</td>\n",
       "      <td>Russia</td>\n",
       "    </tr>\n",
       "    <tr>\n",
       "      <th>196</th>\n",
       "      <td>GER</td>\n",
       "      <td>1260.0</td>\n",
       "      <td>1301.0</td>\n",
       "      <td>12127.0</td>\n",
       "      <td>1195.0</td>\n",
       "      <td>15883.0</td>\n",
       "      <td>3756.0</td>\n",
       "      <td>Germany</td>\n",
       "    </tr>\n",
       "    <tr>\n",
       "      <th>1</th>\n",
       "      <td>GBR</td>\n",
       "      <td>651.0</td>\n",
       "      <td>678.0</td>\n",
       "      <td>10188.0</td>\n",
       "      <td>739.0</td>\n",
       "      <td>12256.0</td>\n",
       "      <td>2068.0</td>\n",
       "      <td>UK</td>\n",
       "    </tr>\n",
       "    <tr>\n",
       "      <th>2</th>\n",
       "      <td>FRA</td>\n",
       "      <td>666.0</td>\n",
       "      <td>501.0</td>\n",
       "      <td>10981.0</td>\n",
       "      <td>610.0</td>\n",
       "      <td>12758.0</td>\n",
       "      <td>1777.0</td>\n",
       "      <td>France</td>\n",
       "    </tr>\n",
       "  </tbody>\n",
       "</table>\n",
       "</div>"
      ],
      "text/plain": [
       "     NOC  Bronze    Gold     None  Silver  Total Athletes  Total Medals  \\\n",
       "0    USA  1358.0  2638.0  13216.0  1641.0         18853.0        5637.0   \n",
       "200  RUS  1178.0  1599.0   7745.0  1170.0         11692.0        3947.0   \n",
       "196  GER  1260.0  1301.0  12127.0  1195.0         15883.0        3756.0   \n",
       "1    GBR   651.0   678.0  10188.0   739.0         12256.0        2068.0   \n",
       "2    FRA   666.0   501.0  10981.0   610.0         12758.0        1777.0   \n",
       "\n",
       "      region  \n",
       "0        USA  \n",
       "200   Russia  \n",
       "196  Germany  \n",
       "1         UK  \n",
       "2     France  "
      ]
     },
     "execution_count": 115,
     "metadata": {},
     "output_type": "execute_result"
    }
   ],
   "source": [
    "medals_per_country_map.head()"
   ]
  },
  {
   "cell_type": "code",
   "execution_count": 134,
   "metadata": {},
   "outputs": [],
   "source": [
    "def create_map(data, criteria, colorscale):\n",
    "    trace = go.Choropleth(\n",
    "            locations = data['region'],\n",
    "            locationmode='country names',\n",
    "            z = data[criteria],\n",
    "            text = data['region'],\n",
    "            autocolorscale =False,\n",
    "            reversescale = False,\n",
    "            colorscale = colorscale,\n",
    "            marker = dict(\n",
    "                line = dict(\n",
    "                    color = 'rgb(0,0,0)',\n",
    "                    width = 0.5)\n",
    "            ),\n",
    "            colorbar = dict(\n",
    "                title = 'Total Medals',\n",
    "                tickprefix = '')\n",
    "        )\n",
    "\n",
    "    data = [trace]\n",
    "    layout = go.Layout(title = 'Total {} Medals Won by Country Over All Olympic Competitions'.format(criteria),\n",
    "                       geo = dict(\n",
    "                           showframe = True,\n",
    "                           showlakes = False,\n",
    "                           showcoastlines = True,\n",
    "                           projection = dict(\n",
    "                               type = 'natural earth'\n",
    "                           )\n",
    "                       )\n",
    "                      )\n",
    "\n",
    "    fig = dict( data=data, layout=layout )\n",
    "    iplot(fig)"
   ]
  },
  {
   "cell_type": "code",
   "execution_count": 117,
   "metadata": {},
   "outputs": [
    {
     "data": {
      "application/vnd.plotly.v1+json": {
       "config": {
        "linkText": "Export to plot.ly",
        "plotlyServerURL": "https://plot.ly",
        "showLink": false
       },
       "data": [
        {
         "autocolorscale": false,
         "colorbar": {
          "tickprefix": "",
          "title": {
           "text": "Total Medals"
          }
         },
         "colorscale": [
          [
           0,
           "rgb(150,0,90)"
          ],
          [
           0.125,
           "rgb(0,0,200)"
          ],
          [
           0.25,
           "rgb(0,25,255)"
          ],
          [
           0.375,
           "rgb(0,152,255)"
          ],
          [
           0.5,
           "rgb(44,255,150)"
          ],
          [
           0.625,
           "rgb(151,255,0)"
          ],
          [
           0.75,
           "rgb(255,234,0)"
          ],
          [
           0.875,
           "rgb(255,111,0)"
          ],
          [
           1,
           "rgb(255,0,0)"
          ]
         ],
         "locationmode": "country names",
         "locations": [
          "USA",
          "Russia",
          "Germany",
          "UK",
          "France",
          "Italy",
          "Sweden",
          "Canada",
          "Australia",
          "Hungary",
          "Netherlands",
          "Norway",
          "China",
          "Japan",
          "Finland",
          "Switzerland",
          "Romania",
          "Czech Republic",
          "South Korea",
          "Denmark",
          "Poland",
          "Serbia",
          "Spain",
          "Brazil",
          "Belgium",
          "Austria",
          "Cuba",
          "Bulgaria",
          "Argentina",
          "Greece",
          "New Zealand",
          "Ukraine",
          "India",
          "Jamaica",
          "Croatia",
          "Belarus",
          "South Africa",
          "Pakistan",
          "Mexico",
          "Kenya",
          "Nigeria",
          "Turkey",
          "Kazakhstan",
          "Iran",
          "North Korea",
          "Uruguay",
          "Lithuania",
          "Ethiopia",
          "Estonia",
          "Taiwan",
          "Slovenia",
          "Slovakia",
          "Azerbaijan",
          "Portugal",
          "Indonesia",
          "Bahamas",
          "Trinidad",
          "Latvia",
          "Ireland",
          "Uzbekistan",
          "Chile",
          "Georgia",
          "Thailand",
          "Colombia",
          "Egypt",
          "Mongolia",
          "Ghana",
          "Morocco",
          "Cameroon",
          "Zimbabwe",
          "Paraguay",
          "Algeria",
          "Iceland",
          "Armenia",
          "Malaysia",
          "Peru",
          "Venezuela",
          "Montenegro",
          "Fiji",
          "Tunisia",
          "Philippines",
          "Liechtenstein",
          "Israel",
          "Puerto Rico",
          "Moldova",
          "Luxembourg",
          "Dominican Republic",
          "Uganda",
          "Haiti",
          "Saudi Arabia",
          "Syria",
          "Individual Olympic Athletes",
          "Qatar",
          "Vietnam",
          "Costa Rica",
          "Namibia",
          "Vietnam",
          "Tajikistan",
          "Lebanon",
          "Kyrgyzstan",
          "Panama",
          "Ivory Coast",
          "Bahrain",
          "Kuwait",
          "Niger",
          "Burundi",
          "Tanzania",
          "Afghanistan",
          "United Arab Emirates",
          "Sri Lanka",
          "Grenada",
          "Zambia",
          "Mozambique",
          "Suriname",
          "Ecuador",
          "Djibouti",
          "Jordan",
          "Curacao",
          "Guyana",
          "Senegal",
          "Guatemala",
          "Macedonia",
          "Sudan",
          "Bermuda",
          "Barbados",
          "Tonga",
          "Mauritius",
          "Botswana",
          "Monaco",
          "Togo",
          "Kosovo",
          "Cyprus",
          "Gabon",
          "Eritrea",
          "Nepal",
          "Virgin Islands, US",
          "Iraq",
          "Bhutan",
          "Central African Republic",
          "Cayman Islands",
          "Equatorial Guinea",
          "Malta",
          "Cambodia",
          "Palau",
          "Papua New Guinea",
          "Brunei",
          "Burkina Faso",
          "Republic of Congo",
          null,
          "Boliva",
          "Rwanda",
          "Palestine",
          "Samoa",
          "Nauru",
          "Nicaragua",
          "Chad",
          "San Marino",
          "South Sudan",
          "Bangladesh",
          "Bosnia and Herzegovina",
          "Somalia",
          "Albania",
          "Solomon Islands",
          "Belize",
          "Democratic Republic of the Congo",
          "Sierra Leone",
          "Yemen",
          "Sao Tome and Principe",
          "Oman",
          "Mauritania",
          "Myanmar",
          "Mali",
          "Gambia",
          "Saint Vincent",
          "Maldives",
          "Seychelles",
          "Guinea-Bissau",
          null,
          "American Samoa",
          "Aruba",
          "Timor-Leste",
          "Turkmenistan",
          "Saint Kitts",
          null,
          "Antigua",
          "Angola",
          "Andorra",
          "Vanuatu",
          "Swaziland",
          "Benin",
          "Laos",
          "Malawi",
          "Micronesia",
          "Cook Islands",
          "Guinea",
          "Guam",
          "Honduras",
          "El Salvador",
          "Dominica",
          "Vietnam",
          "Kiribati",
          "Marshall Islands",
          "Cape Verde",
          "Libya",
          "Liberia",
          "Saint Lucia",
          "Lesotho",
          "Comoros",
          "Madagascar",
          "Virgin Islands, British"
         ],
         "marker": {
          "line": {
           "color": "rgb(0,0,0)",
           "width": 0.5
          }
         },
         "reversescale": true,
         "text": [
          "USA",
          "Russia",
          "Germany",
          "UK",
          "France",
          "Italy",
          "Sweden",
          "Canada",
          "Australia",
          "Hungary",
          "Netherlands",
          "Norway",
          "China",
          "Japan",
          "Finland",
          "Switzerland",
          "Romania",
          "Czech Republic",
          "South Korea",
          "Denmark",
          "Poland",
          "Serbia",
          "Spain",
          "Brazil",
          "Belgium",
          "Austria",
          "Cuba",
          "Bulgaria",
          "Argentina",
          "Greece",
          "New Zealand",
          "Ukraine",
          "India",
          "Jamaica",
          "Croatia",
          "Belarus",
          "South Africa",
          "Pakistan",
          "Mexico",
          "Kenya",
          "Nigeria",
          "Turkey",
          "Kazakhstan",
          "Iran",
          "North Korea",
          "Uruguay",
          "Lithuania",
          "Ethiopia",
          "Estonia",
          "Taiwan",
          "Slovenia",
          "Slovakia",
          "Azerbaijan",
          "Portugal",
          "Indonesia",
          "Bahamas",
          "Trinidad",
          "Latvia",
          "Ireland",
          "Uzbekistan",
          "Chile",
          "Georgia",
          "Thailand",
          "Colombia",
          "Egypt",
          "Mongolia",
          "Ghana",
          "Morocco",
          "Cameroon",
          "Zimbabwe",
          "Paraguay",
          "Algeria",
          "Iceland",
          "Armenia",
          "Malaysia",
          "Peru",
          "Venezuela",
          "Montenegro",
          "Fiji",
          "Tunisia",
          "Philippines",
          "Liechtenstein",
          "Israel",
          "Puerto Rico",
          "Moldova",
          "Luxembourg",
          "Dominican Republic",
          "Uganda",
          "Haiti",
          "Saudi Arabia",
          "Syria",
          "Individual Olympic Athletes",
          "Qatar",
          "Vietnam",
          "Costa Rica",
          "Namibia",
          "Vietnam",
          "Tajikistan",
          "Lebanon",
          "Kyrgyzstan",
          "Panama",
          "Ivory Coast",
          "Bahrain",
          "Kuwait",
          "Niger",
          "Burundi",
          "Tanzania",
          "Afghanistan",
          "United Arab Emirates",
          "Sri Lanka",
          "Grenada",
          "Zambia",
          "Mozambique",
          "Suriname",
          "Ecuador",
          "Djibouti",
          "Jordan",
          "Curacao",
          "Guyana",
          "Senegal",
          "Guatemala",
          "Macedonia",
          "Sudan",
          "Bermuda",
          "Barbados",
          "Tonga",
          "Mauritius",
          "Botswana",
          "Monaco",
          "Togo",
          "Kosovo",
          "Cyprus",
          "Gabon",
          "Eritrea",
          "Nepal",
          "Virgin Islands, US",
          "Iraq",
          "Bhutan",
          "Central African Republic",
          "Cayman Islands",
          "Equatorial Guinea",
          "Malta",
          "Cambodia",
          "Palau",
          "Papua New Guinea",
          "Brunei",
          "Burkina Faso",
          "Republic of Congo",
          null,
          "Boliva",
          "Rwanda",
          "Palestine",
          "Samoa",
          "Nauru",
          "Nicaragua",
          "Chad",
          "San Marino",
          "South Sudan",
          "Bangladesh",
          "Bosnia and Herzegovina",
          "Somalia",
          "Albania",
          "Solomon Islands",
          "Belize",
          "Democratic Republic of the Congo",
          "Sierra Leone",
          "Yemen",
          "Sao Tome and Principe",
          "Oman",
          "Mauritania",
          "Myanmar",
          "Mali",
          "Gambia",
          "Saint Vincent",
          "Maldives",
          "Seychelles",
          "Guinea-Bissau",
          null,
          "American Samoa",
          "Aruba",
          "Timor-Leste",
          "Turkmenistan",
          "Saint Kitts",
          null,
          "Antigua",
          "Angola",
          "Andorra",
          "Vanuatu",
          "Swaziland",
          "Benin",
          "Laos",
          "Malawi",
          "Micronesia",
          "Cook Islands",
          "Guinea",
          "Guam",
          "Honduras",
          "El Salvador",
          "Dominica",
          "Vietnam",
          "Kiribati",
          "Marshall Islands",
          "Cape Verde",
          "Libya",
          "Liberia",
          "Saint Lucia",
          "Lesotho",
          "Comoros",
          "Madagascar",
          "Virgin Islands, British"
         ],
         "type": "choropleth",
         "z": [
          5637,
          3947,
          3756,
          2068,
          1777,
          1637,
          1536,
          1352,
          1349,
          1135,
          1040,
          1033,
          993,
          913,
          900,
          691,
          653,
          644,
          638,
          597,
          565,
          539,
          489,
          475,
          468,
          450,
          409,
          342,
          274,
          255,
          228,
          199,
          197,
          157,
          149,
          139,
          131,
          121,
          110,
          106,
          99,
          95,
          77,
          68,
          67,
          63,
          61,
          53,
          50,
          49,
          48,
          47,
          44,
          41,
          41,
          40,
          37,
          35,
          35,
          34,
          32,
          32,
          30,
          28,
          27,
          26,
          23,
          23,
          22,
          22,
          17,
          17,
          17,
          16,
          16,
          15,
          15,
          14,
          13,
          13,
          10,
          9,
          9,
          9,
          8,
          8,
          7,
          7,
          7,
          6,
          5,
          5,
          5,
          4,
          4,
          4,
          4,
          4,
          4,
          3,
          3,
          3,
          3,
          2,
          2,
          2,
          2,
          2,
          2,
          2,
          2,
          2,
          2,
          2,
          2,
          1,
          1,
          1,
          1,
          1,
          1,
          1,
          1,
          1,
          1,
          1,
          1,
          1,
          1,
          1,
          1,
          1,
          1,
          1,
          1,
          1,
          1,
          0,
          0,
          0,
          0,
          0,
          0,
          0,
          0,
          0,
          0,
          0,
          0,
          0,
          0,
          0,
          0,
          0,
          0,
          0,
          0,
          0,
          0,
          0,
          0,
          0,
          0,
          0,
          0,
          0,
          0,
          0,
          0,
          0,
          0,
          0,
          0,
          0,
          0,
          0,
          0,
          0,
          0,
          0,
          0,
          0,
          0,
          0,
          0,
          0,
          0,
          0,
          0,
          0,
          0,
          0,
          0,
          0,
          0,
          0,
          0,
          0,
          0,
          0,
          0,
          0,
          0,
          0,
          0,
          0,
          0,
          0,
          0,
          0
         ]
        }
       ],
       "layout": {
        "geo": {
         "projection": {
          "type": "natural earth"
         },
         "showcoastlines": true,
         "showframe": true,
         "showlakes": false
        },
        "template": {
         "data": {
          "bar": [
           {
            "error_x": {
             "color": "#2a3f5f"
            },
            "error_y": {
             "color": "#2a3f5f"
            },
            "marker": {
             "line": {
              "color": "#E5ECF6",
              "width": 0.5
             }
            },
            "type": "bar"
           }
          ],
          "barpolar": [
           {
            "marker": {
             "line": {
              "color": "#E5ECF6",
              "width": 0.5
             }
            },
            "type": "barpolar"
           }
          ],
          "carpet": [
           {
            "aaxis": {
             "endlinecolor": "#2a3f5f",
             "gridcolor": "white",
             "linecolor": "white",
             "minorgridcolor": "white",
             "startlinecolor": "#2a3f5f"
            },
            "baxis": {
             "endlinecolor": "#2a3f5f",
             "gridcolor": "white",
             "linecolor": "white",
             "minorgridcolor": "white",
             "startlinecolor": "#2a3f5f"
            },
            "type": "carpet"
           }
          ],
          "choropleth": [
           {
            "colorbar": {
             "outlinewidth": 0,
             "ticks": ""
            },
            "type": "choropleth"
           }
          ],
          "contour": [
           {
            "colorbar": {
             "outlinewidth": 0,
             "ticks": ""
            },
            "colorscale": [
             [
              0,
              "#0d0887"
             ],
             [
              0.1111111111111111,
              "#46039f"
             ],
             [
              0.2222222222222222,
              "#7201a8"
             ],
             [
              0.3333333333333333,
              "#9c179e"
             ],
             [
              0.4444444444444444,
              "#bd3786"
             ],
             [
              0.5555555555555556,
              "#d8576b"
             ],
             [
              0.6666666666666666,
              "#ed7953"
             ],
             [
              0.7777777777777778,
              "#fb9f3a"
             ],
             [
              0.8888888888888888,
              "#fdca26"
             ],
             [
              1,
              "#f0f921"
             ]
            ],
            "type": "contour"
           }
          ],
          "contourcarpet": [
           {
            "colorbar": {
             "outlinewidth": 0,
             "ticks": ""
            },
            "type": "contourcarpet"
           }
          ],
          "heatmap": [
           {
            "colorbar": {
             "outlinewidth": 0,
             "ticks": ""
            },
            "colorscale": [
             [
              0,
              "#0d0887"
             ],
             [
              0.1111111111111111,
              "#46039f"
             ],
             [
              0.2222222222222222,
              "#7201a8"
             ],
             [
              0.3333333333333333,
              "#9c179e"
             ],
             [
              0.4444444444444444,
              "#bd3786"
             ],
             [
              0.5555555555555556,
              "#d8576b"
             ],
             [
              0.6666666666666666,
              "#ed7953"
             ],
             [
              0.7777777777777778,
              "#fb9f3a"
             ],
             [
              0.8888888888888888,
              "#fdca26"
             ],
             [
              1,
              "#f0f921"
             ]
            ],
            "type": "heatmap"
           }
          ],
          "heatmapgl": [
           {
            "colorbar": {
             "outlinewidth": 0,
             "ticks": ""
            },
            "colorscale": [
             [
              0,
              "#0d0887"
             ],
             [
              0.1111111111111111,
              "#46039f"
             ],
             [
              0.2222222222222222,
              "#7201a8"
             ],
             [
              0.3333333333333333,
              "#9c179e"
             ],
             [
              0.4444444444444444,
              "#bd3786"
             ],
             [
              0.5555555555555556,
              "#d8576b"
             ],
             [
              0.6666666666666666,
              "#ed7953"
             ],
             [
              0.7777777777777778,
              "#fb9f3a"
             ],
             [
              0.8888888888888888,
              "#fdca26"
             ],
             [
              1,
              "#f0f921"
             ]
            ],
            "type": "heatmapgl"
           }
          ],
          "histogram": [
           {
            "marker": {
             "colorbar": {
              "outlinewidth": 0,
              "ticks": ""
             }
            },
            "type": "histogram"
           }
          ],
          "histogram2d": [
           {
            "colorbar": {
             "outlinewidth": 0,
             "ticks": ""
            },
            "colorscale": [
             [
              0,
              "#0d0887"
             ],
             [
              0.1111111111111111,
              "#46039f"
             ],
             [
              0.2222222222222222,
              "#7201a8"
             ],
             [
              0.3333333333333333,
              "#9c179e"
             ],
             [
              0.4444444444444444,
              "#bd3786"
             ],
             [
              0.5555555555555556,
              "#d8576b"
             ],
             [
              0.6666666666666666,
              "#ed7953"
             ],
             [
              0.7777777777777778,
              "#fb9f3a"
             ],
             [
              0.8888888888888888,
              "#fdca26"
             ],
             [
              1,
              "#f0f921"
             ]
            ],
            "type": "histogram2d"
           }
          ],
          "histogram2dcontour": [
           {
            "colorbar": {
             "outlinewidth": 0,
             "ticks": ""
            },
            "colorscale": [
             [
              0,
              "#0d0887"
             ],
             [
              0.1111111111111111,
              "#46039f"
             ],
             [
              0.2222222222222222,
              "#7201a8"
             ],
             [
              0.3333333333333333,
              "#9c179e"
             ],
             [
              0.4444444444444444,
              "#bd3786"
             ],
             [
              0.5555555555555556,
              "#d8576b"
             ],
             [
              0.6666666666666666,
              "#ed7953"
             ],
             [
              0.7777777777777778,
              "#fb9f3a"
             ],
             [
              0.8888888888888888,
              "#fdca26"
             ],
             [
              1,
              "#f0f921"
             ]
            ],
            "type": "histogram2dcontour"
           }
          ],
          "mesh3d": [
           {
            "colorbar": {
             "outlinewidth": 0,
             "ticks": ""
            },
            "type": "mesh3d"
           }
          ],
          "parcoords": [
           {
            "line": {
             "colorbar": {
              "outlinewidth": 0,
              "ticks": ""
             }
            },
            "type": "parcoords"
           }
          ],
          "pie": [
           {
            "automargin": true,
            "type": "pie"
           }
          ],
          "scatter": [
           {
            "marker": {
             "colorbar": {
              "outlinewidth": 0,
              "ticks": ""
             }
            },
            "type": "scatter"
           }
          ],
          "scatter3d": [
           {
            "line": {
             "colorbar": {
              "outlinewidth": 0,
              "ticks": ""
             }
            },
            "marker": {
             "colorbar": {
              "outlinewidth": 0,
              "ticks": ""
             }
            },
            "type": "scatter3d"
           }
          ],
          "scattercarpet": [
           {
            "marker": {
             "colorbar": {
              "outlinewidth": 0,
              "ticks": ""
             }
            },
            "type": "scattercarpet"
           }
          ],
          "scattergeo": [
           {
            "marker": {
             "colorbar": {
              "outlinewidth": 0,
              "ticks": ""
             }
            },
            "type": "scattergeo"
           }
          ],
          "scattergl": [
           {
            "marker": {
             "colorbar": {
              "outlinewidth": 0,
              "ticks": ""
             }
            },
            "type": "scattergl"
           }
          ],
          "scattermapbox": [
           {
            "marker": {
             "colorbar": {
              "outlinewidth": 0,
              "ticks": ""
             }
            },
            "type": "scattermapbox"
           }
          ],
          "scatterpolar": [
           {
            "marker": {
             "colorbar": {
              "outlinewidth": 0,
              "ticks": ""
             }
            },
            "type": "scatterpolar"
           }
          ],
          "scatterpolargl": [
           {
            "marker": {
             "colorbar": {
              "outlinewidth": 0,
              "ticks": ""
             }
            },
            "type": "scatterpolargl"
           }
          ],
          "scatterternary": [
           {
            "marker": {
             "colorbar": {
              "outlinewidth": 0,
              "ticks": ""
             }
            },
            "type": "scatterternary"
           }
          ],
          "surface": [
           {
            "colorbar": {
             "outlinewidth": 0,
             "ticks": ""
            },
            "colorscale": [
             [
              0,
              "#0d0887"
             ],
             [
              0.1111111111111111,
              "#46039f"
             ],
             [
              0.2222222222222222,
              "#7201a8"
             ],
             [
              0.3333333333333333,
              "#9c179e"
             ],
             [
              0.4444444444444444,
              "#bd3786"
             ],
             [
              0.5555555555555556,
              "#d8576b"
             ],
             [
              0.6666666666666666,
              "#ed7953"
             ],
             [
              0.7777777777777778,
              "#fb9f3a"
             ],
             [
              0.8888888888888888,
              "#fdca26"
             ],
             [
              1,
              "#f0f921"
             ]
            ],
            "type": "surface"
           }
          ],
          "table": [
           {
            "cells": {
             "fill": {
              "color": "#EBF0F8"
             },
             "line": {
              "color": "white"
             }
            },
            "header": {
             "fill": {
              "color": "#C8D4E3"
             },
             "line": {
              "color": "white"
             }
            },
            "type": "table"
           }
          ]
         },
         "layout": {
          "annotationdefaults": {
           "arrowcolor": "#2a3f5f",
           "arrowhead": 0,
           "arrowwidth": 1
          },
          "coloraxis": {
           "colorbar": {
            "outlinewidth": 0,
            "ticks": ""
           }
          },
          "colorscale": {
           "diverging": [
            [
             0,
             "#8e0152"
            ],
            [
             0.1,
             "#c51b7d"
            ],
            [
             0.2,
             "#de77ae"
            ],
            [
             0.3,
             "#f1b6da"
            ],
            [
             0.4,
             "#fde0ef"
            ],
            [
             0.5,
             "#f7f7f7"
            ],
            [
             0.6,
             "#e6f5d0"
            ],
            [
             0.7,
             "#b8e186"
            ],
            [
             0.8,
             "#7fbc41"
            ],
            [
             0.9,
             "#4d9221"
            ],
            [
             1,
             "#276419"
            ]
           ],
           "sequential": [
            [
             0,
             "#0d0887"
            ],
            [
             0.1111111111111111,
             "#46039f"
            ],
            [
             0.2222222222222222,
             "#7201a8"
            ],
            [
             0.3333333333333333,
             "#9c179e"
            ],
            [
             0.4444444444444444,
             "#bd3786"
            ],
            [
             0.5555555555555556,
             "#d8576b"
            ],
            [
             0.6666666666666666,
             "#ed7953"
            ],
            [
             0.7777777777777778,
             "#fb9f3a"
            ],
            [
             0.8888888888888888,
             "#fdca26"
            ],
            [
             1,
             "#f0f921"
            ]
           ],
           "sequentialminus": [
            [
             0,
             "#0d0887"
            ],
            [
             0.1111111111111111,
             "#46039f"
            ],
            [
             0.2222222222222222,
             "#7201a8"
            ],
            [
             0.3333333333333333,
             "#9c179e"
            ],
            [
             0.4444444444444444,
             "#bd3786"
            ],
            [
             0.5555555555555556,
             "#d8576b"
            ],
            [
             0.6666666666666666,
             "#ed7953"
            ],
            [
             0.7777777777777778,
             "#fb9f3a"
            ],
            [
             0.8888888888888888,
             "#fdca26"
            ],
            [
             1,
             "#f0f921"
            ]
           ]
          },
          "colorway": [
           "#636efa",
           "#EF553B",
           "#00cc96",
           "#ab63fa",
           "#FFA15A",
           "#19d3f3",
           "#FF6692",
           "#B6E880",
           "#FF97FF",
           "#FECB52"
          ],
          "font": {
           "color": "#2a3f5f"
          },
          "geo": {
           "bgcolor": "white",
           "lakecolor": "white",
           "landcolor": "#E5ECF6",
           "showlakes": true,
           "showland": true,
           "subunitcolor": "white"
          },
          "hoverlabel": {
           "align": "left"
          },
          "hovermode": "closest",
          "mapbox": {
           "style": "light"
          },
          "paper_bgcolor": "white",
          "plot_bgcolor": "#E5ECF6",
          "polar": {
           "angularaxis": {
            "gridcolor": "white",
            "linecolor": "white",
            "ticks": ""
           },
           "bgcolor": "#E5ECF6",
           "radialaxis": {
            "gridcolor": "white",
            "linecolor": "white",
            "ticks": ""
           }
          },
          "scene": {
           "xaxis": {
            "backgroundcolor": "#E5ECF6",
            "gridcolor": "white",
            "gridwidth": 2,
            "linecolor": "white",
            "showbackground": true,
            "ticks": "",
            "zerolinecolor": "white"
           },
           "yaxis": {
            "backgroundcolor": "#E5ECF6",
            "gridcolor": "white",
            "gridwidth": 2,
            "linecolor": "white",
            "showbackground": true,
            "ticks": "",
            "zerolinecolor": "white"
           },
           "zaxis": {
            "backgroundcolor": "#E5ECF6",
            "gridcolor": "white",
            "gridwidth": 2,
            "linecolor": "white",
            "showbackground": true,
            "ticks": "",
            "zerolinecolor": "white"
           }
          },
          "shapedefaults": {
           "line": {
            "color": "#2a3f5f"
           }
          },
          "ternary": {
           "aaxis": {
            "gridcolor": "white",
            "linecolor": "white",
            "ticks": ""
           },
           "baxis": {
            "gridcolor": "white",
            "linecolor": "white",
            "ticks": ""
           },
           "bgcolor": "#E5ECF6",
           "caxis": {
            "gridcolor": "white",
            "linecolor": "white",
            "ticks": ""
           }
          },
          "title": {
           "x": 0.05
          },
          "xaxis": {
           "automargin": true,
           "gridcolor": "white",
           "linecolor": "white",
           "ticks": "",
           "title": {
            "standoff": 15
           },
           "zerolinecolor": "white",
           "zerolinewidth": 2
          },
          "yaxis": {
           "automargin": true,
           "gridcolor": "white",
           "linecolor": "white",
           "ticks": "",
           "title": {
            "standoff": 15
           },
           "zerolinecolor": "white",
           "zerolinewidth": 2
          }
         }
        },
        "title": {
         "text": "Total Medals Won by Country Over All Olympic Competitions"
        }
       }
      },
      "text/html": [
       "<div>\n",
       "        \n",
       "        \n",
       "            <div id=\"db2e9821-432b-4daa-a1a2-2e7fa02694a6\" class=\"plotly-graph-div\" style=\"height:525px; width:100%;\"></div>\n",
       "            <script type=\"text/javascript\">\n",
       "                require([\"plotly\"], function(Plotly) {\n",
       "                    window.PLOTLYENV=window.PLOTLYENV || {};\n",
       "                    \n",
       "                if (document.getElementById(\"db2e9821-432b-4daa-a1a2-2e7fa02694a6\")) {\n",
       "                    Plotly.newPlot(\n",
       "                        'db2e9821-432b-4daa-a1a2-2e7fa02694a6',\n",
       "                        [{\"autocolorscale\": false, \"colorbar\": {\"tickprefix\": \"\", \"title\": {\"text\": \"Total Medals\"}}, \"colorscale\": [[0.0, \"rgb(150,0,90)\"], [0.125, \"rgb(0,0,200)\"], [0.25, \"rgb(0,25,255)\"], [0.375, \"rgb(0,152,255)\"], [0.5, \"rgb(44,255,150)\"], [0.625, \"rgb(151,255,0)\"], [0.75, \"rgb(255,234,0)\"], [0.875, \"rgb(255,111,0)\"], [1.0, \"rgb(255,0,0)\"]], \"locationmode\": \"country names\", \"locations\": [\"USA\", \"Russia\", \"Germany\", \"UK\", \"France\", \"Italy\", \"Sweden\", \"Canada\", \"Australia\", \"Hungary\", \"Netherlands\", \"Norway\", \"China\", \"Japan\", \"Finland\", \"Switzerland\", \"Romania\", \"Czech Republic\", \"South Korea\", \"Denmark\", \"Poland\", \"Serbia\", \"Spain\", \"Brazil\", \"Belgium\", \"Austria\", \"Cuba\", \"Bulgaria\", \"Argentina\", \"Greece\", \"New Zealand\", \"Ukraine\", \"India\", \"Jamaica\", \"Croatia\", \"Belarus\", \"South Africa\", \"Pakistan\", \"Mexico\", \"Kenya\", \"Nigeria\", \"Turkey\", \"Kazakhstan\", \"Iran\", \"North Korea\", \"Uruguay\", \"Lithuania\", \"Ethiopia\", \"Estonia\", \"Taiwan\", \"Slovenia\", \"Slovakia\", \"Azerbaijan\", \"Portugal\", \"Indonesia\", \"Bahamas\", \"Trinidad\", \"Latvia\", \"Ireland\", \"Uzbekistan\", \"Chile\", \"Georgia\", \"Thailand\", \"Colombia\", \"Egypt\", \"Mongolia\", \"Ghana\", \"Morocco\", \"Cameroon\", \"Zimbabwe\", \"Paraguay\", \"Algeria\", \"Iceland\", \"Armenia\", \"Malaysia\", \"Peru\", \"Venezuela\", \"Montenegro\", \"Fiji\", \"Tunisia\", \"Philippines\", \"Liechtenstein\", \"Israel\", \"Puerto Rico\", \"Moldova\", \"Luxembourg\", \"Dominican Republic\", \"Uganda\", \"Haiti\", \"Saudi Arabia\", \"Syria\", \"Individual Olympic Athletes\", \"Qatar\", \"Vietnam\", \"Costa Rica\", \"Namibia\", \"Vietnam\", \"Tajikistan\", \"Lebanon\", \"Kyrgyzstan\", \"Panama\", \"Ivory Coast\", \"Bahrain\", \"Kuwait\", \"Niger\", \"Burundi\", \"Tanzania\", \"Afghanistan\", \"United Arab Emirates\", \"Sri Lanka\", \"Grenada\", \"Zambia\", \"Mozambique\", \"Suriname\", \"Ecuador\", \"Djibouti\", \"Jordan\", \"Curacao\", \"Guyana\", \"Senegal\", \"Guatemala\", \"Macedonia\", \"Sudan\", \"Bermuda\", \"Barbados\", \"Tonga\", \"Mauritius\", \"Botswana\", \"Monaco\", \"Togo\", \"Kosovo\", \"Cyprus\", \"Gabon\", \"Eritrea\", \"Nepal\", \"Virgin Islands, US\", \"Iraq\", \"Bhutan\", \"Central African Republic\", \"Cayman Islands\", \"Equatorial Guinea\", \"Malta\", \"Cambodia\", \"Palau\", \"Papua New Guinea\", \"Brunei\", \"Burkina Faso\", \"Republic of Congo\", null, \"Boliva\", \"Rwanda\", \"Palestine\", \"Samoa\", \"Nauru\", \"Nicaragua\", \"Chad\", \"San Marino\", \"South Sudan\", \"Bangladesh\", \"Bosnia and Herzegovina\", \"Somalia\", \"Albania\", \"Solomon Islands\", \"Belize\", \"Democratic Republic of the Congo\", \"Sierra Leone\", \"Yemen\", \"Sao Tome and Principe\", \"Oman\", \"Mauritania\", \"Myanmar\", \"Mali\", \"Gambia\", \"Saint Vincent\", \"Maldives\", \"Seychelles\", \"Guinea-Bissau\", null, \"American Samoa\", \"Aruba\", \"Timor-Leste\", \"Turkmenistan\", \"Saint Kitts\", null, \"Antigua\", \"Angola\", \"Andorra\", \"Vanuatu\", \"Swaziland\", \"Benin\", \"Laos\", \"Malawi\", \"Micronesia\", \"Cook Islands\", \"Guinea\", \"Guam\", \"Honduras\", \"El Salvador\", \"Dominica\", \"Vietnam\", \"Kiribati\", \"Marshall Islands\", \"Cape Verde\", \"Libya\", \"Liberia\", \"Saint Lucia\", \"Lesotho\", \"Comoros\", \"Madagascar\", \"Virgin Islands, British\"], \"marker\": {\"line\": {\"color\": \"rgb(0,0,0)\", \"width\": 0.5}}, \"reversescale\": true, \"text\": [\"USA\", \"Russia\", \"Germany\", \"UK\", \"France\", \"Italy\", \"Sweden\", \"Canada\", \"Australia\", \"Hungary\", \"Netherlands\", \"Norway\", \"China\", \"Japan\", \"Finland\", \"Switzerland\", \"Romania\", \"Czech Republic\", \"South Korea\", \"Denmark\", \"Poland\", \"Serbia\", \"Spain\", \"Brazil\", \"Belgium\", \"Austria\", \"Cuba\", \"Bulgaria\", \"Argentina\", \"Greece\", \"New Zealand\", \"Ukraine\", \"India\", \"Jamaica\", \"Croatia\", \"Belarus\", \"South Africa\", \"Pakistan\", \"Mexico\", \"Kenya\", \"Nigeria\", \"Turkey\", \"Kazakhstan\", \"Iran\", \"North Korea\", \"Uruguay\", \"Lithuania\", \"Ethiopia\", \"Estonia\", \"Taiwan\", \"Slovenia\", \"Slovakia\", \"Azerbaijan\", \"Portugal\", \"Indonesia\", \"Bahamas\", \"Trinidad\", \"Latvia\", \"Ireland\", \"Uzbekistan\", \"Chile\", \"Georgia\", \"Thailand\", \"Colombia\", \"Egypt\", \"Mongolia\", \"Ghana\", \"Morocco\", \"Cameroon\", \"Zimbabwe\", \"Paraguay\", \"Algeria\", \"Iceland\", \"Armenia\", \"Malaysia\", \"Peru\", \"Venezuela\", \"Montenegro\", \"Fiji\", \"Tunisia\", \"Philippines\", \"Liechtenstein\", \"Israel\", \"Puerto Rico\", \"Moldova\", \"Luxembourg\", \"Dominican Republic\", \"Uganda\", \"Haiti\", \"Saudi Arabia\", \"Syria\", \"Individual Olympic Athletes\", \"Qatar\", \"Vietnam\", \"Costa Rica\", \"Namibia\", \"Vietnam\", \"Tajikistan\", \"Lebanon\", \"Kyrgyzstan\", \"Panama\", \"Ivory Coast\", \"Bahrain\", \"Kuwait\", \"Niger\", \"Burundi\", \"Tanzania\", \"Afghanistan\", \"United Arab Emirates\", \"Sri Lanka\", \"Grenada\", \"Zambia\", \"Mozambique\", \"Suriname\", \"Ecuador\", \"Djibouti\", \"Jordan\", \"Curacao\", \"Guyana\", \"Senegal\", \"Guatemala\", \"Macedonia\", \"Sudan\", \"Bermuda\", \"Barbados\", \"Tonga\", \"Mauritius\", \"Botswana\", \"Monaco\", \"Togo\", \"Kosovo\", \"Cyprus\", \"Gabon\", \"Eritrea\", \"Nepal\", \"Virgin Islands, US\", \"Iraq\", \"Bhutan\", \"Central African Republic\", \"Cayman Islands\", \"Equatorial Guinea\", \"Malta\", \"Cambodia\", \"Palau\", \"Papua New Guinea\", \"Brunei\", \"Burkina Faso\", \"Republic of Congo\", null, \"Boliva\", \"Rwanda\", \"Palestine\", \"Samoa\", \"Nauru\", \"Nicaragua\", \"Chad\", \"San Marino\", \"South Sudan\", \"Bangladesh\", \"Bosnia and Herzegovina\", \"Somalia\", \"Albania\", \"Solomon Islands\", \"Belize\", \"Democratic Republic of the Congo\", \"Sierra Leone\", \"Yemen\", \"Sao Tome and Principe\", \"Oman\", \"Mauritania\", \"Myanmar\", \"Mali\", \"Gambia\", \"Saint Vincent\", \"Maldives\", \"Seychelles\", \"Guinea-Bissau\", null, \"American Samoa\", \"Aruba\", \"Timor-Leste\", \"Turkmenistan\", \"Saint Kitts\", null, \"Antigua\", \"Angola\", \"Andorra\", \"Vanuatu\", \"Swaziland\", \"Benin\", \"Laos\", \"Malawi\", \"Micronesia\", \"Cook Islands\", \"Guinea\", \"Guam\", \"Honduras\", \"El Salvador\", \"Dominica\", \"Vietnam\", \"Kiribati\", \"Marshall Islands\", \"Cape Verde\", \"Libya\", \"Liberia\", \"Saint Lucia\", \"Lesotho\", \"Comoros\", \"Madagascar\", \"Virgin Islands, British\"], \"type\": \"choropleth\", \"z\": [5637.0, 3947.0, 3756.0, 2068.0, 1777.0, 1637.0, 1536.0, 1352.0, 1349.0, 1135.0, 1040.0, 1033.0, 993.0, 913.0, 900.0, 691.0, 653.0, 644.0, 638.0, 597.0, 565.0, 539.0, 489.0, 475.0, 468.0, 450.0, 409.0, 342.0, 274.0, 255.0, 228.0, 199.0, 197.0, 157.0, 149.0, 139.0, 131.0, 121.0, 110.0, 106.0, 99.0, 95.0, 77.0, 68.0, 67.0, 63.0, 61.0, 53.0, 50.0, 49.0, 48.0, 47.0, 44.0, 41.0, 41.0, 40.0, 37.0, 35.0, 35.0, 34.0, 32.0, 32.0, 30.0, 28.0, 27.0, 26.0, 23.0, 23.0, 22.0, 22.0, 17.0, 17.0, 17.0, 16.0, 16.0, 15.0, 15.0, 14.0, 13.0, 13.0, 10.0, 9.0, 9.0, 9.0, 8.0, 8.0, 7.0, 7.0, 7.0, 6.0, 5.0, 5.0, 5.0, 4.0, 4.0, 4.0, 4.0, 4.0, 4.0, 3.0, 3.0, 3.0, 3.0, 2.0, 2.0, 2.0, 2.0, 2.0, 2.0, 2.0, 2.0, 2.0, 2.0, 2.0, 2.0, 1.0, 1.0, 1.0, 1.0, 1.0, 1.0, 1.0, 1.0, 1.0, 1.0, 1.0, 1.0, 1.0, 1.0, 1.0, 1.0, 1.0, 1.0, 1.0, 1.0, 1.0, 1.0, 0.0, 0.0, 0.0, 0.0, 0.0, 0.0, 0.0, 0.0, 0.0, 0.0, 0.0, 0.0, 0.0, 0.0, 0.0, 0.0, 0.0, 0.0, 0.0, 0.0, 0.0, 0.0, 0.0, 0.0, 0.0, 0.0, 0.0, 0.0, 0.0, 0.0, 0.0, 0.0, 0.0, 0.0, 0.0, 0.0, 0.0, 0.0, 0.0, 0.0, 0.0, 0.0, 0.0, 0.0, 0.0, 0.0, 0.0, 0.0, 0.0, 0.0, 0.0, 0.0, 0.0, 0.0, 0.0, 0.0, 0.0, 0.0, 0.0, 0.0, 0.0, 0.0, 0.0, 0.0, 0.0, 0.0, 0.0, 0.0, 0.0, 0.0, 0.0, 0.0, 0.0]}],\n",
       "                        {\"geo\": {\"projection\": {\"type\": \"natural earth\"}, \"showcoastlines\": true, \"showframe\": true, \"showlakes\": false}, \"template\": {\"data\": {\"bar\": [{\"error_x\": {\"color\": \"#2a3f5f\"}, \"error_y\": {\"color\": \"#2a3f5f\"}, \"marker\": {\"line\": {\"color\": \"#E5ECF6\", \"width\": 0.5}}, \"type\": \"bar\"}], \"barpolar\": [{\"marker\": {\"line\": {\"color\": \"#E5ECF6\", \"width\": 0.5}}, \"type\": \"barpolar\"}], \"carpet\": [{\"aaxis\": {\"endlinecolor\": \"#2a3f5f\", \"gridcolor\": \"white\", \"linecolor\": \"white\", \"minorgridcolor\": \"white\", \"startlinecolor\": \"#2a3f5f\"}, \"baxis\": {\"endlinecolor\": \"#2a3f5f\", \"gridcolor\": \"white\", \"linecolor\": \"white\", \"minorgridcolor\": \"white\", \"startlinecolor\": \"#2a3f5f\"}, \"type\": \"carpet\"}], \"choropleth\": [{\"colorbar\": {\"outlinewidth\": 0, \"ticks\": \"\"}, \"type\": \"choropleth\"}], \"contour\": [{\"colorbar\": {\"outlinewidth\": 0, \"ticks\": \"\"}, \"colorscale\": [[0.0, \"#0d0887\"], [0.1111111111111111, \"#46039f\"], [0.2222222222222222, \"#7201a8\"], [0.3333333333333333, \"#9c179e\"], [0.4444444444444444, \"#bd3786\"], [0.5555555555555556, \"#d8576b\"], [0.6666666666666666, \"#ed7953\"], [0.7777777777777778, \"#fb9f3a\"], [0.8888888888888888, \"#fdca26\"], [1.0, \"#f0f921\"]], \"type\": \"contour\"}], \"contourcarpet\": [{\"colorbar\": {\"outlinewidth\": 0, \"ticks\": \"\"}, \"type\": \"contourcarpet\"}], \"heatmap\": [{\"colorbar\": {\"outlinewidth\": 0, \"ticks\": \"\"}, \"colorscale\": [[0.0, \"#0d0887\"], [0.1111111111111111, \"#46039f\"], [0.2222222222222222, \"#7201a8\"], [0.3333333333333333, \"#9c179e\"], [0.4444444444444444, \"#bd3786\"], [0.5555555555555556, \"#d8576b\"], [0.6666666666666666, \"#ed7953\"], [0.7777777777777778, \"#fb9f3a\"], [0.8888888888888888, \"#fdca26\"], [1.0, \"#f0f921\"]], \"type\": \"heatmap\"}], \"heatmapgl\": [{\"colorbar\": {\"outlinewidth\": 0, \"ticks\": \"\"}, \"colorscale\": [[0.0, \"#0d0887\"], [0.1111111111111111, \"#46039f\"], [0.2222222222222222, \"#7201a8\"], [0.3333333333333333, \"#9c179e\"], [0.4444444444444444, \"#bd3786\"], [0.5555555555555556, \"#d8576b\"], [0.6666666666666666, \"#ed7953\"], [0.7777777777777778, \"#fb9f3a\"], [0.8888888888888888, \"#fdca26\"], [1.0, \"#f0f921\"]], \"type\": \"heatmapgl\"}], \"histogram\": [{\"marker\": {\"colorbar\": {\"outlinewidth\": 0, \"ticks\": \"\"}}, \"type\": \"histogram\"}], \"histogram2d\": [{\"colorbar\": {\"outlinewidth\": 0, \"ticks\": \"\"}, \"colorscale\": [[0.0, \"#0d0887\"], [0.1111111111111111, \"#46039f\"], [0.2222222222222222, \"#7201a8\"], [0.3333333333333333, \"#9c179e\"], [0.4444444444444444, \"#bd3786\"], [0.5555555555555556, \"#d8576b\"], [0.6666666666666666, \"#ed7953\"], [0.7777777777777778, \"#fb9f3a\"], [0.8888888888888888, \"#fdca26\"], [1.0, \"#f0f921\"]], \"type\": \"histogram2d\"}], \"histogram2dcontour\": [{\"colorbar\": {\"outlinewidth\": 0, \"ticks\": \"\"}, \"colorscale\": [[0.0, \"#0d0887\"], [0.1111111111111111, \"#46039f\"], [0.2222222222222222, \"#7201a8\"], [0.3333333333333333, \"#9c179e\"], [0.4444444444444444, \"#bd3786\"], [0.5555555555555556, \"#d8576b\"], [0.6666666666666666, \"#ed7953\"], [0.7777777777777778, \"#fb9f3a\"], [0.8888888888888888, \"#fdca26\"], [1.0, \"#f0f921\"]], \"type\": \"histogram2dcontour\"}], \"mesh3d\": [{\"colorbar\": {\"outlinewidth\": 0, \"ticks\": \"\"}, \"type\": \"mesh3d\"}], \"parcoords\": [{\"line\": {\"colorbar\": {\"outlinewidth\": 0, \"ticks\": \"\"}}, \"type\": \"parcoords\"}], \"pie\": [{\"automargin\": true, \"type\": \"pie\"}], \"scatter\": [{\"marker\": {\"colorbar\": {\"outlinewidth\": 0, \"ticks\": \"\"}}, \"type\": \"scatter\"}], \"scatter3d\": [{\"line\": {\"colorbar\": {\"outlinewidth\": 0, \"ticks\": \"\"}}, \"marker\": {\"colorbar\": {\"outlinewidth\": 0, \"ticks\": \"\"}}, \"type\": \"scatter3d\"}], \"scattercarpet\": [{\"marker\": {\"colorbar\": {\"outlinewidth\": 0, \"ticks\": \"\"}}, \"type\": \"scattercarpet\"}], \"scattergeo\": [{\"marker\": {\"colorbar\": {\"outlinewidth\": 0, \"ticks\": \"\"}}, \"type\": \"scattergeo\"}], \"scattergl\": [{\"marker\": {\"colorbar\": {\"outlinewidth\": 0, \"ticks\": \"\"}}, \"type\": \"scattergl\"}], \"scattermapbox\": [{\"marker\": {\"colorbar\": {\"outlinewidth\": 0, \"ticks\": \"\"}}, \"type\": \"scattermapbox\"}], \"scatterpolar\": [{\"marker\": {\"colorbar\": {\"outlinewidth\": 0, \"ticks\": \"\"}}, \"type\": \"scatterpolar\"}], \"scatterpolargl\": [{\"marker\": {\"colorbar\": {\"outlinewidth\": 0, \"ticks\": \"\"}}, \"type\": \"scatterpolargl\"}], \"scatterternary\": [{\"marker\": {\"colorbar\": {\"outlinewidth\": 0, \"ticks\": \"\"}}, \"type\": \"scatterternary\"}], \"surface\": [{\"colorbar\": {\"outlinewidth\": 0, \"ticks\": \"\"}, \"colorscale\": [[0.0, \"#0d0887\"], [0.1111111111111111, \"#46039f\"], [0.2222222222222222, \"#7201a8\"], [0.3333333333333333, \"#9c179e\"], [0.4444444444444444, \"#bd3786\"], [0.5555555555555556, \"#d8576b\"], [0.6666666666666666, \"#ed7953\"], [0.7777777777777778, \"#fb9f3a\"], [0.8888888888888888, \"#fdca26\"], [1.0, \"#f0f921\"]], \"type\": \"surface\"}], \"table\": [{\"cells\": {\"fill\": {\"color\": \"#EBF0F8\"}, \"line\": {\"color\": \"white\"}}, \"header\": {\"fill\": {\"color\": \"#C8D4E3\"}, \"line\": {\"color\": \"white\"}}, \"type\": \"table\"}]}, \"layout\": {\"annotationdefaults\": {\"arrowcolor\": \"#2a3f5f\", \"arrowhead\": 0, \"arrowwidth\": 1}, \"coloraxis\": {\"colorbar\": {\"outlinewidth\": 0, \"ticks\": \"\"}}, \"colorscale\": {\"diverging\": [[0, \"#8e0152\"], [0.1, \"#c51b7d\"], [0.2, \"#de77ae\"], [0.3, \"#f1b6da\"], [0.4, \"#fde0ef\"], [0.5, \"#f7f7f7\"], [0.6, \"#e6f5d0\"], [0.7, \"#b8e186\"], [0.8, \"#7fbc41\"], [0.9, \"#4d9221\"], [1, \"#276419\"]], \"sequential\": [[0.0, \"#0d0887\"], [0.1111111111111111, \"#46039f\"], [0.2222222222222222, \"#7201a8\"], [0.3333333333333333, \"#9c179e\"], [0.4444444444444444, \"#bd3786\"], [0.5555555555555556, \"#d8576b\"], [0.6666666666666666, \"#ed7953\"], [0.7777777777777778, \"#fb9f3a\"], [0.8888888888888888, \"#fdca26\"], [1.0, \"#f0f921\"]], \"sequentialminus\": [[0.0, \"#0d0887\"], [0.1111111111111111, \"#46039f\"], [0.2222222222222222, \"#7201a8\"], [0.3333333333333333, \"#9c179e\"], [0.4444444444444444, \"#bd3786\"], [0.5555555555555556, \"#d8576b\"], [0.6666666666666666, \"#ed7953\"], [0.7777777777777778, \"#fb9f3a\"], [0.8888888888888888, \"#fdca26\"], [1.0, \"#f0f921\"]]}, \"colorway\": [\"#636efa\", \"#EF553B\", \"#00cc96\", \"#ab63fa\", \"#FFA15A\", \"#19d3f3\", \"#FF6692\", \"#B6E880\", \"#FF97FF\", \"#FECB52\"], \"font\": {\"color\": \"#2a3f5f\"}, \"geo\": {\"bgcolor\": \"white\", \"lakecolor\": \"white\", \"landcolor\": \"#E5ECF6\", \"showlakes\": true, \"showland\": true, \"subunitcolor\": \"white\"}, \"hoverlabel\": {\"align\": \"left\"}, \"hovermode\": \"closest\", \"mapbox\": {\"style\": \"light\"}, \"paper_bgcolor\": \"white\", \"plot_bgcolor\": \"#E5ECF6\", \"polar\": {\"angularaxis\": {\"gridcolor\": \"white\", \"linecolor\": \"white\", \"ticks\": \"\"}, \"bgcolor\": \"#E5ECF6\", \"radialaxis\": {\"gridcolor\": \"white\", \"linecolor\": \"white\", \"ticks\": \"\"}}, \"scene\": {\"xaxis\": {\"backgroundcolor\": \"#E5ECF6\", \"gridcolor\": \"white\", \"gridwidth\": 2, \"linecolor\": \"white\", \"showbackground\": true, \"ticks\": \"\", \"zerolinecolor\": \"white\"}, \"yaxis\": {\"backgroundcolor\": \"#E5ECF6\", \"gridcolor\": \"white\", \"gridwidth\": 2, \"linecolor\": \"white\", \"showbackground\": true, \"ticks\": \"\", \"zerolinecolor\": \"white\"}, \"zaxis\": {\"backgroundcolor\": \"#E5ECF6\", \"gridcolor\": \"white\", \"gridwidth\": 2, \"linecolor\": \"white\", \"showbackground\": true, \"ticks\": \"\", \"zerolinecolor\": \"white\"}}, \"shapedefaults\": {\"line\": {\"color\": \"#2a3f5f\"}}, \"ternary\": {\"aaxis\": {\"gridcolor\": \"white\", \"linecolor\": \"white\", \"ticks\": \"\"}, \"baxis\": {\"gridcolor\": \"white\", \"linecolor\": \"white\", \"ticks\": \"\"}, \"bgcolor\": \"#E5ECF6\", \"caxis\": {\"gridcolor\": \"white\", \"linecolor\": \"white\", \"ticks\": \"\"}}, \"title\": {\"x\": 0.05}, \"xaxis\": {\"automargin\": true, \"gridcolor\": \"white\", \"linecolor\": \"white\", \"ticks\": \"\", \"title\": {\"standoff\": 15}, \"zerolinecolor\": \"white\", \"zerolinewidth\": 2}, \"yaxis\": {\"automargin\": true, \"gridcolor\": \"white\", \"linecolor\": \"white\", \"ticks\": \"\", \"title\": {\"standoff\": 15}, \"zerolinecolor\": \"white\", \"zerolinewidth\": 2}}}, \"title\": {\"text\": \"Total Medals Won by Country Over All Olympic Competitions\"}},\n",
       "                        {\"responsive\": true}\n",
       "                    ).then(function(){\n",
       "                            \n",
       "var gd = document.getElementById('db2e9821-432b-4daa-a1a2-2e7fa02694a6');\n",
       "var x = new MutationObserver(function (mutations, observer) {{\n",
       "        var display = window.getComputedStyle(gd).display;\n",
       "        if (!display || display === 'none') {{\n",
       "            console.log([gd, 'removed!']);\n",
       "            Plotly.purge(gd);\n",
       "            observer.disconnect();\n",
       "        }}\n",
       "}});\n",
       "\n",
       "// Listen for the removal of the full notebook cells\n",
       "var notebookContainer = gd.closest('#notebook-container');\n",
       "if (notebookContainer) {{\n",
       "    x.observe(notebookContainer, {childList: true});\n",
       "}}\n",
       "\n",
       "// Listen for the clearing of the current output cell\n",
       "var outputEl = gd.closest('.output');\n",
       "if (outputEl) {{\n",
       "    x.observe(outputEl, {childList: true});\n",
       "}}\n",
       "\n",
       "                        })\n",
       "                };\n",
       "                });\n",
       "            </script>\n",
       "        </div>"
      ]
     },
     "metadata": {},
     "output_type": "display_data"
    }
   ],
   "source": [
    "trace = go.Choropleth(\n",
    "            locations = medals_per_country_map['region'],\n",
    "            locationmode='country names',\n",
    "            z = medals_per_country_map['Total Medals'],\n",
    "            text = medals_per_country_map['region'],\n",
    "            autocolorscale =False,\n",
    "            reversescale = True,\n",
    "            colorscale = 'rainbow',\n",
    "            marker = dict(\n",
    "                line = dict(\n",
    "                    color = 'rgb(0,0,0)',\n",
    "                    width = 0.5)\n",
    "            ),\n",
    "            colorbar = dict(\n",
    "                title = 'Total Medals',\n",
    "                tickprefix = '')\n",
    "        )\n",
    "\n",
    "data = [trace]\n",
    "layout = go.Layout(\n",
    "    title = 'Total Medals Won by Country Over All Olympic Competitions',\n",
    "    geo = dict(\n",
    "        showframe = True,\n",
    "        showlakes = False,\n",
    "        showcoastlines = True,\n",
    "        projection = dict(\n",
    "            type = 'natural earth'\n",
    "        )\n",
    "    )\n",
    ")\n",
    "\n",
    "fig = dict( data=data, layout=layout )\n",
    "iplot(fig)"
   ]
  },
  {
   "cell_type": "code",
   "execution_count": 136,
   "metadata": {},
   "outputs": [
    {
     "data": {
      "application/vnd.plotly.v1+json": {
       "config": {
        "linkText": "Export to plot.ly",
        "plotlyServerURL": "https://plot.ly",
        "showLink": false
       },
       "data": [
        {
         "autocolorscale": false,
         "colorbar": {
          "tickprefix": "",
          "title": {
           "text": "Total Medals"
          }
         },
         "colorscale": [
          [
           0,
           "rgb(255,255,229)"
          ],
          [
           0.125,
           "rgb(255,247,188)"
          ],
          [
           0.25,
           "rgb(254,227,145)"
          ],
          [
           0.375,
           "rgb(254,196,79)"
          ],
          [
           0.5,
           "rgb(254,153,41)"
          ],
          [
           0.625,
           "rgb(236,112,20)"
          ],
          [
           0.75,
           "rgb(204,76,2)"
          ],
          [
           0.875,
           "rgb(153,52,4)"
          ],
          [
           1,
           "rgb(102,37,6)"
          ]
         ],
         "locationmode": "country names",
         "locations": [
          "USA",
          "Russia",
          "Germany",
          "UK",
          "France",
          "Italy",
          "Sweden",
          "Canada",
          "Australia",
          "Hungary",
          "Netherlands",
          "Norway",
          "China",
          "Japan",
          "Finland",
          "Switzerland",
          "Romania",
          "Czech Republic",
          "South Korea",
          "Denmark",
          "Poland",
          "Serbia",
          "Spain",
          "Brazil",
          "Belgium",
          "Austria",
          "Cuba",
          "Bulgaria",
          "Argentina",
          "Greece",
          "New Zealand",
          "Ukraine",
          "India",
          "Jamaica",
          "Croatia",
          "Belarus",
          "South Africa",
          "Pakistan",
          "Mexico",
          "Kenya",
          "Nigeria",
          "Turkey",
          "Kazakhstan",
          "Iran",
          "North Korea",
          "Uruguay",
          "Lithuania",
          "Ethiopia",
          "Estonia",
          "Taiwan",
          "Slovenia",
          "Slovakia",
          "Azerbaijan",
          "Portugal",
          "Indonesia",
          "Bahamas",
          "Trinidad",
          "Latvia",
          "Ireland",
          "Uzbekistan",
          "Chile",
          "Georgia",
          "Thailand",
          "Colombia",
          "Egypt",
          "Mongolia",
          "Ghana",
          "Morocco",
          "Cameroon",
          "Zimbabwe",
          "Paraguay",
          "Algeria",
          "Iceland",
          "Armenia",
          "Malaysia",
          "Peru",
          "Venezuela",
          "Montenegro",
          "Fiji",
          "Tunisia",
          "Philippines",
          "Liechtenstein",
          "Israel",
          "Puerto Rico",
          "Moldova",
          "Luxembourg",
          "Dominican Republic",
          "Uganda",
          "Haiti",
          "Saudi Arabia",
          "Syria",
          "Individual Olympic Athletes",
          "Qatar",
          "Vietnam",
          "Costa Rica",
          "Namibia",
          "Vietnam",
          "Tajikistan",
          "Lebanon",
          "Kyrgyzstan",
          "Panama",
          "Ivory Coast",
          "Bahrain",
          "Kuwait",
          "Niger",
          "Burundi",
          "Tanzania",
          "Afghanistan",
          "United Arab Emirates",
          "Sri Lanka",
          "Grenada",
          "Zambia",
          "Mozambique",
          "Suriname",
          "Ecuador",
          "Djibouti",
          "Jordan",
          "Curacao",
          "Guyana",
          "Senegal",
          "Guatemala",
          "Macedonia",
          "Sudan",
          "Bermuda",
          "Barbados",
          "Tonga",
          "Mauritius",
          "Botswana",
          "Monaco",
          "Togo",
          "Kosovo",
          "Cyprus",
          "Gabon",
          "Eritrea",
          "Nepal",
          "Virgin Islands, US",
          "Iraq",
          "Bhutan",
          "Central African Republic",
          "Cayman Islands",
          "Equatorial Guinea",
          "Malta",
          "Cambodia",
          "Palau",
          "Papua New Guinea",
          "Brunei",
          "Burkina Faso",
          "Republic of Congo",
          null,
          "Boliva",
          "Rwanda",
          "Palestine",
          "Samoa",
          "Nauru",
          "Nicaragua",
          "Chad",
          "San Marino",
          "South Sudan",
          "Bangladesh",
          "Bosnia and Herzegovina",
          "Somalia",
          "Albania",
          "Solomon Islands",
          "Belize",
          "Democratic Republic of the Congo",
          "Sierra Leone",
          "Yemen",
          "Sao Tome and Principe",
          "Oman",
          "Mauritania",
          "Myanmar",
          "Mali",
          "Gambia",
          "Saint Vincent",
          "Maldives",
          "Seychelles",
          "Guinea-Bissau",
          null,
          "American Samoa",
          "Aruba",
          "Timor-Leste",
          "Turkmenistan",
          "Saint Kitts",
          null,
          "Antigua",
          "Angola",
          "Andorra",
          "Vanuatu",
          "Swaziland",
          "Benin",
          "Laos",
          "Malawi",
          "Micronesia",
          "Cook Islands",
          "Guinea",
          "Guam",
          "Honduras",
          "El Salvador",
          "Dominica",
          "Vietnam",
          "Kiribati",
          "Marshall Islands",
          "Cape Verde",
          "Libya",
          "Liberia",
          "Saint Lucia",
          "Lesotho",
          "Comoros",
          "Madagascar",
          "Virgin Islands, British"
         ],
         "marker": {
          "line": {
           "color": "rgb(0,0,0)",
           "width": 0.5
          }
         },
         "reversescale": false,
         "text": [
          "USA",
          "Russia",
          "Germany",
          "UK",
          "France",
          "Italy",
          "Sweden",
          "Canada",
          "Australia",
          "Hungary",
          "Netherlands",
          "Norway",
          "China",
          "Japan",
          "Finland",
          "Switzerland",
          "Romania",
          "Czech Republic",
          "South Korea",
          "Denmark",
          "Poland",
          "Serbia",
          "Spain",
          "Brazil",
          "Belgium",
          "Austria",
          "Cuba",
          "Bulgaria",
          "Argentina",
          "Greece",
          "New Zealand",
          "Ukraine",
          "India",
          "Jamaica",
          "Croatia",
          "Belarus",
          "South Africa",
          "Pakistan",
          "Mexico",
          "Kenya",
          "Nigeria",
          "Turkey",
          "Kazakhstan",
          "Iran",
          "North Korea",
          "Uruguay",
          "Lithuania",
          "Ethiopia",
          "Estonia",
          "Taiwan",
          "Slovenia",
          "Slovakia",
          "Azerbaijan",
          "Portugal",
          "Indonesia",
          "Bahamas",
          "Trinidad",
          "Latvia",
          "Ireland",
          "Uzbekistan",
          "Chile",
          "Georgia",
          "Thailand",
          "Colombia",
          "Egypt",
          "Mongolia",
          "Ghana",
          "Morocco",
          "Cameroon",
          "Zimbabwe",
          "Paraguay",
          "Algeria",
          "Iceland",
          "Armenia",
          "Malaysia",
          "Peru",
          "Venezuela",
          "Montenegro",
          "Fiji",
          "Tunisia",
          "Philippines",
          "Liechtenstein",
          "Israel",
          "Puerto Rico",
          "Moldova",
          "Luxembourg",
          "Dominican Republic",
          "Uganda",
          "Haiti",
          "Saudi Arabia",
          "Syria",
          "Individual Olympic Athletes",
          "Qatar",
          "Vietnam",
          "Costa Rica",
          "Namibia",
          "Vietnam",
          "Tajikistan",
          "Lebanon",
          "Kyrgyzstan",
          "Panama",
          "Ivory Coast",
          "Bahrain",
          "Kuwait",
          "Niger",
          "Burundi",
          "Tanzania",
          "Afghanistan",
          "United Arab Emirates",
          "Sri Lanka",
          "Grenada",
          "Zambia",
          "Mozambique",
          "Suriname",
          "Ecuador",
          "Djibouti",
          "Jordan",
          "Curacao",
          "Guyana",
          "Senegal",
          "Guatemala",
          "Macedonia",
          "Sudan",
          "Bermuda",
          "Barbados",
          "Tonga",
          "Mauritius",
          "Botswana",
          "Monaco",
          "Togo",
          "Kosovo",
          "Cyprus",
          "Gabon",
          "Eritrea",
          "Nepal",
          "Virgin Islands, US",
          "Iraq",
          "Bhutan",
          "Central African Republic",
          "Cayman Islands",
          "Equatorial Guinea",
          "Malta",
          "Cambodia",
          "Palau",
          "Papua New Guinea",
          "Brunei",
          "Burkina Faso",
          "Republic of Congo",
          null,
          "Boliva",
          "Rwanda",
          "Palestine",
          "Samoa",
          "Nauru",
          "Nicaragua",
          "Chad",
          "San Marino",
          "South Sudan",
          "Bangladesh",
          "Bosnia and Herzegovina",
          "Somalia",
          "Albania",
          "Solomon Islands",
          "Belize",
          "Democratic Republic of the Congo",
          "Sierra Leone",
          "Yemen",
          "Sao Tome and Principe",
          "Oman",
          "Mauritania",
          "Myanmar",
          "Mali",
          "Gambia",
          "Saint Vincent",
          "Maldives",
          "Seychelles",
          "Guinea-Bissau",
          null,
          "American Samoa",
          "Aruba",
          "Timor-Leste",
          "Turkmenistan",
          "Saint Kitts",
          null,
          "Antigua",
          "Angola",
          "Andorra",
          "Vanuatu",
          "Swaziland",
          "Benin",
          "Laos",
          "Malawi",
          "Micronesia",
          "Cook Islands",
          "Guinea",
          "Guam",
          "Honduras",
          "El Salvador",
          "Dominica",
          "Vietnam",
          "Kiribati",
          "Marshall Islands",
          "Cape Verde",
          "Libya",
          "Liberia",
          "Saint Lucia",
          "Lesotho",
          "Comoros",
          "Madagascar",
          "Virgin Islands, British"
         ],
         "type": "choropleth",
         "z": [
          2638,
          1599,
          1301,
          678,
          501,
          575,
          479,
          463,
          368,
          432,
          287,
          378,
          351,
          247,
          198,
          175,
          161,
          123,
          221,
          179,
          117,
          157,
          110,
          109,
          98,
          108,
          164,
          54,
          91,
          62,
          90,
          47,
          138,
          38,
          58,
          24,
          32,
          42,
          30,
          34,
          23,
          40,
          20,
          18,
          16,
          31,
          6,
          22,
          13,
          3,
          8,
          15,
          7,
          4,
          11,
          14,
          7,
          3,
          9,
          10,
          3,
          8,
          9,
          5,
          7,
          2,
          0,
          6,
          20,
          17,
          0,
          5,
          0,
          2,
          0,
          1,
          2,
          0,
          13,
          3,
          0,
          2,
          1,
          1,
          0,
          4,
          3,
          2,
          1,
          0,
          1,
          1,
          0,
          1,
          1,
          0,
          1,
          1,
          0,
          0,
          1,
          1,
          1,
          0,
          0,
          1,
          0,
          0,
          1,
          0,
          1,
          0,
          1,
          1,
          1,
          0,
          1,
          0,
          0,
          0,
          0,
          0,
          0,
          0,
          0,
          0,
          0,
          0,
          0,
          0,
          1,
          0,
          0,
          0,
          1,
          0,
          0,
          0,
          0,
          0,
          0,
          0,
          0,
          0,
          0,
          0,
          0,
          0,
          0,
          0,
          0,
          0,
          0,
          0,
          0,
          0,
          0,
          0,
          0,
          0,
          0,
          0,
          0,
          0,
          0,
          0,
          0,
          0,
          0,
          0,
          0,
          0,
          0,
          0,
          0,
          0,
          0,
          0,
          0,
          0,
          0,
          0,
          0,
          0,
          0,
          0,
          0,
          0,
          0,
          0,
          0,
          0,
          0,
          0,
          0,
          0,
          0,
          0,
          0,
          0,
          0,
          0,
          0,
          0,
          0,
          0,
          0,
          0,
          0,
          0
         ]
        }
       ],
       "layout": {
        "geo": {
         "projection": {
          "type": "natural earth"
         },
         "showcoastlines": true,
         "showframe": true,
         "showlakes": false
        },
        "template": {
         "data": {
          "bar": [
           {
            "error_x": {
             "color": "#2a3f5f"
            },
            "error_y": {
             "color": "#2a3f5f"
            },
            "marker": {
             "line": {
              "color": "#E5ECF6",
              "width": 0.5
             }
            },
            "type": "bar"
           }
          ],
          "barpolar": [
           {
            "marker": {
             "line": {
              "color": "#E5ECF6",
              "width": 0.5
             }
            },
            "type": "barpolar"
           }
          ],
          "carpet": [
           {
            "aaxis": {
             "endlinecolor": "#2a3f5f",
             "gridcolor": "white",
             "linecolor": "white",
             "minorgridcolor": "white",
             "startlinecolor": "#2a3f5f"
            },
            "baxis": {
             "endlinecolor": "#2a3f5f",
             "gridcolor": "white",
             "linecolor": "white",
             "minorgridcolor": "white",
             "startlinecolor": "#2a3f5f"
            },
            "type": "carpet"
           }
          ],
          "choropleth": [
           {
            "colorbar": {
             "outlinewidth": 0,
             "ticks": ""
            },
            "type": "choropleth"
           }
          ],
          "contour": [
           {
            "colorbar": {
             "outlinewidth": 0,
             "ticks": ""
            },
            "colorscale": [
             [
              0,
              "#0d0887"
             ],
             [
              0.1111111111111111,
              "#46039f"
             ],
             [
              0.2222222222222222,
              "#7201a8"
             ],
             [
              0.3333333333333333,
              "#9c179e"
             ],
             [
              0.4444444444444444,
              "#bd3786"
             ],
             [
              0.5555555555555556,
              "#d8576b"
             ],
             [
              0.6666666666666666,
              "#ed7953"
             ],
             [
              0.7777777777777778,
              "#fb9f3a"
             ],
             [
              0.8888888888888888,
              "#fdca26"
             ],
             [
              1,
              "#f0f921"
             ]
            ],
            "type": "contour"
           }
          ],
          "contourcarpet": [
           {
            "colorbar": {
             "outlinewidth": 0,
             "ticks": ""
            },
            "type": "contourcarpet"
           }
          ],
          "heatmap": [
           {
            "colorbar": {
             "outlinewidth": 0,
             "ticks": ""
            },
            "colorscale": [
             [
              0,
              "#0d0887"
             ],
             [
              0.1111111111111111,
              "#46039f"
             ],
             [
              0.2222222222222222,
              "#7201a8"
             ],
             [
              0.3333333333333333,
              "#9c179e"
             ],
             [
              0.4444444444444444,
              "#bd3786"
             ],
             [
              0.5555555555555556,
              "#d8576b"
             ],
             [
              0.6666666666666666,
              "#ed7953"
             ],
             [
              0.7777777777777778,
              "#fb9f3a"
             ],
             [
              0.8888888888888888,
              "#fdca26"
             ],
             [
              1,
              "#f0f921"
             ]
            ],
            "type": "heatmap"
           }
          ],
          "heatmapgl": [
           {
            "colorbar": {
             "outlinewidth": 0,
             "ticks": ""
            },
            "colorscale": [
             [
              0,
              "#0d0887"
             ],
             [
              0.1111111111111111,
              "#46039f"
             ],
             [
              0.2222222222222222,
              "#7201a8"
             ],
             [
              0.3333333333333333,
              "#9c179e"
             ],
             [
              0.4444444444444444,
              "#bd3786"
             ],
             [
              0.5555555555555556,
              "#d8576b"
             ],
             [
              0.6666666666666666,
              "#ed7953"
             ],
             [
              0.7777777777777778,
              "#fb9f3a"
             ],
             [
              0.8888888888888888,
              "#fdca26"
             ],
             [
              1,
              "#f0f921"
             ]
            ],
            "type": "heatmapgl"
           }
          ],
          "histogram": [
           {
            "marker": {
             "colorbar": {
              "outlinewidth": 0,
              "ticks": ""
             }
            },
            "type": "histogram"
           }
          ],
          "histogram2d": [
           {
            "colorbar": {
             "outlinewidth": 0,
             "ticks": ""
            },
            "colorscale": [
             [
              0,
              "#0d0887"
             ],
             [
              0.1111111111111111,
              "#46039f"
             ],
             [
              0.2222222222222222,
              "#7201a8"
             ],
             [
              0.3333333333333333,
              "#9c179e"
             ],
             [
              0.4444444444444444,
              "#bd3786"
             ],
             [
              0.5555555555555556,
              "#d8576b"
             ],
             [
              0.6666666666666666,
              "#ed7953"
             ],
             [
              0.7777777777777778,
              "#fb9f3a"
             ],
             [
              0.8888888888888888,
              "#fdca26"
             ],
             [
              1,
              "#f0f921"
             ]
            ],
            "type": "histogram2d"
           }
          ],
          "histogram2dcontour": [
           {
            "colorbar": {
             "outlinewidth": 0,
             "ticks": ""
            },
            "colorscale": [
             [
              0,
              "#0d0887"
             ],
             [
              0.1111111111111111,
              "#46039f"
             ],
             [
              0.2222222222222222,
              "#7201a8"
             ],
             [
              0.3333333333333333,
              "#9c179e"
             ],
             [
              0.4444444444444444,
              "#bd3786"
             ],
             [
              0.5555555555555556,
              "#d8576b"
             ],
             [
              0.6666666666666666,
              "#ed7953"
             ],
             [
              0.7777777777777778,
              "#fb9f3a"
             ],
             [
              0.8888888888888888,
              "#fdca26"
             ],
             [
              1,
              "#f0f921"
             ]
            ],
            "type": "histogram2dcontour"
           }
          ],
          "mesh3d": [
           {
            "colorbar": {
             "outlinewidth": 0,
             "ticks": ""
            },
            "type": "mesh3d"
           }
          ],
          "parcoords": [
           {
            "line": {
             "colorbar": {
              "outlinewidth": 0,
              "ticks": ""
             }
            },
            "type": "parcoords"
           }
          ],
          "pie": [
           {
            "automargin": true,
            "type": "pie"
           }
          ],
          "scatter": [
           {
            "marker": {
             "colorbar": {
              "outlinewidth": 0,
              "ticks": ""
             }
            },
            "type": "scatter"
           }
          ],
          "scatter3d": [
           {
            "line": {
             "colorbar": {
              "outlinewidth": 0,
              "ticks": ""
             }
            },
            "marker": {
             "colorbar": {
              "outlinewidth": 0,
              "ticks": ""
             }
            },
            "type": "scatter3d"
           }
          ],
          "scattercarpet": [
           {
            "marker": {
             "colorbar": {
              "outlinewidth": 0,
              "ticks": ""
             }
            },
            "type": "scattercarpet"
           }
          ],
          "scattergeo": [
           {
            "marker": {
             "colorbar": {
              "outlinewidth": 0,
              "ticks": ""
             }
            },
            "type": "scattergeo"
           }
          ],
          "scattergl": [
           {
            "marker": {
             "colorbar": {
              "outlinewidth": 0,
              "ticks": ""
             }
            },
            "type": "scattergl"
           }
          ],
          "scattermapbox": [
           {
            "marker": {
             "colorbar": {
              "outlinewidth": 0,
              "ticks": ""
             }
            },
            "type": "scattermapbox"
           }
          ],
          "scatterpolar": [
           {
            "marker": {
             "colorbar": {
              "outlinewidth": 0,
              "ticks": ""
             }
            },
            "type": "scatterpolar"
           }
          ],
          "scatterpolargl": [
           {
            "marker": {
             "colorbar": {
              "outlinewidth": 0,
              "ticks": ""
             }
            },
            "type": "scatterpolargl"
           }
          ],
          "scatterternary": [
           {
            "marker": {
             "colorbar": {
              "outlinewidth": 0,
              "ticks": ""
             }
            },
            "type": "scatterternary"
           }
          ],
          "surface": [
           {
            "colorbar": {
             "outlinewidth": 0,
             "ticks": ""
            },
            "colorscale": [
             [
              0,
              "#0d0887"
             ],
             [
              0.1111111111111111,
              "#46039f"
             ],
             [
              0.2222222222222222,
              "#7201a8"
             ],
             [
              0.3333333333333333,
              "#9c179e"
             ],
             [
              0.4444444444444444,
              "#bd3786"
             ],
             [
              0.5555555555555556,
              "#d8576b"
             ],
             [
              0.6666666666666666,
              "#ed7953"
             ],
             [
              0.7777777777777778,
              "#fb9f3a"
             ],
             [
              0.8888888888888888,
              "#fdca26"
             ],
             [
              1,
              "#f0f921"
             ]
            ],
            "type": "surface"
           }
          ],
          "table": [
           {
            "cells": {
             "fill": {
              "color": "#EBF0F8"
             },
             "line": {
              "color": "white"
             }
            },
            "header": {
             "fill": {
              "color": "#C8D4E3"
             },
             "line": {
              "color": "white"
             }
            },
            "type": "table"
           }
          ]
         },
         "layout": {
          "annotationdefaults": {
           "arrowcolor": "#2a3f5f",
           "arrowhead": 0,
           "arrowwidth": 1
          },
          "coloraxis": {
           "colorbar": {
            "outlinewidth": 0,
            "ticks": ""
           }
          },
          "colorscale": {
           "diverging": [
            [
             0,
             "#8e0152"
            ],
            [
             0.1,
             "#c51b7d"
            ],
            [
             0.2,
             "#de77ae"
            ],
            [
             0.3,
             "#f1b6da"
            ],
            [
             0.4,
             "#fde0ef"
            ],
            [
             0.5,
             "#f7f7f7"
            ],
            [
             0.6,
             "#e6f5d0"
            ],
            [
             0.7,
             "#b8e186"
            ],
            [
             0.8,
             "#7fbc41"
            ],
            [
             0.9,
             "#4d9221"
            ],
            [
             1,
             "#276419"
            ]
           ],
           "sequential": [
            [
             0,
             "#0d0887"
            ],
            [
             0.1111111111111111,
             "#46039f"
            ],
            [
             0.2222222222222222,
             "#7201a8"
            ],
            [
             0.3333333333333333,
             "#9c179e"
            ],
            [
             0.4444444444444444,
             "#bd3786"
            ],
            [
             0.5555555555555556,
             "#d8576b"
            ],
            [
             0.6666666666666666,
             "#ed7953"
            ],
            [
             0.7777777777777778,
             "#fb9f3a"
            ],
            [
             0.8888888888888888,
             "#fdca26"
            ],
            [
             1,
             "#f0f921"
            ]
           ],
           "sequentialminus": [
            [
             0,
             "#0d0887"
            ],
            [
             0.1111111111111111,
             "#46039f"
            ],
            [
             0.2222222222222222,
             "#7201a8"
            ],
            [
             0.3333333333333333,
             "#9c179e"
            ],
            [
             0.4444444444444444,
             "#bd3786"
            ],
            [
             0.5555555555555556,
             "#d8576b"
            ],
            [
             0.6666666666666666,
             "#ed7953"
            ],
            [
             0.7777777777777778,
             "#fb9f3a"
            ],
            [
             0.8888888888888888,
             "#fdca26"
            ],
            [
             1,
             "#f0f921"
            ]
           ]
          },
          "colorway": [
           "#636efa",
           "#EF553B",
           "#00cc96",
           "#ab63fa",
           "#FFA15A",
           "#19d3f3",
           "#FF6692",
           "#B6E880",
           "#FF97FF",
           "#FECB52"
          ],
          "font": {
           "color": "#2a3f5f"
          },
          "geo": {
           "bgcolor": "white",
           "lakecolor": "white",
           "landcolor": "#E5ECF6",
           "showlakes": true,
           "showland": true,
           "subunitcolor": "white"
          },
          "hoverlabel": {
           "align": "left"
          },
          "hovermode": "closest",
          "mapbox": {
           "style": "light"
          },
          "paper_bgcolor": "white",
          "plot_bgcolor": "#E5ECF6",
          "polar": {
           "angularaxis": {
            "gridcolor": "white",
            "linecolor": "white",
            "ticks": ""
           },
           "bgcolor": "#E5ECF6",
           "radialaxis": {
            "gridcolor": "white",
            "linecolor": "white",
            "ticks": ""
           }
          },
          "scene": {
           "xaxis": {
            "backgroundcolor": "#E5ECF6",
            "gridcolor": "white",
            "gridwidth": 2,
            "linecolor": "white",
            "showbackground": true,
            "ticks": "",
            "zerolinecolor": "white"
           },
           "yaxis": {
            "backgroundcolor": "#E5ECF6",
            "gridcolor": "white",
            "gridwidth": 2,
            "linecolor": "white",
            "showbackground": true,
            "ticks": "",
            "zerolinecolor": "white"
           },
           "zaxis": {
            "backgroundcolor": "#E5ECF6",
            "gridcolor": "white",
            "gridwidth": 2,
            "linecolor": "white",
            "showbackground": true,
            "ticks": "",
            "zerolinecolor": "white"
           }
          },
          "shapedefaults": {
           "line": {
            "color": "#2a3f5f"
           }
          },
          "ternary": {
           "aaxis": {
            "gridcolor": "white",
            "linecolor": "white",
            "ticks": ""
           },
           "baxis": {
            "gridcolor": "white",
            "linecolor": "white",
            "ticks": ""
           },
           "bgcolor": "#E5ECF6",
           "caxis": {
            "gridcolor": "white",
            "linecolor": "white",
            "ticks": ""
           }
          },
          "title": {
           "x": 0.05
          },
          "xaxis": {
           "automargin": true,
           "gridcolor": "white",
           "linecolor": "white",
           "ticks": "",
           "title": {
            "standoff": 15
           },
           "zerolinecolor": "white",
           "zerolinewidth": 2
          },
          "yaxis": {
           "automargin": true,
           "gridcolor": "white",
           "linecolor": "white",
           "ticks": "",
           "title": {
            "standoff": 15
           },
           "zerolinecolor": "white",
           "zerolinewidth": 2
          }
         }
        },
        "title": {
         "text": "Total Gold Medals Won by Country Over All Olympic Competitions"
        }
       }
      },
      "text/html": [
       "<div>\n",
       "        \n",
       "        \n",
       "            <div id=\"13700cbb-851a-41c5-8ad5-76bbf3973994\" class=\"plotly-graph-div\" style=\"height:525px; width:100%;\"></div>\n",
       "            <script type=\"text/javascript\">\n",
       "                require([\"plotly\"], function(Plotly) {\n",
       "                    window.PLOTLYENV=window.PLOTLYENV || {};\n",
       "                    \n",
       "                if (document.getElementById(\"13700cbb-851a-41c5-8ad5-76bbf3973994\")) {\n",
       "                    Plotly.newPlot(\n",
       "                        '13700cbb-851a-41c5-8ad5-76bbf3973994',\n",
       "                        [{\"autocolorscale\": false, \"colorbar\": {\"tickprefix\": \"\", \"title\": {\"text\": \"Total Medals\"}}, \"colorscale\": [[0.0, \"rgb(255,255,229)\"], [0.125, \"rgb(255,247,188)\"], [0.25, \"rgb(254,227,145)\"], [0.375, \"rgb(254,196,79)\"], [0.5, \"rgb(254,153,41)\"], [0.625, \"rgb(236,112,20)\"], [0.75, \"rgb(204,76,2)\"], [0.875, \"rgb(153,52,4)\"], [1.0, \"rgb(102,37,6)\"]], \"locationmode\": \"country names\", \"locations\": [\"USA\", \"Russia\", \"Germany\", \"UK\", \"France\", \"Italy\", \"Sweden\", \"Canada\", \"Australia\", \"Hungary\", \"Netherlands\", \"Norway\", \"China\", \"Japan\", \"Finland\", \"Switzerland\", \"Romania\", \"Czech Republic\", \"South Korea\", \"Denmark\", \"Poland\", \"Serbia\", \"Spain\", \"Brazil\", \"Belgium\", \"Austria\", \"Cuba\", \"Bulgaria\", \"Argentina\", \"Greece\", \"New Zealand\", \"Ukraine\", \"India\", \"Jamaica\", \"Croatia\", \"Belarus\", \"South Africa\", \"Pakistan\", \"Mexico\", \"Kenya\", \"Nigeria\", \"Turkey\", \"Kazakhstan\", \"Iran\", \"North Korea\", \"Uruguay\", \"Lithuania\", \"Ethiopia\", \"Estonia\", \"Taiwan\", \"Slovenia\", \"Slovakia\", \"Azerbaijan\", \"Portugal\", \"Indonesia\", \"Bahamas\", \"Trinidad\", \"Latvia\", \"Ireland\", \"Uzbekistan\", \"Chile\", \"Georgia\", \"Thailand\", \"Colombia\", \"Egypt\", \"Mongolia\", \"Ghana\", \"Morocco\", \"Cameroon\", \"Zimbabwe\", \"Paraguay\", \"Algeria\", \"Iceland\", \"Armenia\", \"Malaysia\", \"Peru\", \"Venezuela\", \"Montenegro\", \"Fiji\", \"Tunisia\", \"Philippines\", \"Liechtenstein\", \"Israel\", \"Puerto Rico\", \"Moldova\", \"Luxembourg\", \"Dominican Republic\", \"Uganda\", \"Haiti\", \"Saudi Arabia\", \"Syria\", \"Individual Olympic Athletes\", \"Qatar\", \"Vietnam\", \"Costa Rica\", \"Namibia\", \"Vietnam\", \"Tajikistan\", \"Lebanon\", \"Kyrgyzstan\", \"Panama\", \"Ivory Coast\", \"Bahrain\", \"Kuwait\", \"Niger\", \"Burundi\", \"Tanzania\", \"Afghanistan\", \"United Arab Emirates\", \"Sri Lanka\", \"Grenada\", \"Zambia\", \"Mozambique\", \"Suriname\", \"Ecuador\", \"Djibouti\", \"Jordan\", \"Curacao\", \"Guyana\", \"Senegal\", \"Guatemala\", \"Macedonia\", \"Sudan\", \"Bermuda\", \"Barbados\", \"Tonga\", \"Mauritius\", \"Botswana\", \"Monaco\", \"Togo\", \"Kosovo\", \"Cyprus\", \"Gabon\", \"Eritrea\", \"Nepal\", \"Virgin Islands, US\", \"Iraq\", \"Bhutan\", \"Central African Republic\", \"Cayman Islands\", \"Equatorial Guinea\", \"Malta\", \"Cambodia\", \"Palau\", \"Papua New Guinea\", \"Brunei\", \"Burkina Faso\", \"Republic of Congo\", null, \"Boliva\", \"Rwanda\", \"Palestine\", \"Samoa\", \"Nauru\", \"Nicaragua\", \"Chad\", \"San Marino\", \"South Sudan\", \"Bangladesh\", \"Bosnia and Herzegovina\", \"Somalia\", \"Albania\", \"Solomon Islands\", \"Belize\", \"Democratic Republic of the Congo\", \"Sierra Leone\", \"Yemen\", \"Sao Tome and Principe\", \"Oman\", \"Mauritania\", \"Myanmar\", \"Mali\", \"Gambia\", \"Saint Vincent\", \"Maldives\", \"Seychelles\", \"Guinea-Bissau\", null, \"American Samoa\", \"Aruba\", \"Timor-Leste\", \"Turkmenistan\", \"Saint Kitts\", null, \"Antigua\", \"Angola\", \"Andorra\", \"Vanuatu\", \"Swaziland\", \"Benin\", \"Laos\", \"Malawi\", \"Micronesia\", \"Cook Islands\", \"Guinea\", \"Guam\", \"Honduras\", \"El Salvador\", \"Dominica\", \"Vietnam\", \"Kiribati\", \"Marshall Islands\", \"Cape Verde\", \"Libya\", \"Liberia\", \"Saint Lucia\", \"Lesotho\", \"Comoros\", \"Madagascar\", \"Virgin Islands, British\"], \"marker\": {\"line\": {\"color\": \"rgb(0,0,0)\", \"width\": 0.5}}, \"reversescale\": false, \"text\": [\"USA\", \"Russia\", \"Germany\", \"UK\", \"France\", \"Italy\", \"Sweden\", \"Canada\", \"Australia\", \"Hungary\", \"Netherlands\", \"Norway\", \"China\", \"Japan\", \"Finland\", \"Switzerland\", \"Romania\", \"Czech Republic\", \"South Korea\", \"Denmark\", \"Poland\", \"Serbia\", \"Spain\", \"Brazil\", \"Belgium\", \"Austria\", \"Cuba\", \"Bulgaria\", \"Argentina\", \"Greece\", \"New Zealand\", \"Ukraine\", \"India\", \"Jamaica\", \"Croatia\", \"Belarus\", \"South Africa\", \"Pakistan\", \"Mexico\", \"Kenya\", \"Nigeria\", \"Turkey\", \"Kazakhstan\", \"Iran\", \"North Korea\", \"Uruguay\", \"Lithuania\", \"Ethiopia\", \"Estonia\", \"Taiwan\", \"Slovenia\", \"Slovakia\", \"Azerbaijan\", \"Portugal\", \"Indonesia\", \"Bahamas\", \"Trinidad\", \"Latvia\", \"Ireland\", \"Uzbekistan\", \"Chile\", \"Georgia\", \"Thailand\", \"Colombia\", \"Egypt\", \"Mongolia\", \"Ghana\", \"Morocco\", \"Cameroon\", \"Zimbabwe\", \"Paraguay\", \"Algeria\", \"Iceland\", \"Armenia\", \"Malaysia\", \"Peru\", \"Venezuela\", \"Montenegro\", \"Fiji\", \"Tunisia\", \"Philippines\", \"Liechtenstein\", \"Israel\", \"Puerto Rico\", \"Moldova\", \"Luxembourg\", \"Dominican Republic\", \"Uganda\", \"Haiti\", \"Saudi Arabia\", \"Syria\", \"Individual Olympic Athletes\", \"Qatar\", \"Vietnam\", \"Costa Rica\", \"Namibia\", \"Vietnam\", \"Tajikistan\", \"Lebanon\", \"Kyrgyzstan\", \"Panama\", \"Ivory Coast\", \"Bahrain\", \"Kuwait\", \"Niger\", \"Burundi\", \"Tanzania\", \"Afghanistan\", \"United Arab Emirates\", \"Sri Lanka\", \"Grenada\", \"Zambia\", \"Mozambique\", \"Suriname\", \"Ecuador\", \"Djibouti\", \"Jordan\", \"Curacao\", \"Guyana\", \"Senegal\", \"Guatemala\", \"Macedonia\", \"Sudan\", \"Bermuda\", \"Barbados\", \"Tonga\", \"Mauritius\", \"Botswana\", \"Monaco\", \"Togo\", \"Kosovo\", \"Cyprus\", \"Gabon\", \"Eritrea\", \"Nepal\", \"Virgin Islands, US\", \"Iraq\", \"Bhutan\", \"Central African Republic\", \"Cayman Islands\", \"Equatorial Guinea\", \"Malta\", \"Cambodia\", \"Palau\", \"Papua New Guinea\", \"Brunei\", \"Burkina Faso\", \"Republic of Congo\", null, \"Boliva\", \"Rwanda\", \"Palestine\", \"Samoa\", \"Nauru\", \"Nicaragua\", \"Chad\", \"San Marino\", \"South Sudan\", \"Bangladesh\", \"Bosnia and Herzegovina\", \"Somalia\", \"Albania\", \"Solomon Islands\", \"Belize\", \"Democratic Republic of the Congo\", \"Sierra Leone\", \"Yemen\", \"Sao Tome and Principe\", \"Oman\", \"Mauritania\", \"Myanmar\", \"Mali\", \"Gambia\", \"Saint Vincent\", \"Maldives\", \"Seychelles\", \"Guinea-Bissau\", null, \"American Samoa\", \"Aruba\", \"Timor-Leste\", \"Turkmenistan\", \"Saint Kitts\", null, \"Antigua\", \"Angola\", \"Andorra\", \"Vanuatu\", \"Swaziland\", \"Benin\", \"Laos\", \"Malawi\", \"Micronesia\", \"Cook Islands\", \"Guinea\", \"Guam\", \"Honduras\", \"El Salvador\", \"Dominica\", \"Vietnam\", \"Kiribati\", \"Marshall Islands\", \"Cape Verde\", \"Libya\", \"Liberia\", \"Saint Lucia\", \"Lesotho\", \"Comoros\", \"Madagascar\", \"Virgin Islands, British\"], \"type\": \"choropleth\", \"z\": [2638.0, 1599.0, 1301.0, 678.0, 501.0, 575.0, 479.0, 463.0, 368.0, 432.0, 287.0, 378.0, 351.0, 247.0, 198.0, 175.0, 161.0, 123.0, 221.0, 179.0, 117.0, 157.0, 110.0, 109.0, 98.0, 108.0, 164.0, 54.0, 91.0, 62.0, 90.0, 47.0, 138.0, 38.0, 58.0, 24.0, 32.0, 42.0, 30.0, 34.0, 23.0, 40.0, 20.0, 18.0, 16.0, 31.0, 6.0, 22.0, 13.0, 3.0, 8.0, 15.0, 7.0, 4.0, 11.0, 14.0, 7.0, 3.0, 9.0, 10.0, 3.0, 8.0, 9.0, 5.0, 7.0, 2.0, 0.0, 6.0, 20.0, 17.0, 0.0, 5.0, 0.0, 2.0, 0.0, 1.0, 2.0, 0.0, 13.0, 3.0, 0.0, 2.0, 1.0, 1.0, 0.0, 4.0, 3.0, 2.0, 1.0, 0.0, 1.0, 1.0, 0.0, 1.0, 1.0, 0.0, 1.0, 1.0, 0.0, 0.0, 1.0, 1.0, 1.0, 0.0, 0.0, 1.0, 0.0, 0.0, 1.0, 0.0, 1.0, 0.0, 1.0, 1.0, 1.0, 0.0, 1.0, 0.0, 0.0, 0.0, 0.0, 0.0, 0.0, 0.0, 0.0, 0.0, 0.0, 0.0, 0.0, 0.0, 1.0, 0.0, 0.0, 0.0, 1.0, 0.0, 0.0, 0.0, 0.0, 0.0, 0.0, 0.0, 0.0, 0.0, 0.0, 0.0, 0.0, 0.0, 0.0, 0.0, 0.0, 0.0, 0.0, 0.0, 0.0, 0.0, 0.0, 0.0, 0.0, 0.0, 0.0, 0.0, 0.0, 0.0, 0.0, 0.0, 0.0, 0.0, 0.0, 0.0, 0.0, 0.0, 0.0, 0.0, 0.0, 0.0, 0.0, 0.0, 0.0, 0.0, 0.0, 0.0, 0.0, 0.0, 0.0, 0.0, 0.0, 0.0, 0.0, 0.0, 0.0, 0.0, 0.0, 0.0, 0.0, 0.0, 0.0, 0.0, 0.0, 0.0, 0.0, 0.0, 0.0, 0.0, 0.0, 0.0, 0.0, 0.0, 0.0, 0.0]}],\n",
       "                        {\"geo\": {\"projection\": {\"type\": \"natural earth\"}, \"showcoastlines\": true, \"showframe\": true, \"showlakes\": false}, \"template\": {\"data\": {\"bar\": [{\"error_x\": {\"color\": \"#2a3f5f\"}, \"error_y\": {\"color\": \"#2a3f5f\"}, \"marker\": {\"line\": {\"color\": \"#E5ECF6\", \"width\": 0.5}}, \"type\": \"bar\"}], \"barpolar\": [{\"marker\": {\"line\": {\"color\": \"#E5ECF6\", \"width\": 0.5}}, \"type\": \"barpolar\"}], \"carpet\": [{\"aaxis\": {\"endlinecolor\": \"#2a3f5f\", \"gridcolor\": \"white\", \"linecolor\": \"white\", \"minorgridcolor\": \"white\", \"startlinecolor\": \"#2a3f5f\"}, \"baxis\": {\"endlinecolor\": \"#2a3f5f\", \"gridcolor\": \"white\", \"linecolor\": \"white\", \"minorgridcolor\": \"white\", \"startlinecolor\": \"#2a3f5f\"}, \"type\": \"carpet\"}], \"choropleth\": [{\"colorbar\": {\"outlinewidth\": 0, \"ticks\": \"\"}, \"type\": \"choropleth\"}], \"contour\": [{\"colorbar\": {\"outlinewidth\": 0, \"ticks\": \"\"}, \"colorscale\": [[0.0, \"#0d0887\"], [0.1111111111111111, \"#46039f\"], [0.2222222222222222, \"#7201a8\"], [0.3333333333333333, \"#9c179e\"], [0.4444444444444444, \"#bd3786\"], [0.5555555555555556, \"#d8576b\"], [0.6666666666666666, \"#ed7953\"], [0.7777777777777778, \"#fb9f3a\"], [0.8888888888888888, \"#fdca26\"], [1.0, \"#f0f921\"]], \"type\": \"contour\"}], \"contourcarpet\": [{\"colorbar\": {\"outlinewidth\": 0, \"ticks\": \"\"}, \"type\": \"contourcarpet\"}], \"heatmap\": [{\"colorbar\": {\"outlinewidth\": 0, \"ticks\": \"\"}, \"colorscale\": [[0.0, \"#0d0887\"], [0.1111111111111111, \"#46039f\"], [0.2222222222222222, \"#7201a8\"], [0.3333333333333333, \"#9c179e\"], [0.4444444444444444, \"#bd3786\"], [0.5555555555555556, \"#d8576b\"], [0.6666666666666666, \"#ed7953\"], [0.7777777777777778, \"#fb9f3a\"], [0.8888888888888888, \"#fdca26\"], [1.0, \"#f0f921\"]], \"type\": \"heatmap\"}], \"heatmapgl\": [{\"colorbar\": {\"outlinewidth\": 0, \"ticks\": \"\"}, \"colorscale\": [[0.0, \"#0d0887\"], [0.1111111111111111, \"#46039f\"], [0.2222222222222222, \"#7201a8\"], [0.3333333333333333, \"#9c179e\"], [0.4444444444444444, \"#bd3786\"], [0.5555555555555556, \"#d8576b\"], [0.6666666666666666, \"#ed7953\"], [0.7777777777777778, \"#fb9f3a\"], [0.8888888888888888, \"#fdca26\"], [1.0, \"#f0f921\"]], \"type\": \"heatmapgl\"}], \"histogram\": [{\"marker\": {\"colorbar\": {\"outlinewidth\": 0, \"ticks\": \"\"}}, \"type\": \"histogram\"}], \"histogram2d\": [{\"colorbar\": {\"outlinewidth\": 0, \"ticks\": \"\"}, \"colorscale\": [[0.0, \"#0d0887\"], [0.1111111111111111, \"#46039f\"], [0.2222222222222222, \"#7201a8\"], [0.3333333333333333, \"#9c179e\"], [0.4444444444444444, \"#bd3786\"], [0.5555555555555556, \"#d8576b\"], [0.6666666666666666, \"#ed7953\"], [0.7777777777777778, \"#fb9f3a\"], [0.8888888888888888, \"#fdca26\"], [1.0, \"#f0f921\"]], \"type\": \"histogram2d\"}], \"histogram2dcontour\": [{\"colorbar\": {\"outlinewidth\": 0, \"ticks\": \"\"}, \"colorscale\": [[0.0, \"#0d0887\"], [0.1111111111111111, \"#46039f\"], [0.2222222222222222, \"#7201a8\"], [0.3333333333333333, \"#9c179e\"], [0.4444444444444444, \"#bd3786\"], [0.5555555555555556, \"#d8576b\"], [0.6666666666666666, \"#ed7953\"], [0.7777777777777778, \"#fb9f3a\"], [0.8888888888888888, \"#fdca26\"], [1.0, \"#f0f921\"]], \"type\": \"histogram2dcontour\"}], \"mesh3d\": [{\"colorbar\": {\"outlinewidth\": 0, \"ticks\": \"\"}, \"type\": \"mesh3d\"}], \"parcoords\": [{\"line\": {\"colorbar\": {\"outlinewidth\": 0, \"ticks\": \"\"}}, \"type\": \"parcoords\"}], \"pie\": [{\"automargin\": true, \"type\": \"pie\"}], \"scatter\": [{\"marker\": {\"colorbar\": {\"outlinewidth\": 0, \"ticks\": \"\"}}, \"type\": \"scatter\"}], \"scatter3d\": [{\"line\": {\"colorbar\": {\"outlinewidth\": 0, \"ticks\": \"\"}}, \"marker\": {\"colorbar\": {\"outlinewidth\": 0, \"ticks\": \"\"}}, \"type\": \"scatter3d\"}], \"scattercarpet\": [{\"marker\": {\"colorbar\": {\"outlinewidth\": 0, \"ticks\": \"\"}}, \"type\": \"scattercarpet\"}], \"scattergeo\": [{\"marker\": {\"colorbar\": {\"outlinewidth\": 0, \"ticks\": \"\"}}, \"type\": \"scattergeo\"}], \"scattergl\": [{\"marker\": {\"colorbar\": {\"outlinewidth\": 0, \"ticks\": \"\"}}, \"type\": \"scattergl\"}], \"scattermapbox\": [{\"marker\": {\"colorbar\": {\"outlinewidth\": 0, \"ticks\": \"\"}}, \"type\": \"scattermapbox\"}], \"scatterpolar\": [{\"marker\": {\"colorbar\": {\"outlinewidth\": 0, \"ticks\": \"\"}}, \"type\": \"scatterpolar\"}], \"scatterpolargl\": [{\"marker\": {\"colorbar\": {\"outlinewidth\": 0, \"ticks\": \"\"}}, \"type\": \"scatterpolargl\"}], \"scatterternary\": [{\"marker\": {\"colorbar\": {\"outlinewidth\": 0, \"ticks\": \"\"}}, \"type\": \"scatterternary\"}], \"surface\": [{\"colorbar\": {\"outlinewidth\": 0, \"ticks\": \"\"}, \"colorscale\": [[0.0, \"#0d0887\"], [0.1111111111111111, \"#46039f\"], [0.2222222222222222, \"#7201a8\"], [0.3333333333333333, \"#9c179e\"], [0.4444444444444444, \"#bd3786\"], [0.5555555555555556, \"#d8576b\"], [0.6666666666666666, \"#ed7953\"], [0.7777777777777778, \"#fb9f3a\"], [0.8888888888888888, \"#fdca26\"], [1.0, \"#f0f921\"]], \"type\": \"surface\"}], \"table\": [{\"cells\": {\"fill\": {\"color\": \"#EBF0F8\"}, \"line\": {\"color\": \"white\"}}, \"header\": {\"fill\": {\"color\": \"#C8D4E3\"}, \"line\": {\"color\": \"white\"}}, \"type\": \"table\"}]}, \"layout\": {\"annotationdefaults\": {\"arrowcolor\": \"#2a3f5f\", \"arrowhead\": 0, \"arrowwidth\": 1}, \"coloraxis\": {\"colorbar\": {\"outlinewidth\": 0, \"ticks\": \"\"}}, \"colorscale\": {\"diverging\": [[0, \"#8e0152\"], [0.1, \"#c51b7d\"], [0.2, \"#de77ae\"], [0.3, \"#f1b6da\"], [0.4, \"#fde0ef\"], [0.5, \"#f7f7f7\"], [0.6, \"#e6f5d0\"], [0.7, \"#b8e186\"], [0.8, \"#7fbc41\"], [0.9, \"#4d9221\"], [1, \"#276419\"]], \"sequential\": [[0.0, \"#0d0887\"], [0.1111111111111111, \"#46039f\"], [0.2222222222222222, \"#7201a8\"], [0.3333333333333333, \"#9c179e\"], [0.4444444444444444, \"#bd3786\"], [0.5555555555555556, \"#d8576b\"], [0.6666666666666666, \"#ed7953\"], [0.7777777777777778, \"#fb9f3a\"], [0.8888888888888888, \"#fdca26\"], [1.0, \"#f0f921\"]], \"sequentialminus\": [[0.0, \"#0d0887\"], [0.1111111111111111, \"#46039f\"], [0.2222222222222222, \"#7201a8\"], [0.3333333333333333, \"#9c179e\"], [0.4444444444444444, \"#bd3786\"], [0.5555555555555556, \"#d8576b\"], [0.6666666666666666, \"#ed7953\"], [0.7777777777777778, \"#fb9f3a\"], [0.8888888888888888, \"#fdca26\"], [1.0, \"#f0f921\"]]}, \"colorway\": [\"#636efa\", \"#EF553B\", \"#00cc96\", \"#ab63fa\", \"#FFA15A\", \"#19d3f3\", \"#FF6692\", \"#B6E880\", \"#FF97FF\", \"#FECB52\"], \"font\": {\"color\": \"#2a3f5f\"}, \"geo\": {\"bgcolor\": \"white\", \"lakecolor\": \"white\", \"landcolor\": \"#E5ECF6\", \"showlakes\": true, \"showland\": true, \"subunitcolor\": \"white\"}, \"hoverlabel\": {\"align\": \"left\"}, \"hovermode\": \"closest\", \"mapbox\": {\"style\": \"light\"}, \"paper_bgcolor\": \"white\", \"plot_bgcolor\": \"#E5ECF6\", \"polar\": {\"angularaxis\": {\"gridcolor\": \"white\", \"linecolor\": \"white\", \"ticks\": \"\"}, \"bgcolor\": \"#E5ECF6\", \"radialaxis\": {\"gridcolor\": \"white\", \"linecolor\": \"white\", \"ticks\": \"\"}}, \"scene\": {\"xaxis\": {\"backgroundcolor\": \"#E5ECF6\", \"gridcolor\": \"white\", \"gridwidth\": 2, \"linecolor\": \"white\", \"showbackground\": true, \"ticks\": \"\", \"zerolinecolor\": \"white\"}, \"yaxis\": {\"backgroundcolor\": \"#E5ECF6\", \"gridcolor\": \"white\", \"gridwidth\": 2, \"linecolor\": \"white\", \"showbackground\": true, \"ticks\": \"\", \"zerolinecolor\": \"white\"}, \"zaxis\": {\"backgroundcolor\": \"#E5ECF6\", \"gridcolor\": \"white\", \"gridwidth\": 2, \"linecolor\": \"white\", \"showbackground\": true, \"ticks\": \"\", \"zerolinecolor\": \"white\"}}, \"shapedefaults\": {\"line\": {\"color\": \"#2a3f5f\"}}, \"ternary\": {\"aaxis\": {\"gridcolor\": \"white\", \"linecolor\": \"white\", \"ticks\": \"\"}, \"baxis\": {\"gridcolor\": \"white\", \"linecolor\": \"white\", \"ticks\": \"\"}, \"bgcolor\": \"#E5ECF6\", \"caxis\": {\"gridcolor\": \"white\", \"linecolor\": \"white\", \"ticks\": \"\"}}, \"title\": {\"x\": 0.05}, \"xaxis\": {\"automargin\": true, \"gridcolor\": \"white\", \"linecolor\": \"white\", \"ticks\": \"\", \"title\": {\"standoff\": 15}, \"zerolinecolor\": \"white\", \"zerolinewidth\": 2}, \"yaxis\": {\"automargin\": true, \"gridcolor\": \"white\", \"linecolor\": \"white\", \"ticks\": \"\", \"title\": {\"standoff\": 15}, \"zerolinecolor\": \"white\", \"zerolinewidth\": 2}}}, \"title\": {\"text\": \"Total Gold Medals Won by Country Over All Olympic Competitions\"}},\n",
       "                        {\"responsive\": true}\n",
       "                    ).then(function(){\n",
       "                            \n",
       "var gd = document.getElementById('13700cbb-851a-41c5-8ad5-76bbf3973994');\n",
       "var x = new MutationObserver(function (mutations, observer) {{\n",
       "        var display = window.getComputedStyle(gd).display;\n",
       "        if (!display || display === 'none') {{\n",
       "            console.log([gd, 'removed!']);\n",
       "            Plotly.purge(gd);\n",
       "            observer.disconnect();\n",
       "        }}\n",
       "}});\n",
       "\n",
       "// Listen for the removal of the full notebook cells\n",
       "var notebookContainer = gd.closest('#notebook-container');\n",
       "if (notebookContainer) {{\n",
       "    x.observe(notebookContainer, {childList: true});\n",
       "}}\n",
       "\n",
       "// Listen for the clearing of the current output cell\n",
       "var outputEl = gd.closest('.output');\n",
       "if (outputEl) {{\n",
       "    x.observe(outputEl, {childList: true});\n",
       "}}\n",
       "\n",
       "                        })\n",
       "                };\n",
       "                });\n",
       "            </script>\n",
       "        </div>"
      ]
     },
     "metadata": {},
     "output_type": "display_data"
    }
   ],
   "source": [
    "create_map(medals_per_country_map, 'Gold', 'YlOrBr')"
   ]
  },
  {
   "cell_type": "code",
   "execution_count": 137,
   "metadata": {},
   "outputs": [
    {
     "data": {
      "application/vnd.plotly.v1+json": {
       "config": {
        "linkText": "Export to plot.ly",
        "plotlyServerURL": "https://plot.ly",
        "showLink": false
       },
       "data": [
        {
         "autocolorscale": false,
         "colorbar": {
          "tickprefix": "",
          "title": {
           "text": "Total Medals"
          }
         },
         "colorscale": [
          [
           0,
           "rgb(255,255,255)"
          ],
          [
           0.125,
           "rgb(240,240,240)"
          ],
          [
           0.25,
           "rgb(217,217,217)"
          ],
          [
           0.375,
           "rgb(189,189,189)"
          ],
          [
           0.5,
           "rgb(150,150,150)"
          ],
          [
           0.625,
           "rgb(115,115,115)"
          ],
          [
           0.75,
           "rgb(82,82,82)"
          ],
          [
           0.875,
           "rgb(37,37,37)"
          ],
          [
           1,
           "rgb(0,0,0)"
          ]
         ],
         "locationmode": "country names",
         "locations": [
          "USA",
          "Russia",
          "Germany",
          "UK",
          "France",
          "Italy",
          "Sweden",
          "Canada",
          "Australia",
          "Hungary",
          "Netherlands",
          "Norway",
          "China",
          "Japan",
          "Finland",
          "Switzerland",
          "Romania",
          "Czech Republic",
          "South Korea",
          "Denmark",
          "Poland",
          "Serbia",
          "Spain",
          "Brazil",
          "Belgium",
          "Austria",
          "Cuba",
          "Bulgaria",
          "Argentina",
          "Greece",
          "New Zealand",
          "Ukraine",
          "India",
          "Jamaica",
          "Croatia",
          "Belarus",
          "South Africa",
          "Pakistan",
          "Mexico",
          "Kenya",
          "Nigeria",
          "Turkey",
          "Kazakhstan",
          "Iran",
          "North Korea",
          "Uruguay",
          "Lithuania",
          "Ethiopia",
          "Estonia",
          "Taiwan",
          "Slovenia",
          "Slovakia",
          "Azerbaijan",
          "Portugal",
          "Indonesia",
          "Bahamas",
          "Trinidad",
          "Latvia",
          "Ireland",
          "Uzbekistan",
          "Chile",
          "Georgia",
          "Thailand",
          "Colombia",
          "Egypt",
          "Mongolia",
          "Ghana",
          "Morocco",
          "Cameroon",
          "Zimbabwe",
          "Paraguay",
          "Algeria",
          "Iceland",
          "Armenia",
          "Malaysia",
          "Peru",
          "Venezuela",
          "Montenegro",
          "Fiji",
          "Tunisia",
          "Philippines",
          "Liechtenstein",
          "Israel",
          "Puerto Rico",
          "Moldova",
          "Luxembourg",
          "Dominican Republic",
          "Uganda",
          "Haiti",
          "Saudi Arabia",
          "Syria",
          "Individual Olympic Athletes",
          "Qatar",
          "Vietnam",
          "Costa Rica",
          "Namibia",
          "Vietnam",
          "Tajikistan",
          "Lebanon",
          "Kyrgyzstan",
          "Panama",
          "Ivory Coast",
          "Bahrain",
          "Kuwait",
          "Niger",
          "Burundi",
          "Tanzania",
          "Afghanistan",
          "United Arab Emirates",
          "Sri Lanka",
          "Grenada",
          "Zambia",
          "Mozambique",
          "Suriname",
          "Ecuador",
          "Djibouti",
          "Jordan",
          "Curacao",
          "Guyana",
          "Senegal",
          "Guatemala",
          "Macedonia",
          "Sudan",
          "Bermuda",
          "Barbados",
          "Tonga",
          "Mauritius",
          "Botswana",
          "Monaco",
          "Togo",
          "Kosovo",
          "Cyprus",
          "Gabon",
          "Eritrea",
          "Nepal",
          "Virgin Islands, US",
          "Iraq",
          "Bhutan",
          "Central African Republic",
          "Cayman Islands",
          "Equatorial Guinea",
          "Malta",
          "Cambodia",
          "Palau",
          "Papua New Guinea",
          "Brunei",
          "Burkina Faso",
          "Republic of Congo",
          null,
          "Boliva",
          "Rwanda",
          "Palestine",
          "Samoa",
          "Nauru",
          "Nicaragua",
          "Chad",
          "San Marino",
          "South Sudan",
          "Bangladesh",
          "Bosnia and Herzegovina",
          "Somalia",
          "Albania",
          "Solomon Islands",
          "Belize",
          "Democratic Republic of the Congo",
          "Sierra Leone",
          "Yemen",
          "Sao Tome and Principe",
          "Oman",
          "Mauritania",
          "Myanmar",
          "Mali",
          "Gambia",
          "Saint Vincent",
          "Maldives",
          "Seychelles",
          "Guinea-Bissau",
          null,
          "American Samoa",
          "Aruba",
          "Timor-Leste",
          "Turkmenistan",
          "Saint Kitts",
          null,
          "Antigua",
          "Angola",
          "Andorra",
          "Vanuatu",
          "Swaziland",
          "Benin",
          "Laos",
          "Malawi",
          "Micronesia",
          "Cook Islands",
          "Guinea",
          "Guam",
          "Honduras",
          "El Salvador",
          "Dominica",
          "Vietnam",
          "Kiribati",
          "Marshall Islands",
          "Cape Verde",
          "Libya",
          "Liberia",
          "Saint Lucia",
          "Lesotho",
          "Comoros",
          "Madagascar",
          "Virgin Islands, British"
         ],
         "marker": {
          "line": {
           "color": "rgb(0,0,0)",
           "width": 0.5
          }
         },
         "reversescale": false,
         "text": [
          "USA",
          "Russia",
          "Germany",
          "UK",
          "France",
          "Italy",
          "Sweden",
          "Canada",
          "Australia",
          "Hungary",
          "Netherlands",
          "Norway",
          "China",
          "Japan",
          "Finland",
          "Switzerland",
          "Romania",
          "Czech Republic",
          "South Korea",
          "Denmark",
          "Poland",
          "Serbia",
          "Spain",
          "Brazil",
          "Belgium",
          "Austria",
          "Cuba",
          "Bulgaria",
          "Argentina",
          "Greece",
          "New Zealand",
          "Ukraine",
          "India",
          "Jamaica",
          "Croatia",
          "Belarus",
          "South Africa",
          "Pakistan",
          "Mexico",
          "Kenya",
          "Nigeria",
          "Turkey",
          "Kazakhstan",
          "Iran",
          "North Korea",
          "Uruguay",
          "Lithuania",
          "Ethiopia",
          "Estonia",
          "Taiwan",
          "Slovenia",
          "Slovakia",
          "Azerbaijan",
          "Portugal",
          "Indonesia",
          "Bahamas",
          "Trinidad",
          "Latvia",
          "Ireland",
          "Uzbekistan",
          "Chile",
          "Georgia",
          "Thailand",
          "Colombia",
          "Egypt",
          "Mongolia",
          "Ghana",
          "Morocco",
          "Cameroon",
          "Zimbabwe",
          "Paraguay",
          "Algeria",
          "Iceland",
          "Armenia",
          "Malaysia",
          "Peru",
          "Venezuela",
          "Montenegro",
          "Fiji",
          "Tunisia",
          "Philippines",
          "Liechtenstein",
          "Israel",
          "Puerto Rico",
          "Moldova",
          "Luxembourg",
          "Dominican Republic",
          "Uganda",
          "Haiti",
          "Saudi Arabia",
          "Syria",
          "Individual Olympic Athletes",
          "Qatar",
          "Vietnam",
          "Costa Rica",
          "Namibia",
          "Vietnam",
          "Tajikistan",
          "Lebanon",
          "Kyrgyzstan",
          "Panama",
          "Ivory Coast",
          "Bahrain",
          "Kuwait",
          "Niger",
          "Burundi",
          "Tanzania",
          "Afghanistan",
          "United Arab Emirates",
          "Sri Lanka",
          "Grenada",
          "Zambia",
          "Mozambique",
          "Suriname",
          "Ecuador",
          "Djibouti",
          "Jordan",
          "Curacao",
          "Guyana",
          "Senegal",
          "Guatemala",
          "Macedonia",
          "Sudan",
          "Bermuda",
          "Barbados",
          "Tonga",
          "Mauritius",
          "Botswana",
          "Monaco",
          "Togo",
          "Kosovo",
          "Cyprus",
          "Gabon",
          "Eritrea",
          "Nepal",
          "Virgin Islands, US",
          "Iraq",
          "Bhutan",
          "Central African Republic",
          "Cayman Islands",
          "Equatorial Guinea",
          "Malta",
          "Cambodia",
          "Palau",
          "Papua New Guinea",
          "Brunei",
          "Burkina Faso",
          "Republic of Congo",
          null,
          "Boliva",
          "Rwanda",
          "Palestine",
          "Samoa",
          "Nauru",
          "Nicaragua",
          "Chad",
          "San Marino",
          "South Sudan",
          "Bangladesh",
          "Bosnia and Herzegovina",
          "Somalia",
          "Albania",
          "Solomon Islands",
          "Belize",
          "Democratic Republic of the Congo",
          "Sierra Leone",
          "Yemen",
          "Sao Tome and Principe",
          "Oman",
          "Mauritania",
          "Myanmar",
          "Mali",
          "Gambia",
          "Saint Vincent",
          "Maldives",
          "Seychelles",
          "Guinea-Bissau",
          null,
          "American Samoa",
          "Aruba",
          "Timor-Leste",
          "Turkmenistan",
          "Saint Kitts",
          null,
          "Antigua",
          "Angola",
          "Andorra",
          "Vanuatu",
          "Swaziland",
          "Benin",
          "Laos",
          "Malawi",
          "Micronesia",
          "Cook Islands",
          "Guinea",
          "Guam",
          "Honduras",
          "El Salvador",
          "Dominica",
          "Vietnam",
          "Kiribati",
          "Marshall Islands",
          "Cape Verde",
          "Libya",
          "Liberia",
          "Saint Lucia",
          "Lesotho",
          "Comoros",
          "Madagascar",
          "Virgin Islands, British"
         ],
         "type": "choropleth",
         "z": [
          1641,
          1170,
          1195,
          739,
          610,
          531,
          522,
          438,
          459,
          332,
          340,
          361,
          349,
          309,
          270,
          248,
          200,
          262,
          232,
          241,
          195,
          222,
          243,
          175,
          197,
          186,
          129,
          144,
          92,
          109,
          56,
          52,
          19,
          75,
          54,
          44,
          47,
          45,
          26,
          41,
          30,
          27,
          25,
          21,
          16,
          2,
          7,
          9,
          12,
          28,
          13,
          19,
          12,
          11,
          17,
          11,
          8,
          19,
          13,
          7,
          9,
          6,
          8,
          9,
          8,
          10,
          1,
          5,
          1,
          4,
          17,
          4,
          15,
          5,
          11,
          14,
          3,
          14,
          0,
          3,
          3,
          2,
          1,
          2,
          3,
          4,
          2,
          3,
          1,
          1,
          2,
          1,
          1,
          3,
          1,
          4,
          3,
          1,
          2,
          1,
          0,
          1,
          1,
          0,
          1,
          1,
          2,
          0,
          0,
          2,
          1,
          1,
          0,
          0,
          1,
          0,
          0,
          1,
          0,
          1,
          1,
          0,
          1,
          0,
          0,
          1,
          0,
          1,
          0,
          0,
          0,
          1,
          1,
          0,
          0,
          1,
          0,
          0,
          0,
          0,
          0,
          0,
          0,
          0,
          0,
          0,
          0,
          0,
          0,
          0,
          0,
          0,
          0,
          0,
          0,
          0,
          0,
          0,
          0,
          0,
          0,
          0,
          0,
          0,
          0,
          0,
          0,
          0,
          0,
          0,
          0,
          0,
          0,
          0,
          0,
          0,
          0,
          0,
          0,
          0,
          0,
          0,
          0,
          0,
          0,
          0,
          0,
          0,
          0,
          0,
          0,
          0,
          0,
          0,
          0,
          0,
          0,
          0,
          0,
          0,
          0,
          0,
          0,
          0,
          0,
          0,
          0,
          0,
          0,
          0
         ]
        }
       ],
       "layout": {
        "geo": {
         "projection": {
          "type": "natural earth"
         },
         "showcoastlines": true,
         "showframe": true,
         "showlakes": false
        },
        "template": {
         "data": {
          "bar": [
           {
            "error_x": {
             "color": "#2a3f5f"
            },
            "error_y": {
             "color": "#2a3f5f"
            },
            "marker": {
             "line": {
              "color": "#E5ECF6",
              "width": 0.5
             }
            },
            "type": "bar"
           }
          ],
          "barpolar": [
           {
            "marker": {
             "line": {
              "color": "#E5ECF6",
              "width": 0.5
             }
            },
            "type": "barpolar"
           }
          ],
          "carpet": [
           {
            "aaxis": {
             "endlinecolor": "#2a3f5f",
             "gridcolor": "white",
             "linecolor": "white",
             "minorgridcolor": "white",
             "startlinecolor": "#2a3f5f"
            },
            "baxis": {
             "endlinecolor": "#2a3f5f",
             "gridcolor": "white",
             "linecolor": "white",
             "minorgridcolor": "white",
             "startlinecolor": "#2a3f5f"
            },
            "type": "carpet"
           }
          ],
          "choropleth": [
           {
            "colorbar": {
             "outlinewidth": 0,
             "ticks": ""
            },
            "type": "choropleth"
           }
          ],
          "contour": [
           {
            "colorbar": {
             "outlinewidth": 0,
             "ticks": ""
            },
            "colorscale": [
             [
              0,
              "#0d0887"
             ],
             [
              0.1111111111111111,
              "#46039f"
             ],
             [
              0.2222222222222222,
              "#7201a8"
             ],
             [
              0.3333333333333333,
              "#9c179e"
             ],
             [
              0.4444444444444444,
              "#bd3786"
             ],
             [
              0.5555555555555556,
              "#d8576b"
             ],
             [
              0.6666666666666666,
              "#ed7953"
             ],
             [
              0.7777777777777778,
              "#fb9f3a"
             ],
             [
              0.8888888888888888,
              "#fdca26"
             ],
             [
              1,
              "#f0f921"
             ]
            ],
            "type": "contour"
           }
          ],
          "contourcarpet": [
           {
            "colorbar": {
             "outlinewidth": 0,
             "ticks": ""
            },
            "type": "contourcarpet"
           }
          ],
          "heatmap": [
           {
            "colorbar": {
             "outlinewidth": 0,
             "ticks": ""
            },
            "colorscale": [
             [
              0,
              "#0d0887"
             ],
             [
              0.1111111111111111,
              "#46039f"
             ],
             [
              0.2222222222222222,
              "#7201a8"
             ],
             [
              0.3333333333333333,
              "#9c179e"
             ],
             [
              0.4444444444444444,
              "#bd3786"
             ],
             [
              0.5555555555555556,
              "#d8576b"
             ],
             [
              0.6666666666666666,
              "#ed7953"
             ],
             [
              0.7777777777777778,
              "#fb9f3a"
             ],
             [
              0.8888888888888888,
              "#fdca26"
             ],
             [
              1,
              "#f0f921"
             ]
            ],
            "type": "heatmap"
           }
          ],
          "heatmapgl": [
           {
            "colorbar": {
             "outlinewidth": 0,
             "ticks": ""
            },
            "colorscale": [
             [
              0,
              "#0d0887"
             ],
             [
              0.1111111111111111,
              "#46039f"
             ],
             [
              0.2222222222222222,
              "#7201a8"
             ],
             [
              0.3333333333333333,
              "#9c179e"
             ],
             [
              0.4444444444444444,
              "#bd3786"
             ],
             [
              0.5555555555555556,
              "#d8576b"
             ],
             [
              0.6666666666666666,
              "#ed7953"
             ],
             [
              0.7777777777777778,
              "#fb9f3a"
             ],
             [
              0.8888888888888888,
              "#fdca26"
             ],
             [
              1,
              "#f0f921"
             ]
            ],
            "type": "heatmapgl"
           }
          ],
          "histogram": [
           {
            "marker": {
             "colorbar": {
              "outlinewidth": 0,
              "ticks": ""
             }
            },
            "type": "histogram"
           }
          ],
          "histogram2d": [
           {
            "colorbar": {
             "outlinewidth": 0,
             "ticks": ""
            },
            "colorscale": [
             [
              0,
              "#0d0887"
             ],
             [
              0.1111111111111111,
              "#46039f"
             ],
             [
              0.2222222222222222,
              "#7201a8"
             ],
             [
              0.3333333333333333,
              "#9c179e"
             ],
             [
              0.4444444444444444,
              "#bd3786"
             ],
             [
              0.5555555555555556,
              "#d8576b"
             ],
             [
              0.6666666666666666,
              "#ed7953"
             ],
             [
              0.7777777777777778,
              "#fb9f3a"
             ],
             [
              0.8888888888888888,
              "#fdca26"
             ],
             [
              1,
              "#f0f921"
             ]
            ],
            "type": "histogram2d"
           }
          ],
          "histogram2dcontour": [
           {
            "colorbar": {
             "outlinewidth": 0,
             "ticks": ""
            },
            "colorscale": [
             [
              0,
              "#0d0887"
             ],
             [
              0.1111111111111111,
              "#46039f"
             ],
             [
              0.2222222222222222,
              "#7201a8"
             ],
             [
              0.3333333333333333,
              "#9c179e"
             ],
             [
              0.4444444444444444,
              "#bd3786"
             ],
             [
              0.5555555555555556,
              "#d8576b"
             ],
             [
              0.6666666666666666,
              "#ed7953"
             ],
             [
              0.7777777777777778,
              "#fb9f3a"
             ],
             [
              0.8888888888888888,
              "#fdca26"
             ],
             [
              1,
              "#f0f921"
             ]
            ],
            "type": "histogram2dcontour"
           }
          ],
          "mesh3d": [
           {
            "colorbar": {
             "outlinewidth": 0,
             "ticks": ""
            },
            "type": "mesh3d"
           }
          ],
          "parcoords": [
           {
            "line": {
             "colorbar": {
              "outlinewidth": 0,
              "ticks": ""
             }
            },
            "type": "parcoords"
           }
          ],
          "pie": [
           {
            "automargin": true,
            "type": "pie"
           }
          ],
          "scatter": [
           {
            "marker": {
             "colorbar": {
              "outlinewidth": 0,
              "ticks": ""
             }
            },
            "type": "scatter"
           }
          ],
          "scatter3d": [
           {
            "line": {
             "colorbar": {
              "outlinewidth": 0,
              "ticks": ""
             }
            },
            "marker": {
             "colorbar": {
              "outlinewidth": 0,
              "ticks": ""
             }
            },
            "type": "scatter3d"
           }
          ],
          "scattercarpet": [
           {
            "marker": {
             "colorbar": {
              "outlinewidth": 0,
              "ticks": ""
             }
            },
            "type": "scattercarpet"
           }
          ],
          "scattergeo": [
           {
            "marker": {
             "colorbar": {
              "outlinewidth": 0,
              "ticks": ""
             }
            },
            "type": "scattergeo"
           }
          ],
          "scattergl": [
           {
            "marker": {
             "colorbar": {
              "outlinewidth": 0,
              "ticks": ""
             }
            },
            "type": "scattergl"
           }
          ],
          "scattermapbox": [
           {
            "marker": {
             "colorbar": {
              "outlinewidth": 0,
              "ticks": ""
             }
            },
            "type": "scattermapbox"
           }
          ],
          "scatterpolar": [
           {
            "marker": {
             "colorbar": {
              "outlinewidth": 0,
              "ticks": ""
             }
            },
            "type": "scatterpolar"
           }
          ],
          "scatterpolargl": [
           {
            "marker": {
             "colorbar": {
              "outlinewidth": 0,
              "ticks": ""
             }
            },
            "type": "scatterpolargl"
           }
          ],
          "scatterternary": [
           {
            "marker": {
             "colorbar": {
              "outlinewidth": 0,
              "ticks": ""
             }
            },
            "type": "scatterternary"
           }
          ],
          "surface": [
           {
            "colorbar": {
             "outlinewidth": 0,
             "ticks": ""
            },
            "colorscale": [
             [
              0,
              "#0d0887"
             ],
             [
              0.1111111111111111,
              "#46039f"
             ],
             [
              0.2222222222222222,
              "#7201a8"
             ],
             [
              0.3333333333333333,
              "#9c179e"
             ],
             [
              0.4444444444444444,
              "#bd3786"
             ],
             [
              0.5555555555555556,
              "#d8576b"
             ],
             [
              0.6666666666666666,
              "#ed7953"
             ],
             [
              0.7777777777777778,
              "#fb9f3a"
             ],
             [
              0.8888888888888888,
              "#fdca26"
             ],
             [
              1,
              "#f0f921"
             ]
            ],
            "type": "surface"
           }
          ],
          "table": [
           {
            "cells": {
             "fill": {
              "color": "#EBF0F8"
             },
             "line": {
              "color": "white"
             }
            },
            "header": {
             "fill": {
              "color": "#C8D4E3"
             },
             "line": {
              "color": "white"
             }
            },
            "type": "table"
           }
          ]
         },
         "layout": {
          "annotationdefaults": {
           "arrowcolor": "#2a3f5f",
           "arrowhead": 0,
           "arrowwidth": 1
          },
          "coloraxis": {
           "colorbar": {
            "outlinewidth": 0,
            "ticks": ""
           }
          },
          "colorscale": {
           "diverging": [
            [
             0,
             "#8e0152"
            ],
            [
             0.1,
             "#c51b7d"
            ],
            [
             0.2,
             "#de77ae"
            ],
            [
             0.3,
             "#f1b6da"
            ],
            [
             0.4,
             "#fde0ef"
            ],
            [
             0.5,
             "#f7f7f7"
            ],
            [
             0.6,
             "#e6f5d0"
            ],
            [
             0.7,
             "#b8e186"
            ],
            [
             0.8,
             "#7fbc41"
            ],
            [
             0.9,
             "#4d9221"
            ],
            [
             1,
             "#276419"
            ]
           ],
           "sequential": [
            [
             0,
             "#0d0887"
            ],
            [
             0.1111111111111111,
             "#46039f"
            ],
            [
             0.2222222222222222,
             "#7201a8"
            ],
            [
             0.3333333333333333,
             "#9c179e"
            ],
            [
             0.4444444444444444,
             "#bd3786"
            ],
            [
             0.5555555555555556,
             "#d8576b"
            ],
            [
             0.6666666666666666,
             "#ed7953"
            ],
            [
             0.7777777777777778,
             "#fb9f3a"
            ],
            [
             0.8888888888888888,
             "#fdca26"
            ],
            [
             1,
             "#f0f921"
            ]
           ],
           "sequentialminus": [
            [
             0,
             "#0d0887"
            ],
            [
             0.1111111111111111,
             "#46039f"
            ],
            [
             0.2222222222222222,
             "#7201a8"
            ],
            [
             0.3333333333333333,
             "#9c179e"
            ],
            [
             0.4444444444444444,
             "#bd3786"
            ],
            [
             0.5555555555555556,
             "#d8576b"
            ],
            [
             0.6666666666666666,
             "#ed7953"
            ],
            [
             0.7777777777777778,
             "#fb9f3a"
            ],
            [
             0.8888888888888888,
             "#fdca26"
            ],
            [
             1,
             "#f0f921"
            ]
           ]
          },
          "colorway": [
           "#636efa",
           "#EF553B",
           "#00cc96",
           "#ab63fa",
           "#FFA15A",
           "#19d3f3",
           "#FF6692",
           "#B6E880",
           "#FF97FF",
           "#FECB52"
          ],
          "font": {
           "color": "#2a3f5f"
          },
          "geo": {
           "bgcolor": "white",
           "lakecolor": "white",
           "landcolor": "#E5ECF6",
           "showlakes": true,
           "showland": true,
           "subunitcolor": "white"
          },
          "hoverlabel": {
           "align": "left"
          },
          "hovermode": "closest",
          "mapbox": {
           "style": "light"
          },
          "paper_bgcolor": "white",
          "plot_bgcolor": "#E5ECF6",
          "polar": {
           "angularaxis": {
            "gridcolor": "white",
            "linecolor": "white",
            "ticks": ""
           },
           "bgcolor": "#E5ECF6",
           "radialaxis": {
            "gridcolor": "white",
            "linecolor": "white",
            "ticks": ""
           }
          },
          "scene": {
           "xaxis": {
            "backgroundcolor": "#E5ECF6",
            "gridcolor": "white",
            "gridwidth": 2,
            "linecolor": "white",
            "showbackground": true,
            "ticks": "",
            "zerolinecolor": "white"
           },
           "yaxis": {
            "backgroundcolor": "#E5ECF6",
            "gridcolor": "white",
            "gridwidth": 2,
            "linecolor": "white",
            "showbackground": true,
            "ticks": "",
            "zerolinecolor": "white"
           },
           "zaxis": {
            "backgroundcolor": "#E5ECF6",
            "gridcolor": "white",
            "gridwidth": 2,
            "linecolor": "white",
            "showbackground": true,
            "ticks": "",
            "zerolinecolor": "white"
           }
          },
          "shapedefaults": {
           "line": {
            "color": "#2a3f5f"
           }
          },
          "ternary": {
           "aaxis": {
            "gridcolor": "white",
            "linecolor": "white",
            "ticks": ""
           },
           "baxis": {
            "gridcolor": "white",
            "linecolor": "white",
            "ticks": ""
           },
           "bgcolor": "#E5ECF6",
           "caxis": {
            "gridcolor": "white",
            "linecolor": "white",
            "ticks": ""
           }
          },
          "title": {
           "x": 0.05
          },
          "xaxis": {
           "automargin": true,
           "gridcolor": "white",
           "linecolor": "white",
           "ticks": "",
           "title": {
            "standoff": 15
           },
           "zerolinecolor": "white",
           "zerolinewidth": 2
          },
          "yaxis": {
           "automargin": true,
           "gridcolor": "white",
           "linecolor": "white",
           "ticks": "",
           "title": {
            "standoff": 15
           },
           "zerolinecolor": "white",
           "zerolinewidth": 2
          }
         }
        },
        "title": {
         "text": "Total Silver Medals Won by Country Over All Olympic Competitions"
        }
       }
      },
      "text/html": [
       "<div>\n",
       "        \n",
       "        \n",
       "            <div id=\"3bba2128-6f9e-4ac6-bbec-18dca546870b\" class=\"plotly-graph-div\" style=\"height:525px; width:100%;\"></div>\n",
       "            <script type=\"text/javascript\">\n",
       "                require([\"plotly\"], function(Plotly) {\n",
       "                    window.PLOTLYENV=window.PLOTLYENV || {};\n",
       "                    \n",
       "                if (document.getElementById(\"3bba2128-6f9e-4ac6-bbec-18dca546870b\")) {\n",
       "                    Plotly.newPlot(\n",
       "                        '3bba2128-6f9e-4ac6-bbec-18dca546870b',\n",
       "                        [{\"autocolorscale\": false, \"colorbar\": {\"tickprefix\": \"\", \"title\": {\"text\": \"Total Medals\"}}, \"colorscale\": [[0.0, \"rgb(255,255,255)\"], [0.125, \"rgb(240,240,240)\"], [0.25, \"rgb(217,217,217)\"], [0.375, \"rgb(189,189,189)\"], [0.5, \"rgb(150,150,150)\"], [0.625, \"rgb(115,115,115)\"], [0.75, \"rgb(82,82,82)\"], [0.875, \"rgb(37,37,37)\"], [1.0, \"rgb(0,0,0)\"]], \"locationmode\": \"country names\", \"locations\": [\"USA\", \"Russia\", \"Germany\", \"UK\", \"France\", \"Italy\", \"Sweden\", \"Canada\", \"Australia\", \"Hungary\", \"Netherlands\", \"Norway\", \"China\", \"Japan\", \"Finland\", \"Switzerland\", \"Romania\", \"Czech Republic\", \"South Korea\", \"Denmark\", \"Poland\", \"Serbia\", \"Spain\", \"Brazil\", \"Belgium\", \"Austria\", \"Cuba\", \"Bulgaria\", \"Argentina\", \"Greece\", \"New Zealand\", \"Ukraine\", \"India\", \"Jamaica\", \"Croatia\", \"Belarus\", \"South Africa\", \"Pakistan\", \"Mexico\", \"Kenya\", \"Nigeria\", \"Turkey\", \"Kazakhstan\", \"Iran\", \"North Korea\", \"Uruguay\", \"Lithuania\", \"Ethiopia\", \"Estonia\", \"Taiwan\", \"Slovenia\", \"Slovakia\", \"Azerbaijan\", \"Portugal\", \"Indonesia\", \"Bahamas\", \"Trinidad\", \"Latvia\", \"Ireland\", \"Uzbekistan\", \"Chile\", \"Georgia\", \"Thailand\", \"Colombia\", \"Egypt\", \"Mongolia\", \"Ghana\", \"Morocco\", \"Cameroon\", \"Zimbabwe\", \"Paraguay\", \"Algeria\", \"Iceland\", \"Armenia\", \"Malaysia\", \"Peru\", \"Venezuela\", \"Montenegro\", \"Fiji\", \"Tunisia\", \"Philippines\", \"Liechtenstein\", \"Israel\", \"Puerto Rico\", \"Moldova\", \"Luxembourg\", \"Dominican Republic\", \"Uganda\", \"Haiti\", \"Saudi Arabia\", \"Syria\", \"Individual Olympic Athletes\", \"Qatar\", \"Vietnam\", \"Costa Rica\", \"Namibia\", \"Vietnam\", \"Tajikistan\", \"Lebanon\", \"Kyrgyzstan\", \"Panama\", \"Ivory Coast\", \"Bahrain\", \"Kuwait\", \"Niger\", \"Burundi\", \"Tanzania\", \"Afghanistan\", \"United Arab Emirates\", \"Sri Lanka\", \"Grenada\", \"Zambia\", \"Mozambique\", \"Suriname\", \"Ecuador\", \"Djibouti\", \"Jordan\", \"Curacao\", \"Guyana\", \"Senegal\", \"Guatemala\", \"Macedonia\", \"Sudan\", \"Bermuda\", \"Barbados\", \"Tonga\", \"Mauritius\", \"Botswana\", \"Monaco\", \"Togo\", \"Kosovo\", \"Cyprus\", \"Gabon\", \"Eritrea\", \"Nepal\", \"Virgin Islands, US\", \"Iraq\", \"Bhutan\", \"Central African Republic\", \"Cayman Islands\", \"Equatorial Guinea\", \"Malta\", \"Cambodia\", \"Palau\", \"Papua New Guinea\", \"Brunei\", \"Burkina Faso\", \"Republic of Congo\", null, \"Boliva\", \"Rwanda\", \"Palestine\", \"Samoa\", \"Nauru\", \"Nicaragua\", \"Chad\", \"San Marino\", \"South Sudan\", \"Bangladesh\", \"Bosnia and Herzegovina\", \"Somalia\", \"Albania\", \"Solomon Islands\", \"Belize\", \"Democratic Republic of the Congo\", \"Sierra Leone\", \"Yemen\", \"Sao Tome and Principe\", \"Oman\", \"Mauritania\", \"Myanmar\", \"Mali\", \"Gambia\", \"Saint Vincent\", \"Maldives\", \"Seychelles\", \"Guinea-Bissau\", null, \"American Samoa\", \"Aruba\", \"Timor-Leste\", \"Turkmenistan\", \"Saint Kitts\", null, \"Antigua\", \"Angola\", \"Andorra\", \"Vanuatu\", \"Swaziland\", \"Benin\", \"Laos\", \"Malawi\", \"Micronesia\", \"Cook Islands\", \"Guinea\", \"Guam\", \"Honduras\", \"El Salvador\", \"Dominica\", \"Vietnam\", \"Kiribati\", \"Marshall Islands\", \"Cape Verde\", \"Libya\", \"Liberia\", \"Saint Lucia\", \"Lesotho\", \"Comoros\", \"Madagascar\", \"Virgin Islands, British\"], \"marker\": {\"line\": {\"color\": \"rgb(0,0,0)\", \"width\": 0.5}}, \"reversescale\": false, \"text\": [\"USA\", \"Russia\", \"Germany\", \"UK\", \"France\", \"Italy\", \"Sweden\", \"Canada\", \"Australia\", \"Hungary\", \"Netherlands\", \"Norway\", \"China\", \"Japan\", \"Finland\", \"Switzerland\", \"Romania\", \"Czech Republic\", \"South Korea\", \"Denmark\", \"Poland\", \"Serbia\", \"Spain\", \"Brazil\", \"Belgium\", \"Austria\", \"Cuba\", \"Bulgaria\", \"Argentina\", \"Greece\", \"New Zealand\", \"Ukraine\", \"India\", \"Jamaica\", \"Croatia\", \"Belarus\", \"South Africa\", \"Pakistan\", \"Mexico\", \"Kenya\", \"Nigeria\", \"Turkey\", \"Kazakhstan\", \"Iran\", \"North Korea\", \"Uruguay\", \"Lithuania\", \"Ethiopia\", \"Estonia\", \"Taiwan\", \"Slovenia\", \"Slovakia\", \"Azerbaijan\", \"Portugal\", \"Indonesia\", \"Bahamas\", \"Trinidad\", \"Latvia\", \"Ireland\", \"Uzbekistan\", \"Chile\", \"Georgia\", \"Thailand\", \"Colombia\", \"Egypt\", \"Mongolia\", \"Ghana\", \"Morocco\", \"Cameroon\", \"Zimbabwe\", \"Paraguay\", \"Algeria\", \"Iceland\", \"Armenia\", \"Malaysia\", \"Peru\", \"Venezuela\", \"Montenegro\", \"Fiji\", \"Tunisia\", \"Philippines\", \"Liechtenstein\", \"Israel\", \"Puerto Rico\", \"Moldova\", \"Luxembourg\", \"Dominican Republic\", \"Uganda\", \"Haiti\", \"Saudi Arabia\", \"Syria\", \"Individual Olympic Athletes\", \"Qatar\", \"Vietnam\", \"Costa Rica\", \"Namibia\", \"Vietnam\", \"Tajikistan\", \"Lebanon\", \"Kyrgyzstan\", \"Panama\", \"Ivory Coast\", \"Bahrain\", \"Kuwait\", \"Niger\", \"Burundi\", \"Tanzania\", \"Afghanistan\", \"United Arab Emirates\", \"Sri Lanka\", \"Grenada\", \"Zambia\", \"Mozambique\", \"Suriname\", \"Ecuador\", \"Djibouti\", \"Jordan\", \"Curacao\", \"Guyana\", \"Senegal\", \"Guatemala\", \"Macedonia\", \"Sudan\", \"Bermuda\", \"Barbados\", \"Tonga\", \"Mauritius\", \"Botswana\", \"Monaco\", \"Togo\", \"Kosovo\", \"Cyprus\", \"Gabon\", \"Eritrea\", \"Nepal\", \"Virgin Islands, US\", \"Iraq\", \"Bhutan\", \"Central African Republic\", \"Cayman Islands\", \"Equatorial Guinea\", \"Malta\", \"Cambodia\", \"Palau\", \"Papua New Guinea\", \"Brunei\", \"Burkina Faso\", \"Republic of Congo\", null, \"Boliva\", \"Rwanda\", \"Palestine\", \"Samoa\", \"Nauru\", \"Nicaragua\", \"Chad\", \"San Marino\", \"South Sudan\", \"Bangladesh\", \"Bosnia and Herzegovina\", \"Somalia\", \"Albania\", \"Solomon Islands\", \"Belize\", \"Democratic Republic of the Congo\", \"Sierra Leone\", \"Yemen\", \"Sao Tome and Principe\", \"Oman\", \"Mauritania\", \"Myanmar\", \"Mali\", \"Gambia\", \"Saint Vincent\", \"Maldives\", \"Seychelles\", \"Guinea-Bissau\", null, \"American Samoa\", \"Aruba\", \"Timor-Leste\", \"Turkmenistan\", \"Saint Kitts\", null, \"Antigua\", \"Angola\", \"Andorra\", \"Vanuatu\", \"Swaziland\", \"Benin\", \"Laos\", \"Malawi\", \"Micronesia\", \"Cook Islands\", \"Guinea\", \"Guam\", \"Honduras\", \"El Salvador\", \"Dominica\", \"Vietnam\", \"Kiribati\", \"Marshall Islands\", \"Cape Verde\", \"Libya\", \"Liberia\", \"Saint Lucia\", \"Lesotho\", \"Comoros\", \"Madagascar\", \"Virgin Islands, British\"], \"type\": \"choropleth\", \"z\": [1641.0, 1170.0, 1195.0, 739.0, 610.0, 531.0, 522.0, 438.0, 459.0, 332.0, 340.0, 361.0, 349.0, 309.0, 270.0, 248.0, 200.0, 262.0, 232.0, 241.0, 195.0, 222.0, 243.0, 175.0, 197.0, 186.0, 129.0, 144.0, 92.0, 109.0, 56.0, 52.0, 19.0, 75.0, 54.0, 44.0, 47.0, 45.0, 26.0, 41.0, 30.0, 27.0, 25.0, 21.0, 16.0, 2.0, 7.0, 9.0, 12.0, 28.0, 13.0, 19.0, 12.0, 11.0, 17.0, 11.0, 8.0, 19.0, 13.0, 7.0, 9.0, 6.0, 8.0, 9.0, 8.0, 10.0, 1.0, 5.0, 1.0, 4.0, 17.0, 4.0, 15.0, 5.0, 11.0, 14.0, 3.0, 14.0, 0.0, 3.0, 3.0, 2.0, 1.0, 2.0, 3.0, 4.0, 2.0, 3.0, 1.0, 1.0, 2.0, 1.0, 1.0, 3.0, 1.0, 4.0, 3.0, 1.0, 2.0, 1.0, 0.0, 1.0, 1.0, 0.0, 1.0, 1.0, 2.0, 0.0, 0.0, 2.0, 1.0, 1.0, 0.0, 0.0, 1.0, 0.0, 0.0, 1.0, 0.0, 1.0, 1.0, 0.0, 1.0, 0.0, 0.0, 1.0, 0.0, 1.0, 0.0, 0.0, 0.0, 1.0, 1.0, 0.0, 0.0, 1.0, 0.0, 0.0, 0.0, 0.0, 0.0, 0.0, 0.0, 0.0, 0.0, 0.0, 0.0, 0.0, 0.0, 0.0, 0.0, 0.0, 0.0, 0.0, 0.0, 0.0, 0.0, 0.0, 0.0, 0.0, 0.0, 0.0, 0.0, 0.0, 0.0, 0.0, 0.0, 0.0, 0.0, 0.0, 0.0, 0.0, 0.0, 0.0, 0.0, 0.0, 0.0, 0.0, 0.0, 0.0, 0.0, 0.0, 0.0, 0.0, 0.0, 0.0, 0.0, 0.0, 0.0, 0.0, 0.0, 0.0, 0.0, 0.0, 0.0, 0.0, 0.0, 0.0, 0.0, 0.0, 0.0, 0.0, 0.0, 0.0, 0.0, 0.0, 0.0, 0.0, 0.0, 0.0]}],\n",
       "                        {\"geo\": {\"projection\": {\"type\": \"natural earth\"}, \"showcoastlines\": true, \"showframe\": true, \"showlakes\": false}, \"template\": {\"data\": {\"bar\": [{\"error_x\": {\"color\": \"#2a3f5f\"}, \"error_y\": {\"color\": \"#2a3f5f\"}, \"marker\": {\"line\": {\"color\": \"#E5ECF6\", \"width\": 0.5}}, \"type\": \"bar\"}], \"barpolar\": [{\"marker\": {\"line\": {\"color\": \"#E5ECF6\", \"width\": 0.5}}, \"type\": \"barpolar\"}], \"carpet\": [{\"aaxis\": {\"endlinecolor\": \"#2a3f5f\", \"gridcolor\": \"white\", \"linecolor\": \"white\", \"minorgridcolor\": \"white\", \"startlinecolor\": \"#2a3f5f\"}, \"baxis\": {\"endlinecolor\": \"#2a3f5f\", \"gridcolor\": \"white\", \"linecolor\": \"white\", \"minorgridcolor\": \"white\", \"startlinecolor\": \"#2a3f5f\"}, \"type\": \"carpet\"}], \"choropleth\": [{\"colorbar\": {\"outlinewidth\": 0, \"ticks\": \"\"}, \"type\": \"choropleth\"}], \"contour\": [{\"colorbar\": {\"outlinewidth\": 0, \"ticks\": \"\"}, \"colorscale\": [[0.0, \"#0d0887\"], [0.1111111111111111, \"#46039f\"], [0.2222222222222222, \"#7201a8\"], [0.3333333333333333, \"#9c179e\"], [0.4444444444444444, \"#bd3786\"], [0.5555555555555556, \"#d8576b\"], [0.6666666666666666, \"#ed7953\"], [0.7777777777777778, \"#fb9f3a\"], [0.8888888888888888, \"#fdca26\"], [1.0, \"#f0f921\"]], \"type\": \"contour\"}], \"contourcarpet\": [{\"colorbar\": {\"outlinewidth\": 0, \"ticks\": \"\"}, \"type\": \"contourcarpet\"}], \"heatmap\": [{\"colorbar\": {\"outlinewidth\": 0, \"ticks\": \"\"}, \"colorscale\": [[0.0, \"#0d0887\"], [0.1111111111111111, \"#46039f\"], [0.2222222222222222, \"#7201a8\"], [0.3333333333333333, \"#9c179e\"], [0.4444444444444444, \"#bd3786\"], [0.5555555555555556, \"#d8576b\"], [0.6666666666666666, \"#ed7953\"], [0.7777777777777778, \"#fb9f3a\"], [0.8888888888888888, \"#fdca26\"], [1.0, \"#f0f921\"]], \"type\": \"heatmap\"}], \"heatmapgl\": [{\"colorbar\": {\"outlinewidth\": 0, \"ticks\": \"\"}, \"colorscale\": [[0.0, \"#0d0887\"], [0.1111111111111111, \"#46039f\"], [0.2222222222222222, \"#7201a8\"], [0.3333333333333333, \"#9c179e\"], [0.4444444444444444, \"#bd3786\"], [0.5555555555555556, \"#d8576b\"], [0.6666666666666666, \"#ed7953\"], [0.7777777777777778, \"#fb9f3a\"], [0.8888888888888888, \"#fdca26\"], [1.0, \"#f0f921\"]], \"type\": \"heatmapgl\"}], \"histogram\": [{\"marker\": {\"colorbar\": {\"outlinewidth\": 0, \"ticks\": \"\"}}, \"type\": \"histogram\"}], \"histogram2d\": [{\"colorbar\": {\"outlinewidth\": 0, \"ticks\": \"\"}, \"colorscale\": [[0.0, \"#0d0887\"], [0.1111111111111111, \"#46039f\"], [0.2222222222222222, \"#7201a8\"], [0.3333333333333333, \"#9c179e\"], [0.4444444444444444, \"#bd3786\"], [0.5555555555555556, \"#d8576b\"], [0.6666666666666666, \"#ed7953\"], [0.7777777777777778, \"#fb9f3a\"], [0.8888888888888888, \"#fdca26\"], [1.0, \"#f0f921\"]], \"type\": \"histogram2d\"}], \"histogram2dcontour\": [{\"colorbar\": {\"outlinewidth\": 0, \"ticks\": \"\"}, \"colorscale\": [[0.0, \"#0d0887\"], [0.1111111111111111, \"#46039f\"], [0.2222222222222222, \"#7201a8\"], [0.3333333333333333, \"#9c179e\"], [0.4444444444444444, \"#bd3786\"], [0.5555555555555556, \"#d8576b\"], [0.6666666666666666, \"#ed7953\"], [0.7777777777777778, \"#fb9f3a\"], [0.8888888888888888, \"#fdca26\"], [1.0, \"#f0f921\"]], \"type\": \"histogram2dcontour\"}], \"mesh3d\": [{\"colorbar\": {\"outlinewidth\": 0, \"ticks\": \"\"}, \"type\": \"mesh3d\"}], \"parcoords\": [{\"line\": {\"colorbar\": {\"outlinewidth\": 0, \"ticks\": \"\"}}, \"type\": \"parcoords\"}], \"pie\": [{\"automargin\": true, \"type\": \"pie\"}], \"scatter\": [{\"marker\": {\"colorbar\": {\"outlinewidth\": 0, \"ticks\": \"\"}}, \"type\": \"scatter\"}], \"scatter3d\": [{\"line\": {\"colorbar\": {\"outlinewidth\": 0, \"ticks\": \"\"}}, \"marker\": {\"colorbar\": {\"outlinewidth\": 0, \"ticks\": \"\"}}, \"type\": \"scatter3d\"}], \"scattercarpet\": [{\"marker\": {\"colorbar\": {\"outlinewidth\": 0, \"ticks\": \"\"}}, \"type\": \"scattercarpet\"}], \"scattergeo\": [{\"marker\": {\"colorbar\": {\"outlinewidth\": 0, \"ticks\": \"\"}}, \"type\": \"scattergeo\"}], \"scattergl\": [{\"marker\": {\"colorbar\": {\"outlinewidth\": 0, \"ticks\": \"\"}}, \"type\": \"scattergl\"}], \"scattermapbox\": [{\"marker\": {\"colorbar\": {\"outlinewidth\": 0, \"ticks\": \"\"}}, \"type\": \"scattermapbox\"}], \"scatterpolar\": [{\"marker\": {\"colorbar\": {\"outlinewidth\": 0, \"ticks\": \"\"}}, \"type\": \"scatterpolar\"}], \"scatterpolargl\": [{\"marker\": {\"colorbar\": {\"outlinewidth\": 0, \"ticks\": \"\"}}, \"type\": \"scatterpolargl\"}], \"scatterternary\": [{\"marker\": {\"colorbar\": {\"outlinewidth\": 0, \"ticks\": \"\"}}, \"type\": \"scatterternary\"}], \"surface\": [{\"colorbar\": {\"outlinewidth\": 0, \"ticks\": \"\"}, \"colorscale\": [[0.0, \"#0d0887\"], [0.1111111111111111, \"#46039f\"], [0.2222222222222222, \"#7201a8\"], [0.3333333333333333, \"#9c179e\"], [0.4444444444444444, \"#bd3786\"], [0.5555555555555556, \"#d8576b\"], [0.6666666666666666, \"#ed7953\"], [0.7777777777777778, \"#fb9f3a\"], [0.8888888888888888, \"#fdca26\"], [1.0, \"#f0f921\"]], \"type\": \"surface\"}], \"table\": [{\"cells\": {\"fill\": {\"color\": \"#EBF0F8\"}, \"line\": {\"color\": \"white\"}}, \"header\": {\"fill\": {\"color\": \"#C8D4E3\"}, \"line\": {\"color\": \"white\"}}, \"type\": \"table\"}]}, \"layout\": {\"annotationdefaults\": {\"arrowcolor\": \"#2a3f5f\", \"arrowhead\": 0, \"arrowwidth\": 1}, \"coloraxis\": {\"colorbar\": {\"outlinewidth\": 0, \"ticks\": \"\"}}, \"colorscale\": {\"diverging\": [[0, \"#8e0152\"], [0.1, \"#c51b7d\"], [0.2, \"#de77ae\"], [0.3, \"#f1b6da\"], [0.4, \"#fde0ef\"], [0.5, \"#f7f7f7\"], [0.6, \"#e6f5d0\"], [0.7, \"#b8e186\"], [0.8, \"#7fbc41\"], [0.9, \"#4d9221\"], [1, \"#276419\"]], \"sequential\": [[0.0, \"#0d0887\"], [0.1111111111111111, \"#46039f\"], [0.2222222222222222, \"#7201a8\"], [0.3333333333333333, \"#9c179e\"], [0.4444444444444444, \"#bd3786\"], [0.5555555555555556, \"#d8576b\"], [0.6666666666666666, \"#ed7953\"], [0.7777777777777778, \"#fb9f3a\"], [0.8888888888888888, \"#fdca26\"], [1.0, \"#f0f921\"]], \"sequentialminus\": [[0.0, \"#0d0887\"], [0.1111111111111111, \"#46039f\"], [0.2222222222222222, \"#7201a8\"], [0.3333333333333333, \"#9c179e\"], [0.4444444444444444, \"#bd3786\"], [0.5555555555555556, \"#d8576b\"], [0.6666666666666666, \"#ed7953\"], [0.7777777777777778, \"#fb9f3a\"], [0.8888888888888888, \"#fdca26\"], [1.0, \"#f0f921\"]]}, \"colorway\": [\"#636efa\", \"#EF553B\", \"#00cc96\", \"#ab63fa\", \"#FFA15A\", \"#19d3f3\", \"#FF6692\", \"#B6E880\", \"#FF97FF\", \"#FECB52\"], \"font\": {\"color\": \"#2a3f5f\"}, \"geo\": {\"bgcolor\": \"white\", \"lakecolor\": \"white\", \"landcolor\": \"#E5ECF6\", \"showlakes\": true, \"showland\": true, \"subunitcolor\": \"white\"}, \"hoverlabel\": {\"align\": \"left\"}, \"hovermode\": \"closest\", \"mapbox\": {\"style\": \"light\"}, \"paper_bgcolor\": \"white\", \"plot_bgcolor\": \"#E5ECF6\", \"polar\": {\"angularaxis\": {\"gridcolor\": \"white\", \"linecolor\": \"white\", \"ticks\": \"\"}, \"bgcolor\": \"#E5ECF6\", \"radialaxis\": {\"gridcolor\": \"white\", \"linecolor\": \"white\", \"ticks\": \"\"}}, \"scene\": {\"xaxis\": {\"backgroundcolor\": \"#E5ECF6\", \"gridcolor\": \"white\", \"gridwidth\": 2, \"linecolor\": \"white\", \"showbackground\": true, \"ticks\": \"\", \"zerolinecolor\": \"white\"}, \"yaxis\": {\"backgroundcolor\": \"#E5ECF6\", \"gridcolor\": \"white\", \"gridwidth\": 2, \"linecolor\": \"white\", \"showbackground\": true, \"ticks\": \"\", \"zerolinecolor\": \"white\"}, \"zaxis\": {\"backgroundcolor\": \"#E5ECF6\", \"gridcolor\": \"white\", \"gridwidth\": 2, \"linecolor\": \"white\", \"showbackground\": true, \"ticks\": \"\", \"zerolinecolor\": \"white\"}}, \"shapedefaults\": {\"line\": {\"color\": \"#2a3f5f\"}}, \"ternary\": {\"aaxis\": {\"gridcolor\": \"white\", \"linecolor\": \"white\", \"ticks\": \"\"}, \"baxis\": {\"gridcolor\": \"white\", \"linecolor\": \"white\", \"ticks\": \"\"}, \"bgcolor\": \"#E5ECF6\", \"caxis\": {\"gridcolor\": \"white\", \"linecolor\": \"white\", \"ticks\": \"\"}}, \"title\": {\"x\": 0.05}, \"xaxis\": {\"automargin\": true, \"gridcolor\": \"white\", \"linecolor\": \"white\", \"ticks\": \"\", \"title\": {\"standoff\": 15}, \"zerolinecolor\": \"white\", \"zerolinewidth\": 2}, \"yaxis\": {\"automargin\": true, \"gridcolor\": \"white\", \"linecolor\": \"white\", \"ticks\": \"\", \"title\": {\"standoff\": 15}, \"zerolinecolor\": \"white\", \"zerolinewidth\": 2}}}, \"title\": {\"text\": \"Total Silver Medals Won by Country Over All Olympic Competitions\"}},\n",
       "                        {\"responsive\": true}\n",
       "                    ).then(function(){\n",
       "                            \n",
       "var gd = document.getElementById('3bba2128-6f9e-4ac6-bbec-18dca546870b');\n",
       "var x = new MutationObserver(function (mutations, observer) {{\n",
       "        var display = window.getComputedStyle(gd).display;\n",
       "        if (!display || display === 'none') {{\n",
       "            console.log([gd, 'removed!']);\n",
       "            Plotly.purge(gd);\n",
       "            observer.disconnect();\n",
       "        }}\n",
       "}});\n",
       "\n",
       "// Listen for the removal of the full notebook cells\n",
       "var notebookContainer = gd.closest('#notebook-container');\n",
       "if (notebookContainer) {{\n",
       "    x.observe(notebookContainer, {childList: true});\n",
       "}}\n",
       "\n",
       "// Listen for the clearing of the current output cell\n",
       "var outputEl = gd.closest('.output');\n",
       "if (outputEl) {{\n",
       "    x.observe(outputEl, {childList: true});\n",
       "}}\n",
       "\n",
       "                        })\n",
       "                };\n",
       "                });\n",
       "            </script>\n",
       "        </div>"
      ]
     },
     "metadata": {},
     "output_type": "display_data"
    }
   ],
   "source": [
    "create_map(medals_per_country_map, 'Silver', 'Greys')"
   ]
  },
  {
   "cell_type": "code",
   "execution_count": 138,
   "metadata": {},
   "outputs": [
    {
     "data": {
      "application/vnd.plotly.v1+json": {
       "config": {
        "linkText": "Export to plot.ly",
        "plotlyServerURL": "https://plot.ly",
        "showLink": false
       },
       "data": [
        {
         "autocolorscale": false,
         "colorbar": {
          "tickprefix": "",
          "title": {
           "text": "Total Medals"
          }
         },
         "colorscale": [
          [
           0,
           "rgb(255,245,240)"
          ],
          [
           0.125,
           "rgb(254,224,210)"
          ],
          [
           0.25,
           "rgb(252,187,161)"
          ],
          [
           0.375,
           "rgb(252,146,114)"
          ],
          [
           0.5,
           "rgb(251,106,74)"
          ],
          [
           0.625,
           "rgb(239,59,44)"
          ],
          [
           0.75,
           "rgb(203,24,29)"
          ],
          [
           0.875,
           "rgb(165,15,21)"
          ],
          [
           1,
           "rgb(103,0,13)"
          ]
         ],
         "locationmode": "country names",
         "locations": [
          "USA",
          "Russia",
          "Germany",
          "UK",
          "France",
          "Italy",
          "Sweden",
          "Canada",
          "Australia",
          "Hungary",
          "Netherlands",
          "Norway",
          "China",
          "Japan",
          "Finland",
          "Switzerland",
          "Romania",
          "Czech Republic",
          "South Korea",
          "Denmark",
          "Poland",
          "Serbia",
          "Spain",
          "Brazil",
          "Belgium",
          "Austria",
          "Cuba",
          "Bulgaria",
          "Argentina",
          "Greece",
          "New Zealand",
          "Ukraine",
          "India",
          "Jamaica",
          "Croatia",
          "Belarus",
          "South Africa",
          "Pakistan",
          "Mexico",
          "Kenya",
          "Nigeria",
          "Turkey",
          "Kazakhstan",
          "Iran",
          "North Korea",
          "Uruguay",
          "Lithuania",
          "Ethiopia",
          "Estonia",
          "Taiwan",
          "Slovenia",
          "Slovakia",
          "Azerbaijan",
          "Portugal",
          "Indonesia",
          "Bahamas",
          "Trinidad",
          "Latvia",
          "Ireland",
          "Uzbekistan",
          "Chile",
          "Georgia",
          "Thailand",
          "Colombia",
          "Egypt",
          "Mongolia",
          "Ghana",
          "Morocco",
          "Cameroon",
          "Zimbabwe",
          "Paraguay",
          "Algeria",
          "Iceland",
          "Armenia",
          "Malaysia",
          "Peru",
          "Venezuela",
          "Montenegro",
          "Fiji",
          "Tunisia",
          "Philippines",
          "Liechtenstein",
          "Israel",
          "Puerto Rico",
          "Moldova",
          "Luxembourg",
          "Dominican Republic",
          "Uganda",
          "Haiti",
          "Saudi Arabia",
          "Syria",
          "Individual Olympic Athletes",
          "Qatar",
          "Vietnam",
          "Costa Rica",
          "Namibia",
          "Vietnam",
          "Tajikistan",
          "Lebanon",
          "Kyrgyzstan",
          "Panama",
          "Ivory Coast",
          "Bahrain",
          "Kuwait",
          "Niger",
          "Burundi",
          "Tanzania",
          "Afghanistan",
          "United Arab Emirates",
          "Sri Lanka",
          "Grenada",
          "Zambia",
          "Mozambique",
          "Suriname",
          "Ecuador",
          "Djibouti",
          "Jordan",
          "Curacao",
          "Guyana",
          "Senegal",
          "Guatemala",
          "Macedonia",
          "Sudan",
          "Bermuda",
          "Barbados",
          "Tonga",
          "Mauritius",
          "Botswana",
          "Monaco",
          "Togo",
          "Kosovo",
          "Cyprus",
          "Gabon",
          "Eritrea",
          "Nepal",
          "Virgin Islands, US",
          "Iraq",
          "Bhutan",
          "Central African Republic",
          "Cayman Islands",
          "Equatorial Guinea",
          "Malta",
          "Cambodia",
          "Palau",
          "Papua New Guinea",
          "Brunei",
          "Burkina Faso",
          "Republic of Congo",
          null,
          "Boliva",
          "Rwanda",
          "Palestine",
          "Samoa",
          "Nauru",
          "Nicaragua",
          "Chad",
          "San Marino",
          "South Sudan",
          "Bangladesh",
          "Bosnia and Herzegovina",
          "Somalia",
          "Albania",
          "Solomon Islands",
          "Belize",
          "Democratic Republic of the Congo",
          "Sierra Leone",
          "Yemen",
          "Sao Tome and Principe",
          "Oman",
          "Mauritania",
          "Myanmar",
          "Mali",
          "Gambia",
          "Saint Vincent",
          "Maldives",
          "Seychelles",
          "Guinea-Bissau",
          null,
          "American Samoa",
          "Aruba",
          "Timor-Leste",
          "Turkmenistan",
          "Saint Kitts",
          null,
          "Antigua",
          "Angola",
          "Andorra",
          "Vanuatu",
          "Swaziland",
          "Benin",
          "Laos",
          "Malawi",
          "Micronesia",
          "Cook Islands",
          "Guinea",
          "Guam",
          "Honduras",
          "El Salvador",
          "Dominica",
          "Vietnam",
          "Kiribati",
          "Marshall Islands",
          "Cape Verde",
          "Libya",
          "Liberia",
          "Saint Lucia",
          "Lesotho",
          "Comoros",
          "Madagascar",
          "Virgin Islands, British"
         ],
         "marker": {
          "line": {
           "color": "rgb(0,0,0)",
           "width": 0.5
          }
         },
         "reversescale": false,
         "text": [
          "USA",
          "Russia",
          "Germany",
          "UK",
          "France",
          "Italy",
          "Sweden",
          "Canada",
          "Australia",
          "Hungary",
          "Netherlands",
          "Norway",
          "China",
          "Japan",
          "Finland",
          "Switzerland",
          "Romania",
          "Czech Republic",
          "South Korea",
          "Denmark",
          "Poland",
          "Serbia",
          "Spain",
          "Brazil",
          "Belgium",
          "Austria",
          "Cuba",
          "Bulgaria",
          "Argentina",
          "Greece",
          "New Zealand",
          "Ukraine",
          "India",
          "Jamaica",
          "Croatia",
          "Belarus",
          "South Africa",
          "Pakistan",
          "Mexico",
          "Kenya",
          "Nigeria",
          "Turkey",
          "Kazakhstan",
          "Iran",
          "North Korea",
          "Uruguay",
          "Lithuania",
          "Ethiopia",
          "Estonia",
          "Taiwan",
          "Slovenia",
          "Slovakia",
          "Azerbaijan",
          "Portugal",
          "Indonesia",
          "Bahamas",
          "Trinidad",
          "Latvia",
          "Ireland",
          "Uzbekistan",
          "Chile",
          "Georgia",
          "Thailand",
          "Colombia",
          "Egypt",
          "Mongolia",
          "Ghana",
          "Morocco",
          "Cameroon",
          "Zimbabwe",
          "Paraguay",
          "Algeria",
          "Iceland",
          "Armenia",
          "Malaysia",
          "Peru",
          "Venezuela",
          "Montenegro",
          "Fiji",
          "Tunisia",
          "Philippines",
          "Liechtenstein",
          "Israel",
          "Puerto Rico",
          "Moldova",
          "Luxembourg",
          "Dominican Republic",
          "Uganda",
          "Haiti",
          "Saudi Arabia",
          "Syria",
          "Individual Olympic Athletes",
          "Qatar",
          "Vietnam",
          "Costa Rica",
          "Namibia",
          "Vietnam",
          "Tajikistan",
          "Lebanon",
          "Kyrgyzstan",
          "Panama",
          "Ivory Coast",
          "Bahrain",
          "Kuwait",
          "Niger",
          "Burundi",
          "Tanzania",
          "Afghanistan",
          "United Arab Emirates",
          "Sri Lanka",
          "Grenada",
          "Zambia",
          "Mozambique",
          "Suriname",
          "Ecuador",
          "Djibouti",
          "Jordan",
          "Curacao",
          "Guyana",
          "Senegal",
          "Guatemala",
          "Macedonia",
          "Sudan",
          "Bermuda",
          "Barbados",
          "Tonga",
          "Mauritius",
          "Botswana",
          "Monaco",
          "Togo",
          "Kosovo",
          "Cyprus",
          "Gabon",
          "Eritrea",
          "Nepal",
          "Virgin Islands, US",
          "Iraq",
          "Bhutan",
          "Central African Republic",
          "Cayman Islands",
          "Equatorial Guinea",
          "Malta",
          "Cambodia",
          "Palau",
          "Papua New Guinea",
          "Brunei",
          "Burkina Faso",
          "Republic of Congo",
          null,
          "Boliva",
          "Rwanda",
          "Palestine",
          "Samoa",
          "Nauru",
          "Nicaragua",
          "Chad",
          "San Marino",
          "South Sudan",
          "Bangladesh",
          "Bosnia and Herzegovina",
          "Somalia",
          "Albania",
          "Solomon Islands",
          "Belize",
          "Democratic Republic of the Congo",
          "Sierra Leone",
          "Yemen",
          "Sao Tome and Principe",
          "Oman",
          "Mauritania",
          "Myanmar",
          "Mali",
          "Gambia",
          "Saint Vincent",
          "Maldives",
          "Seychelles",
          "Guinea-Bissau",
          null,
          "American Samoa",
          "Aruba",
          "Timor-Leste",
          "Turkmenistan",
          "Saint Kitts",
          null,
          "Antigua",
          "Angola",
          "Andorra",
          "Vanuatu",
          "Swaziland",
          "Benin",
          "Laos",
          "Malawi",
          "Micronesia",
          "Cook Islands",
          "Guinea",
          "Guam",
          "Honduras",
          "El Salvador",
          "Dominica",
          "Vietnam",
          "Kiribati",
          "Marshall Islands",
          "Cape Verde",
          "Libya",
          "Liberia",
          "Saint Lucia",
          "Lesotho",
          "Comoros",
          "Madagascar",
          "Virgin Islands, British"
         ],
         "type": "choropleth",
         "z": [
          1358,
          1178,
          1260,
          651,
          666,
          531,
          535,
          451,
          522,
          371,
          413,
          294,
          293,
          357,
          432,
          268,
          292,
          259,
          185,
          177,
          253,
          160,
          136,
          191,
          173,
          156,
          116,
          144,
          91,
          84,
          82,
          100,
          40,
          44,
          37,
          71,
          52,
          34,
          54,
          31,
          46,
          28,
          32,
          29,
          35,
          30,
          48,
          22,
          25,
          18,
          27,
          13,
          25,
          26,
          13,
          15,
          22,
          13,
          13,
          17,
          20,
          18,
          13,
          14,
          12,
          14,
          22,
          12,
          1,
          1,
          0,
          8,
          2,
          9,
          5,
          0,
          10,
          0,
          0,
          7,
          7,
          5,
          7,
          6,
          5,
          0,
          2,
          2,
          5,
          5,
          2,
          3,
          4,
          0,
          2,
          0,
          0,
          2,
          2,
          2,
          2,
          1,
          1,
          2,
          1,
          0,
          0,
          2,
          1,
          0,
          0,
          1,
          1,
          1,
          0,
          1,
          0,
          0,
          1,
          0,
          0,
          1,
          0,
          1,
          1,
          0,
          1,
          0,
          1,
          1,
          0,
          0,
          0,
          1,
          0,
          0,
          1,
          0,
          0,
          0,
          0,
          0,
          0,
          0,
          0,
          0,
          0,
          0,
          0,
          0,
          0,
          0,
          0,
          0,
          0,
          0,
          0,
          0,
          0,
          0,
          0,
          0,
          0,
          0,
          0,
          0,
          0,
          0,
          0,
          0,
          0,
          0,
          0,
          0,
          0,
          0,
          0,
          0,
          0,
          0,
          0,
          0,
          0,
          0,
          0,
          0,
          0,
          0,
          0,
          0,
          0,
          0,
          0,
          0,
          0,
          0,
          0,
          0,
          0,
          0,
          0,
          0,
          0,
          0,
          0,
          0,
          0,
          0,
          0,
          0
         ]
        }
       ],
       "layout": {
        "geo": {
         "projection": {
          "type": "natural earth"
         },
         "showcoastlines": true,
         "showframe": true,
         "showlakes": false
        },
        "template": {
         "data": {
          "bar": [
           {
            "error_x": {
             "color": "#2a3f5f"
            },
            "error_y": {
             "color": "#2a3f5f"
            },
            "marker": {
             "line": {
              "color": "#E5ECF6",
              "width": 0.5
             }
            },
            "type": "bar"
           }
          ],
          "barpolar": [
           {
            "marker": {
             "line": {
              "color": "#E5ECF6",
              "width": 0.5
             }
            },
            "type": "barpolar"
           }
          ],
          "carpet": [
           {
            "aaxis": {
             "endlinecolor": "#2a3f5f",
             "gridcolor": "white",
             "linecolor": "white",
             "minorgridcolor": "white",
             "startlinecolor": "#2a3f5f"
            },
            "baxis": {
             "endlinecolor": "#2a3f5f",
             "gridcolor": "white",
             "linecolor": "white",
             "minorgridcolor": "white",
             "startlinecolor": "#2a3f5f"
            },
            "type": "carpet"
           }
          ],
          "choropleth": [
           {
            "colorbar": {
             "outlinewidth": 0,
             "ticks": ""
            },
            "type": "choropleth"
           }
          ],
          "contour": [
           {
            "colorbar": {
             "outlinewidth": 0,
             "ticks": ""
            },
            "colorscale": [
             [
              0,
              "#0d0887"
             ],
             [
              0.1111111111111111,
              "#46039f"
             ],
             [
              0.2222222222222222,
              "#7201a8"
             ],
             [
              0.3333333333333333,
              "#9c179e"
             ],
             [
              0.4444444444444444,
              "#bd3786"
             ],
             [
              0.5555555555555556,
              "#d8576b"
             ],
             [
              0.6666666666666666,
              "#ed7953"
             ],
             [
              0.7777777777777778,
              "#fb9f3a"
             ],
             [
              0.8888888888888888,
              "#fdca26"
             ],
             [
              1,
              "#f0f921"
             ]
            ],
            "type": "contour"
           }
          ],
          "contourcarpet": [
           {
            "colorbar": {
             "outlinewidth": 0,
             "ticks": ""
            },
            "type": "contourcarpet"
           }
          ],
          "heatmap": [
           {
            "colorbar": {
             "outlinewidth": 0,
             "ticks": ""
            },
            "colorscale": [
             [
              0,
              "#0d0887"
             ],
             [
              0.1111111111111111,
              "#46039f"
             ],
             [
              0.2222222222222222,
              "#7201a8"
             ],
             [
              0.3333333333333333,
              "#9c179e"
             ],
             [
              0.4444444444444444,
              "#bd3786"
             ],
             [
              0.5555555555555556,
              "#d8576b"
             ],
             [
              0.6666666666666666,
              "#ed7953"
             ],
             [
              0.7777777777777778,
              "#fb9f3a"
             ],
             [
              0.8888888888888888,
              "#fdca26"
             ],
             [
              1,
              "#f0f921"
             ]
            ],
            "type": "heatmap"
           }
          ],
          "heatmapgl": [
           {
            "colorbar": {
             "outlinewidth": 0,
             "ticks": ""
            },
            "colorscale": [
             [
              0,
              "#0d0887"
             ],
             [
              0.1111111111111111,
              "#46039f"
             ],
             [
              0.2222222222222222,
              "#7201a8"
             ],
             [
              0.3333333333333333,
              "#9c179e"
             ],
             [
              0.4444444444444444,
              "#bd3786"
             ],
             [
              0.5555555555555556,
              "#d8576b"
             ],
             [
              0.6666666666666666,
              "#ed7953"
             ],
             [
              0.7777777777777778,
              "#fb9f3a"
             ],
             [
              0.8888888888888888,
              "#fdca26"
             ],
             [
              1,
              "#f0f921"
             ]
            ],
            "type": "heatmapgl"
           }
          ],
          "histogram": [
           {
            "marker": {
             "colorbar": {
              "outlinewidth": 0,
              "ticks": ""
             }
            },
            "type": "histogram"
           }
          ],
          "histogram2d": [
           {
            "colorbar": {
             "outlinewidth": 0,
             "ticks": ""
            },
            "colorscale": [
             [
              0,
              "#0d0887"
             ],
             [
              0.1111111111111111,
              "#46039f"
             ],
             [
              0.2222222222222222,
              "#7201a8"
             ],
             [
              0.3333333333333333,
              "#9c179e"
             ],
             [
              0.4444444444444444,
              "#bd3786"
             ],
             [
              0.5555555555555556,
              "#d8576b"
             ],
             [
              0.6666666666666666,
              "#ed7953"
             ],
             [
              0.7777777777777778,
              "#fb9f3a"
             ],
             [
              0.8888888888888888,
              "#fdca26"
             ],
             [
              1,
              "#f0f921"
             ]
            ],
            "type": "histogram2d"
           }
          ],
          "histogram2dcontour": [
           {
            "colorbar": {
             "outlinewidth": 0,
             "ticks": ""
            },
            "colorscale": [
             [
              0,
              "#0d0887"
             ],
             [
              0.1111111111111111,
              "#46039f"
             ],
             [
              0.2222222222222222,
              "#7201a8"
             ],
             [
              0.3333333333333333,
              "#9c179e"
             ],
             [
              0.4444444444444444,
              "#bd3786"
             ],
             [
              0.5555555555555556,
              "#d8576b"
             ],
             [
              0.6666666666666666,
              "#ed7953"
             ],
             [
              0.7777777777777778,
              "#fb9f3a"
             ],
             [
              0.8888888888888888,
              "#fdca26"
             ],
             [
              1,
              "#f0f921"
             ]
            ],
            "type": "histogram2dcontour"
           }
          ],
          "mesh3d": [
           {
            "colorbar": {
             "outlinewidth": 0,
             "ticks": ""
            },
            "type": "mesh3d"
           }
          ],
          "parcoords": [
           {
            "line": {
             "colorbar": {
              "outlinewidth": 0,
              "ticks": ""
             }
            },
            "type": "parcoords"
           }
          ],
          "pie": [
           {
            "automargin": true,
            "type": "pie"
           }
          ],
          "scatter": [
           {
            "marker": {
             "colorbar": {
              "outlinewidth": 0,
              "ticks": ""
             }
            },
            "type": "scatter"
           }
          ],
          "scatter3d": [
           {
            "line": {
             "colorbar": {
              "outlinewidth": 0,
              "ticks": ""
             }
            },
            "marker": {
             "colorbar": {
              "outlinewidth": 0,
              "ticks": ""
             }
            },
            "type": "scatter3d"
           }
          ],
          "scattercarpet": [
           {
            "marker": {
             "colorbar": {
              "outlinewidth": 0,
              "ticks": ""
             }
            },
            "type": "scattercarpet"
           }
          ],
          "scattergeo": [
           {
            "marker": {
             "colorbar": {
              "outlinewidth": 0,
              "ticks": ""
             }
            },
            "type": "scattergeo"
           }
          ],
          "scattergl": [
           {
            "marker": {
             "colorbar": {
              "outlinewidth": 0,
              "ticks": ""
             }
            },
            "type": "scattergl"
           }
          ],
          "scattermapbox": [
           {
            "marker": {
             "colorbar": {
              "outlinewidth": 0,
              "ticks": ""
             }
            },
            "type": "scattermapbox"
           }
          ],
          "scatterpolar": [
           {
            "marker": {
             "colorbar": {
              "outlinewidth": 0,
              "ticks": ""
             }
            },
            "type": "scatterpolar"
           }
          ],
          "scatterpolargl": [
           {
            "marker": {
             "colorbar": {
              "outlinewidth": 0,
              "ticks": ""
             }
            },
            "type": "scatterpolargl"
           }
          ],
          "scatterternary": [
           {
            "marker": {
             "colorbar": {
              "outlinewidth": 0,
              "ticks": ""
             }
            },
            "type": "scatterternary"
           }
          ],
          "surface": [
           {
            "colorbar": {
             "outlinewidth": 0,
             "ticks": ""
            },
            "colorscale": [
             [
              0,
              "#0d0887"
             ],
             [
              0.1111111111111111,
              "#46039f"
             ],
             [
              0.2222222222222222,
              "#7201a8"
             ],
             [
              0.3333333333333333,
              "#9c179e"
             ],
             [
              0.4444444444444444,
              "#bd3786"
             ],
             [
              0.5555555555555556,
              "#d8576b"
             ],
             [
              0.6666666666666666,
              "#ed7953"
             ],
             [
              0.7777777777777778,
              "#fb9f3a"
             ],
             [
              0.8888888888888888,
              "#fdca26"
             ],
             [
              1,
              "#f0f921"
             ]
            ],
            "type": "surface"
           }
          ],
          "table": [
           {
            "cells": {
             "fill": {
              "color": "#EBF0F8"
             },
             "line": {
              "color": "white"
             }
            },
            "header": {
             "fill": {
              "color": "#C8D4E3"
             },
             "line": {
              "color": "white"
             }
            },
            "type": "table"
           }
          ]
         },
         "layout": {
          "annotationdefaults": {
           "arrowcolor": "#2a3f5f",
           "arrowhead": 0,
           "arrowwidth": 1
          },
          "coloraxis": {
           "colorbar": {
            "outlinewidth": 0,
            "ticks": ""
           }
          },
          "colorscale": {
           "diverging": [
            [
             0,
             "#8e0152"
            ],
            [
             0.1,
             "#c51b7d"
            ],
            [
             0.2,
             "#de77ae"
            ],
            [
             0.3,
             "#f1b6da"
            ],
            [
             0.4,
             "#fde0ef"
            ],
            [
             0.5,
             "#f7f7f7"
            ],
            [
             0.6,
             "#e6f5d0"
            ],
            [
             0.7,
             "#b8e186"
            ],
            [
             0.8,
             "#7fbc41"
            ],
            [
             0.9,
             "#4d9221"
            ],
            [
             1,
             "#276419"
            ]
           ],
           "sequential": [
            [
             0,
             "#0d0887"
            ],
            [
             0.1111111111111111,
             "#46039f"
            ],
            [
             0.2222222222222222,
             "#7201a8"
            ],
            [
             0.3333333333333333,
             "#9c179e"
            ],
            [
             0.4444444444444444,
             "#bd3786"
            ],
            [
             0.5555555555555556,
             "#d8576b"
            ],
            [
             0.6666666666666666,
             "#ed7953"
            ],
            [
             0.7777777777777778,
             "#fb9f3a"
            ],
            [
             0.8888888888888888,
             "#fdca26"
            ],
            [
             1,
             "#f0f921"
            ]
           ],
           "sequentialminus": [
            [
             0,
             "#0d0887"
            ],
            [
             0.1111111111111111,
             "#46039f"
            ],
            [
             0.2222222222222222,
             "#7201a8"
            ],
            [
             0.3333333333333333,
             "#9c179e"
            ],
            [
             0.4444444444444444,
             "#bd3786"
            ],
            [
             0.5555555555555556,
             "#d8576b"
            ],
            [
             0.6666666666666666,
             "#ed7953"
            ],
            [
             0.7777777777777778,
             "#fb9f3a"
            ],
            [
             0.8888888888888888,
             "#fdca26"
            ],
            [
             1,
             "#f0f921"
            ]
           ]
          },
          "colorway": [
           "#636efa",
           "#EF553B",
           "#00cc96",
           "#ab63fa",
           "#FFA15A",
           "#19d3f3",
           "#FF6692",
           "#B6E880",
           "#FF97FF",
           "#FECB52"
          ],
          "font": {
           "color": "#2a3f5f"
          },
          "geo": {
           "bgcolor": "white",
           "lakecolor": "white",
           "landcolor": "#E5ECF6",
           "showlakes": true,
           "showland": true,
           "subunitcolor": "white"
          },
          "hoverlabel": {
           "align": "left"
          },
          "hovermode": "closest",
          "mapbox": {
           "style": "light"
          },
          "paper_bgcolor": "white",
          "plot_bgcolor": "#E5ECF6",
          "polar": {
           "angularaxis": {
            "gridcolor": "white",
            "linecolor": "white",
            "ticks": ""
           },
           "bgcolor": "#E5ECF6",
           "radialaxis": {
            "gridcolor": "white",
            "linecolor": "white",
            "ticks": ""
           }
          },
          "scene": {
           "xaxis": {
            "backgroundcolor": "#E5ECF6",
            "gridcolor": "white",
            "gridwidth": 2,
            "linecolor": "white",
            "showbackground": true,
            "ticks": "",
            "zerolinecolor": "white"
           },
           "yaxis": {
            "backgroundcolor": "#E5ECF6",
            "gridcolor": "white",
            "gridwidth": 2,
            "linecolor": "white",
            "showbackground": true,
            "ticks": "",
            "zerolinecolor": "white"
           },
           "zaxis": {
            "backgroundcolor": "#E5ECF6",
            "gridcolor": "white",
            "gridwidth": 2,
            "linecolor": "white",
            "showbackground": true,
            "ticks": "",
            "zerolinecolor": "white"
           }
          },
          "shapedefaults": {
           "line": {
            "color": "#2a3f5f"
           }
          },
          "ternary": {
           "aaxis": {
            "gridcolor": "white",
            "linecolor": "white",
            "ticks": ""
           },
           "baxis": {
            "gridcolor": "white",
            "linecolor": "white",
            "ticks": ""
           },
           "bgcolor": "#E5ECF6",
           "caxis": {
            "gridcolor": "white",
            "linecolor": "white",
            "ticks": ""
           }
          },
          "title": {
           "x": 0.05
          },
          "xaxis": {
           "automargin": true,
           "gridcolor": "white",
           "linecolor": "white",
           "ticks": "",
           "title": {
            "standoff": 15
           },
           "zerolinecolor": "white",
           "zerolinewidth": 2
          },
          "yaxis": {
           "automargin": true,
           "gridcolor": "white",
           "linecolor": "white",
           "ticks": "",
           "title": {
            "standoff": 15
           },
           "zerolinecolor": "white",
           "zerolinewidth": 2
          }
         }
        },
        "title": {
         "text": "Total Bronze Medals Won by Country Over All Olympic Competitions"
        }
       }
      },
      "text/html": [
       "<div>\n",
       "        \n",
       "        \n",
       "            <div id=\"4eb6ab6f-469c-4139-a3ea-a0116c5e5780\" class=\"plotly-graph-div\" style=\"height:525px; width:100%;\"></div>\n",
       "            <script type=\"text/javascript\">\n",
       "                require([\"plotly\"], function(Plotly) {\n",
       "                    window.PLOTLYENV=window.PLOTLYENV || {};\n",
       "                    \n",
       "                if (document.getElementById(\"4eb6ab6f-469c-4139-a3ea-a0116c5e5780\")) {\n",
       "                    Plotly.newPlot(\n",
       "                        '4eb6ab6f-469c-4139-a3ea-a0116c5e5780',\n",
       "                        [{\"autocolorscale\": false, \"colorbar\": {\"tickprefix\": \"\", \"title\": {\"text\": \"Total Medals\"}}, \"colorscale\": [[0.0, \"rgb(255,245,240)\"], [0.125, \"rgb(254,224,210)\"], [0.25, \"rgb(252,187,161)\"], [0.375, \"rgb(252,146,114)\"], [0.5, \"rgb(251,106,74)\"], [0.625, \"rgb(239,59,44)\"], [0.75, \"rgb(203,24,29)\"], [0.875, \"rgb(165,15,21)\"], [1.0, \"rgb(103,0,13)\"]], \"locationmode\": \"country names\", \"locations\": [\"USA\", \"Russia\", \"Germany\", \"UK\", \"France\", \"Italy\", \"Sweden\", \"Canada\", \"Australia\", \"Hungary\", \"Netherlands\", \"Norway\", \"China\", \"Japan\", \"Finland\", \"Switzerland\", \"Romania\", \"Czech Republic\", \"South Korea\", \"Denmark\", \"Poland\", \"Serbia\", \"Spain\", \"Brazil\", \"Belgium\", \"Austria\", \"Cuba\", \"Bulgaria\", \"Argentina\", \"Greece\", \"New Zealand\", \"Ukraine\", \"India\", \"Jamaica\", \"Croatia\", \"Belarus\", \"South Africa\", \"Pakistan\", \"Mexico\", \"Kenya\", \"Nigeria\", \"Turkey\", \"Kazakhstan\", \"Iran\", \"North Korea\", \"Uruguay\", \"Lithuania\", \"Ethiopia\", \"Estonia\", \"Taiwan\", \"Slovenia\", \"Slovakia\", \"Azerbaijan\", \"Portugal\", \"Indonesia\", \"Bahamas\", \"Trinidad\", \"Latvia\", \"Ireland\", \"Uzbekistan\", \"Chile\", \"Georgia\", \"Thailand\", \"Colombia\", \"Egypt\", \"Mongolia\", \"Ghana\", \"Morocco\", \"Cameroon\", \"Zimbabwe\", \"Paraguay\", \"Algeria\", \"Iceland\", \"Armenia\", \"Malaysia\", \"Peru\", \"Venezuela\", \"Montenegro\", \"Fiji\", \"Tunisia\", \"Philippines\", \"Liechtenstein\", \"Israel\", \"Puerto Rico\", \"Moldova\", \"Luxembourg\", \"Dominican Republic\", \"Uganda\", \"Haiti\", \"Saudi Arabia\", \"Syria\", \"Individual Olympic Athletes\", \"Qatar\", \"Vietnam\", \"Costa Rica\", \"Namibia\", \"Vietnam\", \"Tajikistan\", \"Lebanon\", \"Kyrgyzstan\", \"Panama\", \"Ivory Coast\", \"Bahrain\", \"Kuwait\", \"Niger\", \"Burundi\", \"Tanzania\", \"Afghanistan\", \"United Arab Emirates\", \"Sri Lanka\", \"Grenada\", \"Zambia\", \"Mozambique\", \"Suriname\", \"Ecuador\", \"Djibouti\", \"Jordan\", \"Curacao\", \"Guyana\", \"Senegal\", \"Guatemala\", \"Macedonia\", \"Sudan\", \"Bermuda\", \"Barbados\", \"Tonga\", \"Mauritius\", \"Botswana\", \"Monaco\", \"Togo\", \"Kosovo\", \"Cyprus\", \"Gabon\", \"Eritrea\", \"Nepal\", \"Virgin Islands, US\", \"Iraq\", \"Bhutan\", \"Central African Republic\", \"Cayman Islands\", \"Equatorial Guinea\", \"Malta\", \"Cambodia\", \"Palau\", \"Papua New Guinea\", \"Brunei\", \"Burkina Faso\", \"Republic of Congo\", null, \"Boliva\", \"Rwanda\", \"Palestine\", \"Samoa\", \"Nauru\", \"Nicaragua\", \"Chad\", \"San Marino\", \"South Sudan\", \"Bangladesh\", \"Bosnia and Herzegovina\", \"Somalia\", \"Albania\", \"Solomon Islands\", \"Belize\", \"Democratic Republic of the Congo\", \"Sierra Leone\", \"Yemen\", \"Sao Tome and Principe\", \"Oman\", \"Mauritania\", \"Myanmar\", \"Mali\", \"Gambia\", \"Saint Vincent\", \"Maldives\", \"Seychelles\", \"Guinea-Bissau\", null, \"American Samoa\", \"Aruba\", \"Timor-Leste\", \"Turkmenistan\", \"Saint Kitts\", null, \"Antigua\", \"Angola\", \"Andorra\", \"Vanuatu\", \"Swaziland\", \"Benin\", \"Laos\", \"Malawi\", \"Micronesia\", \"Cook Islands\", \"Guinea\", \"Guam\", \"Honduras\", \"El Salvador\", \"Dominica\", \"Vietnam\", \"Kiribati\", \"Marshall Islands\", \"Cape Verde\", \"Libya\", \"Liberia\", \"Saint Lucia\", \"Lesotho\", \"Comoros\", \"Madagascar\", \"Virgin Islands, British\"], \"marker\": {\"line\": {\"color\": \"rgb(0,0,0)\", \"width\": 0.5}}, \"reversescale\": false, \"text\": [\"USA\", \"Russia\", \"Germany\", \"UK\", \"France\", \"Italy\", \"Sweden\", \"Canada\", \"Australia\", \"Hungary\", \"Netherlands\", \"Norway\", \"China\", \"Japan\", \"Finland\", \"Switzerland\", \"Romania\", \"Czech Republic\", \"South Korea\", \"Denmark\", \"Poland\", \"Serbia\", \"Spain\", \"Brazil\", \"Belgium\", \"Austria\", \"Cuba\", \"Bulgaria\", \"Argentina\", \"Greece\", \"New Zealand\", \"Ukraine\", \"India\", \"Jamaica\", \"Croatia\", \"Belarus\", \"South Africa\", \"Pakistan\", \"Mexico\", \"Kenya\", \"Nigeria\", \"Turkey\", \"Kazakhstan\", \"Iran\", \"North Korea\", \"Uruguay\", \"Lithuania\", \"Ethiopia\", \"Estonia\", \"Taiwan\", \"Slovenia\", \"Slovakia\", \"Azerbaijan\", \"Portugal\", \"Indonesia\", \"Bahamas\", \"Trinidad\", \"Latvia\", \"Ireland\", \"Uzbekistan\", \"Chile\", \"Georgia\", \"Thailand\", \"Colombia\", \"Egypt\", \"Mongolia\", \"Ghana\", \"Morocco\", \"Cameroon\", \"Zimbabwe\", \"Paraguay\", \"Algeria\", \"Iceland\", \"Armenia\", \"Malaysia\", \"Peru\", \"Venezuela\", \"Montenegro\", \"Fiji\", \"Tunisia\", \"Philippines\", \"Liechtenstein\", \"Israel\", \"Puerto Rico\", \"Moldova\", \"Luxembourg\", \"Dominican Republic\", \"Uganda\", \"Haiti\", \"Saudi Arabia\", \"Syria\", \"Individual Olympic Athletes\", \"Qatar\", \"Vietnam\", \"Costa Rica\", \"Namibia\", \"Vietnam\", \"Tajikistan\", \"Lebanon\", \"Kyrgyzstan\", \"Panama\", \"Ivory Coast\", \"Bahrain\", \"Kuwait\", \"Niger\", \"Burundi\", \"Tanzania\", \"Afghanistan\", \"United Arab Emirates\", \"Sri Lanka\", \"Grenada\", \"Zambia\", \"Mozambique\", \"Suriname\", \"Ecuador\", \"Djibouti\", \"Jordan\", \"Curacao\", \"Guyana\", \"Senegal\", \"Guatemala\", \"Macedonia\", \"Sudan\", \"Bermuda\", \"Barbados\", \"Tonga\", \"Mauritius\", \"Botswana\", \"Monaco\", \"Togo\", \"Kosovo\", \"Cyprus\", \"Gabon\", \"Eritrea\", \"Nepal\", \"Virgin Islands, US\", \"Iraq\", \"Bhutan\", \"Central African Republic\", \"Cayman Islands\", \"Equatorial Guinea\", \"Malta\", \"Cambodia\", \"Palau\", \"Papua New Guinea\", \"Brunei\", \"Burkina Faso\", \"Republic of Congo\", null, \"Boliva\", \"Rwanda\", \"Palestine\", \"Samoa\", \"Nauru\", \"Nicaragua\", \"Chad\", \"San Marino\", \"South Sudan\", \"Bangladesh\", \"Bosnia and Herzegovina\", \"Somalia\", \"Albania\", \"Solomon Islands\", \"Belize\", \"Democratic Republic of the Congo\", \"Sierra Leone\", \"Yemen\", \"Sao Tome and Principe\", \"Oman\", \"Mauritania\", \"Myanmar\", \"Mali\", \"Gambia\", \"Saint Vincent\", \"Maldives\", \"Seychelles\", \"Guinea-Bissau\", null, \"American Samoa\", \"Aruba\", \"Timor-Leste\", \"Turkmenistan\", \"Saint Kitts\", null, \"Antigua\", \"Angola\", \"Andorra\", \"Vanuatu\", \"Swaziland\", \"Benin\", \"Laos\", \"Malawi\", \"Micronesia\", \"Cook Islands\", \"Guinea\", \"Guam\", \"Honduras\", \"El Salvador\", \"Dominica\", \"Vietnam\", \"Kiribati\", \"Marshall Islands\", \"Cape Verde\", \"Libya\", \"Liberia\", \"Saint Lucia\", \"Lesotho\", \"Comoros\", \"Madagascar\", \"Virgin Islands, British\"], \"type\": \"choropleth\", \"z\": [1358.0, 1178.0, 1260.0, 651.0, 666.0, 531.0, 535.0, 451.0, 522.0, 371.0, 413.0, 294.0, 293.0, 357.0, 432.0, 268.0, 292.0, 259.0, 185.0, 177.0, 253.0, 160.0, 136.0, 191.0, 173.0, 156.0, 116.0, 144.0, 91.0, 84.0, 82.0, 100.0, 40.0, 44.0, 37.0, 71.0, 52.0, 34.0, 54.0, 31.0, 46.0, 28.0, 32.0, 29.0, 35.0, 30.0, 48.0, 22.0, 25.0, 18.0, 27.0, 13.0, 25.0, 26.0, 13.0, 15.0, 22.0, 13.0, 13.0, 17.0, 20.0, 18.0, 13.0, 14.0, 12.0, 14.0, 22.0, 12.0, 1.0, 1.0, 0.0, 8.0, 2.0, 9.0, 5.0, 0.0, 10.0, 0.0, 0.0, 7.0, 7.0, 5.0, 7.0, 6.0, 5.0, 0.0, 2.0, 2.0, 5.0, 5.0, 2.0, 3.0, 4.0, 0.0, 2.0, 0.0, 0.0, 2.0, 2.0, 2.0, 2.0, 1.0, 1.0, 2.0, 1.0, 0.0, 0.0, 2.0, 1.0, 0.0, 0.0, 1.0, 1.0, 1.0, 0.0, 1.0, 0.0, 0.0, 1.0, 0.0, 0.0, 1.0, 0.0, 1.0, 1.0, 0.0, 1.0, 0.0, 1.0, 1.0, 0.0, 0.0, 0.0, 1.0, 0.0, 0.0, 1.0, 0.0, 0.0, 0.0, 0.0, 0.0, 0.0, 0.0, 0.0, 0.0, 0.0, 0.0, 0.0, 0.0, 0.0, 0.0, 0.0, 0.0, 0.0, 0.0, 0.0, 0.0, 0.0, 0.0, 0.0, 0.0, 0.0, 0.0, 0.0, 0.0, 0.0, 0.0, 0.0, 0.0, 0.0, 0.0, 0.0, 0.0, 0.0, 0.0, 0.0, 0.0, 0.0, 0.0, 0.0, 0.0, 0.0, 0.0, 0.0, 0.0, 0.0, 0.0, 0.0, 0.0, 0.0, 0.0, 0.0, 0.0, 0.0, 0.0, 0.0, 0.0, 0.0, 0.0, 0.0, 0.0, 0.0, 0.0, 0.0, 0.0, 0.0, 0.0, 0.0, 0.0]}],\n",
       "                        {\"geo\": {\"projection\": {\"type\": \"natural earth\"}, \"showcoastlines\": true, \"showframe\": true, \"showlakes\": false}, \"template\": {\"data\": {\"bar\": [{\"error_x\": {\"color\": \"#2a3f5f\"}, \"error_y\": {\"color\": \"#2a3f5f\"}, \"marker\": {\"line\": {\"color\": \"#E5ECF6\", \"width\": 0.5}}, \"type\": \"bar\"}], \"barpolar\": [{\"marker\": {\"line\": {\"color\": \"#E5ECF6\", \"width\": 0.5}}, \"type\": \"barpolar\"}], \"carpet\": [{\"aaxis\": {\"endlinecolor\": \"#2a3f5f\", \"gridcolor\": \"white\", \"linecolor\": \"white\", \"minorgridcolor\": \"white\", \"startlinecolor\": \"#2a3f5f\"}, \"baxis\": {\"endlinecolor\": \"#2a3f5f\", \"gridcolor\": \"white\", \"linecolor\": \"white\", \"minorgridcolor\": \"white\", \"startlinecolor\": \"#2a3f5f\"}, \"type\": \"carpet\"}], \"choropleth\": [{\"colorbar\": {\"outlinewidth\": 0, \"ticks\": \"\"}, \"type\": \"choropleth\"}], \"contour\": [{\"colorbar\": {\"outlinewidth\": 0, \"ticks\": \"\"}, \"colorscale\": [[0.0, \"#0d0887\"], [0.1111111111111111, \"#46039f\"], [0.2222222222222222, \"#7201a8\"], [0.3333333333333333, \"#9c179e\"], [0.4444444444444444, \"#bd3786\"], [0.5555555555555556, \"#d8576b\"], [0.6666666666666666, \"#ed7953\"], [0.7777777777777778, \"#fb9f3a\"], [0.8888888888888888, \"#fdca26\"], [1.0, \"#f0f921\"]], \"type\": \"contour\"}], \"contourcarpet\": [{\"colorbar\": {\"outlinewidth\": 0, \"ticks\": \"\"}, \"type\": \"contourcarpet\"}], \"heatmap\": [{\"colorbar\": {\"outlinewidth\": 0, \"ticks\": \"\"}, \"colorscale\": [[0.0, \"#0d0887\"], [0.1111111111111111, \"#46039f\"], [0.2222222222222222, \"#7201a8\"], [0.3333333333333333, \"#9c179e\"], [0.4444444444444444, \"#bd3786\"], [0.5555555555555556, \"#d8576b\"], [0.6666666666666666, \"#ed7953\"], [0.7777777777777778, \"#fb9f3a\"], [0.8888888888888888, \"#fdca26\"], [1.0, \"#f0f921\"]], \"type\": \"heatmap\"}], \"heatmapgl\": [{\"colorbar\": {\"outlinewidth\": 0, \"ticks\": \"\"}, \"colorscale\": [[0.0, \"#0d0887\"], [0.1111111111111111, \"#46039f\"], [0.2222222222222222, \"#7201a8\"], [0.3333333333333333, \"#9c179e\"], [0.4444444444444444, \"#bd3786\"], [0.5555555555555556, \"#d8576b\"], [0.6666666666666666, \"#ed7953\"], [0.7777777777777778, \"#fb9f3a\"], [0.8888888888888888, \"#fdca26\"], [1.0, \"#f0f921\"]], \"type\": \"heatmapgl\"}], \"histogram\": [{\"marker\": {\"colorbar\": {\"outlinewidth\": 0, \"ticks\": \"\"}}, \"type\": \"histogram\"}], \"histogram2d\": [{\"colorbar\": {\"outlinewidth\": 0, \"ticks\": \"\"}, \"colorscale\": [[0.0, \"#0d0887\"], [0.1111111111111111, \"#46039f\"], [0.2222222222222222, \"#7201a8\"], [0.3333333333333333, \"#9c179e\"], [0.4444444444444444, \"#bd3786\"], [0.5555555555555556, \"#d8576b\"], [0.6666666666666666, \"#ed7953\"], [0.7777777777777778, \"#fb9f3a\"], [0.8888888888888888, \"#fdca26\"], [1.0, \"#f0f921\"]], \"type\": \"histogram2d\"}], \"histogram2dcontour\": [{\"colorbar\": {\"outlinewidth\": 0, \"ticks\": \"\"}, \"colorscale\": [[0.0, \"#0d0887\"], [0.1111111111111111, \"#46039f\"], [0.2222222222222222, \"#7201a8\"], [0.3333333333333333, \"#9c179e\"], [0.4444444444444444, \"#bd3786\"], [0.5555555555555556, \"#d8576b\"], [0.6666666666666666, \"#ed7953\"], [0.7777777777777778, \"#fb9f3a\"], [0.8888888888888888, \"#fdca26\"], [1.0, \"#f0f921\"]], \"type\": \"histogram2dcontour\"}], \"mesh3d\": [{\"colorbar\": {\"outlinewidth\": 0, \"ticks\": \"\"}, \"type\": \"mesh3d\"}], \"parcoords\": [{\"line\": {\"colorbar\": {\"outlinewidth\": 0, \"ticks\": \"\"}}, \"type\": \"parcoords\"}], \"pie\": [{\"automargin\": true, \"type\": \"pie\"}], \"scatter\": [{\"marker\": {\"colorbar\": {\"outlinewidth\": 0, \"ticks\": \"\"}}, \"type\": \"scatter\"}], \"scatter3d\": [{\"line\": {\"colorbar\": {\"outlinewidth\": 0, \"ticks\": \"\"}}, \"marker\": {\"colorbar\": {\"outlinewidth\": 0, \"ticks\": \"\"}}, \"type\": \"scatter3d\"}], \"scattercarpet\": [{\"marker\": {\"colorbar\": {\"outlinewidth\": 0, \"ticks\": \"\"}}, \"type\": \"scattercarpet\"}], \"scattergeo\": [{\"marker\": {\"colorbar\": {\"outlinewidth\": 0, \"ticks\": \"\"}}, \"type\": \"scattergeo\"}], \"scattergl\": [{\"marker\": {\"colorbar\": {\"outlinewidth\": 0, \"ticks\": \"\"}}, \"type\": \"scattergl\"}], \"scattermapbox\": [{\"marker\": {\"colorbar\": {\"outlinewidth\": 0, \"ticks\": \"\"}}, \"type\": \"scattermapbox\"}], \"scatterpolar\": [{\"marker\": {\"colorbar\": {\"outlinewidth\": 0, \"ticks\": \"\"}}, \"type\": \"scatterpolar\"}], \"scatterpolargl\": [{\"marker\": {\"colorbar\": {\"outlinewidth\": 0, \"ticks\": \"\"}}, \"type\": \"scatterpolargl\"}], \"scatterternary\": [{\"marker\": {\"colorbar\": {\"outlinewidth\": 0, \"ticks\": \"\"}}, \"type\": \"scatterternary\"}], \"surface\": [{\"colorbar\": {\"outlinewidth\": 0, \"ticks\": \"\"}, \"colorscale\": [[0.0, \"#0d0887\"], [0.1111111111111111, \"#46039f\"], [0.2222222222222222, \"#7201a8\"], [0.3333333333333333, \"#9c179e\"], [0.4444444444444444, \"#bd3786\"], [0.5555555555555556, \"#d8576b\"], [0.6666666666666666, \"#ed7953\"], [0.7777777777777778, \"#fb9f3a\"], [0.8888888888888888, \"#fdca26\"], [1.0, \"#f0f921\"]], \"type\": \"surface\"}], \"table\": [{\"cells\": {\"fill\": {\"color\": \"#EBF0F8\"}, \"line\": {\"color\": \"white\"}}, \"header\": {\"fill\": {\"color\": \"#C8D4E3\"}, \"line\": {\"color\": \"white\"}}, \"type\": \"table\"}]}, \"layout\": {\"annotationdefaults\": {\"arrowcolor\": \"#2a3f5f\", \"arrowhead\": 0, \"arrowwidth\": 1}, \"coloraxis\": {\"colorbar\": {\"outlinewidth\": 0, \"ticks\": \"\"}}, \"colorscale\": {\"diverging\": [[0, \"#8e0152\"], [0.1, \"#c51b7d\"], [0.2, \"#de77ae\"], [0.3, \"#f1b6da\"], [0.4, \"#fde0ef\"], [0.5, \"#f7f7f7\"], [0.6, \"#e6f5d0\"], [0.7, \"#b8e186\"], [0.8, \"#7fbc41\"], [0.9, \"#4d9221\"], [1, \"#276419\"]], \"sequential\": [[0.0, \"#0d0887\"], [0.1111111111111111, \"#46039f\"], [0.2222222222222222, \"#7201a8\"], [0.3333333333333333, \"#9c179e\"], [0.4444444444444444, \"#bd3786\"], [0.5555555555555556, \"#d8576b\"], [0.6666666666666666, \"#ed7953\"], [0.7777777777777778, \"#fb9f3a\"], [0.8888888888888888, \"#fdca26\"], [1.0, \"#f0f921\"]], \"sequentialminus\": [[0.0, \"#0d0887\"], [0.1111111111111111, \"#46039f\"], [0.2222222222222222, \"#7201a8\"], [0.3333333333333333, \"#9c179e\"], [0.4444444444444444, \"#bd3786\"], [0.5555555555555556, \"#d8576b\"], [0.6666666666666666, \"#ed7953\"], [0.7777777777777778, \"#fb9f3a\"], [0.8888888888888888, \"#fdca26\"], [1.0, \"#f0f921\"]]}, \"colorway\": [\"#636efa\", \"#EF553B\", \"#00cc96\", \"#ab63fa\", \"#FFA15A\", \"#19d3f3\", \"#FF6692\", \"#B6E880\", \"#FF97FF\", \"#FECB52\"], \"font\": {\"color\": \"#2a3f5f\"}, \"geo\": {\"bgcolor\": \"white\", \"lakecolor\": \"white\", \"landcolor\": \"#E5ECF6\", \"showlakes\": true, \"showland\": true, \"subunitcolor\": \"white\"}, \"hoverlabel\": {\"align\": \"left\"}, \"hovermode\": \"closest\", \"mapbox\": {\"style\": \"light\"}, \"paper_bgcolor\": \"white\", \"plot_bgcolor\": \"#E5ECF6\", \"polar\": {\"angularaxis\": {\"gridcolor\": \"white\", \"linecolor\": \"white\", \"ticks\": \"\"}, \"bgcolor\": \"#E5ECF6\", \"radialaxis\": {\"gridcolor\": \"white\", \"linecolor\": \"white\", \"ticks\": \"\"}}, \"scene\": {\"xaxis\": {\"backgroundcolor\": \"#E5ECF6\", \"gridcolor\": \"white\", \"gridwidth\": 2, \"linecolor\": \"white\", \"showbackground\": true, \"ticks\": \"\", \"zerolinecolor\": \"white\"}, \"yaxis\": {\"backgroundcolor\": \"#E5ECF6\", \"gridcolor\": \"white\", \"gridwidth\": 2, \"linecolor\": \"white\", \"showbackground\": true, \"ticks\": \"\", \"zerolinecolor\": \"white\"}, \"zaxis\": {\"backgroundcolor\": \"#E5ECF6\", \"gridcolor\": \"white\", \"gridwidth\": 2, \"linecolor\": \"white\", \"showbackground\": true, \"ticks\": \"\", \"zerolinecolor\": \"white\"}}, \"shapedefaults\": {\"line\": {\"color\": \"#2a3f5f\"}}, \"ternary\": {\"aaxis\": {\"gridcolor\": \"white\", \"linecolor\": \"white\", \"ticks\": \"\"}, \"baxis\": {\"gridcolor\": \"white\", \"linecolor\": \"white\", \"ticks\": \"\"}, \"bgcolor\": \"#E5ECF6\", \"caxis\": {\"gridcolor\": \"white\", \"linecolor\": \"white\", \"ticks\": \"\"}}, \"title\": {\"x\": 0.05}, \"xaxis\": {\"automargin\": true, \"gridcolor\": \"white\", \"linecolor\": \"white\", \"ticks\": \"\", \"title\": {\"standoff\": 15}, \"zerolinecolor\": \"white\", \"zerolinewidth\": 2}, \"yaxis\": {\"automargin\": true, \"gridcolor\": \"white\", \"linecolor\": \"white\", \"ticks\": \"\", \"title\": {\"standoff\": 15}, \"zerolinecolor\": \"white\", \"zerolinewidth\": 2}}}, \"title\": {\"text\": \"Total Bronze Medals Won by Country Over All Olympic Competitions\"}},\n",
       "                        {\"responsive\": true}\n",
       "                    ).then(function(){\n",
       "                            \n",
       "var gd = document.getElementById('4eb6ab6f-469c-4139-a3ea-a0116c5e5780');\n",
       "var x = new MutationObserver(function (mutations, observer) {{\n",
       "        var display = window.getComputedStyle(gd).display;\n",
       "        if (!display || display === 'none') {{\n",
       "            console.log([gd, 'removed!']);\n",
       "            Plotly.purge(gd);\n",
       "            observer.disconnect();\n",
       "        }}\n",
       "}});\n",
       "\n",
       "// Listen for the removal of the full notebook cells\n",
       "var notebookContainer = gd.closest('#notebook-container');\n",
       "if (notebookContainer) {{\n",
       "    x.observe(notebookContainer, {childList: true});\n",
       "}}\n",
       "\n",
       "// Listen for the clearing of the current output cell\n",
       "var outputEl = gd.closest('.output');\n",
       "if (outputEl) {{\n",
       "    x.observe(outputEl, {childList: true});\n",
       "}}\n",
       "\n",
       "                        })\n",
       "                };\n",
       "                });\n",
       "            </script>\n",
       "        </div>"
      ]
     },
     "metadata": {},
     "output_type": "display_data"
    }
   ],
   "source": [
    "create_map(medals_per_country_map, 'Bronze', 'Reds')"
   ]
  },
  {
   "cell_type": "code",
   "execution_count": null,
   "metadata": {},
   "outputs": [],
   "source": []
  },
  {
   "cell_type": "code",
   "execution_count": null,
   "metadata": {},
   "outputs": [],
   "source": []
  },
  {
   "cell_type": "code",
   "execution_count": null,
   "metadata": {},
   "outputs": [],
   "source": []
  },
  {
   "cell_type": "markdown",
   "metadata": {},
   "source": [
    "## Proportion of Athletes Winning Medals by Country"
   ]
  },
  {
   "cell_type": "code",
   "execution_count": 118,
   "metadata": {
    "scrolled": true
   },
   "outputs": [
    {
     "data": {
      "text/html": [
       "<div>\n",
       "<style scoped>\n",
       "    .dataframe tbody tr th:only-of-type {\n",
       "        vertical-align: middle;\n",
       "    }\n",
       "\n",
       "    .dataframe tbody tr th {\n",
       "        vertical-align: top;\n",
       "    }\n",
       "\n",
       "    .dataframe thead th {\n",
       "        text-align: right;\n",
       "    }\n",
       "</style>\n",
       "<table border=\"1\" class=\"dataframe\">\n",
       "  <thead>\n",
       "    <tr style=\"text-align: right;\">\n",
       "      <th></th>\n",
       "      <th>NOC</th>\n",
       "      <th>Bronze</th>\n",
       "      <th>Gold</th>\n",
       "      <th>None</th>\n",
       "      <th>Silver</th>\n",
       "      <th>Total Medals</th>\n",
       "      <th>region</th>\n",
       "    </tr>\n",
       "  </thead>\n",
       "  <tbody>\n",
       "    <tr>\n",
       "      <th>200</th>\n",
       "      <td>RUS</td>\n",
       "      <td>10.08</td>\n",
       "      <td>13.68</td>\n",
       "      <td>66.24</td>\n",
       "      <td>10.01</td>\n",
       "      <td>33.76</td>\n",
       "      <td>Russia</td>\n",
       "    </tr>\n",
       "    <tr>\n",
       "      <th>0</th>\n",
       "      <td>USA</td>\n",
       "      <td>7.20</td>\n",
       "      <td>13.99</td>\n",
       "      <td>70.10</td>\n",
       "      <td>8.70</td>\n",
       "      <td>29.90</td>\n",
       "      <td>USA</td>\n",
       "    </tr>\n",
       "    <tr>\n",
       "      <th>196</th>\n",
       "      <td>GER</td>\n",
       "      <td>7.93</td>\n",
       "      <td>8.19</td>\n",
       "      <td>76.35</td>\n",
       "      <td>7.52</td>\n",
       "      <td>23.65</td>\n",
       "      <td>Germany</td>\n",
       "    </tr>\n",
       "    <tr>\n",
       "      <th>29</th>\n",
       "      <td>PAK</td>\n",
       "      <td>6.05</td>\n",
       "      <td>7.47</td>\n",
       "      <td>78.47</td>\n",
       "      <td>8.01</td>\n",
       "      <td>21.53</td>\n",
       "      <td>Pakistan</td>\n",
       "    </tr>\n",
       "    <tr>\n",
       "      <th>7</th>\n",
       "      <td>NOR</td>\n",
       "      <td>5.93</td>\n",
       "      <td>7.62</td>\n",
       "      <td>79.17</td>\n",
       "      <td>7.28</td>\n",
       "      <td>20.83</td>\n",
       "      <td>Norway</td>\n",
       "    </tr>\n",
       "  </tbody>\n",
       "</table>\n",
       "</div>"
      ],
      "text/plain": [
       "     NOC  Bronze   Gold   None  Silver  Total Medals    region\n",
       "200  RUS   10.08  13.68  66.24   10.01         33.76    Russia\n",
       "0    USA    7.20  13.99  70.10    8.70         29.90       USA\n",
       "196  GER    7.93   8.19  76.35    7.52         23.65   Germany\n",
       "29   PAK    6.05   7.47  78.47    8.01         21.53  Pakistan\n",
       "7    NOR    5.93   7.62  79.17    7.28         20.83    Norway"
      ]
     },
     "execution_count": 118,
     "metadata": {},
     "output_type": "execute_result"
    }
   ],
   "source": [
    "propor_map.head()"
   ]
  },
  {
   "cell_type": "code",
   "execution_count": 119,
   "metadata": {},
   "outputs": [
    {
     "data": {
      "application/vnd.plotly.v1+json": {
       "config": {
        "linkText": "Export to plot.ly",
        "plotlyServerURL": "https://plot.ly",
        "showLink": false
       },
       "data": [
        {
         "autocolorscale": false,
         "colorbar": {
          "tickprefix": "",
          "title": {
           "text": "Total Medals"
          }
         },
         "colorscale": [
          [
           0,
           "rgb(150,0,90)"
          ],
          [
           0.125,
           "rgb(0,0,200)"
          ],
          [
           0.25,
           "rgb(0,25,255)"
          ],
          [
           0.375,
           "rgb(0,152,255)"
          ],
          [
           0.5,
           "rgb(44,255,150)"
          ],
          [
           0.625,
           "rgb(151,255,0)"
          ],
          [
           0.75,
           "rgb(255,234,0)"
          ],
          [
           0.875,
           "rgb(255,111,0)"
          ],
          [
           1,
           "rgb(255,0,0)"
          ]
         ],
         "locationmode": "country names",
         "locations": [
          "Russia",
          "USA",
          "Germany",
          "Pakistan",
          "Norway",
          "Jamaica",
          "Sweden",
          "Netherlands",
          "Australia",
          "Hungary",
          "China",
          "Croatia",
          "UK",
          "Denmark",
          "Cuba",
          "Finland",
          "Serbia",
          "Azerbaijan",
          "Italy",
          "Montenegro",
          "Romania",
          "South Korea",
          "Ethiopia",
          "India",
          "France",
          "Canada",
          "Kenya",
          "Paraguay",
          "Kosovo",
          "Brazil",
          "Belgium",
          "Switzerland",
          "Nigeria",
          "Georgia",
          "Uruguay",
          "Japan",
          "Bahamas",
          "Czech Republic",
          "Indonesia",
          "New Zealand",
          "Bulgaria",
          "Trinidad",
          "Lithuania",
          "Spain",
          "Poland",
          "Austria",
          "Iran",
          "Argentina",
          "North Korea",
          "Greece",
          "Belarus",
          "Ukraine",
          "South Africa",
          "Armenia",
          "Cameroon",
          "Turkey",
          "Uzbekistan",
          "Zimbabwe",
          "Haiti",
          "Ghana",
          "Tajikistan",
          "Estonia",
          "Fiji",
          "Kazakhstan",
          "Individual Olympic Athletes",
          "Namibia",
          "Burundi",
          "Mongolia",
          "Taiwan",
          "Slovakia",
          "Slovenia",
          "Niger",
          "Thailand",
          "Mexico",
          "Grenada",
          "Latvia",
          "Chile",
          "Moldova",
          "Morocco",
          "Algeria",
          "Suriname",
          "Peru",
          "Malaysia",
          "Iceland",
          "Uganda",
          "Portugal",
          "Ireland",
          "Djibouti",
          "Colombia",
          "Saudi Arabia",
          "Qatar",
          "Vietnam",
          "Mozambique",
          "Dominican Republic",
          "Liechtenstein",
          "Bahrain",
          "Eritrea",
          "Tunisia",
          "Tonga",
          "Panama",
          "Vietnam",
          "Syria",
          "Togo",
          "Egypt",
          "Venezuela",
          "Afghanistan",
          "Gabon",
          "Ivory Coast",
          "Costa Rica",
          "Philippines",
          "United Arab Emirates",
          "Sri Lanka",
          "Israel",
          "Kyrgyzstan",
          "Curacao",
          "Jordan",
          "Tanzania",
          "Lebanon",
          "Macedonia",
          "Botswana",
          "Zambia",
          "Nepal",
          "Guyana",
          "Puerto Rico",
          "Sudan",
          "Luxembourg",
          "Ecuador",
          "Kuwait",
          "Mauritius",
          "Monaco",
          "Bermuda",
          "Barbados",
          "Cyprus",
          "Iraq",
          "Virgin Islands, US",
          "Senegal",
          "Guatemala",
          "Madagascar",
          "Saint Vincent",
          "Benin",
          "Swaziland",
          "Vanuatu",
          "Andorra",
          "Angola",
          "Antigua",
          null,
          "Saint Kitts",
          "Turkmenistan",
          "Timor-Leste",
          "Aruba",
          "American Samoa",
          null,
          "Guinea-Bissau",
          "Seychelles",
          "Laos",
          "Malawi",
          "Micronesia",
          "Marshall Islands",
          "Comoros",
          "Lesotho",
          "Saint Lucia",
          "Liberia",
          "Libya",
          "Cape Verde",
          "Kiribati",
          "Cook Islands",
          "Vietnam",
          "Dominica",
          "El Salvador",
          "Honduras",
          "Guam",
          "Guinea",
          "Maldives",
          "Central African Republic",
          "Gambia",
          "Mali",
          "Samoa",
          "Palestine",
          "Rwanda",
          "Boliva",
          null,
          "Republic of Congo",
          "Burkina Faso",
          "Brunei",
          "Papua New Guinea",
          "Palau",
          "Cambodia",
          "Malta",
          "Equatorial Guinea",
          "Cayman Islands",
          "Bhutan",
          "Nauru",
          "Nicaragua",
          "Chad",
          "Democratic Republic of the Congo",
          "Myanmar",
          "Mauritania",
          "Oman",
          "Sao Tome and Principe",
          "Yemen",
          "Sierra Leone",
          "Belize",
          "San Marino",
          "Solomon Islands",
          "Albania",
          "Somalia",
          "Bosnia and Herzegovina",
          "Bangladesh",
          "South Sudan",
          "Virgin Islands, British"
         ],
         "marker": {
          "line": {
           "color": "rgb(0,0,0)",
           "width": 0.5
          }
         },
         "reversescale": true,
         "text": [
          "Russia",
          "USA",
          "Germany",
          "Pakistan",
          "Norway",
          "Jamaica",
          "Sweden",
          "Netherlands",
          "Australia",
          "Hungary",
          "China",
          "Croatia",
          "UK",
          "Denmark",
          "Cuba",
          "Finland",
          "Serbia",
          "Azerbaijan",
          "Italy",
          "Montenegro",
          "Romania",
          "South Korea",
          "Ethiopia",
          "India",
          "France",
          "Canada",
          "Kenya",
          "Paraguay",
          "Kosovo",
          "Brazil",
          "Belgium",
          "Switzerland",
          "Nigeria",
          "Georgia",
          "Uruguay",
          "Japan",
          "Bahamas",
          "Czech Republic",
          "Indonesia",
          "New Zealand",
          "Bulgaria",
          "Trinidad",
          "Lithuania",
          "Spain",
          "Poland",
          "Austria",
          "Iran",
          "Argentina",
          "North Korea",
          "Greece",
          "Belarus",
          "Ukraine",
          "South Africa",
          "Armenia",
          "Cameroon",
          "Turkey",
          "Uzbekistan",
          "Zimbabwe",
          "Haiti",
          "Ghana",
          "Tajikistan",
          "Estonia",
          "Fiji",
          "Kazakhstan",
          "Individual Olympic Athletes",
          "Namibia",
          "Burundi",
          "Mongolia",
          "Taiwan",
          "Slovakia",
          "Slovenia",
          "Niger",
          "Thailand",
          "Mexico",
          "Grenada",
          "Latvia",
          "Chile",
          "Moldova",
          "Morocco",
          "Algeria",
          "Suriname",
          "Peru",
          "Malaysia",
          "Iceland",
          "Uganda",
          "Portugal",
          "Ireland",
          "Djibouti",
          "Colombia",
          "Saudi Arabia",
          "Qatar",
          "Vietnam",
          "Mozambique",
          "Dominican Republic",
          "Liechtenstein",
          "Bahrain",
          "Eritrea",
          "Tunisia",
          "Tonga",
          "Panama",
          "Vietnam",
          "Syria",
          "Togo",
          "Egypt",
          "Venezuela",
          "Afghanistan",
          "Gabon",
          "Ivory Coast",
          "Costa Rica",
          "Philippines",
          "United Arab Emirates",
          "Sri Lanka",
          "Israel",
          "Kyrgyzstan",
          "Curacao",
          "Jordan",
          "Tanzania",
          "Lebanon",
          "Macedonia",
          "Botswana",
          "Zambia",
          "Nepal",
          "Guyana",
          "Puerto Rico",
          "Sudan",
          "Luxembourg",
          "Ecuador",
          "Kuwait",
          "Mauritius",
          "Monaco",
          "Bermuda",
          "Barbados",
          "Cyprus",
          "Iraq",
          "Virgin Islands, US",
          "Senegal",
          "Guatemala",
          "Madagascar",
          "Saint Vincent",
          "Benin",
          "Swaziland",
          "Vanuatu",
          "Andorra",
          "Angola",
          "Antigua",
          null,
          "Saint Kitts",
          "Turkmenistan",
          "Timor-Leste",
          "Aruba",
          "American Samoa",
          null,
          "Guinea-Bissau",
          "Seychelles",
          "Laos",
          "Malawi",
          "Micronesia",
          "Marshall Islands",
          "Comoros",
          "Lesotho",
          "Saint Lucia",
          "Liberia",
          "Libya",
          "Cape Verde",
          "Kiribati",
          "Cook Islands",
          "Vietnam",
          "Dominica",
          "El Salvador",
          "Honduras",
          "Guam",
          "Guinea",
          "Maldives",
          "Central African Republic",
          "Gambia",
          "Mali",
          "Samoa",
          "Palestine",
          "Rwanda",
          "Boliva",
          null,
          "Republic of Congo",
          "Burkina Faso",
          "Brunei",
          "Papua New Guinea",
          "Palau",
          "Cambodia",
          "Malta",
          "Equatorial Guinea",
          "Cayman Islands",
          "Bhutan",
          "Nauru",
          "Nicaragua",
          "Chad",
          "Democratic Republic of the Congo",
          "Myanmar",
          "Mauritania",
          "Oman",
          "Sao Tome and Principe",
          "Yemen",
          "Sierra Leone",
          "Belize",
          "San Marino",
          "Solomon Islands",
          "Albania",
          "Somalia",
          "Bosnia and Herzegovina",
          "Bangladesh",
          "South Sudan",
          "Virgin Islands, British"
         ],
         "type": "choropleth",
         "z": [
          33.76,
          29.9,
          23.65,
          21.53,
          20.83,
          18.51,
          18.42,
          17.81,
          17.47,
          17.18,
          17.04,
          17.01,
          16.87,
          16.72,
          16.5,
          16.46,
          16.35,
          15.55,
          15.28,
          14.89,
          14.82,
          14.29,
          14.02,
          13.99,
          13.93,
          13.89,
          13.73,
          12.59,
          12.5,
          12.34,
          12.13,
          11.24,
          11.22,
          11.19,
          10.94,
          10.81,
          10.7,
          10.01,
          9.95,
          9.74,
          9.69,
          9.37,
          9.33,
          9.2,
          9.1,
          8.75,
          8.62,
          8.31,
          8.3,
          7.99,
          7.78,
          7.78,
          7.66,
          7.24,
          7.05,
          7.01,
          6.87,
          6.81,
          6.6,
          6.41,
          5.71,
          5.71,
          5.6,
          5.39,
          5.32,
          5.19,
          5.13,
          4.73,
          4.47,
          4.45,
          4.32,
          4.26,
          4.02,
          3.82,
          3.7,
          3.68,
          3.46,
          3.42,
          3.37,
          3.09,
          2.9,
          2.82,
          2.77,
          2.71,
          2.69,
          2.69,
          2.64,
          2.63,
          2.62,
          2.61,
          2.6,
          2.6,
          2.56,
          2.53,
          2.44,
          2.38,
          2.33,
          2.32,
          2.17,
          2.16,
          1.85,
          1.79,
          1.69,
          1.66,
          1.62,
          1.59,
          1.59,
          1.55,
          1.52,
          1.44,
          1.39,
          1.37,
          1.35,
          1.32,
          1.27,
          1.25,
          1.24,
          1.22,
          1.19,
          1.11,
          1.09,
          1.06,
          0.98,
          0.97,
          0.93,
          0.8,
          0.72,
          0.7,
          0.69,
          0.51,
          0.47,
          0.46,
          0.44,
          0.43,
          0.34,
          0.25,
          0.24,
          0,
          0,
          0,
          0,
          0,
          0,
          0,
          0,
          0,
          0,
          0,
          0,
          0,
          0,
          0,
          0,
          0,
          0,
          0,
          0,
          0,
          0,
          0,
          0,
          0,
          0,
          0,
          0,
          0,
          0,
          0,
          0,
          0,
          0,
          0,
          0,
          0,
          0,
          0,
          0,
          0,
          0,
          0,
          0,
          0,
          0,
          0,
          0,
          0,
          0,
          0,
          0,
          0,
          0,
          0,
          0,
          0,
          0,
          0,
          0,
          0,
          0,
          0,
          0,
          0,
          0,
          0,
          0,
          0,
          0,
          0,
          0,
          0
         ]
        }
       ],
       "layout": {
        "geo": {
         "projection": {
          "type": "natural earth"
         },
         "showcoastlines": true,
         "showframe": true,
         "showlakes": false
        },
        "template": {
         "data": {
          "bar": [
           {
            "error_x": {
             "color": "#2a3f5f"
            },
            "error_y": {
             "color": "#2a3f5f"
            },
            "marker": {
             "line": {
              "color": "#E5ECF6",
              "width": 0.5
             }
            },
            "type": "bar"
           }
          ],
          "barpolar": [
           {
            "marker": {
             "line": {
              "color": "#E5ECF6",
              "width": 0.5
             }
            },
            "type": "barpolar"
           }
          ],
          "carpet": [
           {
            "aaxis": {
             "endlinecolor": "#2a3f5f",
             "gridcolor": "white",
             "linecolor": "white",
             "minorgridcolor": "white",
             "startlinecolor": "#2a3f5f"
            },
            "baxis": {
             "endlinecolor": "#2a3f5f",
             "gridcolor": "white",
             "linecolor": "white",
             "minorgridcolor": "white",
             "startlinecolor": "#2a3f5f"
            },
            "type": "carpet"
           }
          ],
          "choropleth": [
           {
            "colorbar": {
             "outlinewidth": 0,
             "ticks": ""
            },
            "type": "choropleth"
           }
          ],
          "contour": [
           {
            "colorbar": {
             "outlinewidth": 0,
             "ticks": ""
            },
            "colorscale": [
             [
              0,
              "#0d0887"
             ],
             [
              0.1111111111111111,
              "#46039f"
             ],
             [
              0.2222222222222222,
              "#7201a8"
             ],
             [
              0.3333333333333333,
              "#9c179e"
             ],
             [
              0.4444444444444444,
              "#bd3786"
             ],
             [
              0.5555555555555556,
              "#d8576b"
             ],
             [
              0.6666666666666666,
              "#ed7953"
             ],
             [
              0.7777777777777778,
              "#fb9f3a"
             ],
             [
              0.8888888888888888,
              "#fdca26"
             ],
             [
              1,
              "#f0f921"
             ]
            ],
            "type": "contour"
           }
          ],
          "contourcarpet": [
           {
            "colorbar": {
             "outlinewidth": 0,
             "ticks": ""
            },
            "type": "contourcarpet"
           }
          ],
          "heatmap": [
           {
            "colorbar": {
             "outlinewidth": 0,
             "ticks": ""
            },
            "colorscale": [
             [
              0,
              "#0d0887"
             ],
             [
              0.1111111111111111,
              "#46039f"
             ],
             [
              0.2222222222222222,
              "#7201a8"
             ],
             [
              0.3333333333333333,
              "#9c179e"
             ],
             [
              0.4444444444444444,
              "#bd3786"
             ],
             [
              0.5555555555555556,
              "#d8576b"
             ],
             [
              0.6666666666666666,
              "#ed7953"
             ],
             [
              0.7777777777777778,
              "#fb9f3a"
             ],
             [
              0.8888888888888888,
              "#fdca26"
             ],
             [
              1,
              "#f0f921"
             ]
            ],
            "type": "heatmap"
           }
          ],
          "heatmapgl": [
           {
            "colorbar": {
             "outlinewidth": 0,
             "ticks": ""
            },
            "colorscale": [
             [
              0,
              "#0d0887"
             ],
             [
              0.1111111111111111,
              "#46039f"
             ],
             [
              0.2222222222222222,
              "#7201a8"
             ],
             [
              0.3333333333333333,
              "#9c179e"
             ],
             [
              0.4444444444444444,
              "#bd3786"
             ],
             [
              0.5555555555555556,
              "#d8576b"
             ],
             [
              0.6666666666666666,
              "#ed7953"
             ],
             [
              0.7777777777777778,
              "#fb9f3a"
             ],
             [
              0.8888888888888888,
              "#fdca26"
             ],
             [
              1,
              "#f0f921"
             ]
            ],
            "type": "heatmapgl"
           }
          ],
          "histogram": [
           {
            "marker": {
             "colorbar": {
              "outlinewidth": 0,
              "ticks": ""
             }
            },
            "type": "histogram"
           }
          ],
          "histogram2d": [
           {
            "colorbar": {
             "outlinewidth": 0,
             "ticks": ""
            },
            "colorscale": [
             [
              0,
              "#0d0887"
             ],
             [
              0.1111111111111111,
              "#46039f"
             ],
             [
              0.2222222222222222,
              "#7201a8"
             ],
             [
              0.3333333333333333,
              "#9c179e"
             ],
             [
              0.4444444444444444,
              "#bd3786"
             ],
             [
              0.5555555555555556,
              "#d8576b"
             ],
             [
              0.6666666666666666,
              "#ed7953"
             ],
             [
              0.7777777777777778,
              "#fb9f3a"
             ],
             [
              0.8888888888888888,
              "#fdca26"
             ],
             [
              1,
              "#f0f921"
             ]
            ],
            "type": "histogram2d"
           }
          ],
          "histogram2dcontour": [
           {
            "colorbar": {
             "outlinewidth": 0,
             "ticks": ""
            },
            "colorscale": [
             [
              0,
              "#0d0887"
             ],
             [
              0.1111111111111111,
              "#46039f"
             ],
             [
              0.2222222222222222,
              "#7201a8"
             ],
             [
              0.3333333333333333,
              "#9c179e"
             ],
             [
              0.4444444444444444,
              "#bd3786"
             ],
             [
              0.5555555555555556,
              "#d8576b"
             ],
             [
              0.6666666666666666,
              "#ed7953"
             ],
             [
              0.7777777777777778,
              "#fb9f3a"
             ],
             [
              0.8888888888888888,
              "#fdca26"
             ],
             [
              1,
              "#f0f921"
             ]
            ],
            "type": "histogram2dcontour"
           }
          ],
          "mesh3d": [
           {
            "colorbar": {
             "outlinewidth": 0,
             "ticks": ""
            },
            "type": "mesh3d"
           }
          ],
          "parcoords": [
           {
            "line": {
             "colorbar": {
              "outlinewidth": 0,
              "ticks": ""
             }
            },
            "type": "parcoords"
           }
          ],
          "pie": [
           {
            "automargin": true,
            "type": "pie"
           }
          ],
          "scatter": [
           {
            "marker": {
             "colorbar": {
              "outlinewidth": 0,
              "ticks": ""
             }
            },
            "type": "scatter"
           }
          ],
          "scatter3d": [
           {
            "line": {
             "colorbar": {
              "outlinewidth": 0,
              "ticks": ""
             }
            },
            "marker": {
             "colorbar": {
              "outlinewidth": 0,
              "ticks": ""
             }
            },
            "type": "scatter3d"
           }
          ],
          "scattercarpet": [
           {
            "marker": {
             "colorbar": {
              "outlinewidth": 0,
              "ticks": ""
             }
            },
            "type": "scattercarpet"
           }
          ],
          "scattergeo": [
           {
            "marker": {
             "colorbar": {
              "outlinewidth": 0,
              "ticks": ""
             }
            },
            "type": "scattergeo"
           }
          ],
          "scattergl": [
           {
            "marker": {
             "colorbar": {
              "outlinewidth": 0,
              "ticks": ""
             }
            },
            "type": "scattergl"
           }
          ],
          "scattermapbox": [
           {
            "marker": {
             "colorbar": {
              "outlinewidth": 0,
              "ticks": ""
             }
            },
            "type": "scattermapbox"
           }
          ],
          "scatterpolar": [
           {
            "marker": {
             "colorbar": {
              "outlinewidth": 0,
              "ticks": ""
             }
            },
            "type": "scatterpolar"
           }
          ],
          "scatterpolargl": [
           {
            "marker": {
             "colorbar": {
              "outlinewidth": 0,
              "ticks": ""
             }
            },
            "type": "scatterpolargl"
           }
          ],
          "scatterternary": [
           {
            "marker": {
             "colorbar": {
              "outlinewidth": 0,
              "ticks": ""
             }
            },
            "type": "scatterternary"
           }
          ],
          "surface": [
           {
            "colorbar": {
             "outlinewidth": 0,
             "ticks": ""
            },
            "colorscale": [
             [
              0,
              "#0d0887"
             ],
             [
              0.1111111111111111,
              "#46039f"
             ],
             [
              0.2222222222222222,
              "#7201a8"
             ],
             [
              0.3333333333333333,
              "#9c179e"
             ],
             [
              0.4444444444444444,
              "#bd3786"
             ],
             [
              0.5555555555555556,
              "#d8576b"
             ],
             [
              0.6666666666666666,
              "#ed7953"
             ],
             [
              0.7777777777777778,
              "#fb9f3a"
             ],
             [
              0.8888888888888888,
              "#fdca26"
             ],
             [
              1,
              "#f0f921"
             ]
            ],
            "type": "surface"
           }
          ],
          "table": [
           {
            "cells": {
             "fill": {
              "color": "#EBF0F8"
             },
             "line": {
              "color": "white"
             }
            },
            "header": {
             "fill": {
              "color": "#C8D4E3"
             },
             "line": {
              "color": "white"
             }
            },
            "type": "table"
           }
          ]
         },
         "layout": {
          "annotationdefaults": {
           "arrowcolor": "#2a3f5f",
           "arrowhead": 0,
           "arrowwidth": 1
          },
          "coloraxis": {
           "colorbar": {
            "outlinewidth": 0,
            "ticks": ""
           }
          },
          "colorscale": {
           "diverging": [
            [
             0,
             "#8e0152"
            ],
            [
             0.1,
             "#c51b7d"
            ],
            [
             0.2,
             "#de77ae"
            ],
            [
             0.3,
             "#f1b6da"
            ],
            [
             0.4,
             "#fde0ef"
            ],
            [
             0.5,
             "#f7f7f7"
            ],
            [
             0.6,
             "#e6f5d0"
            ],
            [
             0.7,
             "#b8e186"
            ],
            [
             0.8,
             "#7fbc41"
            ],
            [
             0.9,
             "#4d9221"
            ],
            [
             1,
             "#276419"
            ]
           ],
           "sequential": [
            [
             0,
             "#0d0887"
            ],
            [
             0.1111111111111111,
             "#46039f"
            ],
            [
             0.2222222222222222,
             "#7201a8"
            ],
            [
             0.3333333333333333,
             "#9c179e"
            ],
            [
             0.4444444444444444,
             "#bd3786"
            ],
            [
             0.5555555555555556,
             "#d8576b"
            ],
            [
             0.6666666666666666,
             "#ed7953"
            ],
            [
             0.7777777777777778,
             "#fb9f3a"
            ],
            [
             0.8888888888888888,
             "#fdca26"
            ],
            [
             1,
             "#f0f921"
            ]
           ],
           "sequentialminus": [
            [
             0,
             "#0d0887"
            ],
            [
             0.1111111111111111,
             "#46039f"
            ],
            [
             0.2222222222222222,
             "#7201a8"
            ],
            [
             0.3333333333333333,
             "#9c179e"
            ],
            [
             0.4444444444444444,
             "#bd3786"
            ],
            [
             0.5555555555555556,
             "#d8576b"
            ],
            [
             0.6666666666666666,
             "#ed7953"
            ],
            [
             0.7777777777777778,
             "#fb9f3a"
            ],
            [
             0.8888888888888888,
             "#fdca26"
            ],
            [
             1,
             "#f0f921"
            ]
           ]
          },
          "colorway": [
           "#636efa",
           "#EF553B",
           "#00cc96",
           "#ab63fa",
           "#FFA15A",
           "#19d3f3",
           "#FF6692",
           "#B6E880",
           "#FF97FF",
           "#FECB52"
          ],
          "font": {
           "color": "#2a3f5f"
          },
          "geo": {
           "bgcolor": "white",
           "lakecolor": "white",
           "landcolor": "#E5ECF6",
           "showlakes": true,
           "showland": true,
           "subunitcolor": "white"
          },
          "hoverlabel": {
           "align": "left"
          },
          "hovermode": "closest",
          "mapbox": {
           "style": "light"
          },
          "paper_bgcolor": "white",
          "plot_bgcolor": "#E5ECF6",
          "polar": {
           "angularaxis": {
            "gridcolor": "white",
            "linecolor": "white",
            "ticks": ""
           },
           "bgcolor": "#E5ECF6",
           "radialaxis": {
            "gridcolor": "white",
            "linecolor": "white",
            "ticks": ""
           }
          },
          "scene": {
           "xaxis": {
            "backgroundcolor": "#E5ECF6",
            "gridcolor": "white",
            "gridwidth": 2,
            "linecolor": "white",
            "showbackground": true,
            "ticks": "",
            "zerolinecolor": "white"
           },
           "yaxis": {
            "backgroundcolor": "#E5ECF6",
            "gridcolor": "white",
            "gridwidth": 2,
            "linecolor": "white",
            "showbackground": true,
            "ticks": "",
            "zerolinecolor": "white"
           },
           "zaxis": {
            "backgroundcolor": "#E5ECF6",
            "gridcolor": "white",
            "gridwidth": 2,
            "linecolor": "white",
            "showbackground": true,
            "ticks": "",
            "zerolinecolor": "white"
           }
          },
          "shapedefaults": {
           "line": {
            "color": "#2a3f5f"
           }
          },
          "ternary": {
           "aaxis": {
            "gridcolor": "white",
            "linecolor": "white",
            "ticks": ""
           },
           "baxis": {
            "gridcolor": "white",
            "linecolor": "white",
            "ticks": ""
           },
           "bgcolor": "#E5ECF6",
           "caxis": {
            "gridcolor": "white",
            "linecolor": "white",
            "ticks": ""
           }
          },
          "title": {
           "x": 0.05
          },
          "xaxis": {
           "automargin": true,
           "gridcolor": "white",
           "linecolor": "white",
           "ticks": "",
           "title": {
            "standoff": 15
           },
           "zerolinecolor": "white",
           "zerolinewidth": 2
          },
          "yaxis": {
           "automargin": true,
           "gridcolor": "white",
           "linecolor": "white",
           "ticks": "",
           "title": {
            "standoff": 15
           },
           "zerolinecolor": "white",
           "zerolinewidth": 2
          }
         }
        },
        "title": {
         "text": "Proportion of Country's Athletes Earning Olympic Medals"
        }
       }
      },
      "text/html": [
       "<div>\n",
       "        \n",
       "        \n",
       "            <div id=\"761251c2-faf1-46b6-ada1-4123e6e084a1\" class=\"plotly-graph-div\" style=\"height:525px; width:100%;\"></div>\n",
       "            <script type=\"text/javascript\">\n",
       "                require([\"plotly\"], function(Plotly) {\n",
       "                    window.PLOTLYENV=window.PLOTLYENV || {};\n",
       "                    \n",
       "                if (document.getElementById(\"761251c2-faf1-46b6-ada1-4123e6e084a1\")) {\n",
       "                    Plotly.newPlot(\n",
       "                        '761251c2-faf1-46b6-ada1-4123e6e084a1',\n",
       "                        [{\"autocolorscale\": false, \"colorbar\": {\"tickprefix\": \"\", \"title\": {\"text\": \"Total Medals\"}}, \"colorscale\": [[0.0, \"rgb(150,0,90)\"], [0.125, \"rgb(0,0,200)\"], [0.25, \"rgb(0,25,255)\"], [0.375, \"rgb(0,152,255)\"], [0.5, \"rgb(44,255,150)\"], [0.625, \"rgb(151,255,0)\"], [0.75, \"rgb(255,234,0)\"], [0.875, \"rgb(255,111,0)\"], [1.0, \"rgb(255,0,0)\"]], \"locationmode\": \"country names\", \"locations\": [\"Russia\", \"USA\", \"Germany\", \"Pakistan\", \"Norway\", \"Jamaica\", \"Sweden\", \"Netherlands\", \"Australia\", \"Hungary\", \"China\", \"Croatia\", \"UK\", \"Denmark\", \"Cuba\", \"Finland\", \"Serbia\", \"Azerbaijan\", \"Italy\", \"Montenegro\", \"Romania\", \"South Korea\", \"Ethiopia\", \"India\", \"France\", \"Canada\", \"Kenya\", \"Paraguay\", \"Kosovo\", \"Brazil\", \"Belgium\", \"Switzerland\", \"Nigeria\", \"Georgia\", \"Uruguay\", \"Japan\", \"Bahamas\", \"Czech Republic\", \"Indonesia\", \"New Zealand\", \"Bulgaria\", \"Trinidad\", \"Lithuania\", \"Spain\", \"Poland\", \"Austria\", \"Iran\", \"Argentina\", \"North Korea\", \"Greece\", \"Belarus\", \"Ukraine\", \"South Africa\", \"Armenia\", \"Cameroon\", \"Turkey\", \"Uzbekistan\", \"Zimbabwe\", \"Haiti\", \"Ghana\", \"Tajikistan\", \"Estonia\", \"Fiji\", \"Kazakhstan\", \"Individual Olympic Athletes\", \"Namibia\", \"Burundi\", \"Mongolia\", \"Taiwan\", \"Slovakia\", \"Slovenia\", \"Niger\", \"Thailand\", \"Mexico\", \"Grenada\", \"Latvia\", \"Chile\", \"Moldova\", \"Morocco\", \"Algeria\", \"Suriname\", \"Peru\", \"Malaysia\", \"Iceland\", \"Uganda\", \"Portugal\", \"Ireland\", \"Djibouti\", \"Colombia\", \"Saudi Arabia\", \"Qatar\", \"Vietnam\", \"Mozambique\", \"Dominican Republic\", \"Liechtenstein\", \"Bahrain\", \"Eritrea\", \"Tunisia\", \"Tonga\", \"Panama\", \"Vietnam\", \"Syria\", \"Togo\", \"Egypt\", \"Venezuela\", \"Afghanistan\", \"Gabon\", \"Ivory Coast\", \"Costa Rica\", \"Philippines\", \"United Arab Emirates\", \"Sri Lanka\", \"Israel\", \"Kyrgyzstan\", \"Curacao\", \"Jordan\", \"Tanzania\", \"Lebanon\", \"Macedonia\", \"Botswana\", \"Zambia\", \"Nepal\", \"Guyana\", \"Puerto Rico\", \"Sudan\", \"Luxembourg\", \"Ecuador\", \"Kuwait\", \"Mauritius\", \"Monaco\", \"Bermuda\", \"Barbados\", \"Cyprus\", \"Iraq\", \"Virgin Islands, US\", \"Senegal\", \"Guatemala\", \"Madagascar\", \"Saint Vincent\", \"Benin\", \"Swaziland\", \"Vanuatu\", \"Andorra\", \"Angola\", \"Antigua\", null, \"Saint Kitts\", \"Turkmenistan\", \"Timor-Leste\", \"Aruba\", \"American Samoa\", null, \"Guinea-Bissau\", \"Seychelles\", \"Laos\", \"Malawi\", \"Micronesia\", \"Marshall Islands\", \"Comoros\", \"Lesotho\", \"Saint Lucia\", \"Liberia\", \"Libya\", \"Cape Verde\", \"Kiribati\", \"Cook Islands\", \"Vietnam\", \"Dominica\", \"El Salvador\", \"Honduras\", \"Guam\", \"Guinea\", \"Maldives\", \"Central African Republic\", \"Gambia\", \"Mali\", \"Samoa\", \"Palestine\", \"Rwanda\", \"Boliva\", null, \"Republic of Congo\", \"Burkina Faso\", \"Brunei\", \"Papua New Guinea\", \"Palau\", \"Cambodia\", \"Malta\", \"Equatorial Guinea\", \"Cayman Islands\", \"Bhutan\", \"Nauru\", \"Nicaragua\", \"Chad\", \"Democratic Republic of the Congo\", \"Myanmar\", \"Mauritania\", \"Oman\", \"Sao Tome and Principe\", \"Yemen\", \"Sierra Leone\", \"Belize\", \"San Marino\", \"Solomon Islands\", \"Albania\", \"Somalia\", \"Bosnia and Herzegovina\", \"Bangladesh\", \"South Sudan\", \"Virgin Islands, British\"], \"marker\": {\"line\": {\"color\": \"rgb(0,0,0)\", \"width\": 0.5}}, \"reversescale\": true, \"text\": [\"Russia\", \"USA\", \"Germany\", \"Pakistan\", \"Norway\", \"Jamaica\", \"Sweden\", \"Netherlands\", \"Australia\", \"Hungary\", \"China\", \"Croatia\", \"UK\", \"Denmark\", \"Cuba\", \"Finland\", \"Serbia\", \"Azerbaijan\", \"Italy\", \"Montenegro\", \"Romania\", \"South Korea\", \"Ethiopia\", \"India\", \"France\", \"Canada\", \"Kenya\", \"Paraguay\", \"Kosovo\", \"Brazil\", \"Belgium\", \"Switzerland\", \"Nigeria\", \"Georgia\", \"Uruguay\", \"Japan\", \"Bahamas\", \"Czech Republic\", \"Indonesia\", \"New Zealand\", \"Bulgaria\", \"Trinidad\", \"Lithuania\", \"Spain\", \"Poland\", \"Austria\", \"Iran\", \"Argentina\", \"North Korea\", \"Greece\", \"Belarus\", \"Ukraine\", \"South Africa\", \"Armenia\", \"Cameroon\", \"Turkey\", \"Uzbekistan\", \"Zimbabwe\", \"Haiti\", \"Ghana\", \"Tajikistan\", \"Estonia\", \"Fiji\", \"Kazakhstan\", \"Individual Olympic Athletes\", \"Namibia\", \"Burundi\", \"Mongolia\", \"Taiwan\", \"Slovakia\", \"Slovenia\", \"Niger\", \"Thailand\", \"Mexico\", \"Grenada\", \"Latvia\", \"Chile\", \"Moldova\", \"Morocco\", \"Algeria\", \"Suriname\", \"Peru\", \"Malaysia\", \"Iceland\", \"Uganda\", \"Portugal\", \"Ireland\", \"Djibouti\", \"Colombia\", \"Saudi Arabia\", \"Qatar\", \"Vietnam\", \"Mozambique\", \"Dominican Republic\", \"Liechtenstein\", \"Bahrain\", \"Eritrea\", \"Tunisia\", \"Tonga\", \"Panama\", \"Vietnam\", \"Syria\", \"Togo\", \"Egypt\", \"Venezuela\", \"Afghanistan\", \"Gabon\", \"Ivory Coast\", \"Costa Rica\", \"Philippines\", \"United Arab Emirates\", \"Sri Lanka\", \"Israel\", \"Kyrgyzstan\", \"Curacao\", \"Jordan\", \"Tanzania\", \"Lebanon\", \"Macedonia\", \"Botswana\", \"Zambia\", \"Nepal\", \"Guyana\", \"Puerto Rico\", \"Sudan\", \"Luxembourg\", \"Ecuador\", \"Kuwait\", \"Mauritius\", \"Monaco\", \"Bermuda\", \"Barbados\", \"Cyprus\", \"Iraq\", \"Virgin Islands, US\", \"Senegal\", \"Guatemala\", \"Madagascar\", \"Saint Vincent\", \"Benin\", \"Swaziland\", \"Vanuatu\", \"Andorra\", \"Angola\", \"Antigua\", null, \"Saint Kitts\", \"Turkmenistan\", \"Timor-Leste\", \"Aruba\", \"American Samoa\", null, \"Guinea-Bissau\", \"Seychelles\", \"Laos\", \"Malawi\", \"Micronesia\", \"Marshall Islands\", \"Comoros\", \"Lesotho\", \"Saint Lucia\", \"Liberia\", \"Libya\", \"Cape Verde\", \"Kiribati\", \"Cook Islands\", \"Vietnam\", \"Dominica\", \"El Salvador\", \"Honduras\", \"Guam\", \"Guinea\", \"Maldives\", \"Central African Republic\", \"Gambia\", \"Mali\", \"Samoa\", \"Palestine\", \"Rwanda\", \"Boliva\", null, \"Republic of Congo\", \"Burkina Faso\", \"Brunei\", \"Papua New Guinea\", \"Palau\", \"Cambodia\", \"Malta\", \"Equatorial Guinea\", \"Cayman Islands\", \"Bhutan\", \"Nauru\", \"Nicaragua\", \"Chad\", \"Democratic Republic of the Congo\", \"Myanmar\", \"Mauritania\", \"Oman\", \"Sao Tome and Principe\", \"Yemen\", \"Sierra Leone\", \"Belize\", \"San Marino\", \"Solomon Islands\", \"Albania\", \"Somalia\", \"Bosnia and Herzegovina\", \"Bangladesh\", \"South Sudan\", \"Virgin Islands, British\"], \"type\": \"choropleth\", \"z\": [33.76, 29.9, 23.65, 21.53, 20.83, 18.51, 18.42, 17.81, 17.47, 17.18, 17.04, 17.01, 16.87, 16.72, 16.5, 16.46, 16.35, 15.55, 15.28, 14.89, 14.82, 14.29, 14.02, 13.99, 13.93, 13.89, 13.73, 12.59, 12.5, 12.34, 12.13, 11.24, 11.22, 11.19, 10.94, 10.81, 10.7, 10.01, 9.95, 9.74, 9.69, 9.37, 9.33, 9.2, 9.1, 8.75, 8.62, 8.31, 8.3, 7.99, 7.78, 7.78, 7.66, 7.24, 7.05, 7.01, 6.87, 6.81, 6.6, 6.41, 5.71, 5.71, 5.6, 5.39, 5.32, 5.19, 5.13, 4.73, 4.47, 4.45, 4.32, 4.26, 4.02, 3.82, 3.7, 3.68, 3.46, 3.42, 3.37, 3.09, 2.9, 2.82, 2.77, 2.71, 2.69, 2.69, 2.64, 2.63, 2.62, 2.61, 2.6, 2.6, 2.56, 2.53, 2.44, 2.38, 2.33, 2.32, 2.17, 2.16, 1.85, 1.79, 1.69, 1.66, 1.62, 1.59, 1.59, 1.55, 1.52, 1.44, 1.39, 1.37, 1.35, 1.32, 1.27, 1.25, 1.24, 1.22, 1.19, 1.11, 1.09, 1.06, 0.98, 0.97, 0.93, 0.8, 0.72, 0.7, 0.69, 0.51, 0.47, 0.46, 0.44, 0.43, 0.34, 0.25, 0.24, 0.0, 0.0, 0.0, 0.0, 0.0, 0.0, 0.0, 0.0, 0.0, 0.0, 0.0, 0.0, 0.0, 0.0, 0.0, 0.0, 0.0, 0.0, 0.0, 0.0, 0.0, 0.0, 0.0, 0.0, 0.0, 0.0, 0.0, 0.0, 0.0, 0.0, 0.0, 0.0, 0.0, 0.0, 0.0, 0.0, 0.0, 0.0, 0.0, 0.0, 0.0, 0.0, 0.0, 0.0, 0.0, 0.0, 0.0, 0.0, 0.0, 0.0, 0.0, 0.0, 0.0, 0.0, 0.0, 0.0, 0.0, 0.0, 0.0, 0.0, 0.0, 0.0, 0.0, 0.0, 0.0, 0.0, 0.0, 0.0, 0.0, 0.0, 0.0, 0.0, 0.0]}],\n",
       "                        {\"geo\": {\"projection\": {\"type\": \"natural earth\"}, \"showcoastlines\": true, \"showframe\": true, \"showlakes\": false}, \"template\": {\"data\": {\"bar\": [{\"error_x\": {\"color\": \"#2a3f5f\"}, \"error_y\": {\"color\": \"#2a3f5f\"}, \"marker\": {\"line\": {\"color\": \"#E5ECF6\", \"width\": 0.5}}, \"type\": \"bar\"}], \"barpolar\": [{\"marker\": {\"line\": {\"color\": \"#E5ECF6\", \"width\": 0.5}}, \"type\": \"barpolar\"}], \"carpet\": [{\"aaxis\": {\"endlinecolor\": \"#2a3f5f\", \"gridcolor\": \"white\", \"linecolor\": \"white\", \"minorgridcolor\": \"white\", \"startlinecolor\": \"#2a3f5f\"}, \"baxis\": {\"endlinecolor\": \"#2a3f5f\", \"gridcolor\": \"white\", \"linecolor\": \"white\", \"minorgridcolor\": \"white\", \"startlinecolor\": \"#2a3f5f\"}, \"type\": \"carpet\"}], \"choropleth\": [{\"colorbar\": {\"outlinewidth\": 0, \"ticks\": \"\"}, \"type\": \"choropleth\"}], \"contour\": [{\"colorbar\": {\"outlinewidth\": 0, \"ticks\": \"\"}, \"colorscale\": [[0.0, \"#0d0887\"], [0.1111111111111111, \"#46039f\"], [0.2222222222222222, \"#7201a8\"], [0.3333333333333333, \"#9c179e\"], [0.4444444444444444, \"#bd3786\"], [0.5555555555555556, \"#d8576b\"], [0.6666666666666666, \"#ed7953\"], [0.7777777777777778, \"#fb9f3a\"], [0.8888888888888888, \"#fdca26\"], [1.0, \"#f0f921\"]], \"type\": \"contour\"}], \"contourcarpet\": [{\"colorbar\": {\"outlinewidth\": 0, \"ticks\": \"\"}, \"type\": \"contourcarpet\"}], \"heatmap\": [{\"colorbar\": {\"outlinewidth\": 0, \"ticks\": \"\"}, \"colorscale\": [[0.0, \"#0d0887\"], [0.1111111111111111, \"#46039f\"], [0.2222222222222222, \"#7201a8\"], [0.3333333333333333, \"#9c179e\"], [0.4444444444444444, \"#bd3786\"], [0.5555555555555556, \"#d8576b\"], [0.6666666666666666, \"#ed7953\"], [0.7777777777777778, \"#fb9f3a\"], [0.8888888888888888, \"#fdca26\"], [1.0, \"#f0f921\"]], \"type\": \"heatmap\"}], \"heatmapgl\": [{\"colorbar\": {\"outlinewidth\": 0, \"ticks\": \"\"}, \"colorscale\": [[0.0, \"#0d0887\"], [0.1111111111111111, \"#46039f\"], [0.2222222222222222, \"#7201a8\"], [0.3333333333333333, \"#9c179e\"], [0.4444444444444444, \"#bd3786\"], [0.5555555555555556, \"#d8576b\"], [0.6666666666666666, \"#ed7953\"], [0.7777777777777778, \"#fb9f3a\"], [0.8888888888888888, \"#fdca26\"], [1.0, \"#f0f921\"]], \"type\": \"heatmapgl\"}], \"histogram\": [{\"marker\": {\"colorbar\": {\"outlinewidth\": 0, \"ticks\": \"\"}}, \"type\": \"histogram\"}], \"histogram2d\": [{\"colorbar\": {\"outlinewidth\": 0, \"ticks\": \"\"}, \"colorscale\": [[0.0, \"#0d0887\"], [0.1111111111111111, \"#46039f\"], [0.2222222222222222, \"#7201a8\"], [0.3333333333333333, \"#9c179e\"], [0.4444444444444444, \"#bd3786\"], [0.5555555555555556, \"#d8576b\"], [0.6666666666666666, \"#ed7953\"], [0.7777777777777778, \"#fb9f3a\"], [0.8888888888888888, \"#fdca26\"], [1.0, \"#f0f921\"]], \"type\": \"histogram2d\"}], \"histogram2dcontour\": [{\"colorbar\": {\"outlinewidth\": 0, \"ticks\": \"\"}, \"colorscale\": [[0.0, \"#0d0887\"], [0.1111111111111111, \"#46039f\"], [0.2222222222222222, \"#7201a8\"], [0.3333333333333333, \"#9c179e\"], [0.4444444444444444, \"#bd3786\"], [0.5555555555555556, \"#d8576b\"], [0.6666666666666666, \"#ed7953\"], [0.7777777777777778, \"#fb9f3a\"], [0.8888888888888888, \"#fdca26\"], [1.0, \"#f0f921\"]], \"type\": \"histogram2dcontour\"}], \"mesh3d\": [{\"colorbar\": {\"outlinewidth\": 0, \"ticks\": \"\"}, \"type\": \"mesh3d\"}], \"parcoords\": [{\"line\": {\"colorbar\": {\"outlinewidth\": 0, \"ticks\": \"\"}}, \"type\": \"parcoords\"}], \"pie\": [{\"automargin\": true, \"type\": \"pie\"}], \"scatter\": [{\"marker\": {\"colorbar\": {\"outlinewidth\": 0, \"ticks\": \"\"}}, \"type\": \"scatter\"}], \"scatter3d\": [{\"line\": {\"colorbar\": {\"outlinewidth\": 0, \"ticks\": \"\"}}, \"marker\": {\"colorbar\": {\"outlinewidth\": 0, \"ticks\": \"\"}}, \"type\": \"scatter3d\"}], \"scattercarpet\": [{\"marker\": {\"colorbar\": {\"outlinewidth\": 0, \"ticks\": \"\"}}, \"type\": \"scattercarpet\"}], \"scattergeo\": [{\"marker\": {\"colorbar\": {\"outlinewidth\": 0, \"ticks\": \"\"}}, \"type\": \"scattergeo\"}], \"scattergl\": [{\"marker\": {\"colorbar\": {\"outlinewidth\": 0, \"ticks\": \"\"}}, \"type\": \"scattergl\"}], \"scattermapbox\": [{\"marker\": {\"colorbar\": {\"outlinewidth\": 0, \"ticks\": \"\"}}, \"type\": \"scattermapbox\"}], \"scatterpolar\": [{\"marker\": {\"colorbar\": {\"outlinewidth\": 0, \"ticks\": \"\"}}, \"type\": \"scatterpolar\"}], \"scatterpolargl\": [{\"marker\": {\"colorbar\": {\"outlinewidth\": 0, \"ticks\": \"\"}}, \"type\": \"scatterpolargl\"}], \"scatterternary\": [{\"marker\": {\"colorbar\": {\"outlinewidth\": 0, \"ticks\": \"\"}}, \"type\": \"scatterternary\"}], \"surface\": [{\"colorbar\": {\"outlinewidth\": 0, \"ticks\": \"\"}, \"colorscale\": [[0.0, \"#0d0887\"], [0.1111111111111111, \"#46039f\"], [0.2222222222222222, \"#7201a8\"], [0.3333333333333333, \"#9c179e\"], [0.4444444444444444, \"#bd3786\"], [0.5555555555555556, \"#d8576b\"], [0.6666666666666666, \"#ed7953\"], [0.7777777777777778, \"#fb9f3a\"], [0.8888888888888888, \"#fdca26\"], [1.0, \"#f0f921\"]], \"type\": \"surface\"}], \"table\": [{\"cells\": {\"fill\": {\"color\": \"#EBF0F8\"}, \"line\": {\"color\": \"white\"}}, \"header\": {\"fill\": {\"color\": \"#C8D4E3\"}, \"line\": {\"color\": \"white\"}}, \"type\": \"table\"}]}, \"layout\": {\"annotationdefaults\": {\"arrowcolor\": \"#2a3f5f\", \"arrowhead\": 0, \"arrowwidth\": 1}, \"coloraxis\": {\"colorbar\": {\"outlinewidth\": 0, \"ticks\": \"\"}}, \"colorscale\": {\"diverging\": [[0, \"#8e0152\"], [0.1, \"#c51b7d\"], [0.2, \"#de77ae\"], [0.3, \"#f1b6da\"], [0.4, \"#fde0ef\"], [0.5, \"#f7f7f7\"], [0.6, \"#e6f5d0\"], [0.7, \"#b8e186\"], [0.8, \"#7fbc41\"], [0.9, \"#4d9221\"], [1, \"#276419\"]], \"sequential\": [[0.0, \"#0d0887\"], [0.1111111111111111, \"#46039f\"], [0.2222222222222222, \"#7201a8\"], [0.3333333333333333, \"#9c179e\"], [0.4444444444444444, \"#bd3786\"], [0.5555555555555556, \"#d8576b\"], [0.6666666666666666, \"#ed7953\"], [0.7777777777777778, \"#fb9f3a\"], [0.8888888888888888, \"#fdca26\"], [1.0, \"#f0f921\"]], \"sequentialminus\": [[0.0, \"#0d0887\"], [0.1111111111111111, \"#46039f\"], [0.2222222222222222, \"#7201a8\"], [0.3333333333333333, \"#9c179e\"], [0.4444444444444444, \"#bd3786\"], [0.5555555555555556, \"#d8576b\"], [0.6666666666666666, \"#ed7953\"], [0.7777777777777778, \"#fb9f3a\"], [0.8888888888888888, \"#fdca26\"], [1.0, \"#f0f921\"]]}, \"colorway\": [\"#636efa\", \"#EF553B\", \"#00cc96\", \"#ab63fa\", \"#FFA15A\", \"#19d3f3\", \"#FF6692\", \"#B6E880\", \"#FF97FF\", \"#FECB52\"], \"font\": {\"color\": \"#2a3f5f\"}, \"geo\": {\"bgcolor\": \"white\", \"lakecolor\": \"white\", \"landcolor\": \"#E5ECF6\", \"showlakes\": true, \"showland\": true, \"subunitcolor\": \"white\"}, \"hoverlabel\": {\"align\": \"left\"}, \"hovermode\": \"closest\", \"mapbox\": {\"style\": \"light\"}, \"paper_bgcolor\": \"white\", \"plot_bgcolor\": \"#E5ECF6\", \"polar\": {\"angularaxis\": {\"gridcolor\": \"white\", \"linecolor\": \"white\", \"ticks\": \"\"}, \"bgcolor\": \"#E5ECF6\", \"radialaxis\": {\"gridcolor\": \"white\", \"linecolor\": \"white\", \"ticks\": \"\"}}, \"scene\": {\"xaxis\": {\"backgroundcolor\": \"#E5ECF6\", \"gridcolor\": \"white\", \"gridwidth\": 2, \"linecolor\": \"white\", \"showbackground\": true, \"ticks\": \"\", \"zerolinecolor\": \"white\"}, \"yaxis\": {\"backgroundcolor\": \"#E5ECF6\", \"gridcolor\": \"white\", \"gridwidth\": 2, \"linecolor\": \"white\", \"showbackground\": true, \"ticks\": \"\", \"zerolinecolor\": \"white\"}, \"zaxis\": {\"backgroundcolor\": \"#E5ECF6\", \"gridcolor\": \"white\", \"gridwidth\": 2, \"linecolor\": \"white\", \"showbackground\": true, \"ticks\": \"\", \"zerolinecolor\": \"white\"}}, \"shapedefaults\": {\"line\": {\"color\": \"#2a3f5f\"}}, \"ternary\": {\"aaxis\": {\"gridcolor\": \"white\", \"linecolor\": \"white\", \"ticks\": \"\"}, \"baxis\": {\"gridcolor\": \"white\", \"linecolor\": \"white\", \"ticks\": \"\"}, \"bgcolor\": \"#E5ECF6\", \"caxis\": {\"gridcolor\": \"white\", \"linecolor\": \"white\", \"ticks\": \"\"}}, \"title\": {\"x\": 0.05}, \"xaxis\": {\"automargin\": true, \"gridcolor\": \"white\", \"linecolor\": \"white\", \"ticks\": \"\", \"title\": {\"standoff\": 15}, \"zerolinecolor\": \"white\", \"zerolinewidth\": 2}, \"yaxis\": {\"automargin\": true, \"gridcolor\": \"white\", \"linecolor\": \"white\", \"ticks\": \"\", \"title\": {\"standoff\": 15}, \"zerolinecolor\": \"white\", \"zerolinewidth\": 2}}}, \"title\": {\"text\": \"Proportion of Country's Athletes Earning Olympic Medals\"}},\n",
       "                        {\"responsive\": true}\n",
       "                    ).then(function(){\n",
       "                            \n",
       "var gd = document.getElementById('761251c2-faf1-46b6-ada1-4123e6e084a1');\n",
       "var x = new MutationObserver(function (mutations, observer) {{\n",
       "        var display = window.getComputedStyle(gd).display;\n",
       "        if (!display || display === 'none') {{\n",
       "            console.log([gd, 'removed!']);\n",
       "            Plotly.purge(gd);\n",
       "            observer.disconnect();\n",
       "        }}\n",
       "}});\n",
       "\n",
       "// Listen for the removal of the full notebook cells\n",
       "var notebookContainer = gd.closest('#notebook-container');\n",
       "if (notebookContainer) {{\n",
       "    x.observe(notebookContainer, {childList: true});\n",
       "}}\n",
       "\n",
       "// Listen for the clearing of the current output cell\n",
       "var outputEl = gd.closest('.output');\n",
       "if (outputEl) {{\n",
       "    x.observe(outputEl, {childList: true});\n",
       "}}\n",
       "\n",
       "                        })\n",
       "                };\n",
       "                });\n",
       "            </script>\n",
       "        </div>"
      ]
     },
     "metadata": {},
     "output_type": "display_data"
    }
   ],
   "source": [
    "trace = go.Choropleth(\n",
    "            locations = propor_map['region'],\n",
    "            locationmode='country names',\n",
    "            z = propor_map['Total Medals'],\n",
    "            text = propor_map['region'],\n",
    "            autocolorscale =False,\n",
    "            reversescale = True,\n",
    "            colorscale = 'rainbow',\n",
    "            marker = dict(\n",
    "                line = dict(\n",
    "                    color = 'rgb(0,0,0)',\n",
    "                    width = 0.5)\n",
    "            ),\n",
    "            colorbar = dict(\n",
    "                title = 'Total Medals',\n",
    "                tickprefix = '')\n",
    "        )\n",
    "\n",
    "data = [trace]\n",
    "layout = go.Layout(\n",
    "    title = \"Proportion of Country's Athletes Earning Olympic Medals\",\n",
    "    geo = dict(\n",
    "        showframe = True,\n",
    "        showlakes = False,\n",
    "        showcoastlines = True,\n",
    "        projection = dict(\n",
    "            type = 'natural earth'\n",
    "        )\n",
    "    )\n",
    ")\n",
    "\n",
    "fig = dict( data=data, layout=layout )\n",
    "iplot(fig)"
   ]
  },
  {
   "cell_type": "code",
   "execution_count": 139,
   "metadata": {},
   "outputs": [
    {
     "data": {
      "application/vnd.plotly.v1+json": {
       "config": {
        "linkText": "Export to plot.ly",
        "plotlyServerURL": "https://plot.ly",
        "showLink": false
       },
       "data": [
        {
         "autocolorscale": false,
         "colorbar": {
          "tickprefix": "",
          "title": {
           "text": "Total Medals"
          }
         },
         "colorscale": [
          [
           0,
           "rgb(255,255,229)"
          ],
          [
           0.125,
           "rgb(255,247,188)"
          ],
          [
           0.25,
           "rgb(254,227,145)"
          ],
          [
           0.375,
           "rgb(254,196,79)"
          ],
          [
           0.5,
           "rgb(254,153,41)"
          ],
          [
           0.625,
           "rgb(236,112,20)"
          ],
          [
           0.75,
           "rgb(204,76,2)"
          ],
          [
           0.875,
           "rgb(153,52,4)"
          ],
          [
           1,
           "rgb(102,37,6)"
          ]
         ],
         "locationmode": "country names",
         "locations": [
          "Russia",
          "USA",
          "Germany",
          "Pakistan",
          "Norway",
          "Jamaica",
          "Sweden",
          "Netherlands",
          "Australia",
          "Hungary",
          "China",
          "Croatia",
          "UK",
          "Denmark",
          "Cuba",
          "Finland",
          "Serbia",
          "Azerbaijan",
          "Italy",
          "Montenegro",
          "Romania",
          "South Korea",
          "Ethiopia",
          "India",
          "France",
          "Canada",
          "Kenya",
          "Paraguay",
          "Kosovo",
          "Brazil",
          "Belgium",
          "Switzerland",
          "Nigeria",
          "Georgia",
          "Uruguay",
          "Japan",
          "Bahamas",
          "Czech Republic",
          "Indonesia",
          "New Zealand",
          "Bulgaria",
          "Trinidad",
          "Lithuania",
          "Spain",
          "Poland",
          "Austria",
          "Iran",
          "Argentina",
          "North Korea",
          "Greece",
          "Belarus",
          "Ukraine",
          "South Africa",
          "Armenia",
          "Cameroon",
          "Turkey",
          "Uzbekistan",
          "Zimbabwe",
          "Haiti",
          "Ghana",
          "Tajikistan",
          "Estonia",
          "Fiji",
          "Kazakhstan",
          "Individual Olympic Athletes",
          "Namibia",
          "Burundi",
          "Mongolia",
          "Taiwan",
          "Slovakia",
          "Slovenia",
          "Niger",
          "Thailand",
          "Mexico",
          "Grenada",
          "Latvia",
          "Chile",
          "Moldova",
          "Morocco",
          "Algeria",
          "Suriname",
          "Peru",
          "Malaysia",
          "Iceland",
          "Uganda",
          "Portugal",
          "Ireland",
          "Djibouti",
          "Colombia",
          "Saudi Arabia",
          "Qatar",
          "Vietnam",
          "Mozambique",
          "Dominican Republic",
          "Liechtenstein",
          "Bahrain",
          "Eritrea",
          "Tunisia",
          "Tonga",
          "Panama",
          "Vietnam",
          "Syria",
          "Togo",
          "Egypt",
          "Venezuela",
          "Afghanistan",
          "Gabon",
          "Ivory Coast",
          "Costa Rica",
          "Philippines",
          "United Arab Emirates",
          "Sri Lanka",
          "Israel",
          "Kyrgyzstan",
          "Curacao",
          "Jordan",
          "Tanzania",
          "Lebanon",
          "Macedonia",
          "Botswana",
          "Zambia",
          "Nepal",
          "Guyana",
          "Puerto Rico",
          "Sudan",
          "Luxembourg",
          "Ecuador",
          "Kuwait",
          "Mauritius",
          "Monaco",
          "Bermuda",
          "Barbados",
          "Cyprus",
          "Iraq",
          "Virgin Islands, US",
          "Senegal",
          "Guatemala",
          "Madagascar",
          "Saint Vincent",
          "Benin",
          "Swaziland",
          "Vanuatu",
          "Andorra",
          "Angola",
          "Antigua",
          null,
          "Saint Kitts",
          "Turkmenistan",
          "Timor-Leste",
          "Aruba",
          "American Samoa",
          null,
          "Guinea-Bissau",
          "Seychelles",
          "Laos",
          "Malawi",
          "Micronesia",
          "Marshall Islands",
          "Comoros",
          "Lesotho",
          "Saint Lucia",
          "Liberia",
          "Libya",
          "Cape Verde",
          "Kiribati",
          "Cook Islands",
          "Vietnam",
          "Dominica",
          "El Salvador",
          "Honduras",
          "Guam",
          "Guinea",
          "Maldives",
          "Central African Republic",
          "Gambia",
          "Mali",
          "Samoa",
          "Palestine",
          "Rwanda",
          "Boliva",
          null,
          "Republic of Congo",
          "Burkina Faso",
          "Brunei",
          "Papua New Guinea",
          "Palau",
          "Cambodia",
          "Malta",
          "Equatorial Guinea",
          "Cayman Islands",
          "Bhutan",
          "Nauru",
          "Nicaragua",
          "Chad",
          "Democratic Republic of the Congo",
          "Myanmar",
          "Mauritania",
          "Oman",
          "Sao Tome and Principe",
          "Yemen",
          "Sierra Leone",
          "Belize",
          "San Marino",
          "Solomon Islands",
          "Albania",
          "Somalia",
          "Bosnia and Herzegovina",
          "Bangladesh",
          "South Sudan",
          "Virgin Islands, British"
         ],
         "marker": {
          "line": {
           "color": "rgb(0,0,0)",
           "width": 0.5
          }
         },
         "reversescale": false,
         "text": [
          "Russia",
          "USA",
          "Germany",
          "Pakistan",
          "Norway",
          "Jamaica",
          "Sweden",
          "Netherlands",
          "Australia",
          "Hungary",
          "China",
          "Croatia",
          "UK",
          "Denmark",
          "Cuba",
          "Finland",
          "Serbia",
          "Azerbaijan",
          "Italy",
          "Montenegro",
          "Romania",
          "South Korea",
          "Ethiopia",
          "India",
          "France",
          "Canada",
          "Kenya",
          "Paraguay",
          "Kosovo",
          "Brazil",
          "Belgium",
          "Switzerland",
          "Nigeria",
          "Georgia",
          "Uruguay",
          "Japan",
          "Bahamas",
          "Czech Republic",
          "Indonesia",
          "New Zealand",
          "Bulgaria",
          "Trinidad",
          "Lithuania",
          "Spain",
          "Poland",
          "Austria",
          "Iran",
          "Argentina",
          "North Korea",
          "Greece",
          "Belarus",
          "Ukraine",
          "South Africa",
          "Armenia",
          "Cameroon",
          "Turkey",
          "Uzbekistan",
          "Zimbabwe",
          "Haiti",
          "Ghana",
          "Tajikistan",
          "Estonia",
          "Fiji",
          "Kazakhstan",
          "Individual Olympic Athletes",
          "Namibia",
          "Burundi",
          "Mongolia",
          "Taiwan",
          "Slovakia",
          "Slovenia",
          "Niger",
          "Thailand",
          "Mexico",
          "Grenada",
          "Latvia",
          "Chile",
          "Moldova",
          "Morocco",
          "Algeria",
          "Suriname",
          "Peru",
          "Malaysia",
          "Iceland",
          "Uganda",
          "Portugal",
          "Ireland",
          "Djibouti",
          "Colombia",
          "Saudi Arabia",
          "Qatar",
          "Vietnam",
          "Mozambique",
          "Dominican Republic",
          "Liechtenstein",
          "Bahrain",
          "Eritrea",
          "Tunisia",
          "Tonga",
          "Panama",
          "Vietnam",
          "Syria",
          "Togo",
          "Egypt",
          "Venezuela",
          "Afghanistan",
          "Gabon",
          "Ivory Coast",
          "Costa Rica",
          "Philippines",
          "United Arab Emirates",
          "Sri Lanka",
          "Israel",
          "Kyrgyzstan",
          "Curacao",
          "Jordan",
          "Tanzania",
          "Lebanon",
          "Macedonia",
          "Botswana",
          "Zambia",
          "Nepal",
          "Guyana",
          "Puerto Rico",
          "Sudan",
          "Luxembourg",
          "Ecuador",
          "Kuwait",
          "Mauritius",
          "Monaco",
          "Bermuda",
          "Barbados",
          "Cyprus",
          "Iraq",
          "Virgin Islands, US",
          "Senegal",
          "Guatemala",
          "Madagascar",
          "Saint Vincent",
          "Benin",
          "Swaziland",
          "Vanuatu",
          "Andorra",
          "Angola",
          "Antigua",
          null,
          "Saint Kitts",
          "Turkmenistan",
          "Timor-Leste",
          "Aruba",
          "American Samoa",
          null,
          "Guinea-Bissau",
          "Seychelles",
          "Laos",
          "Malawi",
          "Micronesia",
          "Marshall Islands",
          "Comoros",
          "Lesotho",
          "Saint Lucia",
          "Liberia",
          "Libya",
          "Cape Verde",
          "Kiribati",
          "Cook Islands",
          "Vietnam",
          "Dominica",
          "El Salvador",
          "Honduras",
          "Guam",
          "Guinea",
          "Maldives",
          "Central African Republic",
          "Gambia",
          "Mali",
          "Samoa",
          "Palestine",
          "Rwanda",
          "Boliva",
          null,
          "Republic of Congo",
          "Burkina Faso",
          "Brunei",
          "Papua New Guinea",
          "Palau",
          "Cambodia",
          "Malta",
          "Equatorial Guinea",
          "Cayman Islands",
          "Bhutan",
          "Nauru",
          "Nicaragua",
          "Chad",
          "Democratic Republic of the Congo",
          "Myanmar",
          "Mauritania",
          "Oman",
          "Sao Tome and Principe",
          "Yemen",
          "Sierra Leone",
          "Belize",
          "San Marino",
          "Solomon Islands",
          "Albania",
          "Somalia",
          "Bosnia and Herzegovina",
          "Bangladesh",
          "South Sudan",
          "Virgin Islands, British"
         ],
         "type": "choropleth",
         "z": [
          13.68,
          13.99,
          8.19,
          7.47,
          7.62,
          4.48,
          5.74,
          4.92,
          4.76,
          6.54,
          6.02,
          6.62,
          5.53,
          5.01,
          6.62,
          3.62,
          4.76,
          2.47,
          5.37,
          0,
          3.65,
          4.95,
          5.82,
          9.8,
          3.93,
          4.76,
          4.4,
          0,
          12.5,
          2.83,
          2.54,
          2.85,
          2.61,
          2.8,
          5.38,
          2.93,
          3.74,
          1.91,
          2.67,
          3.84,
          1.53,
          1.77,
          0.92,
          2.07,
          1.88,
          2.1,
          2.28,
          2.76,
          1.98,
          1.94,
          1.34,
          1.84,
          1.87,
          0.9,
          6.41,
          2.95,
          2.02,
          5.26,
          0.94,
          0,
          1.43,
          1.48,
          5.6,
          1.4,
          1.06,
          0,
          2.56,
          0.36,
          0.27,
          1.42,
          0.72,
          0,
          1.2,
          1.04,
          1.85,
          0.32,
          0.32,
          0,
          0.88,
          0.91,
          1.45,
          0.19,
          0,
          0,
          0.77,
          0.26,
          0.68,
          0,
          0.47,
          0,
          0,
          0.65,
          1.28,
          1.08,
          0.54,
          0.79,
          0,
          0.53,
          0,
          0.72,
          0.46,
          0.36,
          0,
          0.43,
          0.22,
          0,
          0,
          0.52,
          0.38,
          0,
          0.69,
          0,
          0.15,
          0,
          0,
          1.25,
          0,
          0,
          0,
          0,
          0,
          1.06,
          0,
          0.11,
          0,
          0.4,
          0.36,
          0,
          0,
          0,
          0,
          0,
          0,
          0,
          0,
          0,
          0,
          0,
          0,
          0,
          0,
          0,
          0,
          0,
          0,
          0,
          0,
          0,
          0,
          0,
          0,
          0,
          0,
          0,
          0,
          0,
          0,
          0,
          0,
          0,
          0,
          0,
          0,
          0,
          0,
          0,
          0,
          0,
          0,
          0,
          0,
          0,
          0,
          0,
          0,
          0,
          0,
          0,
          0,
          0,
          0,
          0,
          0,
          0,
          0,
          0,
          0,
          0,
          0,
          0,
          0,
          0,
          0,
          0,
          0,
          0,
          0,
          0,
          0,
          0,
          0,
          0,
          0,
          0,
          0,
          0,
          0,
          0,
          0,
          0
         ]
        }
       ],
       "layout": {
        "geo": {
         "projection": {
          "type": "natural earth"
         },
         "showcoastlines": true,
         "showframe": true,
         "showlakes": false
        },
        "template": {
         "data": {
          "bar": [
           {
            "error_x": {
             "color": "#2a3f5f"
            },
            "error_y": {
             "color": "#2a3f5f"
            },
            "marker": {
             "line": {
              "color": "#E5ECF6",
              "width": 0.5
             }
            },
            "type": "bar"
           }
          ],
          "barpolar": [
           {
            "marker": {
             "line": {
              "color": "#E5ECF6",
              "width": 0.5
             }
            },
            "type": "barpolar"
           }
          ],
          "carpet": [
           {
            "aaxis": {
             "endlinecolor": "#2a3f5f",
             "gridcolor": "white",
             "linecolor": "white",
             "minorgridcolor": "white",
             "startlinecolor": "#2a3f5f"
            },
            "baxis": {
             "endlinecolor": "#2a3f5f",
             "gridcolor": "white",
             "linecolor": "white",
             "minorgridcolor": "white",
             "startlinecolor": "#2a3f5f"
            },
            "type": "carpet"
           }
          ],
          "choropleth": [
           {
            "colorbar": {
             "outlinewidth": 0,
             "ticks": ""
            },
            "type": "choropleth"
           }
          ],
          "contour": [
           {
            "colorbar": {
             "outlinewidth": 0,
             "ticks": ""
            },
            "colorscale": [
             [
              0,
              "#0d0887"
             ],
             [
              0.1111111111111111,
              "#46039f"
             ],
             [
              0.2222222222222222,
              "#7201a8"
             ],
             [
              0.3333333333333333,
              "#9c179e"
             ],
             [
              0.4444444444444444,
              "#bd3786"
             ],
             [
              0.5555555555555556,
              "#d8576b"
             ],
             [
              0.6666666666666666,
              "#ed7953"
             ],
             [
              0.7777777777777778,
              "#fb9f3a"
             ],
             [
              0.8888888888888888,
              "#fdca26"
             ],
             [
              1,
              "#f0f921"
             ]
            ],
            "type": "contour"
           }
          ],
          "contourcarpet": [
           {
            "colorbar": {
             "outlinewidth": 0,
             "ticks": ""
            },
            "type": "contourcarpet"
           }
          ],
          "heatmap": [
           {
            "colorbar": {
             "outlinewidth": 0,
             "ticks": ""
            },
            "colorscale": [
             [
              0,
              "#0d0887"
             ],
             [
              0.1111111111111111,
              "#46039f"
             ],
             [
              0.2222222222222222,
              "#7201a8"
             ],
             [
              0.3333333333333333,
              "#9c179e"
             ],
             [
              0.4444444444444444,
              "#bd3786"
             ],
             [
              0.5555555555555556,
              "#d8576b"
             ],
             [
              0.6666666666666666,
              "#ed7953"
             ],
             [
              0.7777777777777778,
              "#fb9f3a"
             ],
             [
              0.8888888888888888,
              "#fdca26"
             ],
             [
              1,
              "#f0f921"
             ]
            ],
            "type": "heatmap"
           }
          ],
          "heatmapgl": [
           {
            "colorbar": {
             "outlinewidth": 0,
             "ticks": ""
            },
            "colorscale": [
             [
              0,
              "#0d0887"
             ],
             [
              0.1111111111111111,
              "#46039f"
             ],
             [
              0.2222222222222222,
              "#7201a8"
             ],
             [
              0.3333333333333333,
              "#9c179e"
             ],
             [
              0.4444444444444444,
              "#bd3786"
             ],
             [
              0.5555555555555556,
              "#d8576b"
             ],
             [
              0.6666666666666666,
              "#ed7953"
             ],
             [
              0.7777777777777778,
              "#fb9f3a"
             ],
             [
              0.8888888888888888,
              "#fdca26"
             ],
             [
              1,
              "#f0f921"
             ]
            ],
            "type": "heatmapgl"
           }
          ],
          "histogram": [
           {
            "marker": {
             "colorbar": {
              "outlinewidth": 0,
              "ticks": ""
             }
            },
            "type": "histogram"
           }
          ],
          "histogram2d": [
           {
            "colorbar": {
             "outlinewidth": 0,
             "ticks": ""
            },
            "colorscale": [
             [
              0,
              "#0d0887"
             ],
             [
              0.1111111111111111,
              "#46039f"
             ],
             [
              0.2222222222222222,
              "#7201a8"
             ],
             [
              0.3333333333333333,
              "#9c179e"
             ],
             [
              0.4444444444444444,
              "#bd3786"
             ],
             [
              0.5555555555555556,
              "#d8576b"
             ],
             [
              0.6666666666666666,
              "#ed7953"
             ],
             [
              0.7777777777777778,
              "#fb9f3a"
             ],
             [
              0.8888888888888888,
              "#fdca26"
             ],
             [
              1,
              "#f0f921"
             ]
            ],
            "type": "histogram2d"
           }
          ],
          "histogram2dcontour": [
           {
            "colorbar": {
             "outlinewidth": 0,
             "ticks": ""
            },
            "colorscale": [
             [
              0,
              "#0d0887"
             ],
             [
              0.1111111111111111,
              "#46039f"
             ],
             [
              0.2222222222222222,
              "#7201a8"
             ],
             [
              0.3333333333333333,
              "#9c179e"
             ],
             [
              0.4444444444444444,
              "#bd3786"
             ],
             [
              0.5555555555555556,
              "#d8576b"
             ],
             [
              0.6666666666666666,
              "#ed7953"
             ],
             [
              0.7777777777777778,
              "#fb9f3a"
             ],
             [
              0.8888888888888888,
              "#fdca26"
             ],
             [
              1,
              "#f0f921"
             ]
            ],
            "type": "histogram2dcontour"
           }
          ],
          "mesh3d": [
           {
            "colorbar": {
             "outlinewidth": 0,
             "ticks": ""
            },
            "type": "mesh3d"
           }
          ],
          "parcoords": [
           {
            "line": {
             "colorbar": {
              "outlinewidth": 0,
              "ticks": ""
             }
            },
            "type": "parcoords"
           }
          ],
          "pie": [
           {
            "automargin": true,
            "type": "pie"
           }
          ],
          "scatter": [
           {
            "marker": {
             "colorbar": {
              "outlinewidth": 0,
              "ticks": ""
             }
            },
            "type": "scatter"
           }
          ],
          "scatter3d": [
           {
            "line": {
             "colorbar": {
              "outlinewidth": 0,
              "ticks": ""
             }
            },
            "marker": {
             "colorbar": {
              "outlinewidth": 0,
              "ticks": ""
             }
            },
            "type": "scatter3d"
           }
          ],
          "scattercarpet": [
           {
            "marker": {
             "colorbar": {
              "outlinewidth": 0,
              "ticks": ""
             }
            },
            "type": "scattercarpet"
           }
          ],
          "scattergeo": [
           {
            "marker": {
             "colorbar": {
              "outlinewidth": 0,
              "ticks": ""
             }
            },
            "type": "scattergeo"
           }
          ],
          "scattergl": [
           {
            "marker": {
             "colorbar": {
              "outlinewidth": 0,
              "ticks": ""
             }
            },
            "type": "scattergl"
           }
          ],
          "scattermapbox": [
           {
            "marker": {
             "colorbar": {
              "outlinewidth": 0,
              "ticks": ""
             }
            },
            "type": "scattermapbox"
           }
          ],
          "scatterpolar": [
           {
            "marker": {
             "colorbar": {
              "outlinewidth": 0,
              "ticks": ""
             }
            },
            "type": "scatterpolar"
           }
          ],
          "scatterpolargl": [
           {
            "marker": {
             "colorbar": {
              "outlinewidth": 0,
              "ticks": ""
             }
            },
            "type": "scatterpolargl"
           }
          ],
          "scatterternary": [
           {
            "marker": {
             "colorbar": {
              "outlinewidth": 0,
              "ticks": ""
             }
            },
            "type": "scatterternary"
           }
          ],
          "surface": [
           {
            "colorbar": {
             "outlinewidth": 0,
             "ticks": ""
            },
            "colorscale": [
             [
              0,
              "#0d0887"
             ],
             [
              0.1111111111111111,
              "#46039f"
             ],
             [
              0.2222222222222222,
              "#7201a8"
             ],
             [
              0.3333333333333333,
              "#9c179e"
             ],
             [
              0.4444444444444444,
              "#bd3786"
             ],
             [
              0.5555555555555556,
              "#d8576b"
             ],
             [
              0.6666666666666666,
              "#ed7953"
             ],
             [
              0.7777777777777778,
              "#fb9f3a"
             ],
             [
              0.8888888888888888,
              "#fdca26"
             ],
             [
              1,
              "#f0f921"
             ]
            ],
            "type": "surface"
           }
          ],
          "table": [
           {
            "cells": {
             "fill": {
              "color": "#EBF0F8"
             },
             "line": {
              "color": "white"
             }
            },
            "header": {
             "fill": {
              "color": "#C8D4E3"
             },
             "line": {
              "color": "white"
             }
            },
            "type": "table"
           }
          ]
         },
         "layout": {
          "annotationdefaults": {
           "arrowcolor": "#2a3f5f",
           "arrowhead": 0,
           "arrowwidth": 1
          },
          "coloraxis": {
           "colorbar": {
            "outlinewidth": 0,
            "ticks": ""
           }
          },
          "colorscale": {
           "diverging": [
            [
             0,
             "#8e0152"
            ],
            [
             0.1,
             "#c51b7d"
            ],
            [
             0.2,
             "#de77ae"
            ],
            [
             0.3,
             "#f1b6da"
            ],
            [
             0.4,
             "#fde0ef"
            ],
            [
             0.5,
             "#f7f7f7"
            ],
            [
             0.6,
             "#e6f5d0"
            ],
            [
             0.7,
             "#b8e186"
            ],
            [
             0.8,
             "#7fbc41"
            ],
            [
             0.9,
             "#4d9221"
            ],
            [
             1,
             "#276419"
            ]
           ],
           "sequential": [
            [
             0,
             "#0d0887"
            ],
            [
             0.1111111111111111,
             "#46039f"
            ],
            [
             0.2222222222222222,
             "#7201a8"
            ],
            [
             0.3333333333333333,
             "#9c179e"
            ],
            [
             0.4444444444444444,
             "#bd3786"
            ],
            [
             0.5555555555555556,
             "#d8576b"
            ],
            [
             0.6666666666666666,
             "#ed7953"
            ],
            [
             0.7777777777777778,
             "#fb9f3a"
            ],
            [
             0.8888888888888888,
             "#fdca26"
            ],
            [
             1,
             "#f0f921"
            ]
           ],
           "sequentialminus": [
            [
             0,
             "#0d0887"
            ],
            [
             0.1111111111111111,
             "#46039f"
            ],
            [
             0.2222222222222222,
             "#7201a8"
            ],
            [
             0.3333333333333333,
             "#9c179e"
            ],
            [
             0.4444444444444444,
             "#bd3786"
            ],
            [
             0.5555555555555556,
             "#d8576b"
            ],
            [
             0.6666666666666666,
             "#ed7953"
            ],
            [
             0.7777777777777778,
             "#fb9f3a"
            ],
            [
             0.8888888888888888,
             "#fdca26"
            ],
            [
             1,
             "#f0f921"
            ]
           ]
          },
          "colorway": [
           "#636efa",
           "#EF553B",
           "#00cc96",
           "#ab63fa",
           "#FFA15A",
           "#19d3f3",
           "#FF6692",
           "#B6E880",
           "#FF97FF",
           "#FECB52"
          ],
          "font": {
           "color": "#2a3f5f"
          },
          "geo": {
           "bgcolor": "white",
           "lakecolor": "white",
           "landcolor": "#E5ECF6",
           "showlakes": true,
           "showland": true,
           "subunitcolor": "white"
          },
          "hoverlabel": {
           "align": "left"
          },
          "hovermode": "closest",
          "mapbox": {
           "style": "light"
          },
          "paper_bgcolor": "white",
          "plot_bgcolor": "#E5ECF6",
          "polar": {
           "angularaxis": {
            "gridcolor": "white",
            "linecolor": "white",
            "ticks": ""
           },
           "bgcolor": "#E5ECF6",
           "radialaxis": {
            "gridcolor": "white",
            "linecolor": "white",
            "ticks": ""
           }
          },
          "scene": {
           "xaxis": {
            "backgroundcolor": "#E5ECF6",
            "gridcolor": "white",
            "gridwidth": 2,
            "linecolor": "white",
            "showbackground": true,
            "ticks": "",
            "zerolinecolor": "white"
           },
           "yaxis": {
            "backgroundcolor": "#E5ECF6",
            "gridcolor": "white",
            "gridwidth": 2,
            "linecolor": "white",
            "showbackground": true,
            "ticks": "",
            "zerolinecolor": "white"
           },
           "zaxis": {
            "backgroundcolor": "#E5ECF6",
            "gridcolor": "white",
            "gridwidth": 2,
            "linecolor": "white",
            "showbackground": true,
            "ticks": "",
            "zerolinecolor": "white"
           }
          },
          "shapedefaults": {
           "line": {
            "color": "#2a3f5f"
           }
          },
          "ternary": {
           "aaxis": {
            "gridcolor": "white",
            "linecolor": "white",
            "ticks": ""
           },
           "baxis": {
            "gridcolor": "white",
            "linecolor": "white",
            "ticks": ""
           },
           "bgcolor": "#E5ECF6",
           "caxis": {
            "gridcolor": "white",
            "linecolor": "white",
            "ticks": ""
           }
          },
          "title": {
           "x": 0.05
          },
          "xaxis": {
           "automargin": true,
           "gridcolor": "white",
           "linecolor": "white",
           "ticks": "",
           "title": {
            "standoff": 15
           },
           "zerolinecolor": "white",
           "zerolinewidth": 2
          },
          "yaxis": {
           "automargin": true,
           "gridcolor": "white",
           "linecolor": "white",
           "ticks": "",
           "title": {
            "standoff": 15
           },
           "zerolinecolor": "white",
           "zerolinewidth": 2
          }
         }
        },
        "title": {
         "text": "Total Gold Medals Won by Country Over All Olympic Competitions"
        }
       }
      },
      "text/html": [
       "<div>\n",
       "        \n",
       "        \n",
       "            <div id=\"05258469-2c94-4228-9611-dad5d1dcbc63\" class=\"plotly-graph-div\" style=\"height:525px; width:100%;\"></div>\n",
       "            <script type=\"text/javascript\">\n",
       "                require([\"plotly\"], function(Plotly) {\n",
       "                    window.PLOTLYENV=window.PLOTLYENV || {};\n",
       "                    \n",
       "                if (document.getElementById(\"05258469-2c94-4228-9611-dad5d1dcbc63\")) {\n",
       "                    Plotly.newPlot(\n",
       "                        '05258469-2c94-4228-9611-dad5d1dcbc63',\n",
       "                        [{\"autocolorscale\": false, \"colorbar\": {\"tickprefix\": \"\", \"title\": {\"text\": \"Total Medals\"}}, \"colorscale\": [[0.0, \"rgb(255,255,229)\"], [0.125, \"rgb(255,247,188)\"], [0.25, \"rgb(254,227,145)\"], [0.375, \"rgb(254,196,79)\"], [0.5, \"rgb(254,153,41)\"], [0.625, \"rgb(236,112,20)\"], [0.75, \"rgb(204,76,2)\"], [0.875, \"rgb(153,52,4)\"], [1.0, \"rgb(102,37,6)\"]], \"locationmode\": \"country names\", \"locations\": [\"Russia\", \"USA\", \"Germany\", \"Pakistan\", \"Norway\", \"Jamaica\", \"Sweden\", \"Netherlands\", \"Australia\", \"Hungary\", \"China\", \"Croatia\", \"UK\", \"Denmark\", \"Cuba\", \"Finland\", \"Serbia\", \"Azerbaijan\", \"Italy\", \"Montenegro\", \"Romania\", \"South Korea\", \"Ethiopia\", \"India\", \"France\", \"Canada\", \"Kenya\", \"Paraguay\", \"Kosovo\", \"Brazil\", \"Belgium\", \"Switzerland\", \"Nigeria\", \"Georgia\", \"Uruguay\", \"Japan\", \"Bahamas\", \"Czech Republic\", \"Indonesia\", \"New Zealand\", \"Bulgaria\", \"Trinidad\", \"Lithuania\", \"Spain\", \"Poland\", \"Austria\", \"Iran\", \"Argentina\", \"North Korea\", \"Greece\", \"Belarus\", \"Ukraine\", \"South Africa\", \"Armenia\", \"Cameroon\", \"Turkey\", \"Uzbekistan\", \"Zimbabwe\", \"Haiti\", \"Ghana\", \"Tajikistan\", \"Estonia\", \"Fiji\", \"Kazakhstan\", \"Individual Olympic Athletes\", \"Namibia\", \"Burundi\", \"Mongolia\", \"Taiwan\", \"Slovakia\", \"Slovenia\", \"Niger\", \"Thailand\", \"Mexico\", \"Grenada\", \"Latvia\", \"Chile\", \"Moldova\", \"Morocco\", \"Algeria\", \"Suriname\", \"Peru\", \"Malaysia\", \"Iceland\", \"Uganda\", \"Portugal\", \"Ireland\", \"Djibouti\", \"Colombia\", \"Saudi Arabia\", \"Qatar\", \"Vietnam\", \"Mozambique\", \"Dominican Republic\", \"Liechtenstein\", \"Bahrain\", \"Eritrea\", \"Tunisia\", \"Tonga\", \"Panama\", \"Vietnam\", \"Syria\", \"Togo\", \"Egypt\", \"Venezuela\", \"Afghanistan\", \"Gabon\", \"Ivory Coast\", \"Costa Rica\", \"Philippines\", \"United Arab Emirates\", \"Sri Lanka\", \"Israel\", \"Kyrgyzstan\", \"Curacao\", \"Jordan\", \"Tanzania\", \"Lebanon\", \"Macedonia\", \"Botswana\", \"Zambia\", \"Nepal\", \"Guyana\", \"Puerto Rico\", \"Sudan\", \"Luxembourg\", \"Ecuador\", \"Kuwait\", \"Mauritius\", \"Monaco\", \"Bermuda\", \"Barbados\", \"Cyprus\", \"Iraq\", \"Virgin Islands, US\", \"Senegal\", \"Guatemala\", \"Madagascar\", \"Saint Vincent\", \"Benin\", \"Swaziland\", \"Vanuatu\", \"Andorra\", \"Angola\", \"Antigua\", null, \"Saint Kitts\", \"Turkmenistan\", \"Timor-Leste\", \"Aruba\", \"American Samoa\", null, \"Guinea-Bissau\", \"Seychelles\", \"Laos\", \"Malawi\", \"Micronesia\", \"Marshall Islands\", \"Comoros\", \"Lesotho\", \"Saint Lucia\", \"Liberia\", \"Libya\", \"Cape Verde\", \"Kiribati\", \"Cook Islands\", \"Vietnam\", \"Dominica\", \"El Salvador\", \"Honduras\", \"Guam\", \"Guinea\", \"Maldives\", \"Central African Republic\", \"Gambia\", \"Mali\", \"Samoa\", \"Palestine\", \"Rwanda\", \"Boliva\", null, \"Republic of Congo\", \"Burkina Faso\", \"Brunei\", \"Papua New Guinea\", \"Palau\", \"Cambodia\", \"Malta\", \"Equatorial Guinea\", \"Cayman Islands\", \"Bhutan\", \"Nauru\", \"Nicaragua\", \"Chad\", \"Democratic Republic of the Congo\", \"Myanmar\", \"Mauritania\", \"Oman\", \"Sao Tome and Principe\", \"Yemen\", \"Sierra Leone\", \"Belize\", \"San Marino\", \"Solomon Islands\", \"Albania\", \"Somalia\", \"Bosnia and Herzegovina\", \"Bangladesh\", \"South Sudan\", \"Virgin Islands, British\"], \"marker\": {\"line\": {\"color\": \"rgb(0,0,0)\", \"width\": 0.5}}, \"reversescale\": false, \"text\": [\"Russia\", \"USA\", \"Germany\", \"Pakistan\", \"Norway\", \"Jamaica\", \"Sweden\", \"Netherlands\", \"Australia\", \"Hungary\", \"China\", \"Croatia\", \"UK\", \"Denmark\", \"Cuba\", \"Finland\", \"Serbia\", \"Azerbaijan\", \"Italy\", \"Montenegro\", \"Romania\", \"South Korea\", \"Ethiopia\", \"India\", \"France\", \"Canada\", \"Kenya\", \"Paraguay\", \"Kosovo\", \"Brazil\", \"Belgium\", \"Switzerland\", \"Nigeria\", \"Georgia\", \"Uruguay\", \"Japan\", \"Bahamas\", \"Czech Republic\", \"Indonesia\", \"New Zealand\", \"Bulgaria\", \"Trinidad\", \"Lithuania\", \"Spain\", \"Poland\", \"Austria\", \"Iran\", \"Argentina\", \"North Korea\", \"Greece\", \"Belarus\", \"Ukraine\", \"South Africa\", \"Armenia\", \"Cameroon\", \"Turkey\", \"Uzbekistan\", \"Zimbabwe\", \"Haiti\", \"Ghana\", \"Tajikistan\", \"Estonia\", \"Fiji\", \"Kazakhstan\", \"Individual Olympic Athletes\", \"Namibia\", \"Burundi\", \"Mongolia\", \"Taiwan\", \"Slovakia\", \"Slovenia\", \"Niger\", \"Thailand\", \"Mexico\", \"Grenada\", \"Latvia\", \"Chile\", \"Moldova\", \"Morocco\", \"Algeria\", \"Suriname\", \"Peru\", \"Malaysia\", \"Iceland\", \"Uganda\", \"Portugal\", \"Ireland\", \"Djibouti\", \"Colombia\", \"Saudi Arabia\", \"Qatar\", \"Vietnam\", \"Mozambique\", \"Dominican Republic\", \"Liechtenstein\", \"Bahrain\", \"Eritrea\", \"Tunisia\", \"Tonga\", \"Panama\", \"Vietnam\", \"Syria\", \"Togo\", \"Egypt\", \"Venezuela\", \"Afghanistan\", \"Gabon\", \"Ivory Coast\", \"Costa Rica\", \"Philippines\", \"United Arab Emirates\", \"Sri Lanka\", \"Israel\", \"Kyrgyzstan\", \"Curacao\", \"Jordan\", \"Tanzania\", \"Lebanon\", \"Macedonia\", \"Botswana\", \"Zambia\", \"Nepal\", \"Guyana\", \"Puerto Rico\", \"Sudan\", \"Luxembourg\", \"Ecuador\", \"Kuwait\", \"Mauritius\", \"Monaco\", \"Bermuda\", \"Barbados\", \"Cyprus\", \"Iraq\", \"Virgin Islands, US\", \"Senegal\", \"Guatemala\", \"Madagascar\", \"Saint Vincent\", \"Benin\", \"Swaziland\", \"Vanuatu\", \"Andorra\", \"Angola\", \"Antigua\", null, \"Saint Kitts\", \"Turkmenistan\", \"Timor-Leste\", \"Aruba\", \"American Samoa\", null, \"Guinea-Bissau\", \"Seychelles\", \"Laos\", \"Malawi\", \"Micronesia\", \"Marshall Islands\", \"Comoros\", \"Lesotho\", \"Saint Lucia\", \"Liberia\", \"Libya\", \"Cape Verde\", \"Kiribati\", \"Cook Islands\", \"Vietnam\", \"Dominica\", \"El Salvador\", \"Honduras\", \"Guam\", \"Guinea\", \"Maldives\", \"Central African Republic\", \"Gambia\", \"Mali\", \"Samoa\", \"Palestine\", \"Rwanda\", \"Boliva\", null, \"Republic of Congo\", \"Burkina Faso\", \"Brunei\", \"Papua New Guinea\", \"Palau\", \"Cambodia\", \"Malta\", \"Equatorial Guinea\", \"Cayman Islands\", \"Bhutan\", \"Nauru\", \"Nicaragua\", \"Chad\", \"Democratic Republic of the Congo\", \"Myanmar\", \"Mauritania\", \"Oman\", \"Sao Tome and Principe\", \"Yemen\", \"Sierra Leone\", \"Belize\", \"San Marino\", \"Solomon Islands\", \"Albania\", \"Somalia\", \"Bosnia and Herzegovina\", \"Bangladesh\", \"South Sudan\", \"Virgin Islands, British\"], \"type\": \"choropleth\", \"z\": [13.68, 13.99, 8.19, 7.47, 7.62, 4.48, 5.74, 4.92, 4.76, 6.54, 6.02, 6.62, 5.53, 5.01, 6.62, 3.62, 4.76, 2.47, 5.37, 0.0, 3.65, 4.95, 5.82, 9.8, 3.93, 4.76, 4.4, 0.0, 12.5, 2.83, 2.54, 2.85, 2.61, 2.8, 5.38, 2.93, 3.74, 1.91, 2.67, 3.84, 1.53, 1.77, 0.92, 2.07, 1.88, 2.1, 2.28, 2.76, 1.98, 1.94, 1.34, 1.84, 1.87, 0.9, 6.41, 2.95, 2.02, 5.26, 0.94, 0.0, 1.43, 1.48, 5.6, 1.4, 1.06, 0.0, 2.56, 0.36, 0.27, 1.42, 0.72, 0.0, 1.2, 1.04, 1.85, 0.32, 0.32, 0.0, 0.88, 0.91, 1.45, 0.19, 0.0, 0.0, 0.77, 0.26, 0.68, 0.0, 0.47, 0.0, 0.0, 0.65, 1.28, 1.08, 0.54, 0.79, 0.0, 0.53, 0.0, 0.72, 0.46, 0.36, 0.0, 0.43, 0.22, 0.0, 0.0, 0.52, 0.38, 0.0, 0.69, 0.0, 0.15, 0.0, 0.0, 1.25, 0.0, 0.0, 0.0, 0.0, 0.0, 1.06, 0.0, 0.11, 0.0, 0.4, 0.36, 0.0, 0.0, 0.0, 0.0, 0.0, 0.0, 0.0, 0.0, 0.0, 0.0, 0.0, 0.0, 0.0, 0.0, 0.0, 0.0, 0.0, 0.0, 0.0, 0.0, 0.0, 0.0, 0.0, 0.0, 0.0, 0.0, 0.0, 0.0, 0.0, 0.0, 0.0, 0.0, 0.0, 0.0, 0.0, 0.0, 0.0, 0.0, 0.0, 0.0, 0.0, 0.0, 0.0, 0.0, 0.0, 0.0, 0.0, 0.0, 0.0, 0.0, 0.0, 0.0, 0.0, 0.0, 0.0, 0.0, 0.0, 0.0, 0.0, 0.0, 0.0, 0.0, 0.0, 0.0, 0.0, 0.0, 0.0, 0.0, 0.0, 0.0, 0.0, 0.0, 0.0, 0.0, 0.0, 0.0, 0.0, 0.0, 0.0, 0.0, 0.0, 0.0, 0.0]}],\n",
       "                        {\"geo\": {\"projection\": {\"type\": \"natural earth\"}, \"showcoastlines\": true, \"showframe\": true, \"showlakes\": false}, \"template\": {\"data\": {\"bar\": [{\"error_x\": {\"color\": \"#2a3f5f\"}, \"error_y\": {\"color\": \"#2a3f5f\"}, \"marker\": {\"line\": {\"color\": \"#E5ECF6\", \"width\": 0.5}}, \"type\": \"bar\"}], \"barpolar\": [{\"marker\": {\"line\": {\"color\": \"#E5ECF6\", \"width\": 0.5}}, \"type\": \"barpolar\"}], \"carpet\": [{\"aaxis\": {\"endlinecolor\": \"#2a3f5f\", \"gridcolor\": \"white\", \"linecolor\": \"white\", \"minorgridcolor\": \"white\", \"startlinecolor\": \"#2a3f5f\"}, \"baxis\": {\"endlinecolor\": \"#2a3f5f\", \"gridcolor\": \"white\", \"linecolor\": \"white\", \"minorgridcolor\": \"white\", \"startlinecolor\": \"#2a3f5f\"}, \"type\": \"carpet\"}], \"choropleth\": [{\"colorbar\": {\"outlinewidth\": 0, \"ticks\": \"\"}, \"type\": \"choropleth\"}], \"contour\": [{\"colorbar\": {\"outlinewidth\": 0, \"ticks\": \"\"}, \"colorscale\": [[0.0, \"#0d0887\"], [0.1111111111111111, \"#46039f\"], [0.2222222222222222, \"#7201a8\"], [0.3333333333333333, \"#9c179e\"], [0.4444444444444444, \"#bd3786\"], [0.5555555555555556, \"#d8576b\"], [0.6666666666666666, \"#ed7953\"], [0.7777777777777778, \"#fb9f3a\"], [0.8888888888888888, \"#fdca26\"], [1.0, \"#f0f921\"]], \"type\": \"contour\"}], \"contourcarpet\": [{\"colorbar\": {\"outlinewidth\": 0, \"ticks\": \"\"}, \"type\": \"contourcarpet\"}], \"heatmap\": [{\"colorbar\": {\"outlinewidth\": 0, \"ticks\": \"\"}, \"colorscale\": [[0.0, \"#0d0887\"], [0.1111111111111111, \"#46039f\"], [0.2222222222222222, \"#7201a8\"], [0.3333333333333333, \"#9c179e\"], [0.4444444444444444, \"#bd3786\"], [0.5555555555555556, \"#d8576b\"], [0.6666666666666666, \"#ed7953\"], [0.7777777777777778, \"#fb9f3a\"], [0.8888888888888888, \"#fdca26\"], [1.0, \"#f0f921\"]], \"type\": \"heatmap\"}], \"heatmapgl\": [{\"colorbar\": {\"outlinewidth\": 0, \"ticks\": \"\"}, \"colorscale\": [[0.0, \"#0d0887\"], [0.1111111111111111, \"#46039f\"], [0.2222222222222222, \"#7201a8\"], [0.3333333333333333, \"#9c179e\"], [0.4444444444444444, \"#bd3786\"], [0.5555555555555556, \"#d8576b\"], [0.6666666666666666, \"#ed7953\"], [0.7777777777777778, \"#fb9f3a\"], [0.8888888888888888, \"#fdca26\"], [1.0, \"#f0f921\"]], \"type\": \"heatmapgl\"}], \"histogram\": [{\"marker\": {\"colorbar\": {\"outlinewidth\": 0, \"ticks\": \"\"}}, \"type\": \"histogram\"}], \"histogram2d\": [{\"colorbar\": {\"outlinewidth\": 0, \"ticks\": \"\"}, \"colorscale\": [[0.0, \"#0d0887\"], [0.1111111111111111, \"#46039f\"], [0.2222222222222222, \"#7201a8\"], [0.3333333333333333, \"#9c179e\"], [0.4444444444444444, \"#bd3786\"], [0.5555555555555556, \"#d8576b\"], [0.6666666666666666, \"#ed7953\"], [0.7777777777777778, \"#fb9f3a\"], [0.8888888888888888, \"#fdca26\"], [1.0, \"#f0f921\"]], \"type\": \"histogram2d\"}], \"histogram2dcontour\": [{\"colorbar\": {\"outlinewidth\": 0, \"ticks\": \"\"}, \"colorscale\": [[0.0, \"#0d0887\"], [0.1111111111111111, \"#46039f\"], [0.2222222222222222, \"#7201a8\"], [0.3333333333333333, \"#9c179e\"], [0.4444444444444444, \"#bd3786\"], [0.5555555555555556, \"#d8576b\"], [0.6666666666666666, \"#ed7953\"], [0.7777777777777778, \"#fb9f3a\"], [0.8888888888888888, \"#fdca26\"], [1.0, \"#f0f921\"]], \"type\": \"histogram2dcontour\"}], \"mesh3d\": [{\"colorbar\": {\"outlinewidth\": 0, \"ticks\": \"\"}, \"type\": \"mesh3d\"}], \"parcoords\": [{\"line\": {\"colorbar\": {\"outlinewidth\": 0, \"ticks\": \"\"}}, \"type\": \"parcoords\"}], \"pie\": [{\"automargin\": true, \"type\": \"pie\"}], \"scatter\": [{\"marker\": {\"colorbar\": {\"outlinewidth\": 0, \"ticks\": \"\"}}, \"type\": \"scatter\"}], \"scatter3d\": [{\"line\": {\"colorbar\": {\"outlinewidth\": 0, \"ticks\": \"\"}}, \"marker\": {\"colorbar\": {\"outlinewidth\": 0, \"ticks\": \"\"}}, \"type\": \"scatter3d\"}], \"scattercarpet\": [{\"marker\": {\"colorbar\": {\"outlinewidth\": 0, \"ticks\": \"\"}}, \"type\": \"scattercarpet\"}], \"scattergeo\": [{\"marker\": {\"colorbar\": {\"outlinewidth\": 0, \"ticks\": \"\"}}, \"type\": \"scattergeo\"}], \"scattergl\": [{\"marker\": {\"colorbar\": {\"outlinewidth\": 0, \"ticks\": \"\"}}, \"type\": \"scattergl\"}], \"scattermapbox\": [{\"marker\": {\"colorbar\": {\"outlinewidth\": 0, \"ticks\": \"\"}}, \"type\": \"scattermapbox\"}], \"scatterpolar\": [{\"marker\": {\"colorbar\": {\"outlinewidth\": 0, \"ticks\": \"\"}}, \"type\": \"scatterpolar\"}], \"scatterpolargl\": [{\"marker\": {\"colorbar\": {\"outlinewidth\": 0, \"ticks\": \"\"}}, \"type\": \"scatterpolargl\"}], \"scatterternary\": [{\"marker\": {\"colorbar\": {\"outlinewidth\": 0, \"ticks\": \"\"}}, \"type\": \"scatterternary\"}], \"surface\": [{\"colorbar\": {\"outlinewidth\": 0, \"ticks\": \"\"}, \"colorscale\": [[0.0, \"#0d0887\"], [0.1111111111111111, \"#46039f\"], [0.2222222222222222, \"#7201a8\"], [0.3333333333333333, \"#9c179e\"], [0.4444444444444444, \"#bd3786\"], [0.5555555555555556, \"#d8576b\"], [0.6666666666666666, \"#ed7953\"], [0.7777777777777778, \"#fb9f3a\"], [0.8888888888888888, \"#fdca26\"], [1.0, \"#f0f921\"]], \"type\": \"surface\"}], \"table\": [{\"cells\": {\"fill\": {\"color\": \"#EBF0F8\"}, \"line\": {\"color\": \"white\"}}, \"header\": {\"fill\": {\"color\": \"#C8D4E3\"}, \"line\": {\"color\": \"white\"}}, \"type\": \"table\"}]}, \"layout\": {\"annotationdefaults\": {\"arrowcolor\": \"#2a3f5f\", \"arrowhead\": 0, \"arrowwidth\": 1}, \"coloraxis\": {\"colorbar\": {\"outlinewidth\": 0, \"ticks\": \"\"}}, \"colorscale\": {\"diverging\": [[0, \"#8e0152\"], [0.1, \"#c51b7d\"], [0.2, \"#de77ae\"], [0.3, \"#f1b6da\"], [0.4, \"#fde0ef\"], [0.5, \"#f7f7f7\"], [0.6, \"#e6f5d0\"], [0.7, \"#b8e186\"], [0.8, \"#7fbc41\"], [0.9, \"#4d9221\"], [1, \"#276419\"]], \"sequential\": [[0.0, \"#0d0887\"], [0.1111111111111111, \"#46039f\"], [0.2222222222222222, \"#7201a8\"], [0.3333333333333333, \"#9c179e\"], [0.4444444444444444, \"#bd3786\"], [0.5555555555555556, \"#d8576b\"], [0.6666666666666666, \"#ed7953\"], [0.7777777777777778, \"#fb9f3a\"], [0.8888888888888888, \"#fdca26\"], [1.0, \"#f0f921\"]], \"sequentialminus\": [[0.0, \"#0d0887\"], [0.1111111111111111, \"#46039f\"], [0.2222222222222222, \"#7201a8\"], [0.3333333333333333, \"#9c179e\"], [0.4444444444444444, \"#bd3786\"], [0.5555555555555556, \"#d8576b\"], [0.6666666666666666, \"#ed7953\"], [0.7777777777777778, \"#fb9f3a\"], [0.8888888888888888, \"#fdca26\"], [1.0, \"#f0f921\"]]}, \"colorway\": [\"#636efa\", \"#EF553B\", \"#00cc96\", \"#ab63fa\", \"#FFA15A\", \"#19d3f3\", \"#FF6692\", \"#B6E880\", \"#FF97FF\", \"#FECB52\"], \"font\": {\"color\": \"#2a3f5f\"}, \"geo\": {\"bgcolor\": \"white\", \"lakecolor\": \"white\", \"landcolor\": \"#E5ECF6\", \"showlakes\": true, \"showland\": true, \"subunitcolor\": \"white\"}, \"hoverlabel\": {\"align\": \"left\"}, \"hovermode\": \"closest\", \"mapbox\": {\"style\": \"light\"}, \"paper_bgcolor\": \"white\", \"plot_bgcolor\": \"#E5ECF6\", \"polar\": {\"angularaxis\": {\"gridcolor\": \"white\", \"linecolor\": \"white\", \"ticks\": \"\"}, \"bgcolor\": \"#E5ECF6\", \"radialaxis\": {\"gridcolor\": \"white\", \"linecolor\": \"white\", \"ticks\": \"\"}}, \"scene\": {\"xaxis\": {\"backgroundcolor\": \"#E5ECF6\", \"gridcolor\": \"white\", \"gridwidth\": 2, \"linecolor\": \"white\", \"showbackground\": true, \"ticks\": \"\", \"zerolinecolor\": \"white\"}, \"yaxis\": {\"backgroundcolor\": \"#E5ECF6\", \"gridcolor\": \"white\", \"gridwidth\": 2, \"linecolor\": \"white\", \"showbackground\": true, \"ticks\": \"\", \"zerolinecolor\": \"white\"}, \"zaxis\": {\"backgroundcolor\": \"#E5ECF6\", \"gridcolor\": \"white\", \"gridwidth\": 2, \"linecolor\": \"white\", \"showbackground\": true, \"ticks\": \"\", \"zerolinecolor\": \"white\"}}, \"shapedefaults\": {\"line\": {\"color\": \"#2a3f5f\"}}, \"ternary\": {\"aaxis\": {\"gridcolor\": \"white\", \"linecolor\": \"white\", \"ticks\": \"\"}, \"baxis\": {\"gridcolor\": \"white\", \"linecolor\": \"white\", \"ticks\": \"\"}, \"bgcolor\": \"#E5ECF6\", \"caxis\": {\"gridcolor\": \"white\", \"linecolor\": \"white\", \"ticks\": \"\"}}, \"title\": {\"x\": 0.05}, \"xaxis\": {\"automargin\": true, \"gridcolor\": \"white\", \"linecolor\": \"white\", \"ticks\": \"\", \"title\": {\"standoff\": 15}, \"zerolinecolor\": \"white\", \"zerolinewidth\": 2}, \"yaxis\": {\"automargin\": true, \"gridcolor\": \"white\", \"linecolor\": \"white\", \"ticks\": \"\", \"title\": {\"standoff\": 15}, \"zerolinecolor\": \"white\", \"zerolinewidth\": 2}}}, \"title\": {\"text\": \"Total Gold Medals Won by Country Over All Olympic Competitions\"}},\n",
       "                        {\"responsive\": true}\n",
       "                    ).then(function(){\n",
       "                            \n",
       "var gd = document.getElementById('05258469-2c94-4228-9611-dad5d1dcbc63');\n",
       "var x = new MutationObserver(function (mutations, observer) {{\n",
       "        var display = window.getComputedStyle(gd).display;\n",
       "        if (!display || display === 'none') {{\n",
       "            console.log([gd, 'removed!']);\n",
       "            Plotly.purge(gd);\n",
       "            observer.disconnect();\n",
       "        }}\n",
       "}});\n",
       "\n",
       "// Listen for the removal of the full notebook cells\n",
       "var notebookContainer = gd.closest('#notebook-container');\n",
       "if (notebookContainer) {{\n",
       "    x.observe(notebookContainer, {childList: true});\n",
       "}}\n",
       "\n",
       "// Listen for the clearing of the current output cell\n",
       "var outputEl = gd.closest('.output');\n",
       "if (outputEl) {{\n",
       "    x.observe(outputEl, {childList: true});\n",
       "}}\n",
       "\n",
       "                        })\n",
       "                };\n",
       "                });\n",
       "            </script>\n",
       "        </div>"
      ]
     },
     "metadata": {},
     "output_type": "display_data"
    }
   ],
   "source": [
    "create_map(propor_map, 'Gold', 'YlOrBr')"
   ]
  },
  {
   "cell_type": "code",
   "execution_count": 140,
   "metadata": {},
   "outputs": [
    {
     "data": {
      "application/vnd.plotly.v1+json": {
       "config": {
        "linkText": "Export to plot.ly",
        "plotlyServerURL": "https://plot.ly",
        "showLink": false
       },
       "data": [
        {
         "autocolorscale": false,
         "colorbar": {
          "tickprefix": "",
          "title": {
           "text": "Total Medals"
          }
         },
         "colorscale": [
          [
           0,
           "rgb(255,255,255)"
          ],
          [
           0.125,
           "rgb(240,240,240)"
          ],
          [
           0.25,
           "rgb(217,217,217)"
          ],
          [
           0.375,
           "rgb(189,189,189)"
          ],
          [
           0.5,
           "rgb(150,150,150)"
          ],
          [
           0.625,
           "rgb(115,115,115)"
          ],
          [
           0.75,
           "rgb(82,82,82)"
          ],
          [
           0.875,
           "rgb(37,37,37)"
          ],
          [
           1,
           "rgb(0,0,0)"
          ]
         ],
         "locationmode": "country names",
         "locations": [
          "Russia",
          "USA",
          "Germany",
          "Pakistan",
          "Norway",
          "Jamaica",
          "Sweden",
          "Netherlands",
          "Australia",
          "Hungary",
          "China",
          "Croatia",
          "UK",
          "Denmark",
          "Cuba",
          "Finland",
          "Serbia",
          "Azerbaijan",
          "Italy",
          "Montenegro",
          "Romania",
          "South Korea",
          "Ethiopia",
          "India",
          "France",
          "Canada",
          "Kenya",
          "Paraguay",
          "Kosovo",
          "Brazil",
          "Belgium",
          "Switzerland",
          "Nigeria",
          "Georgia",
          "Uruguay",
          "Japan",
          "Bahamas",
          "Czech Republic",
          "Indonesia",
          "New Zealand",
          "Bulgaria",
          "Trinidad",
          "Lithuania",
          "Spain",
          "Poland",
          "Austria",
          "Iran",
          "Argentina",
          "North Korea",
          "Greece",
          "Belarus",
          "Ukraine",
          "South Africa",
          "Armenia",
          "Cameroon",
          "Turkey",
          "Uzbekistan",
          "Zimbabwe",
          "Haiti",
          "Ghana",
          "Tajikistan",
          "Estonia",
          "Fiji",
          "Kazakhstan",
          "Individual Olympic Athletes",
          "Namibia",
          "Burundi",
          "Mongolia",
          "Taiwan",
          "Slovakia",
          "Slovenia",
          "Niger",
          "Thailand",
          "Mexico",
          "Grenada",
          "Latvia",
          "Chile",
          "Moldova",
          "Morocco",
          "Algeria",
          "Suriname",
          "Peru",
          "Malaysia",
          "Iceland",
          "Uganda",
          "Portugal",
          "Ireland",
          "Djibouti",
          "Colombia",
          "Saudi Arabia",
          "Qatar",
          "Vietnam",
          "Mozambique",
          "Dominican Republic",
          "Liechtenstein",
          "Bahrain",
          "Eritrea",
          "Tunisia",
          "Tonga",
          "Panama",
          "Vietnam",
          "Syria",
          "Togo",
          "Egypt",
          "Venezuela",
          "Afghanistan",
          "Gabon",
          "Ivory Coast",
          "Costa Rica",
          "Philippines",
          "United Arab Emirates",
          "Sri Lanka",
          "Israel",
          "Kyrgyzstan",
          "Curacao",
          "Jordan",
          "Tanzania",
          "Lebanon",
          "Macedonia",
          "Botswana",
          "Zambia",
          "Nepal",
          "Guyana",
          "Puerto Rico",
          "Sudan",
          "Luxembourg",
          "Ecuador",
          "Kuwait",
          "Mauritius",
          "Monaco",
          "Bermuda",
          "Barbados",
          "Cyprus",
          "Iraq",
          "Virgin Islands, US",
          "Senegal",
          "Guatemala",
          "Madagascar",
          "Saint Vincent",
          "Benin",
          "Swaziland",
          "Vanuatu",
          "Andorra",
          "Angola",
          "Antigua",
          null,
          "Saint Kitts",
          "Turkmenistan",
          "Timor-Leste",
          "Aruba",
          "American Samoa",
          null,
          "Guinea-Bissau",
          "Seychelles",
          "Laos",
          "Malawi",
          "Micronesia",
          "Marshall Islands",
          "Comoros",
          "Lesotho",
          "Saint Lucia",
          "Liberia",
          "Libya",
          "Cape Verde",
          "Kiribati",
          "Cook Islands",
          "Vietnam",
          "Dominica",
          "El Salvador",
          "Honduras",
          "Guam",
          "Guinea",
          "Maldives",
          "Central African Republic",
          "Gambia",
          "Mali",
          "Samoa",
          "Palestine",
          "Rwanda",
          "Boliva",
          null,
          "Republic of Congo",
          "Burkina Faso",
          "Brunei",
          "Papua New Guinea",
          "Palau",
          "Cambodia",
          "Malta",
          "Equatorial Guinea",
          "Cayman Islands",
          "Bhutan",
          "Nauru",
          "Nicaragua",
          "Chad",
          "Democratic Republic of the Congo",
          "Myanmar",
          "Mauritania",
          "Oman",
          "Sao Tome and Principe",
          "Yemen",
          "Sierra Leone",
          "Belize",
          "San Marino",
          "Solomon Islands",
          "Albania",
          "Somalia",
          "Bosnia and Herzegovina",
          "Bangladesh",
          "South Sudan",
          "Virgin Islands, British"
         ],
         "marker": {
          "line": {
           "color": "rgb(0,0,0)",
           "width": 0.5
          }
         },
         "reversescale": false,
         "text": [
          "Russia",
          "USA",
          "Germany",
          "Pakistan",
          "Norway",
          "Jamaica",
          "Sweden",
          "Netherlands",
          "Australia",
          "Hungary",
          "China",
          "Croatia",
          "UK",
          "Denmark",
          "Cuba",
          "Finland",
          "Serbia",
          "Azerbaijan",
          "Italy",
          "Montenegro",
          "Romania",
          "South Korea",
          "Ethiopia",
          "India",
          "France",
          "Canada",
          "Kenya",
          "Paraguay",
          "Kosovo",
          "Brazil",
          "Belgium",
          "Switzerland",
          "Nigeria",
          "Georgia",
          "Uruguay",
          "Japan",
          "Bahamas",
          "Czech Republic",
          "Indonesia",
          "New Zealand",
          "Bulgaria",
          "Trinidad",
          "Lithuania",
          "Spain",
          "Poland",
          "Austria",
          "Iran",
          "Argentina",
          "North Korea",
          "Greece",
          "Belarus",
          "Ukraine",
          "South Africa",
          "Armenia",
          "Cameroon",
          "Turkey",
          "Uzbekistan",
          "Zimbabwe",
          "Haiti",
          "Ghana",
          "Tajikistan",
          "Estonia",
          "Fiji",
          "Kazakhstan",
          "Individual Olympic Athletes",
          "Namibia",
          "Burundi",
          "Mongolia",
          "Taiwan",
          "Slovakia",
          "Slovenia",
          "Niger",
          "Thailand",
          "Mexico",
          "Grenada",
          "Latvia",
          "Chile",
          "Moldova",
          "Morocco",
          "Algeria",
          "Suriname",
          "Peru",
          "Malaysia",
          "Iceland",
          "Uganda",
          "Portugal",
          "Ireland",
          "Djibouti",
          "Colombia",
          "Saudi Arabia",
          "Qatar",
          "Vietnam",
          "Mozambique",
          "Dominican Republic",
          "Liechtenstein",
          "Bahrain",
          "Eritrea",
          "Tunisia",
          "Tonga",
          "Panama",
          "Vietnam",
          "Syria",
          "Togo",
          "Egypt",
          "Venezuela",
          "Afghanistan",
          "Gabon",
          "Ivory Coast",
          "Costa Rica",
          "Philippines",
          "United Arab Emirates",
          "Sri Lanka",
          "Israel",
          "Kyrgyzstan",
          "Curacao",
          "Jordan",
          "Tanzania",
          "Lebanon",
          "Macedonia",
          "Botswana",
          "Zambia",
          "Nepal",
          "Guyana",
          "Puerto Rico",
          "Sudan",
          "Luxembourg",
          "Ecuador",
          "Kuwait",
          "Mauritius",
          "Monaco",
          "Bermuda",
          "Barbados",
          "Cyprus",
          "Iraq",
          "Virgin Islands, US",
          "Senegal",
          "Guatemala",
          "Madagascar",
          "Saint Vincent",
          "Benin",
          "Swaziland",
          "Vanuatu",
          "Andorra",
          "Angola",
          "Antigua",
          null,
          "Saint Kitts",
          "Turkmenistan",
          "Timor-Leste",
          "Aruba",
          "American Samoa",
          null,
          "Guinea-Bissau",
          "Seychelles",
          "Laos",
          "Malawi",
          "Micronesia",
          "Marshall Islands",
          "Comoros",
          "Lesotho",
          "Saint Lucia",
          "Liberia",
          "Libya",
          "Cape Verde",
          "Kiribati",
          "Cook Islands",
          "Vietnam",
          "Dominica",
          "El Salvador",
          "Honduras",
          "Guam",
          "Guinea",
          "Maldives",
          "Central African Republic",
          "Gambia",
          "Mali",
          "Samoa",
          "Palestine",
          "Rwanda",
          "Boliva",
          null,
          "Republic of Congo",
          "Burkina Faso",
          "Brunei",
          "Papua New Guinea",
          "Palau",
          "Cambodia",
          "Malta",
          "Equatorial Guinea",
          "Cayman Islands",
          "Bhutan",
          "Nauru",
          "Nicaragua",
          "Chad",
          "Democratic Republic of the Congo",
          "Myanmar",
          "Mauritania",
          "Oman",
          "Sao Tome and Principe",
          "Yemen",
          "Sierra Leone",
          "Belize",
          "San Marino",
          "Solomon Islands",
          "Albania",
          "Somalia",
          "Bosnia and Herzegovina",
          "Bangladesh",
          "South Sudan",
          "Virgin Islands, British"
         ],
         "type": "choropleth",
         "z": [
          10.01,
          8.7,
          7.52,
          8.01,
          7.28,
          8.84,
          6.26,
          5.82,
          5.94,
          5.02,
          5.99,
          6.16,
          6.03,
          6.75,
          5.2,
          4.94,
          6.74,
          4.24,
          4.96,
          14.89,
          4.54,
          5.2,
          2.38,
          1.35,
          4.78,
          4.5,
          5.31,
          12.59,
          0,
          4.55,
          5.11,
          4.03,
          3.4,
          2.1,
          0.35,
          3.66,
          2.94,
          4.07,
          4.13,
          2.39,
          4.08,
          2.03,
          1.07,
          4.57,
          3.14,
          3.62,
          2.66,
          2.79,
          1.98,
          3.41,
          2.46,
          2.03,
          2.75,
          2.26,
          0.32,
          1.99,
          1.41,
          1.24,
          0.94,
          0.28,
          1.43,
          1.37,
          0,
          1.75,
          1.06,
          5.19,
          2.56,
          1.82,
          2.55,
          1.8,
          1.17,
          2.13,
          1.07,
          0.9,
          1.85,
          2,
          0.97,
          1.28,
          0.73,
          0.73,
          0,
          2.63,
          1.91,
          2.39,
          1.15,
          0.72,
          0.98,
          0,
          0.84,
          0.43,
          0.52,
          1.95,
          0,
          0.72,
          0.54,
          0.79,
          0,
          0.53,
          2.17,
          0,
          1.39,
          0.72,
          0,
          0.49,
          0.32,
          0,
          1.59,
          0.52,
          0.38,
          0.43,
          0,
          1.37,
          0.15,
          0.44,
          1.27,
          0,
          1.24,
          0.61,
          0,
          1.11,
          0.55,
          0,
          0,
          0.22,
          0.93,
          0.4,
          0.36,
          0,
          0,
          0,
          0,
          0,
          0.44,
          0,
          0.34,
          0.25,
          0.24,
          0,
          0,
          0,
          0,
          0,
          0,
          0,
          0,
          0,
          0,
          0,
          0,
          0,
          0,
          0,
          0,
          0,
          0,
          0,
          0,
          0,
          0,
          0,
          0,
          0,
          0,
          0,
          0,
          0,
          0,
          0,
          0,
          0,
          0,
          0,
          0,
          0,
          0,
          0,
          0,
          0,
          0,
          0,
          0,
          0,
          0,
          0,
          0,
          0,
          0,
          0,
          0,
          0,
          0,
          0,
          0,
          0,
          0,
          0,
          0,
          0,
          0,
          0,
          0,
          0,
          0,
          0,
          0,
          0,
          0,
          0,
          0,
          0
         ]
        }
       ],
       "layout": {
        "geo": {
         "projection": {
          "type": "natural earth"
         },
         "showcoastlines": true,
         "showframe": true,
         "showlakes": false
        },
        "template": {
         "data": {
          "bar": [
           {
            "error_x": {
             "color": "#2a3f5f"
            },
            "error_y": {
             "color": "#2a3f5f"
            },
            "marker": {
             "line": {
              "color": "#E5ECF6",
              "width": 0.5
             }
            },
            "type": "bar"
           }
          ],
          "barpolar": [
           {
            "marker": {
             "line": {
              "color": "#E5ECF6",
              "width": 0.5
             }
            },
            "type": "barpolar"
           }
          ],
          "carpet": [
           {
            "aaxis": {
             "endlinecolor": "#2a3f5f",
             "gridcolor": "white",
             "linecolor": "white",
             "minorgridcolor": "white",
             "startlinecolor": "#2a3f5f"
            },
            "baxis": {
             "endlinecolor": "#2a3f5f",
             "gridcolor": "white",
             "linecolor": "white",
             "minorgridcolor": "white",
             "startlinecolor": "#2a3f5f"
            },
            "type": "carpet"
           }
          ],
          "choropleth": [
           {
            "colorbar": {
             "outlinewidth": 0,
             "ticks": ""
            },
            "type": "choropleth"
           }
          ],
          "contour": [
           {
            "colorbar": {
             "outlinewidth": 0,
             "ticks": ""
            },
            "colorscale": [
             [
              0,
              "#0d0887"
             ],
             [
              0.1111111111111111,
              "#46039f"
             ],
             [
              0.2222222222222222,
              "#7201a8"
             ],
             [
              0.3333333333333333,
              "#9c179e"
             ],
             [
              0.4444444444444444,
              "#bd3786"
             ],
             [
              0.5555555555555556,
              "#d8576b"
             ],
             [
              0.6666666666666666,
              "#ed7953"
             ],
             [
              0.7777777777777778,
              "#fb9f3a"
             ],
             [
              0.8888888888888888,
              "#fdca26"
             ],
             [
              1,
              "#f0f921"
             ]
            ],
            "type": "contour"
           }
          ],
          "contourcarpet": [
           {
            "colorbar": {
             "outlinewidth": 0,
             "ticks": ""
            },
            "type": "contourcarpet"
           }
          ],
          "heatmap": [
           {
            "colorbar": {
             "outlinewidth": 0,
             "ticks": ""
            },
            "colorscale": [
             [
              0,
              "#0d0887"
             ],
             [
              0.1111111111111111,
              "#46039f"
             ],
             [
              0.2222222222222222,
              "#7201a8"
             ],
             [
              0.3333333333333333,
              "#9c179e"
             ],
             [
              0.4444444444444444,
              "#bd3786"
             ],
             [
              0.5555555555555556,
              "#d8576b"
             ],
             [
              0.6666666666666666,
              "#ed7953"
             ],
             [
              0.7777777777777778,
              "#fb9f3a"
             ],
             [
              0.8888888888888888,
              "#fdca26"
             ],
             [
              1,
              "#f0f921"
             ]
            ],
            "type": "heatmap"
           }
          ],
          "heatmapgl": [
           {
            "colorbar": {
             "outlinewidth": 0,
             "ticks": ""
            },
            "colorscale": [
             [
              0,
              "#0d0887"
             ],
             [
              0.1111111111111111,
              "#46039f"
             ],
             [
              0.2222222222222222,
              "#7201a8"
             ],
             [
              0.3333333333333333,
              "#9c179e"
             ],
             [
              0.4444444444444444,
              "#bd3786"
             ],
             [
              0.5555555555555556,
              "#d8576b"
             ],
             [
              0.6666666666666666,
              "#ed7953"
             ],
             [
              0.7777777777777778,
              "#fb9f3a"
             ],
             [
              0.8888888888888888,
              "#fdca26"
             ],
             [
              1,
              "#f0f921"
             ]
            ],
            "type": "heatmapgl"
           }
          ],
          "histogram": [
           {
            "marker": {
             "colorbar": {
              "outlinewidth": 0,
              "ticks": ""
             }
            },
            "type": "histogram"
           }
          ],
          "histogram2d": [
           {
            "colorbar": {
             "outlinewidth": 0,
             "ticks": ""
            },
            "colorscale": [
             [
              0,
              "#0d0887"
             ],
             [
              0.1111111111111111,
              "#46039f"
             ],
             [
              0.2222222222222222,
              "#7201a8"
             ],
             [
              0.3333333333333333,
              "#9c179e"
             ],
             [
              0.4444444444444444,
              "#bd3786"
             ],
             [
              0.5555555555555556,
              "#d8576b"
             ],
             [
              0.6666666666666666,
              "#ed7953"
             ],
             [
              0.7777777777777778,
              "#fb9f3a"
             ],
             [
              0.8888888888888888,
              "#fdca26"
             ],
             [
              1,
              "#f0f921"
             ]
            ],
            "type": "histogram2d"
           }
          ],
          "histogram2dcontour": [
           {
            "colorbar": {
             "outlinewidth": 0,
             "ticks": ""
            },
            "colorscale": [
             [
              0,
              "#0d0887"
             ],
             [
              0.1111111111111111,
              "#46039f"
             ],
             [
              0.2222222222222222,
              "#7201a8"
             ],
             [
              0.3333333333333333,
              "#9c179e"
             ],
             [
              0.4444444444444444,
              "#bd3786"
             ],
             [
              0.5555555555555556,
              "#d8576b"
             ],
             [
              0.6666666666666666,
              "#ed7953"
             ],
             [
              0.7777777777777778,
              "#fb9f3a"
             ],
             [
              0.8888888888888888,
              "#fdca26"
             ],
             [
              1,
              "#f0f921"
             ]
            ],
            "type": "histogram2dcontour"
           }
          ],
          "mesh3d": [
           {
            "colorbar": {
             "outlinewidth": 0,
             "ticks": ""
            },
            "type": "mesh3d"
           }
          ],
          "parcoords": [
           {
            "line": {
             "colorbar": {
              "outlinewidth": 0,
              "ticks": ""
             }
            },
            "type": "parcoords"
           }
          ],
          "pie": [
           {
            "automargin": true,
            "type": "pie"
           }
          ],
          "scatter": [
           {
            "marker": {
             "colorbar": {
              "outlinewidth": 0,
              "ticks": ""
             }
            },
            "type": "scatter"
           }
          ],
          "scatter3d": [
           {
            "line": {
             "colorbar": {
              "outlinewidth": 0,
              "ticks": ""
             }
            },
            "marker": {
             "colorbar": {
              "outlinewidth": 0,
              "ticks": ""
             }
            },
            "type": "scatter3d"
           }
          ],
          "scattercarpet": [
           {
            "marker": {
             "colorbar": {
              "outlinewidth": 0,
              "ticks": ""
             }
            },
            "type": "scattercarpet"
           }
          ],
          "scattergeo": [
           {
            "marker": {
             "colorbar": {
              "outlinewidth": 0,
              "ticks": ""
             }
            },
            "type": "scattergeo"
           }
          ],
          "scattergl": [
           {
            "marker": {
             "colorbar": {
              "outlinewidth": 0,
              "ticks": ""
             }
            },
            "type": "scattergl"
           }
          ],
          "scattermapbox": [
           {
            "marker": {
             "colorbar": {
              "outlinewidth": 0,
              "ticks": ""
             }
            },
            "type": "scattermapbox"
           }
          ],
          "scatterpolar": [
           {
            "marker": {
             "colorbar": {
              "outlinewidth": 0,
              "ticks": ""
             }
            },
            "type": "scatterpolar"
           }
          ],
          "scatterpolargl": [
           {
            "marker": {
             "colorbar": {
              "outlinewidth": 0,
              "ticks": ""
             }
            },
            "type": "scatterpolargl"
           }
          ],
          "scatterternary": [
           {
            "marker": {
             "colorbar": {
              "outlinewidth": 0,
              "ticks": ""
             }
            },
            "type": "scatterternary"
           }
          ],
          "surface": [
           {
            "colorbar": {
             "outlinewidth": 0,
             "ticks": ""
            },
            "colorscale": [
             [
              0,
              "#0d0887"
             ],
             [
              0.1111111111111111,
              "#46039f"
             ],
             [
              0.2222222222222222,
              "#7201a8"
             ],
             [
              0.3333333333333333,
              "#9c179e"
             ],
             [
              0.4444444444444444,
              "#bd3786"
             ],
             [
              0.5555555555555556,
              "#d8576b"
             ],
             [
              0.6666666666666666,
              "#ed7953"
             ],
             [
              0.7777777777777778,
              "#fb9f3a"
             ],
             [
              0.8888888888888888,
              "#fdca26"
             ],
             [
              1,
              "#f0f921"
             ]
            ],
            "type": "surface"
           }
          ],
          "table": [
           {
            "cells": {
             "fill": {
              "color": "#EBF0F8"
             },
             "line": {
              "color": "white"
             }
            },
            "header": {
             "fill": {
              "color": "#C8D4E3"
             },
             "line": {
              "color": "white"
             }
            },
            "type": "table"
           }
          ]
         },
         "layout": {
          "annotationdefaults": {
           "arrowcolor": "#2a3f5f",
           "arrowhead": 0,
           "arrowwidth": 1
          },
          "coloraxis": {
           "colorbar": {
            "outlinewidth": 0,
            "ticks": ""
           }
          },
          "colorscale": {
           "diverging": [
            [
             0,
             "#8e0152"
            ],
            [
             0.1,
             "#c51b7d"
            ],
            [
             0.2,
             "#de77ae"
            ],
            [
             0.3,
             "#f1b6da"
            ],
            [
             0.4,
             "#fde0ef"
            ],
            [
             0.5,
             "#f7f7f7"
            ],
            [
             0.6,
             "#e6f5d0"
            ],
            [
             0.7,
             "#b8e186"
            ],
            [
             0.8,
             "#7fbc41"
            ],
            [
             0.9,
             "#4d9221"
            ],
            [
             1,
             "#276419"
            ]
           ],
           "sequential": [
            [
             0,
             "#0d0887"
            ],
            [
             0.1111111111111111,
             "#46039f"
            ],
            [
             0.2222222222222222,
             "#7201a8"
            ],
            [
             0.3333333333333333,
             "#9c179e"
            ],
            [
             0.4444444444444444,
             "#bd3786"
            ],
            [
             0.5555555555555556,
             "#d8576b"
            ],
            [
             0.6666666666666666,
             "#ed7953"
            ],
            [
             0.7777777777777778,
             "#fb9f3a"
            ],
            [
             0.8888888888888888,
             "#fdca26"
            ],
            [
             1,
             "#f0f921"
            ]
           ],
           "sequentialminus": [
            [
             0,
             "#0d0887"
            ],
            [
             0.1111111111111111,
             "#46039f"
            ],
            [
             0.2222222222222222,
             "#7201a8"
            ],
            [
             0.3333333333333333,
             "#9c179e"
            ],
            [
             0.4444444444444444,
             "#bd3786"
            ],
            [
             0.5555555555555556,
             "#d8576b"
            ],
            [
             0.6666666666666666,
             "#ed7953"
            ],
            [
             0.7777777777777778,
             "#fb9f3a"
            ],
            [
             0.8888888888888888,
             "#fdca26"
            ],
            [
             1,
             "#f0f921"
            ]
           ]
          },
          "colorway": [
           "#636efa",
           "#EF553B",
           "#00cc96",
           "#ab63fa",
           "#FFA15A",
           "#19d3f3",
           "#FF6692",
           "#B6E880",
           "#FF97FF",
           "#FECB52"
          ],
          "font": {
           "color": "#2a3f5f"
          },
          "geo": {
           "bgcolor": "white",
           "lakecolor": "white",
           "landcolor": "#E5ECF6",
           "showlakes": true,
           "showland": true,
           "subunitcolor": "white"
          },
          "hoverlabel": {
           "align": "left"
          },
          "hovermode": "closest",
          "mapbox": {
           "style": "light"
          },
          "paper_bgcolor": "white",
          "plot_bgcolor": "#E5ECF6",
          "polar": {
           "angularaxis": {
            "gridcolor": "white",
            "linecolor": "white",
            "ticks": ""
           },
           "bgcolor": "#E5ECF6",
           "radialaxis": {
            "gridcolor": "white",
            "linecolor": "white",
            "ticks": ""
           }
          },
          "scene": {
           "xaxis": {
            "backgroundcolor": "#E5ECF6",
            "gridcolor": "white",
            "gridwidth": 2,
            "linecolor": "white",
            "showbackground": true,
            "ticks": "",
            "zerolinecolor": "white"
           },
           "yaxis": {
            "backgroundcolor": "#E5ECF6",
            "gridcolor": "white",
            "gridwidth": 2,
            "linecolor": "white",
            "showbackground": true,
            "ticks": "",
            "zerolinecolor": "white"
           },
           "zaxis": {
            "backgroundcolor": "#E5ECF6",
            "gridcolor": "white",
            "gridwidth": 2,
            "linecolor": "white",
            "showbackground": true,
            "ticks": "",
            "zerolinecolor": "white"
           }
          },
          "shapedefaults": {
           "line": {
            "color": "#2a3f5f"
           }
          },
          "ternary": {
           "aaxis": {
            "gridcolor": "white",
            "linecolor": "white",
            "ticks": ""
           },
           "baxis": {
            "gridcolor": "white",
            "linecolor": "white",
            "ticks": ""
           },
           "bgcolor": "#E5ECF6",
           "caxis": {
            "gridcolor": "white",
            "linecolor": "white",
            "ticks": ""
           }
          },
          "title": {
           "x": 0.05
          },
          "xaxis": {
           "automargin": true,
           "gridcolor": "white",
           "linecolor": "white",
           "ticks": "",
           "title": {
            "standoff": 15
           },
           "zerolinecolor": "white",
           "zerolinewidth": 2
          },
          "yaxis": {
           "automargin": true,
           "gridcolor": "white",
           "linecolor": "white",
           "ticks": "",
           "title": {
            "standoff": 15
           },
           "zerolinecolor": "white",
           "zerolinewidth": 2
          }
         }
        },
        "title": {
         "text": "Total Silver Medals Won by Country Over All Olympic Competitions"
        }
       }
      },
      "text/html": [
       "<div>\n",
       "        \n",
       "        \n",
       "            <div id=\"050a19ae-7b04-43fb-ae89-49def2a51824\" class=\"plotly-graph-div\" style=\"height:525px; width:100%;\"></div>\n",
       "            <script type=\"text/javascript\">\n",
       "                require([\"plotly\"], function(Plotly) {\n",
       "                    window.PLOTLYENV=window.PLOTLYENV || {};\n",
       "                    \n",
       "                if (document.getElementById(\"050a19ae-7b04-43fb-ae89-49def2a51824\")) {\n",
       "                    Plotly.newPlot(\n",
       "                        '050a19ae-7b04-43fb-ae89-49def2a51824',\n",
       "                        [{\"autocolorscale\": false, \"colorbar\": {\"tickprefix\": \"\", \"title\": {\"text\": \"Total Medals\"}}, \"colorscale\": [[0.0, \"rgb(255,255,255)\"], [0.125, \"rgb(240,240,240)\"], [0.25, \"rgb(217,217,217)\"], [0.375, \"rgb(189,189,189)\"], [0.5, \"rgb(150,150,150)\"], [0.625, \"rgb(115,115,115)\"], [0.75, \"rgb(82,82,82)\"], [0.875, \"rgb(37,37,37)\"], [1.0, \"rgb(0,0,0)\"]], \"locationmode\": \"country names\", \"locations\": [\"Russia\", \"USA\", \"Germany\", \"Pakistan\", \"Norway\", \"Jamaica\", \"Sweden\", \"Netherlands\", \"Australia\", \"Hungary\", \"China\", \"Croatia\", \"UK\", \"Denmark\", \"Cuba\", \"Finland\", \"Serbia\", \"Azerbaijan\", \"Italy\", \"Montenegro\", \"Romania\", \"South Korea\", \"Ethiopia\", \"India\", \"France\", \"Canada\", \"Kenya\", \"Paraguay\", \"Kosovo\", \"Brazil\", \"Belgium\", \"Switzerland\", \"Nigeria\", \"Georgia\", \"Uruguay\", \"Japan\", \"Bahamas\", \"Czech Republic\", \"Indonesia\", \"New Zealand\", \"Bulgaria\", \"Trinidad\", \"Lithuania\", \"Spain\", \"Poland\", \"Austria\", \"Iran\", \"Argentina\", \"North Korea\", \"Greece\", \"Belarus\", \"Ukraine\", \"South Africa\", \"Armenia\", \"Cameroon\", \"Turkey\", \"Uzbekistan\", \"Zimbabwe\", \"Haiti\", \"Ghana\", \"Tajikistan\", \"Estonia\", \"Fiji\", \"Kazakhstan\", \"Individual Olympic Athletes\", \"Namibia\", \"Burundi\", \"Mongolia\", \"Taiwan\", \"Slovakia\", \"Slovenia\", \"Niger\", \"Thailand\", \"Mexico\", \"Grenada\", \"Latvia\", \"Chile\", \"Moldova\", \"Morocco\", \"Algeria\", \"Suriname\", \"Peru\", \"Malaysia\", \"Iceland\", \"Uganda\", \"Portugal\", \"Ireland\", \"Djibouti\", \"Colombia\", \"Saudi Arabia\", \"Qatar\", \"Vietnam\", \"Mozambique\", \"Dominican Republic\", \"Liechtenstein\", \"Bahrain\", \"Eritrea\", \"Tunisia\", \"Tonga\", \"Panama\", \"Vietnam\", \"Syria\", \"Togo\", \"Egypt\", \"Venezuela\", \"Afghanistan\", \"Gabon\", \"Ivory Coast\", \"Costa Rica\", \"Philippines\", \"United Arab Emirates\", \"Sri Lanka\", \"Israel\", \"Kyrgyzstan\", \"Curacao\", \"Jordan\", \"Tanzania\", \"Lebanon\", \"Macedonia\", \"Botswana\", \"Zambia\", \"Nepal\", \"Guyana\", \"Puerto Rico\", \"Sudan\", \"Luxembourg\", \"Ecuador\", \"Kuwait\", \"Mauritius\", \"Monaco\", \"Bermuda\", \"Barbados\", \"Cyprus\", \"Iraq\", \"Virgin Islands, US\", \"Senegal\", \"Guatemala\", \"Madagascar\", \"Saint Vincent\", \"Benin\", \"Swaziland\", \"Vanuatu\", \"Andorra\", \"Angola\", \"Antigua\", null, \"Saint Kitts\", \"Turkmenistan\", \"Timor-Leste\", \"Aruba\", \"American Samoa\", null, \"Guinea-Bissau\", \"Seychelles\", \"Laos\", \"Malawi\", \"Micronesia\", \"Marshall Islands\", \"Comoros\", \"Lesotho\", \"Saint Lucia\", \"Liberia\", \"Libya\", \"Cape Verde\", \"Kiribati\", \"Cook Islands\", \"Vietnam\", \"Dominica\", \"El Salvador\", \"Honduras\", \"Guam\", \"Guinea\", \"Maldives\", \"Central African Republic\", \"Gambia\", \"Mali\", \"Samoa\", \"Palestine\", \"Rwanda\", \"Boliva\", null, \"Republic of Congo\", \"Burkina Faso\", \"Brunei\", \"Papua New Guinea\", \"Palau\", \"Cambodia\", \"Malta\", \"Equatorial Guinea\", \"Cayman Islands\", \"Bhutan\", \"Nauru\", \"Nicaragua\", \"Chad\", \"Democratic Republic of the Congo\", \"Myanmar\", \"Mauritania\", \"Oman\", \"Sao Tome and Principe\", \"Yemen\", \"Sierra Leone\", \"Belize\", \"San Marino\", \"Solomon Islands\", \"Albania\", \"Somalia\", \"Bosnia and Herzegovina\", \"Bangladesh\", \"South Sudan\", \"Virgin Islands, British\"], \"marker\": {\"line\": {\"color\": \"rgb(0,0,0)\", \"width\": 0.5}}, \"reversescale\": false, \"text\": [\"Russia\", \"USA\", \"Germany\", \"Pakistan\", \"Norway\", \"Jamaica\", \"Sweden\", \"Netherlands\", \"Australia\", \"Hungary\", \"China\", \"Croatia\", \"UK\", \"Denmark\", \"Cuba\", \"Finland\", \"Serbia\", \"Azerbaijan\", \"Italy\", \"Montenegro\", \"Romania\", \"South Korea\", \"Ethiopia\", \"India\", \"France\", \"Canada\", \"Kenya\", \"Paraguay\", \"Kosovo\", \"Brazil\", \"Belgium\", \"Switzerland\", \"Nigeria\", \"Georgia\", \"Uruguay\", \"Japan\", \"Bahamas\", \"Czech Republic\", \"Indonesia\", \"New Zealand\", \"Bulgaria\", \"Trinidad\", \"Lithuania\", \"Spain\", \"Poland\", \"Austria\", \"Iran\", \"Argentina\", \"North Korea\", \"Greece\", \"Belarus\", \"Ukraine\", \"South Africa\", \"Armenia\", \"Cameroon\", \"Turkey\", \"Uzbekistan\", \"Zimbabwe\", \"Haiti\", \"Ghana\", \"Tajikistan\", \"Estonia\", \"Fiji\", \"Kazakhstan\", \"Individual Olympic Athletes\", \"Namibia\", \"Burundi\", \"Mongolia\", \"Taiwan\", \"Slovakia\", \"Slovenia\", \"Niger\", \"Thailand\", \"Mexico\", \"Grenada\", \"Latvia\", \"Chile\", \"Moldova\", \"Morocco\", \"Algeria\", \"Suriname\", \"Peru\", \"Malaysia\", \"Iceland\", \"Uganda\", \"Portugal\", \"Ireland\", \"Djibouti\", \"Colombia\", \"Saudi Arabia\", \"Qatar\", \"Vietnam\", \"Mozambique\", \"Dominican Republic\", \"Liechtenstein\", \"Bahrain\", \"Eritrea\", \"Tunisia\", \"Tonga\", \"Panama\", \"Vietnam\", \"Syria\", \"Togo\", \"Egypt\", \"Venezuela\", \"Afghanistan\", \"Gabon\", \"Ivory Coast\", \"Costa Rica\", \"Philippines\", \"United Arab Emirates\", \"Sri Lanka\", \"Israel\", \"Kyrgyzstan\", \"Curacao\", \"Jordan\", \"Tanzania\", \"Lebanon\", \"Macedonia\", \"Botswana\", \"Zambia\", \"Nepal\", \"Guyana\", \"Puerto Rico\", \"Sudan\", \"Luxembourg\", \"Ecuador\", \"Kuwait\", \"Mauritius\", \"Monaco\", \"Bermuda\", \"Barbados\", \"Cyprus\", \"Iraq\", \"Virgin Islands, US\", \"Senegal\", \"Guatemala\", \"Madagascar\", \"Saint Vincent\", \"Benin\", \"Swaziland\", \"Vanuatu\", \"Andorra\", \"Angola\", \"Antigua\", null, \"Saint Kitts\", \"Turkmenistan\", \"Timor-Leste\", \"Aruba\", \"American Samoa\", null, \"Guinea-Bissau\", \"Seychelles\", \"Laos\", \"Malawi\", \"Micronesia\", \"Marshall Islands\", \"Comoros\", \"Lesotho\", \"Saint Lucia\", \"Liberia\", \"Libya\", \"Cape Verde\", \"Kiribati\", \"Cook Islands\", \"Vietnam\", \"Dominica\", \"El Salvador\", \"Honduras\", \"Guam\", \"Guinea\", \"Maldives\", \"Central African Republic\", \"Gambia\", \"Mali\", \"Samoa\", \"Palestine\", \"Rwanda\", \"Boliva\", null, \"Republic of Congo\", \"Burkina Faso\", \"Brunei\", \"Papua New Guinea\", \"Palau\", \"Cambodia\", \"Malta\", \"Equatorial Guinea\", \"Cayman Islands\", \"Bhutan\", \"Nauru\", \"Nicaragua\", \"Chad\", \"Democratic Republic of the Congo\", \"Myanmar\", \"Mauritania\", \"Oman\", \"Sao Tome and Principe\", \"Yemen\", \"Sierra Leone\", \"Belize\", \"San Marino\", \"Solomon Islands\", \"Albania\", \"Somalia\", \"Bosnia and Herzegovina\", \"Bangladesh\", \"South Sudan\", \"Virgin Islands, British\"], \"type\": \"choropleth\", \"z\": [10.01, 8.7, 7.52, 8.01, 7.28, 8.84, 6.26, 5.82, 5.94, 5.02, 5.99, 6.16, 6.03, 6.75, 5.2, 4.94, 6.74, 4.24, 4.96, 14.89, 4.54, 5.2, 2.38, 1.35, 4.78, 4.5, 5.31, 12.59, 0.0, 4.55, 5.11, 4.03, 3.4, 2.1, 0.35, 3.66, 2.94, 4.07, 4.13, 2.39, 4.08, 2.03, 1.07, 4.57, 3.14, 3.62, 2.66, 2.79, 1.98, 3.41, 2.46, 2.03, 2.75, 2.26, 0.32, 1.99, 1.41, 1.24, 0.94, 0.28, 1.43, 1.37, 0.0, 1.75, 1.06, 5.19, 2.56, 1.82, 2.55, 1.8, 1.17, 2.13, 1.07, 0.9, 1.85, 2.0, 0.97, 1.28, 0.73, 0.73, 0.0, 2.63, 1.91, 2.39, 1.15, 0.72, 0.98, 0.0, 0.84, 0.43, 0.52, 1.95, 0.0, 0.72, 0.54, 0.79, 0.0, 0.53, 2.17, 0.0, 1.39, 0.72, 0.0, 0.49, 0.32, 0.0, 1.59, 0.52, 0.38, 0.43, 0.0, 1.37, 0.15, 0.44, 1.27, 0.0, 1.24, 0.61, 0.0, 1.11, 0.55, 0.0, 0.0, 0.22, 0.93, 0.4, 0.36, 0.0, 0.0, 0.0, 0.0, 0.0, 0.44, 0.0, 0.34, 0.25, 0.24, 0.0, 0.0, 0.0, 0.0, 0.0, 0.0, 0.0, 0.0, 0.0, 0.0, 0.0, 0.0, 0.0, 0.0, 0.0, 0.0, 0.0, 0.0, 0.0, 0.0, 0.0, 0.0, 0.0, 0.0, 0.0, 0.0, 0.0, 0.0, 0.0, 0.0, 0.0, 0.0, 0.0, 0.0, 0.0, 0.0, 0.0, 0.0, 0.0, 0.0, 0.0, 0.0, 0.0, 0.0, 0.0, 0.0, 0.0, 0.0, 0.0, 0.0, 0.0, 0.0, 0.0, 0.0, 0.0, 0.0, 0.0, 0.0, 0.0, 0.0, 0.0, 0.0, 0.0, 0.0, 0.0, 0.0, 0.0, 0.0, 0.0, 0.0, 0.0, 0.0, 0.0]}],\n",
       "                        {\"geo\": {\"projection\": {\"type\": \"natural earth\"}, \"showcoastlines\": true, \"showframe\": true, \"showlakes\": false}, \"template\": {\"data\": {\"bar\": [{\"error_x\": {\"color\": \"#2a3f5f\"}, \"error_y\": {\"color\": \"#2a3f5f\"}, \"marker\": {\"line\": {\"color\": \"#E5ECF6\", \"width\": 0.5}}, \"type\": \"bar\"}], \"barpolar\": [{\"marker\": {\"line\": {\"color\": \"#E5ECF6\", \"width\": 0.5}}, \"type\": \"barpolar\"}], \"carpet\": [{\"aaxis\": {\"endlinecolor\": \"#2a3f5f\", \"gridcolor\": \"white\", \"linecolor\": \"white\", \"minorgridcolor\": \"white\", \"startlinecolor\": \"#2a3f5f\"}, \"baxis\": {\"endlinecolor\": \"#2a3f5f\", \"gridcolor\": \"white\", \"linecolor\": \"white\", \"minorgridcolor\": \"white\", \"startlinecolor\": \"#2a3f5f\"}, \"type\": \"carpet\"}], \"choropleth\": [{\"colorbar\": {\"outlinewidth\": 0, \"ticks\": \"\"}, \"type\": \"choropleth\"}], \"contour\": [{\"colorbar\": {\"outlinewidth\": 0, \"ticks\": \"\"}, \"colorscale\": [[0.0, \"#0d0887\"], [0.1111111111111111, \"#46039f\"], [0.2222222222222222, \"#7201a8\"], [0.3333333333333333, \"#9c179e\"], [0.4444444444444444, \"#bd3786\"], [0.5555555555555556, \"#d8576b\"], [0.6666666666666666, \"#ed7953\"], [0.7777777777777778, \"#fb9f3a\"], [0.8888888888888888, \"#fdca26\"], [1.0, \"#f0f921\"]], \"type\": \"contour\"}], \"contourcarpet\": [{\"colorbar\": {\"outlinewidth\": 0, \"ticks\": \"\"}, \"type\": \"contourcarpet\"}], \"heatmap\": [{\"colorbar\": {\"outlinewidth\": 0, \"ticks\": \"\"}, \"colorscale\": [[0.0, \"#0d0887\"], [0.1111111111111111, \"#46039f\"], [0.2222222222222222, \"#7201a8\"], [0.3333333333333333, \"#9c179e\"], [0.4444444444444444, \"#bd3786\"], [0.5555555555555556, \"#d8576b\"], [0.6666666666666666, \"#ed7953\"], [0.7777777777777778, \"#fb9f3a\"], [0.8888888888888888, \"#fdca26\"], [1.0, \"#f0f921\"]], \"type\": \"heatmap\"}], \"heatmapgl\": [{\"colorbar\": {\"outlinewidth\": 0, \"ticks\": \"\"}, \"colorscale\": [[0.0, \"#0d0887\"], [0.1111111111111111, \"#46039f\"], [0.2222222222222222, \"#7201a8\"], [0.3333333333333333, \"#9c179e\"], [0.4444444444444444, \"#bd3786\"], [0.5555555555555556, \"#d8576b\"], [0.6666666666666666, \"#ed7953\"], [0.7777777777777778, \"#fb9f3a\"], [0.8888888888888888, \"#fdca26\"], [1.0, \"#f0f921\"]], \"type\": \"heatmapgl\"}], \"histogram\": [{\"marker\": {\"colorbar\": {\"outlinewidth\": 0, \"ticks\": \"\"}}, \"type\": \"histogram\"}], \"histogram2d\": [{\"colorbar\": {\"outlinewidth\": 0, \"ticks\": \"\"}, \"colorscale\": [[0.0, \"#0d0887\"], [0.1111111111111111, \"#46039f\"], [0.2222222222222222, \"#7201a8\"], [0.3333333333333333, \"#9c179e\"], [0.4444444444444444, \"#bd3786\"], [0.5555555555555556, \"#d8576b\"], [0.6666666666666666, \"#ed7953\"], [0.7777777777777778, \"#fb9f3a\"], [0.8888888888888888, \"#fdca26\"], [1.0, \"#f0f921\"]], \"type\": \"histogram2d\"}], \"histogram2dcontour\": [{\"colorbar\": {\"outlinewidth\": 0, \"ticks\": \"\"}, \"colorscale\": [[0.0, \"#0d0887\"], [0.1111111111111111, \"#46039f\"], [0.2222222222222222, \"#7201a8\"], [0.3333333333333333, \"#9c179e\"], [0.4444444444444444, \"#bd3786\"], [0.5555555555555556, \"#d8576b\"], [0.6666666666666666, \"#ed7953\"], [0.7777777777777778, \"#fb9f3a\"], [0.8888888888888888, \"#fdca26\"], [1.0, \"#f0f921\"]], \"type\": \"histogram2dcontour\"}], \"mesh3d\": [{\"colorbar\": {\"outlinewidth\": 0, \"ticks\": \"\"}, \"type\": \"mesh3d\"}], \"parcoords\": [{\"line\": {\"colorbar\": {\"outlinewidth\": 0, \"ticks\": \"\"}}, \"type\": \"parcoords\"}], \"pie\": [{\"automargin\": true, \"type\": \"pie\"}], \"scatter\": [{\"marker\": {\"colorbar\": {\"outlinewidth\": 0, \"ticks\": \"\"}}, \"type\": \"scatter\"}], \"scatter3d\": [{\"line\": {\"colorbar\": {\"outlinewidth\": 0, \"ticks\": \"\"}}, \"marker\": {\"colorbar\": {\"outlinewidth\": 0, \"ticks\": \"\"}}, \"type\": \"scatter3d\"}], \"scattercarpet\": [{\"marker\": {\"colorbar\": {\"outlinewidth\": 0, \"ticks\": \"\"}}, \"type\": \"scattercarpet\"}], \"scattergeo\": [{\"marker\": {\"colorbar\": {\"outlinewidth\": 0, \"ticks\": \"\"}}, \"type\": \"scattergeo\"}], \"scattergl\": [{\"marker\": {\"colorbar\": {\"outlinewidth\": 0, \"ticks\": \"\"}}, \"type\": \"scattergl\"}], \"scattermapbox\": [{\"marker\": {\"colorbar\": {\"outlinewidth\": 0, \"ticks\": \"\"}}, \"type\": \"scattermapbox\"}], \"scatterpolar\": [{\"marker\": {\"colorbar\": {\"outlinewidth\": 0, \"ticks\": \"\"}}, \"type\": \"scatterpolar\"}], \"scatterpolargl\": [{\"marker\": {\"colorbar\": {\"outlinewidth\": 0, \"ticks\": \"\"}}, \"type\": \"scatterpolargl\"}], \"scatterternary\": [{\"marker\": {\"colorbar\": {\"outlinewidth\": 0, \"ticks\": \"\"}}, \"type\": \"scatterternary\"}], \"surface\": [{\"colorbar\": {\"outlinewidth\": 0, \"ticks\": \"\"}, \"colorscale\": [[0.0, \"#0d0887\"], [0.1111111111111111, \"#46039f\"], [0.2222222222222222, \"#7201a8\"], [0.3333333333333333, \"#9c179e\"], [0.4444444444444444, \"#bd3786\"], [0.5555555555555556, \"#d8576b\"], [0.6666666666666666, \"#ed7953\"], [0.7777777777777778, \"#fb9f3a\"], [0.8888888888888888, \"#fdca26\"], [1.0, \"#f0f921\"]], \"type\": \"surface\"}], \"table\": [{\"cells\": {\"fill\": {\"color\": \"#EBF0F8\"}, \"line\": {\"color\": \"white\"}}, \"header\": {\"fill\": {\"color\": \"#C8D4E3\"}, \"line\": {\"color\": \"white\"}}, \"type\": \"table\"}]}, \"layout\": {\"annotationdefaults\": {\"arrowcolor\": \"#2a3f5f\", \"arrowhead\": 0, \"arrowwidth\": 1}, \"coloraxis\": {\"colorbar\": {\"outlinewidth\": 0, \"ticks\": \"\"}}, \"colorscale\": {\"diverging\": [[0, \"#8e0152\"], [0.1, \"#c51b7d\"], [0.2, \"#de77ae\"], [0.3, \"#f1b6da\"], [0.4, \"#fde0ef\"], [0.5, \"#f7f7f7\"], [0.6, \"#e6f5d0\"], [0.7, \"#b8e186\"], [0.8, \"#7fbc41\"], [0.9, \"#4d9221\"], [1, \"#276419\"]], \"sequential\": [[0.0, \"#0d0887\"], [0.1111111111111111, \"#46039f\"], [0.2222222222222222, \"#7201a8\"], [0.3333333333333333, \"#9c179e\"], [0.4444444444444444, \"#bd3786\"], [0.5555555555555556, \"#d8576b\"], [0.6666666666666666, \"#ed7953\"], [0.7777777777777778, \"#fb9f3a\"], [0.8888888888888888, \"#fdca26\"], [1.0, \"#f0f921\"]], \"sequentialminus\": [[0.0, \"#0d0887\"], [0.1111111111111111, \"#46039f\"], [0.2222222222222222, \"#7201a8\"], [0.3333333333333333, \"#9c179e\"], [0.4444444444444444, \"#bd3786\"], [0.5555555555555556, \"#d8576b\"], [0.6666666666666666, \"#ed7953\"], [0.7777777777777778, \"#fb9f3a\"], [0.8888888888888888, \"#fdca26\"], [1.0, \"#f0f921\"]]}, \"colorway\": [\"#636efa\", \"#EF553B\", \"#00cc96\", \"#ab63fa\", \"#FFA15A\", \"#19d3f3\", \"#FF6692\", \"#B6E880\", \"#FF97FF\", \"#FECB52\"], \"font\": {\"color\": \"#2a3f5f\"}, \"geo\": {\"bgcolor\": \"white\", \"lakecolor\": \"white\", \"landcolor\": \"#E5ECF6\", \"showlakes\": true, \"showland\": true, \"subunitcolor\": \"white\"}, \"hoverlabel\": {\"align\": \"left\"}, \"hovermode\": \"closest\", \"mapbox\": {\"style\": \"light\"}, \"paper_bgcolor\": \"white\", \"plot_bgcolor\": \"#E5ECF6\", \"polar\": {\"angularaxis\": {\"gridcolor\": \"white\", \"linecolor\": \"white\", \"ticks\": \"\"}, \"bgcolor\": \"#E5ECF6\", \"radialaxis\": {\"gridcolor\": \"white\", \"linecolor\": \"white\", \"ticks\": \"\"}}, \"scene\": {\"xaxis\": {\"backgroundcolor\": \"#E5ECF6\", \"gridcolor\": \"white\", \"gridwidth\": 2, \"linecolor\": \"white\", \"showbackground\": true, \"ticks\": \"\", \"zerolinecolor\": \"white\"}, \"yaxis\": {\"backgroundcolor\": \"#E5ECF6\", \"gridcolor\": \"white\", \"gridwidth\": 2, \"linecolor\": \"white\", \"showbackground\": true, \"ticks\": \"\", \"zerolinecolor\": \"white\"}, \"zaxis\": {\"backgroundcolor\": \"#E5ECF6\", \"gridcolor\": \"white\", \"gridwidth\": 2, \"linecolor\": \"white\", \"showbackground\": true, \"ticks\": \"\", \"zerolinecolor\": \"white\"}}, \"shapedefaults\": {\"line\": {\"color\": \"#2a3f5f\"}}, \"ternary\": {\"aaxis\": {\"gridcolor\": \"white\", \"linecolor\": \"white\", \"ticks\": \"\"}, \"baxis\": {\"gridcolor\": \"white\", \"linecolor\": \"white\", \"ticks\": \"\"}, \"bgcolor\": \"#E5ECF6\", \"caxis\": {\"gridcolor\": \"white\", \"linecolor\": \"white\", \"ticks\": \"\"}}, \"title\": {\"x\": 0.05}, \"xaxis\": {\"automargin\": true, \"gridcolor\": \"white\", \"linecolor\": \"white\", \"ticks\": \"\", \"title\": {\"standoff\": 15}, \"zerolinecolor\": \"white\", \"zerolinewidth\": 2}, \"yaxis\": {\"automargin\": true, \"gridcolor\": \"white\", \"linecolor\": \"white\", \"ticks\": \"\", \"title\": {\"standoff\": 15}, \"zerolinecolor\": \"white\", \"zerolinewidth\": 2}}}, \"title\": {\"text\": \"Total Silver Medals Won by Country Over All Olympic Competitions\"}},\n",
       "                        {\"responsive\": true}\n",
       "                    ).then(function(){\n",
       "                            \n",
       "var gd = document.getElementById('050a19ae-7b04-43fb-ae89-49def2a51824');\n",
       "var x = new MutationObserver(function (mutations, observer) {{\n",
       "        var display = window.getComputedStyle(gd).display;\n",
       "        if (!display || display === 'none') {{\n",
       "            console.log([gd, 'removed!']);\n",
       "            Plotly.purge(gd);\n",
       "            observer.disconnect();\n",
       "        }}\n",
       "}});\n",
       "\n",
       "// Listen for the removal of the full notebook cells\n",
       "var notebookContainer = gd.closest('#notebook-container');\n",
       "if (notebookContainer) {{\n",
       "    x.observe(notebookContainer, {childList: true});\n",
       "}}\n",
       "\n",
       "// Listen for the clearing of the current output cell\n",
       "var outputEl = gd.closest('.output');\n",
       "if (outputEl) {{\n",
       "    x.observe(outputEl, {childList: true});\n",
       "}}\n",
       "\n",
       "                        })\n",
       "                };\n",
       "                });\n",
       "            </script>\n",
       "        </div>"
      ]
     },
     "metadata": {},
     "output_type": "display_data"
    }
   ],
   "source": [
    "create_map(propor_map, 'Silver', 'Greys')"
   ]
  },
  {
   "cell_type": "code",
   "execution_count": 141,
   "metadata": {},
   "outputs": [
    {
     "data": {
      "application/vnd.plotly.v1+json": {
       "config": {
        "linkText": "Export to plot.ly",
        "plotlyServerURL": "https://plot.ly",
        "showLink": false
       },
       "data": [
        {
         "autocolorscale": false,
         "colorbar": {
          "tickprefix": "",
          "title": {
           "text": "Total Medals"
          }
         },
         "colorscale": [
          [
           0,
           "rgb(255,245,240)"
          ],
          [
           0.125,
           "rgb(254,224,210)"
          ],
          [
           0.25,
           "rgb(252,187,161)"
          ],
          [
           0.375,
           "rgb(252,146,114)"
          ],
          [
           0.5,
           "rgb(251,106,74)"
          ],
          [
           0.625,
           "rgb(239,59,44)"
          ],
          [
           0.75,
           "rgb(203,24,29)"
          ],
          [
           0.875,
           "rgb(165,15,21)"
          ],
          [
           1,
           "rgb(103,0,13)"
          ]
         ],
         "locationmode": "country names",
         "locations": [
          "Russia",
          "USA",
          "Germany",
          "Pakistan",
          "Norway",
          "Jamaica",
          "Sweden",
          "Netherlands",
          "Australia",
          "Hungary",
          "China",
          "Croatia",
          "UK",
          "Denmark",
          "Cuba",
          "Finland",
          "Serbia",
          "Azerbaijan",
          "Italy",
          "Montenegro",
          "Romania",
          "South Korea",
          "Ethiopia",
          "India",
          "France",
          "Canada",
          "Kenya",
          "Paraguay",
          "Kosovo",
          "Brazil",
          "Belgium",
          "Switzerland",
          "Nigeria",
          "Georgia",
          "Uruguay",
          "Japan",
          "Bahamas",
          "Czech Republic",
          "Indonesia",
          "New Zealand",
          "Bulgaria",
          "Trinidad",
          "Lithuania",
          "Spain",
          "Poland",
          "Austria",
          "Iran",
          "Argentina",
          "North Korea",
          "Greece",
          "Belarus",
          "Ukraine",
          "South Africa",
          "Armenia",
          "Cameroon",
          "Turkey",
          "Uzbekistan",
          "Zimbabwe",
          "Haiti",
          "Ghana",
          "Tajikistan",
          "Estonia",
          "Fiji",
          "Kazakhstan",
          "Individual Olympic Athletes",
          "Namibia",
          "Burundi",
          "Mongolia",
          "Taiwan",
          "Slovakia",
          "Slovenia",
          "Niger",
          "Thailand",
          "Mexico",
          "Grenada",
          "Latvia",
          "Chile",
          "Moldova",
          "Morocco",
          "Algeria",
          "Suriname",
          "Peru",
          "Malaysia",
          "Iceland",
          "Uganda",
          "Portugal",
          "Ireland",
          "Djibouti",
          "Colombia",
          "Saudi Arabia",
          "Qatar",
          "Vietnam",
          "Mozambique",
          "Dominican Republic",
          "Liechtenstein",
          "Bahrain",
          "Eritrea",
          "Tunisia",
          "Tonga",
          "Panama",
          "Vietnam",
          "Syria",
          "Togo",
          "Egypt",
          "Venezuela",
          "Afghanistan",
          "Gabon",
          "Ivory Coast",
          "Costa Rica",
          "Philippines",
          "United Arab Emirates",
          "Sri Lanka",
          "Israel",
          "Kyrgyzstan",
          "Curacao",
          "Jordan",
          "Tanzania",
          "Lebanon",
          "Macedonia",
          "Botswana",
          "Zambia",
          "Nepal",
          "Guyana",
          "Puerto Rico",
          "Sudan",
          "Luxembourg",
          "Ecuador",
          "Kuwait",
          "Mauritius",
          "Monaco",
          "Bermuda",
          "Barbados",
          "Cyprus",
          "Iraq",
          "Virgin Islands, US",
          "Senegal",
          "Guatemala",
          "Madagascar",
          "Saint Vincent",
          "Benin",
          "Swaziland",
          "Vanuatu",
          "Andorra",
          "Angola",
          "Antigua",
          null,
          "Saint Kitts",
          "Turkmenistan",
          "Timor-Leste",
          "Aruba",
          "American Samoa",
          null,
          "Guinea-Bissau",
          "Seychelles",
          "Laos",
          "Malawi",
          "Micronesia",
          "Marshall Islands",
          "Comoros",
          "Lesotho",
          "Saint Lucia",
          "Liberia",
          "Libya",
          "Cape Verde",
          "Kiribati",
          "Cook Islands",
          "Vietnam",
          "Dominica",
          "El Salvador",
          "Honduras",
          "Guam",
          "Guinea",
          "Maldives",
          "Central African Republic",
          "Gambia",
          "Mali",
          "Samoa",
          "Palestine",
          "Rwanda",
          "Boliva",
          null,
          "Republic of Congo",
          "Burkina Faso",
          "Brunei",
          "Papua New Guinea",
          "Palau",
          "Cambodia",
          "Malta",
          "Equatorial Guinea",
          "Cayman Islands",
          "Bhutan",
          "Nauru",
          "Nicaragua",
          "Chad",
          "Democratic Republic of the Congo",
          "Myanmar",
          "Mauritania",
          "Oman",
          "Sao Tome and Principe",
          "Yemen",
          "Sierra Leone",
          "Belize",
          "San Marino",
          "Solomon Islands",
          "Albania",
          "Somalia",
          "Bosnia and Herzegovina",
          "Bangladesh",
          "South Sudan",
          "Virgin Islands, British"
         ],
         "marker": {
          "line": {
           "color": "rgb(0,0,0)",
           "width": 0.5
          }
         },
         "reversescale": false,
         "text": [
          "Russia",
          "USA",
          "Germany",
          "Pakistan",
          "Norway",
          "Jamaica",
          "Sweden",
          "Netherlands",
          "Australia",
          "Hungary",
          "China",
          "Croatia",
          "UK",
          "Denmark",
          "Cuba",
          "Finland",
          "Serbia",
          "Azerbaijan",
          "Italy",
          "Montenegro",
          "Romania",
          "South Korea",
          "Ethiopia",
          "India",
          "France",
          "Canada",
          "Kenya",
          "Paraguay",
          "Kosovo",
          "Brazil",
          "Belgium",
          "Switzerland",
          "Nigeria",
          "Georgia",
          "Uruguay",
          "Japan",
          "Bahamas",
          "Czech Republic",
          "Indonesia",
          "New Zealand",
          "Bulgaria",
          "Trinidad",
          "Lithuania",
          "Spain",
          "Poland",
          "Austria",
          "Iran",
          "Argentina",
          "North Korea",
          "Greece",
          "Belarus",
          "Ukraine",
          "South Africa",
          "Armenia",
          "Cameroon",
          "Turkey",
          "Uzbekistan",
          "Zimbabwe",
          "Haiti",
          "Ghana",
          "Tajikistan",
          "Estonia",
          "Fiji",
          "Kazakhstan",
          "Individual Olympic Athletes",
          "Namibia",
          "Burundi",
          "Mongolia",
          "Taiwan",
          "Slovakia",
          "Slovenia",
          "Niger",
          "Thailand",
          "Mexico",
          "Grenada",
          "Latvia",
          "Chile",
          "Moldova",
          "Morocco",
          "Algeria",
          "Suriname",
          "Peru",
          "Malaysia",
          "Iceland",
          "Uganda",
          "Portugal",
          "Ireland",
          "Djibouti",
          "Colombia",
          "Saudi Arabia",
          "Qatar",
          "Vietnam",
          "Mozambique",
          "Dominican Republic",
          "Liechtenstein",
          "Bahrain",
          "Eritrea",
          "Tunisia",
          "Tonga",
          "Panama",
          "Vietnam",
          "Syria",
          "Togo",
          "Egypt",
          "Venezuela",
          "Afghanistan",
          "Gabon",
          "Ivory Coast",
          "Costa Rica",
          "Philippines",
          "United Arab Emirates",
          "Sri Lanka",
          "Israel",
          "Kyrgyzstan",
          "Curacao",
          "Jordan",
          "Tanzania",
          "Lebanon",
          "Macedonia",
          "Botswana",
          "Zambia",
          "Nepal",
          "Guyana",
          "Puerto Rico",
          "Sudan",
          "Luxembourg",
          "Ecuador",
          "Kuwait",
          "Mauritius",
          "Monaco",
          "Bermuda",
          "Barbados",
          "Cyprus",
          "Iraq",
          "Virgin Islands, US",
          "Senegal",
          "Guatemala",
          "Madagascar",
          "Saint Vincent",
          "Benin",
          "Swaziland",
          "Vanuatu",
          "Andorra",
          "Angola",
          "Antigua",
          null,
          "Saint Kitts",
          "Turkmenistan",
          "Timor-Leste",
          "Aruba",
          "American Samoa",
          null,
          "Guinea-Bissau",
          "Seychelles",
          "Laos",
          "Malawi",
          "Micronesia",
          "Marshall Islands",
          "Comoros",
          "Lesotho",
          "Saint Lucia",
          "Liberia",
          "Libya",
          "Cape Verde",
          "Kiribati",
          "Cook Islands",
          "Vietnam",
          "Dominica",
          "El Salvador",
          "Honduras",
          "Guam",
          "Guinea",
          "Maldives",
          "Central African Republic",
          "Gambia",
          "Mali",
          "Samoa",
          "Palestine",
          "Rwanda",
          "Boliva",
          null,
          "Republic of Congo",
          "Burkina Faso",
          "Brunei",
          "Papua New Guinea",
          "Palau",
          "Cambodia",
          "Malta",
          "Equatorial Guinea",
          "Cayman Islands",
          "Bhutan",
          "Nauru",
          "Nicaragua",
          "Chad",
          "Democratic Republic of the Congo",
          "Myanmar",
          "Mauritania",
          "Oman",
          "Sao Tome and Principe",
          "Yemen",
          "Sierra Leone",
          "Belize",
          "San Marino",
          "Solomon Islands",
          "Albania",
          "Somalia",
          "Bosnia and Herzegovina",
          "Bangladesh",
          "South Sudan",
          "Virgin Islands, British"
         ],
         "type": "choropleth",
         "z": [
          10.08,
          7.2,
          7.93,
          6.05,
          5.93,
          5.19,
          6.42,
          7.07,
          6.76,
          5.62,
          5.03,
          4.22,
          5.31,
          4.96,
          4.68,
          7.9,
          4.85,
          8.83,
          4.96,
          0,
          6.63,
          4.14,
          5.82,
          2.84,
          5.22,
          4.63,
          4.02,
          0,
          0,
          4.96,
          4.49,
          4.36,
          5.22,
          6.29,
          5.21,
          4.23,
          4.01,
          4.03,
          3.16,
          3.5,
          4.08,
          5.57,
          7.34,
          2.56,
          4.08,
          3.03,
          3.68,
          2.76,
          4.34,
          2.63,
          3.97,
          3.91,
          3.04,
          4.07,
          0.32,
          2.06,
          3.43,
          0.31,
          4.72,
          6.13,
          2.86,
          2.85,
          0,
          2.24,
          3.19,
          0,
          0,
          2.55,
          1.64,
          1.23,
          2.43,
          2.13,
          1.74,
          1.88,
          0,
          1.37,
          2.16,
          2.14,
          1.76,
          1.45,
          1.45,
          0,
          0.87,
          0.32,
          0.77,
          1.71,
          0.98,
          2.63,
          1.31,
          2.17,
          2.08,
          0,
          1.28,
          0.72,
          1.36,
          0.79,
          2.33,
          1.25,
          0,
          1.44,
          0,
          0.72,
          1.69,
          0.74,
          1.08,
          1.59,
          0,
          0.52,
          0.76,
          1.01,
          0.69,
          0,
          1.05,
          0.88,
          0,
          0,
          0,
          0.61,
          1.19,
          0,
          0.55,
          0,
          0.98,
          0.65,
          0,
          0,
          0,
          0.7,
          0.69,
          0.51,
          0.47,
          0.46,
          0,
          0.43,
          0,
          0,
          0,
          0,
          0,
          0,
          0,
          0,
          0,
          0,
          0,
          0,
          0,
          0,
          0,
          0,
          0,
          0,
          0,
          0,
          0,
          0,
          0,
          0,
          0,
          0,
          0,
          0,
          0,
          0,
          0,
          0,
          0,
          0,
          0,
          0,
          0,
          0,
          0,
          0,
          0,
          0,
          0,
          0,
          0,
          0,
          0,
          0,
          0,
          0,
          0,
          0,
          0,
          0,
          0,
          0,
          0,
          0,
          0,
          0,
          0,
          0,
          0,
          0,
          0,
          0,
          0,
          0,
          0,
          0,
          0,
          0,
          0,
          0,
          0,
          0
         ]
        }
       ],
       "layout": {
        "geo": {
         "projection": {
          "type": "natural earth"
         },
         "showcoastlines": true,
         "showframe": true,
         "showlakes": false
        },
        "template": {
         "data": {
          "bar": [
           {
            "error_x": {
             "color": "#2a3f5f"
            },
            "error_y": {
             "color": "#2a3f5f"
            },
            "marker": {
             "line": {
              "color": "#E5ECF6",
              "width": 0.5
             }
            },
            "type": "bar"
           }
          ],
          "barpolar": [
           {
            "marker": {
             "line": {
              "color": "#E5ECF6",
              "width": 0.5
             }
            },
            "type": "barpolar"
           }
          ],
          "carpet": [
           {
            "aaxis": {
             "endlinecolor": "#2a3f5f",
             "gridcolor": "white",
             "linecolor": "white",
             "minorgridcolor": "white",
             "startlinecolor": "#2a3f5f"
            },
            "baxis": {
             "endlinecolor": "#2a3f5f",
             "gridcolor": "white",
             "linecolor": "white",
             "minorgridcolor": "white",
             "startlinecolor": "#2a3f5f"
            },
            "type": "carpet"
           }
          ],
          "choropleth": [
           {
            "colorbar": {
             "outlinewidth": 0,
             "ticks": ""
            },
            "type": "choropleth"
           }
          ],
          "contour": [
           {
            "colorbar": {
             "outlinewidth": 0,
             "ticks": ""
            },
            "colorscale": [
             [
              0,
              "#0d0887"
             ],
             [
              0.1111111111111111,
              "#46039f"
             ],
             [
              0.2222222222222222,
              "#7201a8"
             ],
             [
              0.3333333333333333,
              "#9c179e"
             ],
             [
              0.4444444444444444,
              "#bd3786"
             ],
             [
              0.5555555555555556,
              "#d8576b"
             ],
             [
              0.6666666666666666,
              "#ed7953"
             ],
             [
              0.7777777777777778,
              "#fb9f3a"
             ],
             [
              0.8888888888888888,
              "#fdca26"
             ],
             [
              1,
              "#f0f921"
             ]
            ],
            "type": "contour"
           }
          ],
          "contourcarpet": [
           {
            "colorbar": {
             "outlinewidth": 0,
             "ticks": ""
            },
            "type": "contourcarpet"
           }
          ],
          "heatmap": [
           {
            "colorbar": {
             "outlinewidth": 0,
             "ticks": ""
            },
            "colorscale": [
             [
              0,
              "#0d0887"
             ],
             [
              0.1111111111111111,
              "#46039f"
             ],
             [
              0.2222222222222222,
              "#7201a8"
             ],
             [
              0.3333333333333333,
              "#9c179e"
             ],
             [
              0.4444444444444444,
              "#bd3786"
             ],
             [
              0.5555555555555556,
              "#d8576b"
             ],
             [
              0.6666666666666666,
              "#ed7953"
             ],
             [
              0.7777777777777778,
              "#fb9f3a"
             ],
             [
              0.8888888888888888,
              "#fdca26"
             ],
             [
              1,
              "#f0f921"
             ]
            ],
            "type": "heatmap"
           }
          ],
          "heatmapgl": [
           {
            "colorbar": {
             "outlinewidth": 0,
             "ticks": ""
            },
            "colorscale": [
             [
              0,
              "#0d0887"
             ],
             [
              0.1111111111111111,
              "#46039f"
             ],
             [
              0.2222222222222222,
              "#7201a8"
             ],
             [
              0.3333333333333333,
              "#9c179e"
             ],
             [
              0.4444444444444444,
              "#bd3786"
             ],
             [
              0.5555555555555556,
              "#d8576b"
             ],
             [
              0.6666666666666666,
              "#ed7953"
             ],
             [
              0.7777777777777778,
              "#fb9f3a"
             ],
             [
              0.8888888888888888,
              "#fdca26"
             ],
             [
              1,
              "#f0f921"
             ]
            ],
            "type": "heatmapgl"
           }
          ],
          "histogram": [
           {
            "marker": {
             "colorbar": {
              "outlinewidth": 0,
              "ticks": ""
             }
            },
            "type": "histogram"
           }
          ],
          "histogram2d": [
           {
            "colorbar": {
             "outlinewidth": 0,
             "ticks": ""
            },
            "colorscale": [
             [
              0,
              "#0d0887"
             ],
             [
              0.1111111111111111,
              "#46039f"
             ],
             [
              0.2222222222222222,
              "#7201a8"
             ],
             [
              0.3333333333333333,
              "#9c179e"
             ],
             [
              0.4444444444444444,
              "#bd3786"
             ],
             [
              0.5555555555555556,
              "#d8576b"
             ],
             [
              0.6666666666666666,
              "#ed7953"
             ],
             [
              0.7777777777777778,
              "#fb9f3a"
             ],
             [
              0.8888888888888888,
              "#fdca26"
             ],
             [
              1,
              "#f0f921"
             ]
            ],
            "type": "histogram2d"
           }
          ],
          "histogram2dcontour": [
           {
            "colorbar": {
             "outlinewidth": 0,
             "ticks": ""
            },
            "colorscale": [
             [
              0,
              "#0d0887"
             ],
             [
              0.1111111111111111,
              "#46039f"
             ],
             [
              0.2222222222222222,
              "#7201a8"
             ],
             [
              0.3333333333333333,
              "#9c179e"
             ],
             [
              0.4444444444444444,
              "#bd3786"
             ],
             [
              0.5555555555555556,
              "#d8576b"
             ],
             [
              0.6666666666666666,
              "#ed7953"
             ],
             [
              0.7777777777777778,
              "#fb9f3a"
             ],
             [
              0.8888888888888888,
              "#fdca26"
             ],
             [
              1,
              "#f0f921"
             ]
            ],
            "type": "histogram2dcontour"
           }
          ],
          "mesh3d": [
           {
            "colorbar": {
             "outlinewidth": 0,
             "ticks": ""
            },
            "type": "mesh3d"
           }
          ],
          "parcoords": [
           {
            "line": {
             "colorbar": {
              "outlinewidth": 0,
              "ticks": ""
             }
            },
            "type": "parcoords"
           }
          ],
          "pie": [
           {
            "automargin": true,
            "type": "pie"
           }
          ],
          "scatter": [
           {
            "marker": {
             "colorbar": {
              "outlinewidth": 0,
              "ticks": ""
             }
            },
            "type": "scatter"
           }
          ],
          "scatter3d": [
           {
            "line": {
             "colorbar": {
              "outlinewidth": 0,
              "ticks": ""
             }
            },
            "marker": {
             "colorbar": {
              "outlinewidth": 0,
              "ticks": ""
             }
            },
            "type": "scatter3d"
           }
          ],
          "scattercarpet": [
           {
            "marker": {
             "colorbar": {
              "outlinewidth": 0,
              "ticks": ""
             }
            },
            "type": "scattercarpet"
           }
          ],
          "scattergeo": [
           {
            "marker": {
             "colorbar": {
              "outlinewidth": 0,
              "ticks": ""
             }
            },
            "type": "scattergeo"
           }
          ],
          "scattergl": [
           {
            "marker": {
             "colorbar": {
              "outlinewidth": 0,
              "ticks": ""
             }
            },
            "type": "scattergl"
           }
          ],
          "scattermapbox": [
           {
            "marker": {
             "colorbar": {
              "outlinewidth": 0,
              "ticks": ""
             }
            },
            "type": "scattermapbox"
           }
          ],
          "scatterpolar": [
           {
            "marker": {
             "colorbar": {
              "outlinewidth": 0,
              "ticks": ""
             }
            },
            "type": "scatterpolar"
           }
          ],
          "scatterpolargl": [
           {
            "marker": {
             "colorbar": {
              "outlinewidth": 0,
              "ticks": ""
             }
            },
            "type": "scatterpolargl"
           }
          ],
          "scatterternary": [
           {
            "marker": {
             "colorbar": {
              "outlinewidth": 0,
              "ticks": ""
             }
            },
            "type": "scatterternary"
           }
          ],
          "surface": [
           {
            "colorbar": {
             "outlinewidth": 0,
             "ticks": ""
            },
            "colorscale": [
             [
              0,
              "#0d0887"
             ],
             [
              0.1111111111111111,
              "#46039f"
             ],
             [
              0.2222222222222222,
              "#7201a8"
             ],
             [
              0.3333333333333333,
              "#9c179e"
             ],
             [
              0.4444444444444444,
              "#bd3786"
             ],
             [
              0.5555555555555556,
              "#d8576b"
             ],
             [
              0.6666666666666666,
              "#ed7953"
             ],
             [
              0.7777777777777778,
              "#fb9f3a"
             ],
             [
              0.8888888888888888,
              "#fdca26"
             ],
             [
              1,
              "#f0f921"
             ]
            ],
            "type": "surface"
           }
          ],
          "table": [
           {
            "cells": {
             "fill": {
              "color": "#EBF0F8"
             },
             "line": {
              "color": "white"
             }
            },
            "header": {
             "fill": {
              "color": "#C8D4E3"
             },
             "line": {
              "color": "white"
             }
            },
            "type": "table"
           }
          ]
         },
         "layout": {
          "annotationdefaults": {
           "arrowcolor": "#2a3f5f",
           "arrowhead": 0,
           "arrowwidth": 1
          },
          "coloraxis": {
           "colorbar": {
            "outlinewidth": 0,
            "ticks": ""
           }
          },
          "colorscale": {
           "diverging": [
            [
             0,
             "#8e0152"
            ],
            [
             0.1,
             "#c51b7d"
            ],
            [
             0.2,
             "#de77ae"
            ],
            [
             0.3,
             "#f1b6da"
            ],
            [
             0.4,
             "#fde0ef"
            ],
            [
             0.5,
             "#f7f7f7"
            ],
            [
             0.6,
             "#e6f5d0"
            ],
            [
             0.7,
             "#b8e186"
            ],
            [
             0.8,
             "#7fbc41"
            ],
            [
             0.9,
             "#4d9221"
            ],
            [
             1,
             "#276419"
            ]
           ],
           "sequential": [
            [
             0,
             "#0d0887"
            ],
            [
             0.1111111111111111,
             "#46039f"
            ],
            [
             0.2222222222222222,
             "#7201a8"
            ],
            [
             0.3333333333333333,
             "#9c179e"
            ],
            [
             0.4444444444444444,
             "#bd3786"
            ],
            [
             0.5555555555555556,
             "#d8576b"
            ],
            [
             0.6666666666666666,
             "#ed7953"
            ],
            [
             0.7777777777777778,
             "#fb9f3a"
            ],
            [
             0.8888888888888888,
             "#fdca26"
            ],
            [
             1,
             "#f0f921"
            ]
           ],
           "sequentialminus": [
            [
             0,
             "#0d0887"
            ],
            [
             0.1111111111111111,
             "#46039f"
            ],
            [
             0.2222222222222222,
             "#7201a8"
            ],
            [
             0.3333333333333333,
             "#9c179e"
            ],
            [
             0.4444444444444444,
             "#bd3786"
            ],
            [
             0.5555555555555556,
             "#d8576b"
            ],
            [
             0.6666666666666666,
             "#ed7953"
            ],
            [
             0.7777777777777778,
             "#fb9f3a"
            ],
            [
             0.8888888888888888,
             "#fdca26"
            ],
            [
             1,
             "#f0f921"
            ]
           ]
          },
          "colorway": [
           "#636efa",
           "#EF553B",
           "#00cc96",
           "#ab63fa",
           "#FFA15A",
           "#19d3f3",
           "#FF6692",
           "#B6E880",
           "#FF97FF",
           "#FECB52"
          ],
          "font": {
           "color": "#2a3f5f"
          },
          "geo": {
           "bgcolor": "white",
           "lakecolor": "white",
           "landcolor": "#E5ECF6",
           "showlakes": true,
           "showland": true,
           "subunitcolor": "white"
          },
          "hoverlabel": {
           "align": "left"
          },
          "hovermode": "closest",
          "mapbox": {
           "style": "light"
          },
          "paper_bgcolor": "white",
          "plot_bgcolor": "#E5ECF6",
          "polar": {
           "angularaxis": {
            "gridcolor": "white",
            "linecolor": "white",
            "ticks": ""
           },
           "bgcolor": "#E5ECF6",
           "radialaxis": {
            "gridcolor": "white",
            "linecolor": "white",
            "ticks": ""
           }
          },
          "scene": {
           "xaxis": {
            "backgroundcolor": "#E5ECF6",
            "gridcolor": "white",
            "gridwidth": 2,
            "linecolor": "white",
            "showbackground": true,
            "ticks": "",
            "zerolinecolor": "white"
           },
           "yaxis": {
            "backgroundcolor": "#E5ECF6",
            "gridcolor": "white",
            "gridwidth": 2,
            "linecolor": "white",
            "showbackground": true,
            "ticks": "",
            "zerolinecolor": "white"
           },
           "zaxis": {
            "backgroundcolor": "#E5ECF6",
            "gridcolor": "white",
            "gridwidth": 2,
            "linecolor": "white",
            "showbackground": true,
            "ticks": "",
            "zerolinecolor": "white"
           }
          },
          "shapedefaults": {
           "line": {
            "color": "#2a3f5f"
           }
          },
          "ternary": {
           "aaxis": {
            "gridcolor": "white",
            "linecolor": "white",
            "ticks": ""
           },
           "baxis": {
            "gridcolor": "white",
            "linecolor": "white",
            "ticks": ""
           },
           "bgcolor": "#E5ECF6",
           "caxis": {
            "gridcolor": "white",
            "linecolor": "white",
            "ticks": ""
           }
          },
          "title": {
           "x": 0.05
          },
          "xaxis": {
           "automargin": true,
           "gridcolor": "white",
           "linecolor": "white",
           "ticks": "",
           "title": {
            "standoff": 15
           },
           "zerolinecolor": "white",
           "zerolinewidth": 2
          },
          "yaxis": {
           "automargin": true,
           "gridcolor": "white",
           "linecolor": "white",
           "ticks": "",
           "title": {
            "standoff": 15
           },
           "zerolinecolor": "white",
           "zerolinewidth": 2
          }
         }
        },
        "title": {
         "text": "Total Bronze Medals Won by Country Over All Olympic Competitions"
        }
       }
      },
      "text/html": [
       "<div>\n",
       "        \n",
       "        \n",
       "            <div id=\"5ef2fc20-df80-42f6-8d14-b3fd492bfdac\" class=\"plotly-graph-div\" style=\"height:525px; width:100%;\"></div>\n",
       "            <script type=\"text/javascript\">\n",
       "                require([\"plotly\"], function(Plotly) {\n",
       "                    window.PLOTLYENV=window.PLOTLYENV || {};\n",
       "                    \n",
       "                if (document.getElementById(\"5ef2fc20-df80-42f6-8d14-b3fd492bfdac\")) {\n",
       "                    Plotly.newPlot(\n",
       "                        '5ef2fc20-df80-42f6-8d14-b3fd492bfdac',\n",
       "                        [{\"autocolorscale\": false, \"colorbar\": {\"tickprefix\": \"\", \"title\": {\"text\": \"Total Medals\"}}, \"colorscale\": [[0.0, \"rgb(255,245,240)\"], [0.125, \"rgb(254,224,210)\"], [0.25, \"rgb(252,187,161)\"], [0.375, \"rgb(252,146,114)\"], [0.5, \"rgb(251,106,74)\"], [0.625, \"rgb(239,59,44)\"], [0.75, \"rgb(203,24,29)\"], [0.875, \"rgb(165,15,21)\"], [1.0, \"rgb(103,0,13)\"]], \"locationmode\": \"country names\", \"locations\": [\"Russia\", \"USA\", \"Germany\", \"Pakistan\", \"Norway\", \"Jamaica\", \"Sweden\", \"Netherlands\", \"Australia\", \"Hungary\", \"China\", \"Croatia\", \"UK\", \"Denmark\", \"Cuba\", \"Finland\", \"Serbia\", \"Azerbaijan\", \"Italy\", \"Montenegro\", \"Romania\", \"South Korea\", \"Ethiopia\", \"India\", \"France\", \"Canada\", \"Kenya\", \"Paraguay\", \"Kosovo\", \"Brazil\", \"Belgium\", \"Switzerland\", \"Nigeria\", \"Georgia\", \"Uruguay\", \"Japan\", \"Bahamas\", \"Czech Republic\", \"Indonesia\", \"New Zealand\", \"Bulgaria\", \"Trinidad\", \"Lithuania\", \"Spain\", \"Poland\", \"Austria\", \"Iran\", \"Argentina\", \"North Korea\", \"Greece\", \"Belarus\", \"Ukraine\", \"South Africa\", \"Armenia\", \"Cameroon\", \"Turkey\", \"Uzbekistan\", \"Zimbabwe\", \"Haiti\", \"Ghana\", \"Tajikistan\", \"Estonia\", \"Fiji\", \"Kazakhstan\", \"Individual Olympic Athletes\", \"Namibia\", \"Burundi\", \"Mongolia\", \"Taiwan\", \"Slovakia\", \"Slovenia\", \"Niger\", \"Thailand\", \"Mexico\", \"Grenada\", \"Latvia\", \"Chile\", \"Moldova\", \"Morocco\", \"Algeria\", \"Suriname\", \"Peru\", \"Malaysia\", \"Iceland\", \"Uganda\", \"Portugal\", \"Ireland\", \"Djibouti\", \"Colombia\", \"Saudi Arabia\", \"Qatar\", \"Vietnam\", \"Mozambique\", \"Dominican Republic\", \"Liechtenstein\", \"Bahrain\", \"Eritrea\", \"Tunisia\", \"Tonga\", \"Panama\", \"Vietnam\", \"Syria\", \"Togo\", \"Egypt\", \"Venezuela\", \"Afghanistan\", \"Gabon\", \"Ivory Coast\", \"Costa Rica\", \"Philippines\", \"United Arab Emirates\", \"Sri Lanka\", \"Israel\", \"Kyrgyzstan\", \"Curacao\", \"Jordan\", \"Tanzania\", \"Lebanon\", \"Macedonia\", \"Botswana\", \"Zambia\", \"Nepal\", \"Guyana\", \"Puerto Rico\", \"Sudan\", \"Luxembourg\", \"Ecuador\", \"Kuwait\", \"Mauritius\", \"Monaco\", \"Bermuda\", \"Barbados\", \"Cyprus\", \"Iraq\", \"Virgin Islands, US\", \"Senegal\", \"Guatemala\", \"Madagascar\", \"Saint Vincent\", \"Benin\", \"Swaziland\", \"Vanuatu\", \"Andorra\", \"Angola\", \"Antigua\", null, \"Saint Kitts\", \"Turkmenistan\", \"Timor-Leste\", \"Aruba\", \"American Samoa\", null, \"Guinea-Bissau\", \"Seychelles\", \"Laos\", \"Malawi\", \"Micronesia\", \"Marshall Islands\", \"Comoros\", \"Lesotho\", \"Saint Lucia\", \"Liberia\", \"Libya\", \"Cape Verde\", \"Kiribati\", \"Cook Islands\", \"Vietnam\", \"Dominica\", \"El Salvador\", \"Honduras\", \"Guam\", \"Guinea\", \"Maldives\", \"Central African Republic\", \"Gambia\", \"Mali\", \"Samoa\", \"Palestine\", \"Rwanda\", \"Boliva\", null, \"Republic of Congo\", \"Burkina Faso\", \"Brunei\", \"Papua New Guinea\", \"Palau\", \"Cambodia\", \"Malta\", \"Equatorial Guinea\", \"Cayman Islands\", \"Bhutan\", \"Nauru\", \"Nicaragua\", \"Chad\", \"Democratic Republic of the Congo\", \"Myanmar\", \"Mauritania\", \"Oman\", \"Sao Tome and Principe\", \"Yemen\", \"Sierra Leone\", \"Belize\", \"San Marino\", \"Solomon Islands\", \"Albania\", \"Somalia\", \"Bosnia and Herzegovina\", \"Bangladesh\", \"South Sudan\", \"Virgin Islands, British\"], \"marker\": {\"line\": {\"color\": \"rgb(0,0,0)\", \"width\": 0.5}}, \"reversescale\": false, \"text\": [\"Russia\", \"USA\", \"Germany\", \"Pakistan\", \"Norway\", \"Jamaica\", \"Sweden\", \"Netherlands\", \"Australia\", \"Hungary\", \"China\", \"Croatia\", \"UK\", \"Denmark\", \"Cuba\", \"Finland\", \"Serbia\", \"Azerbaijan\", \"Italy\", \"Montenegro\", \"Romania\", \"South Korea\", \"Ethiopia\", \"India\", \"France\", \"Canada\", \"Kenya\", \"Paraguay\", \"Kosovo\", \"Brazil\", \"Belgium\", \"Switzerland\", \"Nigeria\", \"Georgia\", \"Uruguay\", \"Japan\", \"Bahamas\", \"Czech Republic\", \"Indonesia\", \"New Zealand\", \"Bulgaria\", \"Trinidad\", \"Lithuania\", \"Spain\", \"Poland\", \"Austria\", \"Iran\", \"Argentina\", \"North Korea\", \"Greece\", \"Belarus\", \"Ukraine\", \"South Africa\", \"Armenia\", \"Cameroon\", \"Turkey\", \"Uzbekistan\", \"Zimbabwe\", \"Haiti\", \"Ghana\", \"Tajikistan\", \"Estonia\", \"Fiji\", \"Kazakhstan\", \"Individual Olympic Athletes\", \"Namibia\", \"Burundi\", \"Mongolia\", \"Taiwan\", \"Slovakia\", \"Slovenia\", \"Niger\", \"Thailand\", \"Mexico\", \"Grenada\", \"Latvia\", \"Chile\", \"Moldova\", \"Morocco\", \"Algeria\", \"Suriname\", \"Peru\", \"Malaysia\", \"Iceland\", \"Uganda\", \"Portugal\", \"Ireland\", \"Djibouti\", \"Colombia\", \"Saudi Arabia\", \"Qatar\", \"Vietnam\", \"Mozambique\", \"Dominican Republic\", \"Liechtenstein\", \"Bahrain\", \"Eritrea\", \"Tunisia\", \"Tonga\", \"Panama\", \"Vietnam\", \"Syria\", \"Togo\", \"Egypt\", \"Venezuela\", \"Afghanistan\", \"Gabon\", \"Ivory Coast\", \"Costa Rica\", \"Philippines\", \"United Arab Emirates\", \"Sri Lanka\", \"Israel\", \"Kyrgyzstan\", \"Curacao\", \"Jordan\", \"Tanzania\", \"Lebanon\", \"Macedonia\", \"Botswana\", \"Zambia\", \"Nepal\", \"Guyana\", \"Puerto Rico\", \"Sudan\", \"Luxembourg\", \"Ecuador\", \"Kuwait\", \"Mauritius\", \"Monaco\", \"Bermuda\", \"Barbados\", \"Cyprus\", \"Iraq\", \"Virgin Islands, US\", \"Senegal\", \"Guatemala\", \"Madagascar\", \"Saint Vincent\", \"Benin\", \"Swaziland\", \"Vanuatu\", \"Andorra\", \"Angola\", \"Antigua\", null, \"Saint Kitts\", \"Turkmenistan\", \"Timor-Leste\", \"Aruba\", \"American Samoa\", null, \"Guinea-Bissau\", \"Seychelles\", \"Laos\", \"Malawi\", \"Micronesia\", \"Marshall Islands\", \"Comoros\", \"Lesotho\", \"Saint Lucia\", \"Liberia\", \"Libya\", \"Cape Verde\", \"Kiribati\", \"Cook Islands\", \"Vietnam\", \"Dominica\", \"El Salvador\", \"Honduras\", \"Guam\", \"Guinea\", \"Maldives\", \"Central African Republic\", \"Gambia\", \"Mali\", \"Samoa\", \"Palestine\", \"Rwanda\", \"Boliva\", null, \"Republic of Congo\", \"Burkina Faso\", \"Brunei\", \"Papua New Guinea\", \"Palau\", \"Cambodia\", \"Malta\", \"Equatorial Guinea\", \"Cayman Islands\", \"Bhutan\", \"Nauru\", \"Nicaragua\", \"Chad\", \"Democratic Republic of the Congo\", \"Myanmar\", \"Mauritania\", \"Oman\", \"Sao Tome and Principe\", \"Yemen\", \"Sierra Leone\", \"Belize\", \"San Marino\", \"Solomon Islands\", \"Albania\", \"Somalia\", \"Bosnia and Herzegovina\", \"Bangladesh\", \"South Sudan\", \"Virgin Islands, British\"], \"type\": \"choropleth\", \"z\": [10.08, 7.2, 7.93, 6.05, 5.93, 5.19, 6.42, 7.07, 6.76, 5.62, 5.03, 4.22, 5.31, 4.96, 4.68, 7.9, 4.85, 8.83, 4.96, 0.0, 6.63, 4.14, 5.82, 2.84, 5.22, 4.63, 4.02, 0.0, 0.0, 4.96, 4.49, 4.36, 5.22, 6.29, 5.21, 4.23, 4.01, 4.03, 3.16, 3.5, 4.08, 5.57, 7.34, 2.56, 4.08, 3.03, 3.68, 2.76, 4.34, 2.63, 3.97, 3.91, 3.04, 4.07, 0.32, 2.06, 3.43, 0.31, 4.72, 6.13, 2.86, 2.85, 0.0, 2.24, 3.19, 0.0, 0.0, 2.55, 1.64, 1.23, 2.43, 2.13, 1.74, 1.88, 0.0, 1.37, 2.16, 2.14, 1.76, 1.45, 1.45, 0.0, 0.87, 0.32, 0.77, 1.71, 0.98, 2.63, 1.31, 2.17, 2.08, 0.0, 1.28, 0.72, 1.36, 0.79, 2.33, 1.25, 0.0, 1.44, 0.0, 0.72, 1.69, 0.74, 1.08, 1.59, 0.0, 0.52, 0.76, 1.01, 0.69, 0.0, 1.05, 0.88, 0.0, 0.0, 0.0, 0.61, 1.19, 0.0, 0.55, 0.0, 0.98, 0.65, 0.0, 0.0, 0.0, 0.7, 0.69, 0.51, 0.47, 0.46, 0.0, 0.43, 0.0, 0.0, 0.0, 0.0, 0.0, 0.0, 0.0, 0.0, 0.0, 0.0, 0.0, 0.0, 0.0, 0.0, 0.0, 0.0, 0.0, 0.0, 0.0, 0.0, 0.0, 0.0, 0.0, 0.0, 0.0, 0.0, 0.0, 0.0, 0.0, 0.0, 0.0, 0.0, 0.0, 0.0, 0.0, 0.0, 0.0, 0.0, 0.0, 0.0, 0.0, 0.0, 0.0, 0.0, 0.0, 0.0, 0.0, 0.0, 0.0, 0.0, 0.0, 0.0, 0.0, 0.0, 0.0, 0.0, 0.0, 0.0, 0.0, 0.0, 0.0, 0.0, 0.0, 0.0, 0.0, 0.0, 0.0, 0.0, 0.0, 0.0, 0.0, 0.0, 0.0, 0.0, 0.0, 0.0]}],\n",
       "                        {\"geo\": {\"projection\": {\"type\": \"natural earth\"}, \"showcoastlines\": true, \"showframe\": true, \"showlakes\": false}, \"template\": {\"data\": {\"bar\": [{\"error_x\": {\"color\": \"#2a3f5f\"}, \"error_y\": {\"color\": \"#2a3f5f\"}, \"marker\": {\"line\": {\"color\": \"#E5ECF6\", \"width\": 0.5}}, \"type\": \"bar\"}], \"barpolar\": [{\"marker\": {\"line\": {\"color\": \"#E5ECF6\", \"width\": 0.5}}, \"type\": \"barpolar\"}], \"carpet\": [{\"aaxis\": {\"endlinecolor\": \"#2a3f5f\", \"gridcolor\": \"white\", \"linecolor\": \"white\", \"minorgridcolor\": \"white\", \"startlinecolor\": \"#2a3f5f\"}, \"baxis\": {\"endlinecolor\": \"#2a3f5f\", \"gridcolor\": \"white\", \"linecolor\": \"white\", \"minorgridcolor\": \"white\", \"startlinecolor\": \"#2a3f5f\"}, \"type\": \"carpet\"}], \"choropleth\": [{\"colorbar\": {\"outlinewidth\": 0, \"ticks\": \"\"}, \"type\": \"choropleth\"}], \"contour\": [{\"colorbar\": {\"outlinewidth\": 0, \"ticks\": \"\"}, \"colorscale\": [[0.0, \"#0d0887\"], [0.1111111111111111, \"#46039f\"], [0.2222222222222222, \"#7201a8\"], [0.3333333333333333, \"#9c179e\"], [0.4444444444444444, \"#bd3786\"], [0.5555555555555556, \"#d8576b\"], [0.6666666666666666, \"#ed7953\"], [0.7777777777777778, \"#fb9f3a\"], [0.8888888888888888, \"#fdca26\"], [1.0, \"#f0f921\"]], \"type\": \"contour\"}], \"contourcarpet\": [{\"colorbar\": {\"outlinewidth\": 0, \"ticks\": \"\"}, \"type\": \"contourcarpet\"}], \"heatmap\": [{\"colorbar\": {\"outlinewidth\": 0, \"ticks\": \"\"}, \"colorscale\": [[0.0, \"#0d0887\"], [0.1111111111111111, \"#46039f\"], [0.2222222222222222, \"#7201a8\"], [0.3333333333333333, \"#9c179e\"], [0.4444444444444444, \"#bd3786\"], [0.5555555555555556, \"#d8576b\"], [0.6666666666666666, \"#ed7953\"], [0.7777777777777778, \"#fb9f3a\"], [0.8888888888888888, \"#fdca26\"], [1.0, \"#f0f921\"]], \"type\": \"heatmap\"}], \"heatmapgl\": [{\"colorbar\": {\"outlinewidth\": 0, \"ticks\": \"\"}, \"colorscale\": [[0.0, \"#0d0887\"], [0.1111111111111111, \"#46039f\"], [0.2222222222222222, \"#7201a8\"], [0.3333333333333333, \"#9c179e\"], [0.4444444444444444, \"#bd3786\"], [0.5555555555555556, \"#d8576b\"], [0.6666666666666666, \"#ed7953\"], [0.7777777777777778, \"#fb9f3a\"], [0.8888888888888888, \"#fdca26\"], [1.0, \"#f0f921\"]], \"type\": \"heatmapgl\"}], \"histogram\": [{\"marker\": {\"colorbar\": {\"outlinewidth\": 0, \"ticks\": \"\"}}, \"type\": \"histogram\"}], \"histogram2d\": [{\"colorbar\": {\"outlinewidth\": 0, \"ticks\": \"\"}, \"colorscale\": [[0.0, \"#0d0887\"], [0.1111111111111111, \"#46039f\"], [0.2222222222222222, \"#7201a8\"], [0.3333333333333333, \"#9c179e\"], [0.4444444444444444, \"#bd3786\"], [0.5555555555555556, \"#d8576b\"], [0.6666666666666666, \"#ed7953\"], [0.7777777777777778, \"#fb9f3a\"], [0.8888888888888888, \"#fdca26\"], [1.0, \"#f0f921\"]], \"type\": \"histogram2d\"}], \"histogram2dcontour\": [{\"colorbar\": {\"outlinewidth\": 0, \"ticks\": \"\"}, \"colorscale\": [[0.0, \"#0d0887\"], [0.1111111111111111, \"#46039f\"], [0.2222222222222222, \"#7201a8\"], [0.3333333333333333, \"#9c179e\"], [0.4444444444444444, \"#bd3786\"], [0.5555555555555556, \"#d8576b\"], [0.6666666666666666, \"#ed7953\"], [0.7777777777777778, \"#fb9f3a\"], [0.8888888888888888, \"#fdca26\"], [1.0, \"#f0f921\"]], \"type\": \"histogram2dcontour\"}], \"mesh3d\": [{\"colorbar\": {\"outlinewidth\": 0, \"ticks\": \"\"}, \"type\": \"mesh3d\"}], \"parcoords\": [{\"line\": {\"colorbar\": {\"outlinewidth\": 0, \"ticks\": \"\"}}, \"type\": \"parcoords\"}], \"pie\": [{\"automargin\": true, \"type\": \"pie\"}], \"scatter\": [{\"marker\": {\"colorbar\": {\"outlinewidth\": 0, \"ticks\": \"\"}}, \"type\": \"scatter\"}], \"scatter3d\": [{\"line\": {\"colorbar\": {\"outlinewidth\": 0, \"ticks\": \"\"}}, \"marker\": {\"colorbar\": {\"outlinewidth\": 0, \"ticks\": \"\"}}, \"type\": \"scatter3d\"}], \"scattercarpet\": [{\"marker\": {\"colorbar\": {\"outlinewidth\": 0, \"ticks\": \"\"}}, \"type\": \"scattercarpet\"}], \"scattergeo\": [{\"marker\": {\"colorbar\": {\"outlinewidth\": 0, \"ticks\": \"\"}}, \"type\": \"scattergeo\"}], \"scattergl\": [{\"marker\": {\"colorbar\": {\"outlinewidth\": 0, \"ticks\": \"\"}}, \"type\": \"scattergl\"}], \"scattermapbox\": [{\"marker\": {\"colorbar\": {\"outlinewidth\": 0, \"ticks\": \"\"}}, \"type\": \"scattermapbox\"}], \"scatterpolar\": [{\"marker\": {\"colorbar\": {\"outlinewidth\": 0, \"ticks\": \"\"}}, \"type\": \"scatterpolar\"}], \"scatterpolargl\": [{\"marker\": {\"colorbar\": {\"outlinewidth\": 0, \"ticks\": \"\"}}, \"type\": \"scatterpolargl\"}], \"scatterternary\": [{\"marker\": {\"colorbar\": {\"outlinewidth\": 0, \"ticks\": \"\"}}, \"type\": \"scatterternary\"}], \"surface\": [{\"colorbar\": {\"outlinewidth\": 0, \"ticks\": \"\"}, \"colorscale\": [[0.0, \"#0d0887\"], [0.1111111111111111, \"#46039f\"], [0.2222222222222222, \"#7201a8\"], [0.3333333333333333, \"#9c179e\"], [0.4444444444444444, \"#bd3786\"], [0.5555555555555556, \"#d8576b\"], [0.6666666666666666, \"#ed7953\"], [0.7777777777777778, \"#fb9f3a\"], [0.8888888888888888, \"#fdca26\"], [1.0, \"#f0f921\"]], \"type\": \"surface\"}], \"table\": [{\"cells\": {\"fill\": {\"color\": \"#EBF0F8\"}, \"line\": {\"color\": \"white\"}}, \"header\": {\"fill\": {\"color\": \"#C8D4E3\"}, \"line\": {\"color\": \"white\"}}, \"type\": \"table\"}]}, \"layout\": {\"annotationdefaults\": {\"arrowcolor\": \"#2a3f5f\", \"arrowhead\": 0, \"arrowwidth\": 1}, \"coloraxis\": {\"colorbar\": {\"outlinewidth\": 0, \"ticks\": \"\"}}, \"colorscale\": {\"diverging\": [[0, \"#8e0152\"], [0.1, \"#c51b7d\"], [0.2, \"#de77ae\"], [0.3, \"#f1b6da\"], [0.4, \"#fde0ef\"], [0.5, \"#f7f7f7\"], [0.6, \"#e6f5d0\"], [0.7, \"#b8e186\"], [0.8, \"#7fbc41\"], [0.9, \"#4d9221\"], [1, \"#276419\"]], \"sequential\": [[0.0, \"#0d0887\"], [0.1111111111111111, \"#46039f\"], [0.2222222222222222, \"#7201a8\"], [0.3333333333333333, \"#9c179e\"], [0.4444444444444444, \"#bd3786\"], [0.5555555555555556, \"#d8576b\"], [0.6666666666666666, \"#ed7953\"], [0.7777777777777778, \"#fb9f3a\"], [0.8888888888888888, \"#fdca26\"], [1.0, \"#f0f921\"]], \"sequentialminus\": [[0.0, \"#0d0887\"], [0.1111111111111111, \"#46039f\"], [0.2222222222222222, \"#7201a8\"], [0.3333333333333333, \"#9c179e\"], [0.4444444444444444, \"#bd3786\"], [0.5555555555555556, \"#d8576b\"], [0.6666666666666666, \"#ed7953\"], [0.7777777777777778, \"#fb9f3a\"], [0.8888888888888888, \"#fdca26\"], [1.0, \"#f0f921\"]]}, \"colorway\": [\"#636efa\", \"#EF553B\", \"#00cc96\", \"#ab63fa\", \"#FFA15A\", \"#19d3f3\", \"#FF6692\", \"#B6E880\", \"#FF97FF\", \"#FECB52\"], \"font\": {\"color\": \"#2a3f5f\"}, \"geo\": {\"bgcolor\": \"white\", \"lakecolor\": \"white\", \"landcolor\": \"#E5ECF6\", \"showlakes\": true, \"showland\": true, \"subunitcolor\": \"white\"}, \"hoverlabel\": {\"align\": \"left\"}, \"hovermode\": \"closest\", \"mapbox\": {\"style\": \"light\"}, \"paper_bgcolor\": \"white\", \"plot_bgcolor\": \"#E5ECF6\", \"polar\": {\"angularaxis\": {\"gridcolor\": \"white\", \"linecolor\": \"white\", \"ticks\": \"\"}, \"bgcolor\": \"#E5ECF6\", \"radialaxis\": {\"gridcolor\": \"white\", \"linecolor\": \"white\", \"ticks\": \"\"}}, \"scene\": {\"xaxis\": {\"backgroundcolor\": \"#E5ECF6\", \"gridcolor\": \"white\", \"gridwidth\": 2, \"linecolor\": \"white\", \"showbackground\": true, \"ticks\": \"\", \"zerolinecolor\": \"white\"}, \"yaxis\": {\"backgroundcolor\": \"#E5ECF6\", \"gridcolor\": \"white\", \"gridwidth\": 2, \"linecolor\": \"white\", \"showbackground\": true, \"ticks\": \"\", \"zerolinecolor\": \"white\"}, \"zaxis\": {\"backgroundcolor\": \"#E5ECF6\", \"gridcolor\": \"white\", \"gridwidth\": 2, \"linecolor\": \"white\", \"showbackground\": true, \"ticks\": \"\", \"zerolinecolor\": \"white\"}}, \"shapedefaults\": {\"line\": {\"color\": \"#2a3f5f\"}}, \"ternary\": {\"aaxis\": {\"gridcolor\": \"white\", \"linecolor\": \"white\", \"ticks\": \"\"}, \"baxis\": {\"gridcolor\": \"white\", \"linecolor\": \"white\", \"ticks\": \"\"}, \"bgcolor\": \"#E5ECF6\", \"caxis\": {\"gridcolor\": \"white\", \"linecolor\": \"white\", \"ticks\": \"\"}}, \"title\": {\"x\": 0.05}, \"xaxis\": {\"automargin\": true, \"gridcolor\": \"white\", \"linecolor\": \"white\", \"ticks\": \"\", \"title\": {\"standoff\": 15}, \"zerolinecolor\": \"white\", \"zerolinewidth\": 2}, \"yaxis\": {\"automargin\": true, \"gridcolor\": \"white\", \"linecolor\": \"white\", \"ticks\": \"\", \"title\": {\"standoff\": 15}, \"zerolinecolor\": \"white\", \"zerolinewidth\": 2}}}, \"title\": {\"text\": \"Total Bronze Medals Won by Country Over All Olympic Competitions\"}},\n",
       "                        {\"responsive\": true}\n",
       "                    ).then(function(){\n",
       "                            \n",
       "var gd = document.getElementById('5ef2fc20-df80-42f6-8d14-b3fd492bfdac');\n",
       "var x = new MutationObserver(function (mutations, observer) {{\n",
       "        var display = window.getComputedStyle(gd).display;\n",
       "        if (!display || display === 'none') {{\n",
       "            console.log([gd, 'removed!']);\n",
       "            Plotly.purge(gd);\n",
       "            observer.disconnect();\n",
       "        }}\n",
       "}});\n",
       "\n",
       "// Listen for the removal of the full notebook cells\n",
       "var notebookContainer = gd.closest('#notebook-container');\n",
       "if (notebookContainer) {{\n",
       "    x.observe(notebookContainer, {childList: true});\n",
       "}}\n",
       "\n",
       "// Listen for the clearing of the current output cell\n",
       "var outputEl = gd.closest('.output');\n",
       "if (outputEl) {{\n",
       "    x.observe(outputEl, {childList: true});\n",
       "}}\n",
       "\n",
       "                        })\n",
       "                };\n",
       "                });\n",
       "            </script>\n",
       "        </div>"
      ]
     },
     "metadata": {},
     "output_type": "display_data"
    }
   ],
   "source": [
    "create_map(propor_map, 'Bronze', 'Reds')"
   ]
  },
  {
   "cell_type": "code",
   "execution_count": null,
   "metadata": {},
   "outputs": [],
   "source": []
  },
  {
   "cell_type": "code",
   "execution_count": null,
   "metadata": {},
   "outputs": [],
   "source": []
  },
  {
   "cell_type": "code",
   "execution_count": null,
   "metadata": {},
   "outputs": [],
   "source": []
  },
  {
   "cell_type": "code",
   "execution_count": null,
   "metadata": {},
   "outputs": [],
   "source": []
  },
  {
   "cell_type": "code",
   "execution_count": null,
   "metadata": {},
   "outputs": [],
   "source": []
  },
  {
   "cell_type": "code",
   "execution_count": null,
   "metadata": {},
   "outputs": [],
   "source": []
  },
  {
   "cell_type": "code",
   "execution_count": null,
   "metadata": {},
   "outputs": [],
   "source": []
  },
  {
   "cell_type": "code",
   "execution_count": null,
   "metadata": {},
   "outputs": [],
   "source": []
  },
  {
   "cell_type": "code",
   "execution_count": null,
   "metadata": {},
   "outputs": [],
   "source": []
  },
  {
   "cell_type": "code",
   "execution_count": null,
   "metadata": {},
   "outputs": [],
   "source": []
  },
  {
   "cell_type": "code",
   "execution_count": null,
   "metadata": {},
   "outputs": [],
   "source": []
  }
 ],
 "metadata": {
  "kernelspec": {
   "display_name": "Python 3",
   "language": "python",
   "name": "python3"
  },
  "language_info": {
   "codemirror_mode": {
    "name": "ipython",
    "version": 3
   },
   "file_extension": ".py",
   "mimetype": "text/x-python",
   "name": "python",
   "nbconvert_exporter": "python",
   "pygments_lexer": "ipython3",
   "version": "3.7.3"
  }
 },
 "nbformat": 4,
 "nbformat_minor": 2
}
