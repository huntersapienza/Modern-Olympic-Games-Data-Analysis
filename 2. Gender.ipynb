{
 "cells": [
  {
   "cell_type": "markdown",
   "metadata": {},
   "source": [
    "**Note! This notebook contains interactive maps that can only be viewed by proceeding to https://nbviewer.jupyter.org/ and entering the notebook url.**"
   ]
  },
  {
   "cell_type": "markdown",
   "metadata": {},
   "source": [
    "# Gender"
   ]
  },
  {
   "cell_type": "markdown",
   "metadata": {},
   "source": [
    "Since the creation of the modern Olympic Games, women have engaged in a long, hard-fought battle for equality, both in and outside of the games. Throghout the past 124 years, women have achieved countless victories from suffrage to reproductive rights, equal pay to increased representation in all sectors of society. While constantly under fire, these rights represent the progress and evolution of our society, although we still have so far to go. The Olympic Games mirror and represent much of this progress, as I hope to illuminate in the following exploration. Just this year, the International Olympic Committee announced their goal to achieve 50% female participation in the games, a lnadmark goal that represents this ongoing work and dedication to gender equality.\n",
    "\n",
    "In the following section we will explore the following questions:\n",
    "- What is the overall gender composition of the Olympic Games?\n",
    "- Are height, weight, and age of male and female athletes substantially different?\n",
    "- How has the proportion of male and female athletes changed over time?\n",
    "- Which countries boast the greatest gender equality based on female participation?\n",
    "- Can we predict an athlete's gender based on their height, weight, and age?"
   ]
  },
  {
   "cell_type": "code",
   "execution_count": 1,
   "metadata": {
    "scrolled": true
   },
   "outputs": [],
   "source": [
    "import pandas as pd\n",
    "import numpy as np\n",
    "import matplotlib.pyplot as plt\n",
    "%matplotlib inline\n",
    "import seaborn as sns"
   ]
  },
  {
   "cell_type": "code",
   "execution_count": 2,
   "metadata": {},
   "outputs": [],
   "source": [
    "data = pd.read_csv('cleaned_data.csv')"
   ]
  },
  {
   "cell_type": "markdown",
   "metadata": {},
   "source": [
    "## What is the overall gender composition of the Olympic Games?"
   ]
  },
  {
   "cell_type": "code",
   "execution_count": 3,
   "metadata": {},
   "outputs": [],
   "source": [
    "male_data = data[data.Sex=='M']\n",
    "female_data = data[data.Sex=='F']"
   ]
  },
  {
   "cell_type": "code",
   "execution_count": 4,
   "metadata": {},
   "outputs": [
    {
     "data": {
      "image/png": "[encoded data removed]",
      "text/plain": [
       "<Figure size 432x288 with 1 Axes>"
      ]
     },
     "metadata": {},
     "output_type": "display_data"
    }
   ],
   "source": [
    "pie_slices = []\n",
    "pie_slices.append(len(male_data)/len(data))\n",
    "pie_slices.append(len(female_data)/len(data))\n",
    "labels = ['Male','Female']\n",
    "plt.pie(pie_slices, labels=labels, autopct='%1.1f%%', shadow=True, startangle=90, colors=['#219AD8','#F5B7B1'])\n",
    "plt.title('Gender Composition of Olympic Games')\n",
    "plt.show()"
   ]
  },
  {
   "cell_type": "markdown",
   "metadata": {},
   "source": [
    "The pie chart above illustrates male and female composition across all modern Olympic Games. As is evident, male athletes far outweigh female representation, with 72.5% male athletes and only 27.5% female. However, this visualization represents athletes since 1896, and, with the progress made since then, hopefully we can show increased equality in representation throughout the remainder of the section."
   ]
  },
  {
   "cell_type": "code",
   "execution_count": 5,
   "metadata": {},
   "outputs": [
    {
     "data": {
      "text/html": [
       "<div>\n",
       "<style scoped>\n",
       "    .dataframe tbody tr th:only-of-type {\n",
       "        vertical-align: middle;\n",
       "    }\n",
       "\n",
       "    .dataframe tbody tr th {\n",
       "        vertical-align: top;\n",
       "    }\n",
       "\n",
       "    .dataframe thead th {\n",
       "        text-align: right;\n",
       "    }\n",
       "</style>\n",
       "<table border=\"1\" class=\"dataframe\">\n",
       "  <thead>\n",
       "    <tr style=\"text-align: right;\">\n",
       "      <th></th>\n",
       "      <th>Unnamed: 0</th>\n",
       "      <th>ID</th>\n",
       "      <th>Age</th>\n",
       "      <th>Height</th>\n",
       "      <th>Weight</th>\n",
       "      <th>Year</th>\n",
       "    </tr>\n",
       "  </thead>\n",
       "  <tbody>\n",
       "    <tr>\n",
       "      <th>count</th>\n",
       "      <td>196594.000000</td>\n",
       "      <td>196594.000000</td>\n",
       "      <td>196594.000000</td>\n",
       "      <td>196594.000000</td>\n",
       "      <td>196594.000000</td>\n",
       "      <td>196594.000000</td>\n",
       "    </tr>\n",
       "    <tr>\n",
       "      <th>mean</th>\n",
       "      <td>134259.785065</td>\n",
       "      <td>67601.598304</td>\n",
       "      <td>26.172716</td>\n",
       "      <td>178.896640</td>\n",
       "      <td>75.254759</td>\n",
       "      <td>1973.046064</td>\n",
       "    </tr>\n",
       "    <tr>\n",
       "      <th>std</th>\n",
       "      <td>78288.679740</td>\n",
       "      <td>39036.820069</td>\n",
       "      <td>6.342165</td>\n",
       "      <td>7.999185</td>\n",
       "      <td>11.234671</td>\n",
       "      <td>31.127867</td>\n",
       "    </tr>\n",
       "    <tr>\n",
       "      <th>min</th>\n",
       "      <td>0.000000</td>\n",
       "      <td>1.000000</td>\n",
       "      <td>10.000000</td>\n",
       "      <td>127.000000</td>\n",
       "      <td>28.000000</td>\n",
       "      <td>1896.000000</td>\n",
       "    </tr>\n",
       "    <tr>\n",
       "      <th>25%</th>\n",
       "      <td>66209.250000</td>\n",
       "      <td>33868.250000</td>\n",
       "      <td>22.000000</td>\n",
       "      <td>175.000000</td>\n",
       "      <td>70.000000</td>\n",
       "      <td>1952.000000</td>\n",
       "    </tr>\n",
       "    <tr>\n",
       "      <th>50%</th>\n",
       "      <td>133625.000000</td>\n",
       "      <td>67271.500000</td>\n",
       "      <td>25.000000</td>\n",
       "      <td>179.000000</td>\n",
       "      <td>74.000000</td>\n",
       "      <td>1980.000000</td>\n",
       "    </tr>\n",
       "    <tr>\n",
       "      <th>75%</th>\n",
       "      <td>202346.750000</td>\n",
       "      <td>101638.000000</td>\n",
       "      <td>29.000000</td>\n",
       "      <td>183.000000</td>\n",
       "      <td>79.000000</td>\n",
       "      <td>2000.000000</td>\n",
       "    </tr>\n",
       "    <tr>\n",
       "      <th>max</th>\n",
       "      <td>271115.000000</td>\n",
       "      <td>135571.000000</td>\n",
       "      <td>97.000000</td>\n",
       "      <td>226.000000</td>\n",
       "      <td>214.000000</td>\n",
       "      <td>2016.000000</td>\n",
       "    </tr>\n",
       "  </tbody>\n",
       "</table>\n",
       "</div>"
      ],
      "text/plain": [
       "          Unnamed: 0             ID            Age         Height  \\\n",
       "count  196594.000000  196594.000000  196594.000000  196594.000000   \n",
       "mean   134259.785065   67601.598304      26.172716     178.896640   \n",
       "std     78288.679740   39036.820069       6.342165       7.999185   \n",
       "min         0.000000       1.000000      10.000000     127.000000   \n",
       "25%     66209.250000   33868.250000      22.000000     175.000000   \n",
       "50%    133625.000000   67271.500000      25.000000     179.000000   \n",
       "75%    202346.750000  101638.000000      29.000000     183.000000   \n",
       "max    271115.000000  135571.000000      97.000000     226.000000   \n",
       "\n",
       "              Weight           Year  \n",
       "count  196594.000000  196594.000000  \n",
       "mean       75.254759    1973.046064  \n",
       "std        11.234671      31.127867  \n",
       "min        28.000000    1896.000000  \n",
       "25%        70.000000    1952.000000  \n",
       "50%        74.000000    1980.000000  \n",
       "75%        79.000000    2000.000000  \n",
       "max       214.000000    2016.000000  "
      ]
     },
     "execution_count": 5,
     "metadata": {},
     "output_type": "execute_result"
    }
   ],
   "source": [
    "male_data.describe()"
   ]
  },
  {
   "cell_type": "code",
   "execution_count": 6,
   "metadata": {},
   "outputs": [
    {
     "data": {
      "text/html": [
       "<div>\n",
       "<style scoped>\n",
       "    .dataframe tbody tr th:only-of-type {\n",
       "        vertical-align: middle;\n",
       "    }\n",
       "\n",
       "    .dataframe tbody tr th {\n",
       "        vertical-align: top;\n",
       "    }\n",
       "\n",
       "    .dataframe thead th {\n",
       "        text-align: right;\n",
       "    }\n",
       "</style>\n",
       "<table border=\"1\" class=\"dataframe\">\n",
       "  <thead>\n",
       "    <tr style=\"text-align: right;\">\n",
       "      <th></th>\n",
       "      <th>Unnamed: 0</th>\n",
       "      <th>ID</th>\n",
       "      <th>Age</th>\n",
       "      <th>Height</th>\n",
       "      <th>Weight</th>\n",
       "      <th>Year</th>\n",
       "    </tr>\n",
       "  </thead>\n",
       "  <tbody>\n",
       "    <tr>\n",
       "      <th>count</th>\n",
       "      <td>74522.000000</td>\n",
       "      <td>74522.000000</td>\n",
       "      <td>74522.000000</td>\n",
       "      <td>74522.000000</td>\n",
       "      <td>74522.000000</td>\n",
       "      <td>74522.000000</td>\n",
       "    </tr>\n",
       "    <tr>\n",
       "      <th>mean</th>\n",
       "      <td>138980.958442</td>\n",
       "      <td>69956.722887</td>\n",
       "      <td>23.734401</td>\n",
       "      <td>167.855103</td>\n",
       "      <td>59.915032</td>\n",
       "      <td>1992.445748</td>\n",
       "    </tr>\n",
       "    <tr>\n",
       "      <th>std</th>\n",
       "      <td>78098.126752</td>\n",
       "      <td>38932.561177</td>\n",
       "      <td>5.778777</td>\n",
       "      <td>8.347283</td>\n",
       "      <td>9.671605</td>\n",
       "      <td>20.458993</td>\n",
       "    </tr>\n",
       "    <tr>\n",
       "      <th>min</th>\n",
       "      <td>4.000000</td>\n",
       "      <td>5.000000</td>\n",
       "      <td>11.000000</td>\n",
       "      <td>127.000000</td>\n",
       "      <td>25.000000</td>\n",
       "      <td>1900.000000</td>\n",
       "    </tr>\n",
       "    <tr>\n",
       "      <th>25%</th>\n",
       "      <td>71837.000000</td>\n",
       "      <td>36558.500000</td>\n",
       "      <td>20.000000</td>\n",
       "      <td>163.000000</td>\n",
       "      <td>55.000000</td>\n",
       "      <td>1984.000000</td>\n",
       "    </tr>\n",
       "    <tr>\n",
       "      <th>50%</th>\n",
       "      <td>139659.000000</td>\n",
       "      <td>70128.000000</td>\n",
       "      <td>23.000000</td>\n",
       "      <td>168.000000</td>\n",
       "      <td>59.000000</td>\n",
       "      <td>1998.000000</td>\n",
       "    </tr>\n",
       "    <tr>\n",
       "      <th>75%</th>\n",
       "      <td>206265.750000</td>\n",
       "      <td>103534.750000</td>\n",
       "      <td>27.000000</td>\n",
       "      <td>173.000000</td>\n",
       "      <td>65.000000</td>\n",
       "      <td>2008.000000</td>\n",
       "    </tr>\n",
       "    <tr>\n",
       "      <th>max</th>\n",
       "      <td>271110.000000</td>\n",
       "      <td>135568.000000</td>\n",
       "      <td>74.000000</td>\n",
       "      <td>213.000000</td>\n",
       "      <td>167.000000</td>\n",
       "      <td>2016.000000</td>\n",
       "    </tr>\n",
       "  </tbody>\n",
       "</table>\n",
       "</div>"
      ],
      "text/plain": [
       "          Unnamed: 0             ID           Age        Height        Weight  \\\n",
       "count   74522.000000   74522.000000  74522.000000  74522.000000  74522.000000   \n",
       "mean   138980.958442   69956.722887     23.734401    167.855103     59.915032   \n",
       "std     78098.126752   38932.561177      5.778777      8.347283      9.671605   \n",
       "min         4.000000       5.000000     11.000000    127.000000     25.000000   \n",
       "25%     71837.000000   36558.500000     20.000000    163.000000     55.000000   \n",
       "50%    139659.000000   70128.000000     23.000000    168.000000     59.000000   \n",
       "75%    206265.750000  103534.750000     27.000000    173.000000     65.000000   \n",
       "max    271110.000000  135568.000000     74.000000    213.000000    167.000000   \n",
       "\n",
       "               Year  \n",
       "count  74522.000000  \n",
       "mean    1992.445748  \n",
       "std       20.458993  \n",
       "min     1900.000000  \n",
       "25%     1984.000000  \n",
       "50%     1998.000000  \n",
       "75%     2008.000000  \n",
       "max     2016.000000  "
      ]
     },
     "execution_count": 6,
     "metadata": {},
     "output_type": "execute_result"
    }
   ],
   "source": [
    "female_data.describe()"
   ]
  },
  {
   "cell_type": "markdown",
   "metadata": {},
   "source": [
    "From the descriptive data above, we notice the following trends and observations:\n",
    "- 196,954 male athletes and 74,522 female athletes total\n",
    "- The average male age is approximately 26 years. The average female age is nearly 24 years.\n",
    "- Average male height (179 cm) is 11 cm greater than average female height (168 cm).\n",
    "- Average male weight (75 kg) is 15 kg greated than average female weight (60 kg).\n",
    "- The shortest male and female athletes are both 127 cm.\n",
    "- The tallest male and female atheletes are 226 cm and 213 cm, respectively.\n",
    "- The lightest male and female athletes are 28 kg and 25 kg, respectively.\n",
    "- The heaviest male and female athletes are 214 kg and 167 kg, respectively.\n",
    "- Over 75% of male and female athletes are under the age of 30.\n",
    "- The oldest Olympic athletes have been a 97 year old man and 74 year old woman."
   ]
  },
  {
   "cell_type": "markdown",
   "metadata": {},
   "source": [
    "## Are the height, weight, and age of male and female athletes substantially different?"
   ]
  },
  {
   "cell_type": "markdown",
   "metadata": {},
   "source": [
    "Due to the substantial presence of missing values for height, weight, and age in our Introduction section, we create new dataframes below that remove rows with these missing values, to avoid distributions that do not truly represent the data. Then, we will explore whether significant differences truly exist between male and female athletes with regards to height, weight, and age."
   ]
  },
  {
   "cell_type": "code",
   "execution_count": 7,
   "metadata": {},
   "outputs": [],
   "source": [
    "nonnull_data = pd.read_csv('athlete_events.csv')\n",
    "nonnull_data.Medal.fillna(\"None\",inplace=True)\n",
    "nonnull_age = nonnull_data.drop(nonnull_data[nonnull_data['Age'].isna()==True].index)\n",
    "nonnull_weight = nonnull_data.drop(nonnull_data[nonnull_data['Weight'].isna()==True].index)\n",
    "nonnull_height = nonnull_data.drop(nonnull_data[nonnull_data['Height'].isna()==True].index)\n",
    "\n",
    "nonnull_male_age = nonnull_age[nonnull_age.Sex == 'M']\n",
    "nonnull_female_age = nonnull_age[nonnull_age.Sex == 'F']\n",
    "\n",
    "nonnull_male_height = nonnull_height[nonnull_height.Sex == 'M']\n",
    "nonnull_female_height = nonnull_height[nonnull_height.Sex == 'F']\n",
    "\n",
    "nonnull_male_weight = nonnull_weight[nonnull_weight.Sex == 'M']\n",
    "nonnull_female_weight = nonnull_weight[nonnull_weight.Sex == 'F']"
   ]
  },
  {
   "cell_type": "markdown",
   "metadata": {},
   "source": [
    "### Weight Difference"
   ]
  },
  {
   "cell_type": "markdown",
   "metadata": {},
   "source": [
    "#### Ho (null hypothesis): A significant difference does **not** exist between male and female weight.\n",
    "#### Ha (alternate hypothesis): A significant difference **does** exist between male and female weight."
   ]
  },
  {
   "cell_type": "markdown",
   "metadata": {},
   "source": [
    "Below, the weight distribution for gender illustrates that male weight is shifted slightly higher than female weight. Male weight appears to have a greater spread than female weight, although with some high outliers for both genders."
   ]
  },
  {
   "cell_type": "code",
   "execution_count": 8,
   "metadata": {},
   "outputs": [
    {
     "data": {
      "image/png": "[encoded data removed]",
      "text/plain": [
       "<Figure size 1440x720 with 1 Axes>"
      ]
     },
     "metadata": {
      "needs_background": "light"
     },
     "output_type": "display_data"
    }
   ],
   "source": [
    "plt.figure(figsize=(20, 10))\n",
    "sns.distplot(nonnull_male_weight['Weight'], label='Male Weight', color='#219AD8')\n",
    "sns.distplot(nonnull_female_weight['Weight'], label='Female Weight', color='#F5B7B1')\n",
    "plt.title('Distribution of Weight by Gender', fontsize=16)\n",
    "plt.xlabel('Weight', fontsize=16)\n",
    "plt.legend()\n",
    "plt.show()"
   ]
  },
  {
   "cell_type": "code",
   "execution_count": 9,
   "metadata": {},
   "outputs": [
    {
     "name": "stdout",
     "output_type": "stream",
     "text": [
      "Normality of male weight distribution:  NormaltestResult(statistic=27017.508174701405, pvalue=0.0)\n",
      "Normality of female weight distribution:  NormaltestResult(statistic=14405.956261432964, pvalue=0.0)\n"
     ]
    }
   ],
   "source": [
    "from scipy import stats\n",
    "print('Normality of male weight distribution: ', stats.normaltest(nonnull_male_weight.Weight))\n",
    "print('Normality of female weight distribution: ', stats.normaltest(nonnull_female_weight.Weight))"
   ]
  },
  {
   "cell_type": "code",
   "execution_count": 47,
   "metadata": {},
   "outputs": [
    {
     "name": "stdout",
     "output_type": "stream",
     "text": [
      "141470\n",
      "66771\n"
     ]
    }
   ],
   "source": [
    "print(len(nonnull_male_weight.Weight))\n",
    "print(len(nonnull_female_weight.Weight))"
   ]
  },
  {
   "cell_type": "markdown",
   "metadata": {},
   "source": [
    "With p-values under 0.05 for the normal test, niether distribution can be claimed as normal. However, due to the high number of samples in both datasets (over 65,000 in both!), we can proceed comfortably with a two-sample t-test to evaluate the siginficance of the difference in their means."
   ]
  },
  {
   "cell_type": "code",
   "execution_count": 11,
   "metadata": {},
   "outputs": [
    {
     "data": {
      "text/plain": [
       "False"
      ]
     },
     "execution_count": 11,
     "metadata": {},
     "output_type": "execute_result"
    }
   ],
   "source": [
    "np.var(nonnull_male_weight['Weight']) == np.var(nonnull_female_weight['Weight'])"
   ]
  },
  {
   "cell_type": "code",
   "execution_count": 13,
   "metadata": {},
   "outputs": [
    {
     "name": "stdout",
     "output_type": "stream",
     "text": [
      "T-Test Results for difference in male and female height: Ttest_indResult(statistic=297.35363114553485, pvalue=0.0)\n"
     ]
    }
   ],
   "source": [
    "print('T-Test Results for difference in male and female height:',\n",
    "      stats.ttest_ind(nonnull_male_weight['Weight'], nonnull_female_weight['Weight'], equal_var=False))"
   ]
  },
  {
   "cell_type": "markdown",
   "metadata": {},
   "source": [
    "The results for the t-test are displayed above, accounting for the unequal variance of the distibutions. With a p-value under 0.05, we can reject the null hypothesis and accept the alternate hypothesis that a signficant difference exists between male and female weight. Next, we will explore the extent of this significant difference."
   ]
  },
  {
   "cell_type": "code",
   "execution_count": 15,
   "metadata": {},
   "outputs": [
    {
     "data": {
      "text/plain": [
       "Text(0.5, 1.0, 'Average Weight by Gender')"
      ]
     },
     "execution_count": 15,
     "metadata": {},
     "output_type": "execute_result"
    },
    {
     "data": {
      "image/png": "[encoded data removed]",
      "text/plain": [
       "<Figure size 432x288 with 1 Axes>"
      ]
     },
     "metadata": {
      "needs_background": "light"
     },
     "output_type": "display_data"
    }
   ],
   "source": [
    "x = ['Male', 'Female']\n",
    "y = [np.array(nonnull_male_weight.Weight).mean(),np.array(nonnull_female_weight.Weight).mean()]\n",
    "plt.bar(x,y,color=('#219AD8','#F5B7B1'))\n",
    "plt.ylabel('Weight')\n",
    "plt.xlabel('Gender')\n",
    "plt.title('Average Weight by Gender')"
   ]
  },
  {
   "cell_type": "code",
   "execution_count": 16,
   "metadata": {},
   "outputs": [
    {
     "name": "stdout",
     "output_type": "stream",
     "text": [
      "Average Male Weight 75.74367710468651\n",
      "Average Female Weight 60.021251741025296\n",
      "Difference in Means 15.722425363661216\n"
     ]
    }
   ],
   "source": [
    "print('Average Male Weight',np.array(nonnull_male_weight.Weight).mean())\n",
    "print('Average Female Weight',np.array(nonnull_female_weight.Weight).mean())\n",
    "print('Difference in Means',np.array(nonnull_male_weight.Weight).mean()-np.array(nonnull_female_weight.Weight).mean())"
   ]
  },
  {
   "cell_type": "code",
   "execution_count": 17,
   "metadata": {},
   "outputs": [],
   "source": [
    "def Cohen_d(group1, group2):\n",
    "    diff = group1.mean() - group2.mean()\n",
    "\n",
    "    n1, n2 = len(group1), len(group2)\n",
    "    var1 = group1.var()\n",
    "    var2 = group2.var()\n",
    "\n",
    "    pooled_var = (n1 * var1 + n2 * var2) / (n1 + n2)\n",
    "    \n",
    "    d = diff / np.sqrt(pooled_var)\n",
    "    \n",
    "    return d"
   ]
  },
  {
   "cell_type": "code",
   "execution_count": 18,
   "metadata": {},
   "outputs": [
    {
     "data": {
      "text/plain": [
       "1.2751815026682798"
      ]
     },
     "execution_count": 18,
     "metadata": {},
     "output_type": "execute_result"
    }
   ],
   "source": [
    "Cohen_d(np.array(nonnull_male_weight.Weight),np.array(nonnull_female_weight.Weight))"
   ]
  },
  {
   "cell_type": "markdown",
   "metadata": {},
   "source": [
    "With a difference in mean weight of 15.72 kg, the distributions for male and female weight lie 1.275 standard deviations apart, allowing us to claim a **large** effect size in the weight difference. Male and female athlete weight are indeed significantly different to a large extent!"
   ]
  },
  {
   "cell_type": "markdown",
   "metadata": {},
   "source": [
    "### Height Difference"
   ]
  },
  {
   "cell_type": "markdown",
   "metadata": {},
   "source": [
    "#### Ho (null hypothesis): A significant difference does **not** exist between male and female height.\n",
    "#### Ha (alternate hypothesis): A significant difference **does** exist between male and female height."
   ]
  },
  {
   "cell_type": "markdown",
   "metadata": {},
   "source": [
    "Below, the height distribution for gender illustrates that male height is shifted slightly higher than female height, similar to the distributions for weight. Again, male height appears to have a greater spread than female height, although with some high and low outliers for both genders."
   ]
  },
  {
   "cell_type": "code",
   "execution_count": 19,
   "metadata": {
    "scrolled": false
   },
   "outputs": [
    {
     "data": {
      "image/png": "[encoded data removed]",
      "text/plain": [
       "<Figure size 1440x720 with 1 Axes>"
      ]
     },
     "metadata": {
      "needs_background": "light"
     },
     "output_type": "display_data"
    }
   ],
   "source": [
    "plt.figure(figsize=(20, 10))\n",
    "sns.distplot(nonnull_male_height['Height'], label='Male Height', color='#219AD8')\n",
    "sns.distplot(nonnull_female_height['Height'], label='Female Height', color='#F5B7B1')\n",
    "plt.title('Distribution of Height by Gender', fontsize=16)\n",
    "plt.xlabel('Height', fontsize=16)\n",
    "plt.legend()\n",
    "plt.show()"
   ]
  },
  {
   "cell_type": "code",
   "execution_count": 20,
   "metadata": {},
   "outputs": [
    {
     "name": "stdout",
     "output_type": "stream",
     "text": [
      "Normality of male height distribution:  NormaltestResult(statistic=6950.097580350797, pvalue=0.0)\n",
      "Normality of female height distribution:  NormaltestResult(statistic=1329.543457816336, pvalue=1.9647459847368126e-289)\n"
     ]
    }
   ],
   "source": [
    "print('Normality of male height distribution: ', stats.normaltest(male_data.Height))\n",
    "print('Normality of female height distribution: ', stats.normaltest(female_data.Height))"
   ]
  },
  {
   "cell_type": "code",
   "execution_count": 48,
   "metadata": {},
   "outputs": [
    {
     "name": "stdout",
     "output_type": "stream",
     "text": [
      "143567\n",
      "67378\n"
     ]
    }
   ],
   "source": [
    "print(len(nonnull_male_height.Height))\n",
    "print(len(nonnull_female_height.Height))"
   ]
  },
  {
   "cell_type": "markdown",
   "metadata": {},
   "source": [
    "With p-values under 0.05 for the normal test, niether distribution can be claimed as normal. However, due to the high number of samples in both datasets (over 65,000 in both!), we can proceed comfortably with a two-sample t-test to evaluate the siginficance of the difference in their means."
   ]
  },
  {
   "cell_type": "code",
   "execution_count": 21,
   "metadata": {},
   "outputs": [
    {
     "data": {
      "text/plain": [
       "False"
      ]
     },
     "execution_count": 21,
     "metadata": {},
     "output_type": "execute_result"
    }
   ],
   "source": [
    "np.var(nonnull_male_height['Height']) == np.var(nonnull_female_height['Height'])"
   ]
  },
  {
   "cell_type": "code",
   "execution_count": 22,
   "metadata": {},
   "outputs": [
    {
     "name": "stdout",
     "output_type": "stream",
     "text": [
      "T-Test Results for difference in male and female height: Ttest_indResult(statistic=263.09653079571683, pvalue=0.0)\n"
     ]
    }
   ],
   "source": [
    "print('T-Test Results for difference in male and female height:',\n",
    "      stats.ttest_ind(nonnull_male_height['Height'], nonnull_female_height['Height'], equal_var=False))"
   ]
  },
  {
   "cell_type": "markdown",
   "metadata": {},
   "source": [
    "The results for the t-test are displayed above, accounting for the unequal variance of the distibutions. With a p-value under 0.05, we can reject the null hypothesis and accept the alternate hypothesis that a signficant difference exists between male and female height. Next, we will explore the extent of this significant difference."
   ]
  },
  {
   "cell_type": "code",
   "execution_count": 23,
   "metadata": {},
   "outputs": [
    {
     "data": {
      "text/plain": [
       "Text(0.5, 1.0, 'Average Height by Gender')"
      ]
     },
     "execution_count": 23,
     "metadata": {},
     "output_type": "execute_result"
    },
    {
     "data": {
      "image/png": "[encoded data removed]",
      "text/plain": [
       "<Figure size 432x288 with 1 Axes>"
      ]
     },
     "metadata": {
      "needs_background": "light"
     },
     "output_type": "display_data"
    }
   ],
   "source": [
    "x = ['Male', 'Female']\n",
    "y = [np.array(nonnull_male_height.Height).mean(),np.array(nonnull_female_height.Height).mean()]\n",
    "plt.bar(x,y,color=('#219AD8','#F5B7B1'))\n",
    "plt.ylabel('Height')\n",
    "plt.xlabel('Gender')\n",
    "plt.title('Average Height by Gender')"
   ]
  },
  {
   "cell_type": "code",
   "execution_count": 25,
   "metadata": {},
   "outputs": [
    {
     "name": "stdout",
     "output_type": "stream",
     "text": [
      "Average Male Height 178.85846329588276\n",
      "Average Female Height 167.83973997447237\n",
      "Difference in Means 11.018723321410391\n"
     ]
    }
   ],
   "source": [
    "print('Average Male Height',np.array(nonnull_male_height.Height).mean())\n",
    "print('Average Female Height',np.array(nonnull_female_height.Height).mean())\n",
    "print('Difference in Means',np.array(nonnull_male_height.Height).mean()-np.array(nonnull_female_height.Height).mean())"
   ]
  },
  {
   "cell_type": "code",
   "execution_count": 24,
   "metadata": {},
   "outputs": [
    {
     "data": {
      "text/plain": [
       "1.200498727379905"
      ]
     },
     "execution_count": 24,
     "metadata": {},
     "output_type": "execute_result"
    }
   ],
   "source": [
    "Cohen_d(np.array(nonnull_male_height.Height),np.array(nonnull_female_height.Height))"
   ]
  },
  {
   "cell_type": "markdown",
   "metadata": {},
   "source": [
    "With a difference in mean height of 11.02 cm, the distributions for male and female height lie 1.200 standard deviations apart, allowing us to claim a **large** effect size in the height difference. Male and female athlete height are indeed significantly different to a large extent!"
   ]
  },
  {
   "cell_type": "markdown",
   "metadata": {},
   "source": [
    "### Age Difference"
   ]
  },
  {
   "cell_type": "markdown",
   "metadata": {},
   "source": [
    "#### Ho (null hypothesis): A significant difference does **not** exist between male and female age.\n",
    "#### Ha (alternate hypothesis): A significant difference **does** exist between male and female age."
   ]
  },
  {
   "cell_type": "markdown",
   "metadata": {},
   "source": [
    "Below, the age distribution for gender illustrates that male and female age are nearly overlapping, with male age ever so slightly shifted higher. The spread for both genders also appears more even than in the distributions for height and weight, although more high outliers for males seem to be present."
   ]
  },
  {
   "cell_type": "code",
   "execution_count": 26,
   "metadata": {},
   "outputs": [
    {
     "data": {
      "image/png": "[encoded data removed]",
      "text/plain": [
       "<Figure size 1440x720 with 1 Axes>"
      ]
     },
     "metadata": {
      "needs_background": "light"
     },
     "output_type": "display_data"
    }
   ],
   "source": [
    "plt.figure(figsize=(20, 10))\n",
    "sns.distplot(nonnull_male_age['Age'], label='Male Age', color='#219AD8')\n",
    "sns.distplot(nonnull_female_age['Age'], label='Female Age', color='#F5B7B1')\n",
    "plt.title('Distribution of Age by Gender', fontsize=16)\n",
    "plt.xlabel('Age', fontsize=16)\n",
    "plt.legend()\n",
    "plt.show()"
   ]
  },
  {
   "cell_type": "code",
   "execution_count": 27,
   "metadata": {},
   "outputs": [
    {
     "name": "stdout",
     "output_type": "stream",
     "text": [
      "Normality of male age distribution:  NormaltestResult(statistic=85907.65826980455, pvalue=0.0)\n",
      "Normality of female age distribution:  NormaltestResult(statistic=20192.83506012879, pvalue=0.0)\n"
     ]
    }
   ],
   "source": [
    "print('Normality of male age distribution: ', stats.normaltest(male_data.Age))\n",
    "print('Normality of female age distribution: ', stats.normaltest(female_data.Age))"
   ]
  },
  {
   "cell_type": "code",
   "execution_count": 49,
   "metadata": {},
   "outputs": [
    {
     "name": "stdout",
     "output_type": "stream",
     "text": [
      "187544\n",
      "74098\n"
     ]
    }
   ],
   "source": [
    "print(len(nonnull_male_age.Age))\n",
    "print(len(nonnull_female_age.Age))"
   ]
  },
  {
   "cell_type": "markdown",
   "metadata": {},
   "source": [
    "With p-values under 0.05 for the normal test, niether distribution can be claimed as normal. However, due to the high number of samples in both datasets (over 75,000 in both!), we can proceed comfortably with a two-sample t-test to evaluate the siginficance of the difference in their means."
   ]
  },
  {
   "cell_type": "code",
   "execution_count": 28,
   "metadata": {},
   "outputs": [
    {
     "data": {
      "text/plain": [
       "False"
      ]
     },
     "execution_count": 28,
     "metadata": {},
     "output_type": "execute_result"
    }
   ],
   "source": [
    "np.var(nonnull_male_age['Age']) == np.var(nonnull_female_age['Age'])"
   ]
  },
  {
   "cell_type": "code",
   "execution_count": 29,
   "metadata": {},
   "outputs": [
    {
     "name": "stdout",
     "output_type": "stream",
     "text": [
      "T-Test Results for difference in male and female age: Ttest_indResult(statistic=97.8145249269237, pvalue=0.0)\n"
     ]
    }
   ],
   "source": [
    "print('T-Test Results for difference in male and female age:',\n",
    "      stats.ttest_ind(nonnull_male_age['Age'], nonnull_female_age['Age'], equal_var=False))"
   ]
  },
  {
   "cell_type": "markdown",
   "metadata": {},
   "source": [
    "The results for the t-test are displayed above, accounting for the unequal variance of the distibutions. With a p-value under 0.05, we can reject the null hypothesis and accept the alternate hypothesis that a signficant difference exists between male and female age. Next, we will explore the extent of this significant difference."
   ]
  },
  {
   "cell_type": "code",
   "execution_count": 30,
   "metadata": {},
   "outputs": [
    {
     "data": {
      "text/plain": [
       "Text(0.5, 1.0, 'Average Age by Gender')"
      ]
     },
     "execution_count": 30,
     "metadata": {},
     "output_type": "execute_result"
    },
    {
     "data": {
      "image/png": "[encoded data removed]",
      "text/plain": [
       "<Figure size 432x288 with 1 Axes>"
      ]
     },
     "metadata": {
      "needs_background": "light"
     },
     "output_type": "display_data"
    }
   ],
   "source": [
    "x = ['Male', 'Female']\n",
    "y = [np.array(nonnull_male_age.Age).mean(),np.array(nonnull_female_age.Age).mean()]\n",
    "plt.bar(x,y,color=('#219AD8','#F5B7B1'))\n",
    "plt.ylabel('Age')\n",
    "plt.xlabel('Gender')\n",
    "plt.title('Average Age by Gender')"
   ]
  },
  {
   "cell_type": "code",
   "execution_count": 31,
   "metadata": {},
   "outputs": [
    {
     "name": "stdout",
     "output_type": "stream",
     "text": [
      "Average Male Age 26.277561532227104\n",
      "Average Female Height 23.732880779508218\n",
      "Difference in Means 2.544680752718886\n"
     ]
    }
   ],
   "source": [
    "print('Average Male Age',np.array(nonnull_male_age.Age).mean())\n",
    "print('Average Female Height',np.array(nonnull_female_age.Age).mean())\n",
    "print('Difference in Means',np.array(nonnull_male_age.Age).mean()-np.array(nonnull_female_age.Age).mean())"
   ]
  },
  {
   "cell_type": "code",
   "execution_count": 32,
   "metadata": {},
   "outputs": [
    {
     "data": {
      "text/plain": [
       "0.40456555767392255"
      ]
     },
     "execution_count": 32,
     "metadata": {},
     "output_type": "execute_result"
    }
   ],
   "source": [
    "Cohen_d(np.array(nonnull_male_age.Age),np.array(nonnull_female_age.Age))"
   ]
  },
  {
   "cell_type": "markdown",
   "metadata": {},
   "source": [
    "With a difference in mean age of 2.54 years, the distributions for male and female age lie 0.405 standard deviations apart, allowing us to claim a **small** effect size in the age difference. Male and female athlete age are indeed significantly different, but only to a small extent!"
   ]
  },
  {
   "cell_type": "markdown",
   "metadata": {},
   "source": [
    "## How has the proportion of male and female athletes changed over time?"
   ]
  },
  {
   "cell_type": "markdown",
   "metadata": {},
   "source": [
    "Although the full history of the modern Olympic Games has 1/3 as many female as male athletes, let's determine if the gender composition of the games has truly changed over time. First, we'll reorganize the data a bit to prepare for our visualization."
   ]
  },
  {
   "cell_type": "code",
   "execution_count": 30,
   "metadata": {},
   "outputs": [],
   "source": [
    "to_graph = data[['Year','Sex']]"
   ]
  },
  {
   "cell_type": "code",
   "execution_count": 31,
   "metadata": {},
   "outputs": [],
   "source": [
    "to_graph = pd.get_dummies(to_graph)"
   ]
  },
  {
   "cell_type": "code",
   "execution_count": 32,
   "metadata": {},
   "outputs": [
    {
     "data": {
      "text/plain": [
       "271116"
      ]
     },
     "execution_count": 32,
     "metadata": {},
     "output_type": "execute_result"
    }
   ],
   "source": [
    "len(to_graph)"
   ]
  },
  {
   "cell_type": "code",
   "execution_count": 33,
   "metadata": {},
   "outputs": [],
   "source": [
    "to_graph = to_graph.groupby(['Year']).sum()"
   ]
  },
  {
   "cell_type": "code",
   "execution_count": 34,
   "metadata": {},
   "outputs": [],
   "source": [
    "to_graph.reset_index(inplace=True)"
   ]
  },
  {
   "cell_type": "code",
   "execution_count": 38,
   "metadata": {
    "scrolled": true
   },
   "outputs": [
    {
     "data": {
      "text/html": [
       "<div>\n",
       "<style scoped>\n",
       "    .dataframe tbody tr th:only-of-type {\n",
       "        vertical-align: middle;\n",
       "    }\n",
       "\n",
       "    .dataframe tbody tr th {\n",
       "        vertical-align: top;\n",
       "    }\n",
       "\n",
       "    .dataframe thead th {\n",
       "        text-align: right;\n",
       "    }\n",
       "</style>\n",
       "<table border=\"1\" class=\"dataframe\">\n",
       "  <thead>\n",
       "    <tr style=\"text-align: right;\">\n",
       "      <th></th>\n",
       "      <th>Year</th>\n",
       "      <th>Sex_F</th>\n",
       "      <th>Sex_M</th>\n",
       "    </tr>\n",
       "  </thead>\n",
       "  <tbody>\n",
       "    <tr>\n",
       "      <th>0</th>\n",
       "      <td>1896</td>\n",
       "      <td>0.0</td>\n",
       "      <td>380.0</td>\n",
       "    </tr>\n",
       "    <tr>\n",
       "      <th>1</th>\n",
       "      <td>1900</td>\n",
       "      <td>33.0</td>\n",
       "      <td>1903.0</td>\n",
       "    </tr>\n",
       "    <tr>\n",
       "      <th>2</th>\n",
       "      <td>1904</td>\n",
       "      <td>16.0</td>\n",
       "      <td>1285.0</td>\n",
       "    </tr>\n",
       "    <tr>\n",
       "      <th>3</th>\n",
       "      <td>1906</td>\n",
       "      <td>11.0</td>\n",
       "      <td>1722.0</td>\n",
       "    </tr>\n",
       "    <tr>\n",
       "      <th>4</th>\n",
       "      <td>1908</td>\n",
       "      <td>47.0</td>\n",
       "      <td>3054.0</td>\n",
       "    </tr>\n",
       "    <tr>\n",
       "      <th>5</th>\n",
       "      <td>1912</td>\n",
       "      <td>87.0</td>\n",
       "      <td>3953.0</td>\n",
       "    </tr>\n",
       "    <tr>\n",
       "      <th>6</th>\n",
       "      <td>1920</td>\n",
       "      <td>134.0</td>\n",
       "      <td>4158.0</td>\n",
       "    </tr>\n",
       "    <tr>\n",
       "      <th>7</th>\n",
       "      <td>1924</td>\n",
       "      <td>261.0</td>\n",
       "      <td>5432.0</td>\n",
       "    </tr>\n",
       "    <tr>\n",
       "      <th>8</th>\n",
       "      <td>1928</td>\n",
       "      <td>437.0</td>\n",
       "      <td>5137.0</td>\n",
       "    </tr>\n",
       "    <tr>\n",
       "      <th>9</th>\n",
       "      <td>1932</td>\n",
       "      <td>369.0</td>\n",
       "      <td>2952.0</td>\n",
       "    </tr>\n",
       "    <tr>\n",
       "      <th>10</th>\n",
       "      <td>1936</td>\n",
       "      <td>549.0</td>\n",
       "      <td>6852.0</td>\n",
       "    </tr>\n",
       "    <tr>\n",
       "      <th>11</th>\n",
       "      <td>1948</td>\n",
       "      <td>761.0</td>\n",
       "      <td>6719.0</td>\n",
       "    </tr>\n",
       "    <tr>\n",
       "      <th>12</th>\n",
       "      <td>1952</td>\n",
       "      <td>1682.0</td>\n",
       "      <td>7676.0</td>\n",
       "    </tr>\n",
       "    <tr>\n",
       "      <th>13</th>\n",
       "      <td>1956</td>\n",
       "      <td>1139.0</td>\n",
       "      <td>5295.0</td>\n",
       "    </tr>\n",
       "    <tr>\n",
       "      <th>14</th>\n",
       "      <td>1960</td>\n",
       "      <td>1730.0</td>\n",
       "      <td>7505.0</td>\n",
       "    </tr>\n",
       "    <tr>\n",
       "      <th>15</th>\n",
       "      <td>1964</td>\n",
       "      <td>1752.0</td>\n",
       "      <td>7728.0</td>\n",
       "    </tr>\n",
       "    <tr>\n",
       "      <th>16</th>\n",
       "      <td>1968</td>\n",
       "      <td>2193.0</td>\n",
       "      <td>8286.0</td>\n",
       "    </tr>\n",
       "    <tr>\n",
       "      <th>17</th>\n",
       "      <td>1972</td>\n",
       "      <td>2608.0</td>\n",
       "      <td>9351.0</td>\n",
       "    </tr>\n",
       "    <tr>\n",
       "      <th>18</th>\n",
       "      <td>1976</td>\n",
       "      <td>2606.0</td>\n",
       "      <td>7896.0</td>\n",
       "    </tr>\n",
       "    <tr>\n",
       "      <th>19</th>\n",
       "      <td>1980</td>\n",
       "      <td>2186.0</td>\n",
       "      <td>6751.0</td>\n",
       "    </tr>\n",
       "    <tr>\n",
       "      <th>20</th>\n",
       "      <td>1984</td>\n",
       "      <td>2983.0</td>\n",
       "      <td>8605.0</td>\n",
       "    </tr>\n",
       "    <tr>\n",
       "      <th>21</th>\n",
       "      <td>1988</td>\n",
       "      <td>4223.0</td>\n",
       "      <td>10453.0</td>\n",
       "    </tr>\n",
       "    <tr>\n",
       "      <th>22</th>\n",
       "      <td>1992</td>\n",
       "      <td>5178.0</td>\n",
       "      <td>11235.0</td>\n",
       "    </tr>\n",
       "    <tr>\n",
       "      <th>23</th>\n",
       "      <td>1994</td>\n",
       "      <td>1105.0</td>\n",
       "      <td>2055.0</td>\n",
       "    </tr>\n",
       "    <tr>\n",
       "      <th>24</th>\n",
       "      <td>1996</td>\n",
       "      <td>5008.0</td>\n",
       "      <td>8772.0</td>\n",
       "    </tr>\n",
       "    <tr>\n",
       "      <th>25</th>\n",
       "      <td>1998</td>\n",
       "      <td>1384.0</td>\n",
       "      <td>2221.0</td>\n",
       "    </tr>\n",
       "    <tr>\n",
       "      <th>26</th>\n",
       "      <td>2000</td>\n",
       "      <td>5431.0</td>\n",
       "      <td>8390.0</td>\n",
       "    </tr>\n",
       "    <tr>\n",
       "      <th>27</th>\n",
       "      <td>2002</td>\n",
       "      <td>1582.0</td>\n",
       "      <td>2527.0</td>\n",
       "    </tr>\n",
       "    <tr>\n",
       "      <th>28</th>\n",
       "      <td>2004</td>\n",
       "      <td>5546.0</td>\n",
       "      <td>7897.0</td>\n",
       "    </tr>\n",
       "    <tr>\n",
       "      <th>29</th>\n",
       "      <td>2006</td>\n",
       "      <td>1757.0</td>\n",
       "      <td>2625.0</td>\n",
       "    </tr>\n",
       "    <tr>\n",
       "      <th>30</th>\n",
       "      <td>2008</td>\n",
       "      <td>5816.0</td>\n",
       "      <td>7786.0</td>\n",
       "    </tr>\n",
       "    <tr>\n",
       "      <th>31</th>\n",
       "      <td>2010</td>\n",
       "      <td>1847.0</td>\n",
       "      <td>2555.0</td>\n",
       "    </tr>\n",
       "    <tr>\n",
       "      <th>32</th>\n",
       "      <td>2012</td>\n",
       "      <td>5815.0</td>\n",
       "      <td>7105.0</td>\n",
       "    </tr>\n",
       "    <tr>\n",
       "      <th>33</th>\n",
       "      <td>2014</td>\n",
       "      <td>2023.0</td>\n",
       "      <td>2868.0</td>\n",
       "    </tr>\n",
       "    <tr>\n",
       "      <th>34</th>\n",
       "      <td>2016</td>\n",
       "      <td>6223.0</td>\n",
       "      <td>7465.0</td>\n",
       "    </tr>\n",
       "  </tbody>\n",
       "</table>\n",
       "</div>"
      ],
      "text/plain": [
       "    Year   Sex_F    Sex_M\n",
       "0   1896     0.0    380.0\n",
       "1   1900    33.0   1903.0\n",
       "2   1904    16.0   1285.0\n",
       "3   1906    11.0   1722.0\n",
       "4   1908    47.0   3054.0\n",
       "5   1912    87.0   3953.0\n",
       "6   1920   134.0   4158.0\n",
       "7   1924   261.0   5432.0\n",
       "8   1928   437.0   5137.0\n",
       "9   1932   369.0   2952.0\n",
       "10  1936   549.0   6852.0\n",
       "11  1948   761.0   6719.0\n",
       "12  1952  1682.0   7676.0\n",
       "13  1956  1139.0   5295.0\n",
       "14  1960  1730.0   7505.0\n",
       "15  1964  1752.0   7728.0\n",
       "16  1968  2193.0   8286.0\n",
       "17  1972  2608.0   9351.0\n",
       "18  1976  2606.0   7896.0\n",
       "19  1980  2186.0   6751.0\n",
       "20  1984  2983.0   8605.0\n",
       "21  1988  4223.0  10453.0\n",
       "22  1992  5178.0  11235.0\n",
       "23  1994  1105.0   2055.0\n",
       "24  1996  5008.0   8772.0\n",
       "25  1998  1384.0   2221.0\n",
       "26  2000  5431.0   8390.0\n",
       "27  2002  1582.0   2527.0\n",
       "28  2004  5546.0   7897.0\n",
       "29  2006  1757.0   2625.0\n",
       "30  2008  5816.0   7786.0\n",
       "31  2010  1847.0   2555.0\n",
       "32  2012  5815.0   7105.0\n",
       "33  2014  2023.0   2868.0\n",
       "34  2016  6223.0   7465.0"
      ]
     },
     "execution_count": 38,
     "metadata": {},
     "output_type": "execute_result"
    }
   ],
   "source": [
    "to_graph"
   ]
  },
  {
   "cell_type": "markdown",
   "metadata": {},
   "source": [
    "With a total count of female and male athletes for each year of the modern Olympic Games, we'll create a bar graph below that illustrates how this composition has shifted over time."
   ]
  },
  {
   "cell_type": "code",
   "execution_count": 37,
   "metadata": {},
   "outputs": [
    {
     "data": {
      "image/png": "[encoded data removed]",
      "text/plain": [
       "<Figure size 1440x720 with 1 Axes>"
      ]
     },
     "metadata": {
      "needs_background": "light"
     },
     "output_type": "display_data"
    }
   ],
   "source": [
    "# Create a figure with a single subplot\n",
    "f, ax = plt.subplots(1, figsize=(20,10))\n",
    "\n",
    "# Set bar width at 1\n",
    "bar_width = 1\n",
    "\n",
    "# positions of the left bar-boundaries\n",
    "bar_l = [i for i in range(len(to_graph['Sex_F']))] \n",
    "\n",
    "# positions of the x-axis ticks (center of the bars as bar labels)\n",
    "tick_pos = [i+(bar_width/2) for i in bar_l] \n",
    "\n",
    "# Create the total score for each participant\n",
    "totals = [i+j for i,j in zip(to_graph['Sex_F'], to_graph['Sex_M'])]\n",
    "\n",
    "# Create the percentage of the total score the pre_score value for each participant was\n",
    "pre_rel = [i / j * 100 for  i,j in zip(to_graph['Sex_F'], totals)]\n",
    "\n",
    "# Create the percentage of the total score the post_score value for each participant was\n",
    "post_rel = [i / j * 100 for  i,j in zip(to_graph['Sex_M'], totals)]\n",
    "\n",
    "# Create a bar chart in position bar_1\n",
    "ax.bar(bar_l,pre_rel,label='Females', alpha=0.9, color='#F5B7B1',width=bar_width,edgecolor='white')\n",
    "\n",
    "# Create a bar chart in position bar_1\n",
    "ax.bar(bar_l,post_rel,bottom=pre_rel,label='Males',alpha=0.9,color='#219AD8',width=bar_width,edgecolor='white')\n",
    "\n",
    "# Set the ticks to be first names\n",
    "plt.xticks(tick_pos, to_graph['Year'])\n",
    "ax.set_ylabel(\"Percentage\",size=20)\n",
    "ax.set_xlabel(\"Year\",size=20)\n",
    "plt.title('Proportion of Male and Female Athletes Over Time',size=25)\n",
    "\n",
    "# Let the borders of the graphic\n",
    "plt.xlim([min(tick_pos)-bar_width, max(tick_pos)+bar_width])\n",
    "plt.ylim(-10, 110)\n",
    "\n",
    "# rotate axis labels\n",
    "plt.setp(plt.gca().get_xticklabels(), rotation=45, horizontalalignment='right')\n",
    "\n",
    "# shot plot\n",
    "plt.show()"
   ]
  },
  {
   "cell_type": "markdown",
   "metadata": {},
   "source": [
    "As the barplot above illuminates, female participation in the games truly has increased throughout Olympic history. Some dips in the percentage of female athletes are present throughout the past 124 years, but overall the graph shows a trend of increased female composition. Although not quite yet at an even 50/50 split, the IOC's recent announcement setting the goal to reach this benchmark may finally make this possible!"
   ]
  },
  {
   "cell_type": "code",
   "execution_count": 55,
   "metadata": {},
   "outputs": [
    {
     "data": {
      "text/plain": [
       "Text(0.5, 1.0, 'Distribution of Male and Female Athletes Over Time')"
      ]
     },
     "execution_count": 55,
     "metadata": {},
     "output_type": "execute_result"
    },
    {
     "data": {
      "image/png": "[encoded data removed]",
      "text/plain": [
       "<Figure size 1440x720 with 1 Axes>"
      ]
     },
     "metadata": {
      "needs_background": "light"
     },
     "output_type": "display_data"
    }
   ],
   "source": [
    "plt.figure(figsize=(20, 10))\n",
    "my_pal={\"M\":'#219AD8',\"F\":'#F5B7B1'}\n",
    "sns.boxplot(x=\"Sex\", y=\"Year\", data=data, palette=my_pal)\n",
    "plt.xlabel('Gender',size=20)\n",
    "plt.xticks(size=15)\n",
    "plt.yticks(size=15)\n",
    "plt.ylabel('Year',size=20)\n",
    "plt.title('Distribution of Male and Female Athletes Over Time',size=25)"
   ]
  },
  {
   "cell_type": "markdown",
   "metadata": {},
   "source": [
    "The boxplot above highlights that female athletes are considered outliers in the Olympic Games until approximately 1952. Since then, nearly 75% of female athletes did not participate until after 1984. While the male distribution demonstrates that some of this is normal, as the size of the games has increased over time. However, based upon the differences in distributions, it remains clear that women have had to fight much harder to participate in the games. However, the perseverance and dedication to this cause has been well worth the fight, as we observe the victory and continued success in increased gender equality at the Olympics."
   ]
  },
  {
   "cell_type": "markdown",
   "metadata": {},
   "source": [
    "## Which countries boast the greatest gender equality based on female participation?"
   ]
  },
  {
   "cell_type": "markdown",
   "metadata": {},
   "source": [
    "Given the widely varying levels of gender equality and progressiveness across different countries, we can expect that differences likely exist between the amount of female athlete participation based on country. Below, we will create a dataframe for mapping that counts the total number of female and male athletes per country code. We will subseqeuntly create a dataframe that computes the proportion of each country's athletes that are female. By utilizing plotly to map this data, we will be able to visualize which countries have come the furthest in terms of gender equality at the Olympic Games."
   ]
  },
  {
   "cell_type": "code",
   "execution_count": 56,
   "metadata": {},
   "outputs": [
    {
     "data": {
      "text/html": [
       "        <script type=\"text/javascript\">\n",
       "        window.PlotlyConfig = {MathJaxConfig: 'local'};\n",
       "        if (window.MathJax) {MathJax.Hub.Config({SVG: {font: \"STIX-Web\"}});}\n",
       "        if (typeof require !== 'undefined') {\n",
       "        require.undef(\"plotly\");\n",
       "        requirejs.config({\n",
       "            paths: {\n",
       "                'plotly': ['https://cdn.plot.ly/plotly-latest.min']\n",
       "            }\n",
       "        });\n",
       "        require(['plotly'], function(Plotly) {\n",
       "            window._Plotly = Plotly;\n",
       "        });\n",
       "        }\n",
       "        </script>\n",
       "        "
      ]
     },
     "metadata": {},
     "output_type": "display_data"
    }
   ],
   "source": [
    "import chart_studio.plotly as py\n",
    "import plotly.graph_objs as go\n",
    "import plotly.figure_factory as ff\n",
    "from plotly import tools\n",
    "from plotly.offline import download_plotlyjs, init_notebook_mode, plot, iplot\n",
    "init_notebook_mode(connected=True)"
   ]
  },
  {
   "cell_type": "markdown",
   "metadata": {},
   "source": [
    "First, we create a pivot table that counts the number of \"F\" and \"M\" athletes per NOC code."
   ]
  },
  {
   "cell_type": "code",
   "execution_count": 57,
   "metadata": {},
   "outputs": [],
   "source": [
    "country_gender = data.pivot_table(index='NOC', values='Name', columns='Sex', aggfunc='count')"
   ]
  },
  {
   "cell_type": "code",
   "execution_count": 58,
   "metadata": {},
   "outputs": [
    {
     "data": {
      "text/html": [
       "<div>\n",
       "<style scoped>\n",
       "    .dataframe tbody tr th:only-of-type {\n",
       "        vertical-align: middle;\n",
       "    }\n",
       "\n",
       "    .dataframe tbody tr th {\n",
       "        vertical-align: top;\n",
       "    }\n",
       "\n",
       "    .dataframe thead th {\n",
       "        text-align: right;\n",
       "    }\n",
       "</style>\n",
       "<table border=\"1\" class=\"dataframe\">\n",
       "  <thead>\n",
       "    <tr style=\"text-align: right;\">\n",
       "      <th>Sex</th>\n",
       "      <th>F</th>\n",
       "      <th>M</th>\n",
       "    </tr>\n",
       "    <tr>\n",
       "      <th>NOC</th>\n",
       "      <th></th>\n",
       "      <th></th>\n",
       "    </tr>\n",
       "  </thead>\n",
       "  <tbody>\n",
       "    <tr>\n",
       "      <th>AFG</th>\n",
       "      <td>5.0</td>\n",
       "      <td>121.0</td>\n",
       "    </tr>\n",
       "    <tr>\n",
       "      <th>AHO</th>\n",
       "      <td>12.0</td>\n",
       "      <td>67.0</td>\n",
       "    </tr>\n",
       "    <tr>\n",
       "      <th>ALB</th>\n",
       "      <td>27.0</td>\n",
       "      <td>43.0</td>\n",
       "    </tr>\n",
       "    <tr>\n",
       "      <th>ALG</th>\n",
       "      <td>94.0</td>\n",
       "      <td>457.0</td>\n",
       "    </tr>\n",
       "    <tr>\n",
       "      <th>AND</th>\n",
       "      <td>42.0</td>\n",
       "      <td>127.0</td>\n",
       "    </tr>\n",
       "  </tbody>\n",
       "</table>\n",
       "</div>"
      ],
      "text/plain": [
       "Sex     F      M\n",
       "NOC             \n",
       "AFG   5.0  121.0\n",
       "AHO  12.0   67.0\n",
       "ALB  27.0   43.0\n",
       "ALG  94.0  457.0\n",
       "AND  42.0  127.0"
      ]
     },
     "execution_count": 58,
     "metadata": {},
     "output_type": "execute_result"
    }
   ],
   "source": [
    "country_gender.head()"
   ]
  },
  {
   "cell_type": "code",
   "execution_count": 59,
   "metadata": {},
   "outputs": [
    {
     "data": {
      "text/plain": [
       "Sex\n",
       "F    8\n",
       "M    0\n",
       "dtype: int64"
      ]
     },
     "execution_count": 59,
     "metadata": {},
     "output_type": "execute_result"
    }
   ],
   "source": [
    "country_gender.isna().sum()"
   ]
  },
  {
   "cell_type": "markdown",
   "metadata": {},
   "source": [
    "It appears that 8 countries have never had a female athlete in the modern Olympic Games. We will fill these null values with 0 below."
   ]
  },
  {
   "cell_type": "code",
   "execution_count": 60,
   "metadata": {},
   "outputs": [],
   "source": [
    "country_gender.fillna(0,inplace=True)"
   ]
  },
  {
   "cell_type": "code",
   "execution_count": 61,
   "metadata": {},
   "outputs": [],
   "source": [
    "country_codes = pd.read_csv('noc_regions.csv')"
   ]
  },
  {
   "cell_type": "markdown",
   "metadata": {},
   "source": [
    "By merging our pivot table from above with the data for country codes with specified regions, we can add country names for each of our rows."
   ]
  },
  {
   "cell_type": "code",
   "execution_count": 62,
   "metadata": {},
   "outputs": [],
   "source": [
    "country_gender_final = pd.merge(country_gender, country_codes, on='NOC')"
   ]
  },
  {
   "cell_type": "code",
   "execution_count": 63,
   "metadata": {},
   "outputs": [],
   "source": [
    "to_drop = ['notes']\n",
    "country_gender_final.drop(to_drop, axis=1, inplace=True)"
   ]
  },
  {
   "cell_type": "code",
   "execution_count": 64,
   "metadata": {},
   "outputs": [
    {
     "data": {
      "text/plain": [
       "Germany           4\n",
       "Russia            3\n",
       "Czech Republic    3\n",
       "Serbia            3\n",
       "Yemen             3\n",
       "Malaysia          3\n",
       "Trinidad          2\n",
       "Syria             2\n",
       "Vietnam           2\n",
       "Zimbabwe          2\n",
       "Australia         2\n",
       "Canada            2\n",
       "Greece            2\n",
       "China             2\n",
       "Turkmenistan      1\n",
       "Name: region, dtype: int64"
      ]
     },
     "execution_count": 64,
     "metadata": {},
     "output_type": "execute_result"
    }
   ],
   "source": [
    "country_gender_final.region.value_counts().head(15)"
   ]
  },
  {
   "cell_type": "markdown",
   "metadata": {},
   "source": [
    "Similar to our mapping work in another section (5. Exploring Countries), we must deal with countries that have used multiple NOC codes given shifiting politics throughout the history of the Olympic Games. Since the number of countries in this situation is fairly low (14), we will manually correct this issue by creating a single row that sums the values for each country's multiple codes, so that we can correctly map the data."
   ]
  },
  {
   "cell_type": "code",
   "execution_count": 66,
   "metadata": {},
   "outputs": [
    {
     "data": {
      "text/html": [
       "<div>\n",
       "<style scoped>\n",
       "    .dataframe tbody tr th:only-of-type {\n",
       "        vertical-align: middle;\n",
       "    }\n",
       "\n",
       "    .dataframe tbody tr th {\n",
       "        vertical-align: top;\n",
       "    }\n",
       "\n",
       "    .dataframe thead th {\n",
       "        text-align: right;\n",
       "    }\n",
       "</style>\n",
       "<table border=\"1\" class=\"dataframe\">\n",
       "  <thead>\n",
       "    <tr style=\"text-align: right;\">\n",
       "      <th></th>\n",
       "      <th>NOC</th>\n",
       "      <th>F</th>\n",
       "      <th>M</th>\n",
       "      <th>region</th>\n",
       "    </tr>\n",
       "  </thead>\n",
       "  <tbody>\n",
       "    <tr>\n",
       "      <th>70</th>\n",
       "      <td>FRG</td>\n",
       "      <td>912.0</td>\n",
       "      <td>2403.0</td>\n",
       "      <td>Germany</td>\n",
       "    </tr>\n",
       "    <tr>\n",
       "      <th>76</th>\n",
       "      <td>GDR</td>\n",
       "      <td>931.0</td>\n",
       "      <td>1714.0</td>\n",
       "      <td>Germany</td>\n",
       "    </tr>\n",
       "    <tr>\n",
       "      <th>79</th>\n",
       "      <td>GER</td>\n",
       "      <td>2999.0</td>\n",
       "      <td>6831.0</td>\n",
       "      <td>Germany</td>\n",
       "    </tr>\n",
       "    <tr>\n",
       "      <th>173</th>\n",
       "      <td>SAA</td>\n",
       "      <td>7.0</td>\n",
       "      <td>86.0</td>\n",
       "      <td>Germany</td>\n",
       "    </tr>\n",
       "  </tbody>\n",
       "</table>\n",
       "</div>"
      ],
      "text/plain": [
       "     NOC       F       M   region\n",
       "70   FRG   912.0  2403.0  Germany\n",
       "76   GDR   931.0  1714.0  Germany\n",
       "79   GER  2999.0  6831.0  Germany\n",
       "173  SAA     7.0    86.0  Germany"
      ]
     },
     "execution_count": 66,
     "metadata": {},
     "output_type": "execute_result"
    }
   ],
   "source": [
    "country_gender_final[country_gender_final.region=='Germany']"
   ]
  },
  {
   "cell_type": "code",
   "execution_count": 81,
   "metadata": {},
   "outputs": [
    {
     "data": {
      "text/plain": [
       "NOC           CHNHKG\n",
       "F               2992\n",
       "M               2834\n",
       "region    ChinaChina\n",
       "dtype: object"
      ]
     },
     "execution_count": 81,
     "metadata": {},
     "output_type": "execute_result"
    }
   ],
   "source": [
    "country_gender_final[country_gender_final.region=='China'].sum()"
   ]
  },
  {
   "cell_type": "code",
   "execution_count": 83,
   "metadata": {},
   "outputs": [],
   "source": [
    "to_append = pd.DataFrame([['GER',4849,11034,'Germany'],\n",
    "                          ['YEM',4,44, 'Yemen'],\n",
    "                          ['YUG',575,2721,'Serbia'],\n",
    "                          ['TCH',1603,4828, 'Czech Republic'],\n",
    "                          ['RUS',4105,7587, 'Russia'],\n",
    "                          ['MAS',102,475, 'Malaysia'],\n",
    "                          ['GRE',655,2537, 'Greece'],\n",
    "                          ['TTO',80,315, 'Trinidad'],\n",
    "                          ['VIE',76,140, 'Vietnam'],\n",
    "                          ['ZIM',114,209, 'Zimbabwe'],\n",
    "                          ['AUS',2751,4973, 'Australia'],\n",
    "                          ['SYR',17,262, 'Syria'],\n",
    "                          ['CAN',3563,6171, 'Canada'],\n",
    "                          ['CHN',2992,2834, 'China'],\n",
    "                         ], columns=['NOC','F','M','region'])"
   ]
  },
  {
   "cell_type": "code",
   "execution_count": 82,
   "metadata": {},
   "outputs": [],
   "source": [
    "country_gender_map = country_gender_final.copy()"
   ]
  },
  {
   "cell_type": "markdown",
   "metadata": {},
   "source": [
    "We will drop the original rows and append the new data that we created above."
   ]
  },
  {
   "cell_type": "code",
   "execution_count": 84,
   "metadata": {},
   "outputs": [],
   "source": [
    "to_drop = ['Germany','Yemen','Serbia','Czech Republic','Russia','Malaysia','Greece','Trinidad','Zimbabwe','Australia','Syria','Canada','China']\n",
    "for country in to_drop:\n",
    "    country_gender_map.drop(country_gender_map.index[country_gender_map['region'] == country], inplace = True)"
   ]
  },
  {
   "cell_type": "code",
   "execution_count": 85,
   "metadata": {},
   "outputs": [
    {
     "data": {
      "text/html": [
       "<div>\n",
       "<style scoped>\n",
       "    .dataframe tbody tr th:only-of-type {\n",
       "        vertical-align: middle;\n",
       "    }\n",
       "\n",
       "    .dataframe tbody tr th {\n",
       "        vertical-align: top;\n",
       "    }\n",
       "\n",
       "    .dataframe thead th {\n",
       "        text-align: right;\n",
       "    }\n",
       "</style>\n",
       "<table border=\"1\" class=\"dataframe\">\n",
       "  <thead>\n",
       "    <tr style=\"text-align: right;\">\n",
       "      <th></th>\n",
       "      <th>NOC</th>\n",
       "      <th>F</th>\n",
       "      <th>M</th>\n",
       "      <th>region</th>\n",
       "    </tr>\n",
       "  </thead>\n",
       "  <tbody>\n",
       "  </tbody>\n",
       "</table>\n",
       "</div>"
      ],
      "text/plain": [
       "Empty DataFrame\n",
       "Columns: [NOC, F, M, region]\n",
       "Index: []"
      ]
     },
     "execution_count": 85,
     "metadata": {},
     "output_type": "execute_result"
    }
   ],
   "source": [
    "country_gender_map[country_gender_map.region=='Russia']"
   ]
  },
  {
   "cell_type": "code",
   "execution_count": 86,
   "metadata": {},
   "outputs": [],
   "source": [
    "country_gender_map = country_gender_map.append(to_append,ignore_index=True)"
   ]
  },
  {
   "cell_type": "code",
   "execution_count": 88,
   "metadata": {
    "scrolled": false
   },
   "outputs": [
    {
     "data": {
      "text/html": [
       "<div>\n",
       "<style scoped>\n",
       "    .dataframe tbody tr th:only-of-type {\n",
       "        vertical-align: middle;\n",
       "    }\n",
       "\n",
       "    .dataframe tbody tr th {\n",
       "        vertical-align: top;\n",
       "    }\n",
       "\n",
       "    .dataframe thead th {\n",
       "        text-align: right;\n",
       "    }\n",
       "</style>\n",
       "<table border=\"1\" class=\"dataframe\">\n",
       "  <thead>\n",
       "    <tr style=\"text-align: right;\">\n",
       "      <th></th>\n",
       "      <th>NOC</th>\n",
       "      <th>F</th>\n",
       "      <th>M</th>\n",
       "      <th>region</th>\n",
       "    </tr>\n",
       "  </thead>\n",
       "  <tbody>\n",
       "    <tr>\n",
       "      <th>195</th>\n",
       "      <td>ZAM</td>\n",
       "      <td>19.0</td>\n",
       "      <td>164.0</td>\n",
       "      <td>Zambia</td>\n",
       "    </tr>\n",
       "    <tr>\n",
       "      <th>196</th>\n",
       "      <td>GER</td>\n",
       "      <td>4849.0</td>\n",
       "      <td>11034.0</td>\n",
       "      <td>Germany</td>\n",
       "    </tr>\n",
       "    <tr>\n",
       "      <th>197</th>\n",
       "      <td>YEM</td>\n",
       "      <td>4.0</td>\n",
       "      <td>44.0</td>\n",
       "      <td>Yemen</td>\n",
       "    </tr>\n",
       "    <tr>\n",
       "      <th>198</th>\n",
       "      <td>YUG</td>\n",
       "      <td>575.0</td>\n",
       "      <td>2721.0</td>\n",
       "      <td>Serbia</td>\n",
       "    </tr>\n",
       "    <tr>\n",
       "      <th>199</th>\n",
       "      <td>TCH</td>\n",
       "      <td>1603.0</td>\n",
       "      <td>4828.0</td>\n",
       "      <td>Czech Republic</td>\n",
       "    </tr>\n",
       "    <tr>\n",
       "      <th>200</th>\n",
       "      <td>RUS</td>\n",
       "      <td>4105.0</td>\n",
       "      <td>7587.0</td>\n",
       "      <td>Russia</td>\n",
       "    </tr>\n",
       "    <tr>\n",
       "      <th>201</th>\n",
       "      <td>MAS</td>\n",
       "      <td>102.0</td>\n",
       "      <td>475.0</td>\n",
       "      <td>Malaysia</td>\n",
       "    </tr>\n",
       "    <tr>\n",
       "      <th>202</th>\n",
       "      <td>GRE</td>\n",
       "      <td>655.0</td>\n",
       "      <td>2537.0</td>\n",
       "      <td>Greece</td>\n",
       "    </tr>\n",
       "    <tr>\n",
       "      <th>203</th>\n",
       "      <td>TTO</td>\n",
       "      <td>80.0</td>\n",
       "      <td>315.0</td>\n",
       "      <td>Trinidad</td>\n",
       "    </tr>\n",
       "    <tr>\n",
       "      <th>204</th>\n",
       "      <td>VIE</td>\n",
       "      <td>76.0</td>\n",
       "      <td>140.0</td>\n",
       "      <td>Vietnam</td>\n",
       "    </tr>\n",
       "    <tr>\n",
       "      <th>205</th>\n",
       "      <td>ZIM</td>\n",
       "      <td>114.0</td>\n",
       "      <td>209.0</td>\n",
       "      <td>Zimbabwe</td>\n",
       "    </tr>\n",
       "    <tr>\n",
       "      <th>206</th>\n",
       "      <td>AUS</td>\n",
       "      <td>2751.0</td>\n",
       "      <td>4973.0</td>\n",
       "      <td>Australia</td>\n",
       "    </tr>\n",
       "    <tr>\n",
       "      <th>207</th>\n",
       "      <td>SYR</td>\n",
       "      <td>17.0</td>\n",
       "      <td>262.0</td>\n",
       "      <td>Syria</td>\n",
       "    </tr>\n",
       "    <tr>\n",
       "      <th>208</th>\n",
       "      <td>CAN</td>\n",
       "      <td>3563.0</td>\n",
       "      <td>6171.0</td>\n",
       "      <td>Canada</td>\n",
       "    </tr>\n",
       "    <tr>\n",
       "      <th>209</th>\n",
       "      <td>CHN</td>\n",
       "      <td>2992.0</td>\n",
       "      <td>2834.0</td>\n",
       "      <td>China</td>\n",
       "    </tr>\n",
       "  </tbody>\n",
       "</table>\n",
       "</div>"
      ],
      "text/plain": [
       "     NOC       F        M          region\n",
       "195  ZAM    19.0    164.0          Zambia\n",
       "196  GER  4849.0  11034.0         Germany\n",
       "197  YEM     4.0     44.0           Yemen\n",
       "198  YUG   575.0   2721.0          Serbia\n",
       "199  TCH  1603.0   4828.0  Czech Republic\n",
       "200  RUS  4105.0   7587.0          Russia\n",
       "201  MAS   102.0    475.0        Malaysia\n",
       "202  GRE   655.0   2537.0          Greece\n",
       "203  TTO    80.0    315.0        Trinidad\n",
       "204  VIE    76.0    140.0         Vietnam\n",
       "205  ZIM   114.0    209.0        Zimbabwe\n",
       "206  AUS  2751.0   4973.0       Australia\n",
       "207  SYR    17.0    262.0           Syria\n",
       "208  CAN  3563.0   6171.0          Canada\n",
       "209  CHN  2992.0   2834.0           China"
      ]
     },
     "execution_count": 88,
     "metadata": {},
     "output_type": "execute_result"
    }
   ],
   "source": [
    "country_gender_map.tail(15)"
   ]
  },
  {
   "cell_type": "markdown",
   "metadata": {},
   "source": [
    "By observing the tail of the dataframe, we can see that all of our new row were added correctly. Now, we can proceed with mapping our data!"
   ]
  },
  {
   "cell_type": "code",
   "execution_count": 93,
   "metadata": {},
   "outputs": [],
   "source": [
    "country_gender_map.columns = ('NOC','Female','Male','region')"
   ]
  },
  {
   "cell_type": "code",
   "execution_count": 94,
   "metadata": {},
   "outputs": [],
   "source": [
    "def create_map(data, criteria, colorscale):\n",
    "    trace = go.Choropleth(\n",
    "            locations = data['region'],\n",
    "            locationmode='country names',\n",
    "            z = data[criteria],\n",
    "            text = data['region'],\n",
    "            autocolorscale =False,\n",
    "            reversescale = False,\n",
    "            colorscale = colorscale,\n",
    "            marker = dict(\n",
    "                line = dict(\n",
    "                    color = 'rgb(0,0,0)',\n",
    "                    width = 0.5)\n",
    "            ),\n",
    "            colorbar = dict(\n",
    "                title = 'Total Athletes',\n",
    "                tickprefix = '')\n",
    "        )\n",
    "\n",
    "    data = [trace]\n",
    "    layout = go.Layout(title = 'Total {} Athletes by Country Over All Olympic Competitions'.format(criteria),\n",
    "                       geo = dict(\n",
    "                           showframe = True,\n",
    "                           showlakes = False,\n",
    "                           showcoastlines = True,\n",
    "                           projection = dict(\n",
    "                               type = 'natural earth'\n",
    "                           )\n",
    "                       )\n",
    "                      )\n",
    "\n",
    "    fig = dict( data=data, layout=layout )\n",
    "    iplot(fig)"
   ]
  },
  {
   "cell_type": "code",
   "execution_count": 108,
   "metadata": {},
   "outputs": [
    {
     "data": {
      "application/vnd.plotly.v1+json": {
       "config": {
        "linkText": "Export to plot.ly",
        "plotlyServerURL": "https://plot.ly",
        "showLink": false
       },
       "data": [
        {
         "autocolorscale": false,
         "colorbar": {
          "tickprefix": "",
          "title": {
           "text": "Total Athletes"
          }
         },
         "colorscale": [
          [
           0,
           "rgb(103,0,31)"
          ],
          [
           0.1,
           "rgb(178,24,43)"
          ],
          [
           0.2,
           "rgb(214,96,77)"
          ],
          [
           0.3,
           "rgb(244,165,130)"
          ],
          [
           0.4,
           "rgb(253,219,199)"
          ],
          [
           0.5,
           "rgb(247,247,247)"
          ],
          [
           0.6,
           "rgb(209,229,240)"
          ],
          [
           0.7,
           "rgb(146,197,222)"
          ],
          [
           0.8,
           "rgb(67,147,195)"
          ],
          [
           0.9,
           "rgb(33,102,172)"
          ],
          [
           1,
           "rgb(5,48,97)"
          ]
         ],
         "locationmode": "country names",
         "locations": [
          "Afghanistan",
          "Curacao",
          "Albania",
          "Algeria",
          "Andorra",
          "Angola",
          "Antigua",
          "Argentina",
          "Armenia",
          "Aruba",
          "American Samoa",
          "Austria",
          "Azerbaijan",
          "Bahamas",
          "Bangladesh",
          "Barbados",
          "Burundi",
          "Belgium",
          "Benin",
          "Bermuda",
          "Bhutan",
          "Bosnia and Herzegovina",
          "Belize",
          "Belarus",
          "Boliva",
          "Botswana",
          "Brazil",
          "Bahrain",
          "Brunei",
          "Bulgaria",
          "Burkina Faso",
          "Central African Republic",
          "Cambodia",
          "Cayman Islands",
          "Republic of Congo",
          "Chad",
          "Chile",
          "Ivory Coast",
          "Cameroon",
          "Democratic Republic of the Congo",
          "Cook Islands",
          "Colombia",
          "Comoros",
          "Cape Verde",
          "Costa Rica",
          "Croatia",
          "Cuba",
          "Cyprus",
          "Denmark",
          "Djibouti",
          "Dominica",
          "Dominican Republic",
          "Ecuador",
          "Egypt",
          "Eritrea",
          "El Salvador",
          "Spain",
          "Estonia",
          "Ethiopia",
          "Fiji",
          "Finland",
          "France",
          "Micronesia",
          "Gabon",
          "Gambia",
          "UK",
          "Guinea-Bissau",
          "Georgia",
          "Equatorial Guinea",
          "Ghana",
          "Grenada",
          "Guatemala",
          "Guinea",
          "Guam",
          "Guyana",
          "Haiti",
          "Honduras",
          "Hungary",
          "Indonesia",
          "India",
          "Individual Olympic Athletes",
          "Iran",
          "Ireland",
          "Iraq",
          "Iceland",
          "Israel",
          "Virgin Islands, US",
          "Italy",
          "Virgin Islands, British",
          "Jamaica",
          "Jordan",
          "Japan",
          "Kazakhstan",
          "Kenya",
          "Kyrgyzstan",
          "Kiribati",
          "South Korea",
          "Kosovo",
          "Saudi Arabia",
          "Kuwait",
          "Laos",
          "Latvia",
          "Libya",
          "Liberia",
          "Saint Lucia",
          "Lesotho",
          "Lebanon",
          "Liechtenstein",
          "Lithuania",
          "Luxembourg",
          "Madagascar",
          "Morocco",
          "Malawi",
          "Moldova",
          "Maldives",
          "Mexico",
          "Mongolia",
          "Marshall Islands",
          "Macedonia",
          "Mali",
          "Malta",
          "Montenegro",
          "Monaco",
          "Mozambique",
          "Mauritius",
          "Mauritania",
          "Myanmar",
          "Namibia",
          "Nicaragua",
          "Netherlands",
          "Nepal",
          "Nigeria",
          "Niger",
          "Norway",
          "Nauru",
          "New Zealand",
          "Oman",
          "Pakistan",
          "Panama",
          "Paraguay",
          "Peru",
          "Philippines",
          "Palestine",
          "Palau",
          "Papua New Guinea",
          "Poland",
          "Portugal",
          "North Korea",
          "Puerto Rico",
          "Qatar",
          null,
          "Romania",
          "South Africa",
          "Rwanda",
          "Samoa",
          "Senegal",
          "Seychelles",
          "Saint Kitts",
          "Sierra Leone",
          "Slovenia",
          "San Marino",
          "Solomon Islands",
          "Somalia",
          "Sri Lanka",
          "South Sudan",
          "Sao Tome and Principe",
          "Sudan",
          "Switzerland",
          "Suriname",
          "Slovakia",
          "Sweden",
          "Swaziland",
          "Tanzania",
          "Tonga",
          "Thailand",
          "Tajikistan",
          "Turkmenistan",
          "Timor-Leste",
          "Togo",
          "Taiwan",
          "Tunisia",
          "Turkey",
          null,
          "United Arab Emirates",
          "Uganda",
          "Ukraine",
          null,
          "Uruguay",
          "USA",
          "Uzbekistan",
          "Vanuatu",
          "Venezuela",
          "Vietnam",
          "Saint Vincent",
          "Vietnam",
          "Zambia",
          "Germany",
          "Yemen",
          "Serbia",
          "Czech Republic",
          "Russia",
          "Malaysia",
          "Greece",
          "Trinidad",
          "Vietnam",
          "Zimbabwe",
          "Australia",
          "Syria",
          "Canada",
          "China"
         ],
         "marker": {
          "line": {
           "color": "rgb(0,0,0)",
           "width": 0.5
          }
         },
         "reversescale": false,
         "text": [
          "Afghanistan",
          "Curacao",
          "Albania",
          "Algeria",
          "Andorra",
          "Angola",
          "Antigua",
          "Argentina",
          "Armenia",
          "Aruba",
          "American Samoa",
          "Austria",
          "Azerbaijan",
          "Bahamas",
          "Bangladesh",
          "Barbados",
          "Burundi",
          "Belgium",
          "Benin",
          "Bermuda",
          "Bhutan",
          "Bosnia and Herzegovina",
          "Belize",
          "Belarus",
          "Boliva",
          "Botswana",
          "Brazil",
          "Bahrain",
          "Brunei",
          "Bulgaria",
          "Burkina Faso",
          "Central African Republic",
          "Cambodia",
          "Cayman Islands",
          "Republic of Congo",
          "Chad",
          "Chile",
          "Ivory Coast",
          "Cameroon",
          "Democratic Republic of the Congo",
          "Cook Islands",
          "Colombia",
          "Comoros",
          "Cape Verde",
          "Costa Rica",
          "Croatia",
          "Cuba",
          "Cyprus",
          "Denmark",
          "Djibouti",
          "Dominica",
          "Dominican Republic",
          "Ecuador",
          "Egypt",
          "Eritrea",
          "El Salvador",
          "Spain",
          "Estonia",
          "Ethiopia",
          "Fiji",
          "Finland",
          "France",
          "Micronesia",
          "Gabon",
          "Gambia",
          "UK",
          "Guinea-Bissau",
          "Georgia",
          "Equatorial Guinea",
          "Ghana",
          "Grenada",
          "Guatemala",
          "Guinea",
          "Guam",
          "Guyana",
          "Haiti",
          "Honduras",
          "Hungary",
          "Indonesia",
          "India",
          "Individual Olympic Athletes",
          "Iran",
          "Ireland",
          "Iraq",
          "Iceland",
          "Israel",
          "Virgin Islands, US",
          "Italy",
          "Virgin Islands, British",
          "Jamaica",
          "Jordan",
          "Japan",
          "Kazakhstan",
          "Kenya",
          "Kyrgyzstan",
          "Kiribati",
          "South Korea",
          "Kosovo",
          "Saudi Arabia",
          "Kuwait",
          "Laos",
          "Latvia",
          "Libya",
          "Liberia",
          "Saint Lucia",
          "Lesotho",
          "Lebanon",
          "Liechtenstein",
          "Lithuania",
          "Luxembourg",
          "Madagascar",
          "Morocco",
          "Malawi",
          "Moldova",
          "Maldives",
          "Mexico",
          "Mongolia",
          "Marshall Islands",
          "Macedonia",
          "Mali",
          "Malta",
          "Montenegro",
          "Monaco",
          "Mozambique",
          "Mauritius",
          "Mauritania",
          "Myanmar",
          "Namibia",
          "Nicaragua",
          "Netherlands",
          "Nepal",
          "Nigeria",
          "Niger",
          "Norway",
          "Nauru",
          "New Zealand",
          "Oman",
          "Pakistan",
          "Panama",
          "Paraguay",
          "Peru",
          "Philippines",
          "Palestine",
          "Palau",
          "Papua New Guinea",
          "Poland",
          "Portugal",
          "North Korea",
          "Puerto Rico",
          "Qatar",
          null,
          "Romania",
          "South Africa",
          "Rwanda",
          "Samoa",
          "Senegal",
          "Seychelles",
          "Saint Kitts",
          "Sierra Leone",
          "Slovenia",
          "San Marino",
          "Solomon Islands",
          "Somalia",
          "Sri Lanka",
          "South Sudan",
          "Sao Tome and Principe",
          "Sudan",
          "Switzerland",
          "Suriname",
          "Slovakia",
          "Sweden",
          "Swaziland",
          "Tanzania",
          "Tonga",
          "Thailand",
          "Tajikistan",
          "Turkmenistan",
          "Timor-Leste",
          "Togo",
          "Taiwan",
          "Tunisia",
          "Turkey",
          null,
          "United Arab Emirates",
          "Uganda",
          "Ukraine",
          null,
          "Uruguay",
          "USA",
          "Uzbekistan",
          "Vanuatu",
          "Venezuela",
          "Vietnam",
          "Saint Vincent",
          "Vietnam",
          "Zambia",
          "Germany",
          "Yemen",
          "Serbia",
          "Czech Republic",
          "Russia",
          "Malaysia",
          "Greece",
          "Trinidad",
          "Vietnam",
          "Zimbabwe",
          "Australia",
          "Syria",
          "Canada",
          "China"
         ],
         "type": "choropleth",
         "z": [
          5,
          12,
          27,
          94,
          42,
          129,
          37,
          643,
          38,
          16,
          7,
          1100,
          71,
          100,
          13,
          39,
          14,
          604,
          14,
          41,
          17,
          39,
          9,
          794,
          36,
          7,
          1148,
          31,
          2,
          1069,
          15,
          16,
          17,
          12,
          35,
          10,
          118,
          58,
          94,
          25,
          16,
          295,
          8,
          9,
          65,
          236,
          588,
          58,
          710,
          5,
          7,
          72,
          64,
          181,
          6,
          66,
          1439,
          221,
          92,
          67,
          992,
          2781,
          11,
          15,
          13,
          3277,
          8,
          72,
          11,
          58,
          17,
          75,
          15,
          27,
          21,
          19,
          39,
          1748,
          136,
          241,
          29,
          49,
          283,
          7,
          129,
          207,
          57,
          2543,
          5,
          366,
          23,
          2779,
          549,
          159,
          54,
          3,
          1490,
          5,
          5,
          4,
          12,
          197,
          11,
          13,
          13,
          15,
          41,
          75,
          209,
          73,
          48,
          92,
          14,
          64,
          12,
          649,
          149,
          7,
          33,
          29,
          31,
          36,
          18,
          23,
          51,
          5,
          24,
          28,
          22,
          1924,
          24,
          309,
          10,
          1130,
          2,
          784,
          4,
          11,
          39,
          23,
          162,
          104,
          8,
          13,
          26,
          1751,
          280,
          396,
          167,
          7,
          5,
          1619,
          434,
          20,
          12,
          77,
          23,
          17,
          27,
          414,
          17,
          9,
          5,
          44,
          1,
          6,
          10,
          1205,
          22,
          361,
          1985,
          8,
          21,
          10,
          214,
          16,
          22,
          5,
          11,
          408,
          95,
          251,
          2,
          7,
          42,
          1180,
          0,
          62,
          5533,
          151,
          12,
          221,
          74,
          11,
          2,
          19,
          4849,
          4,
          575,
          1603,
          4105,
          102,
          655,
          80,
          76,
          114,
          2751,
          17,
          3563,
          2992
         ]
        }
       ],
       "layout": {
        "geo": {
         "projection": {
          "type": "natural earth"
         },
         "showcoastlines": true,
         "showframe": true,
         "showlakes": false
        },
        "template": {
         "data": {
          "bar": [
           {
            "error_x": {
             "color": "#2a3f5f"
            },
            "error_y": {
             "color": "#2a3f5f"
            },
            "marker": {
             "line": {
              "color": "#E5ECF6",
              "width": 0.5
             }
            },
            "type": "bar"
           }
          ],
          "barpolar": [
           {
            "marker": {
             "line": {
              "color": "#E5ECF6",
              "width": 0.5
             }
            },
            "type": "barpolar"
           }
          ],
          "carpet": [
           {
            "aaxis": {
             "endlinecolor": "#2a3f5f",
             "gridcolor": "white",
             "linecolor": "white",
             "minorgridcolor": "white",
             "startlinecolor": "#2a3f5f"
            },
            "baxis": {
             "endlinecolor": "#2a3f5f",
             "gridcolor": "white",
             "linecolor": "white",
             "minorgridcolor": "white",
             "startlinecolor": "#2a3f5f"
            },
            "type": "carpet"
           }
          ],
          "choropleth": [
           {
            "colorbar": {
             "outlinewidth": 0,
             "ticks": ""
            },
            "type": "choropleth"
           }
          ],
          "contour": [
           {
            "colorbar": {
             "outlinewidth": 0,
             "ticks": ""
            },
            "colorscale": [
             [
              0,
              "#0d0887"
             ],
             [
              0.1111111111111111,
              "#46039f"
             ],
             [
              0.2222222222222222,
              "#7201a8"
             ],
             [
              0.3333333333333333,
              "#9c179e"
             ],
             [
              0.4444444444444444,
              "#bd3786"
             ],
             [
              0.5555555555555556,
              "#d8576b"
             ],
             [
              0.6666666666666666,
              "#ed7953"
             ],
             [
              0.7777777777777778,
              "#fb9f3a"
             ],
             [
              0.8888888888888888,
              "#fdca26"
             ],
             [
              1,
              "#f0f921"
             ]
            ],
            "type": "contour"
           }
          ],
          "contourcarpet": [
           {
            "colorbar": {
             "outlinewidth": 0,
             "ticks": ""
            },
            "type": "contourcarpet"
           }
          ],
          "heatmap": [
           {
            "colorbar": {
             "outlinewidth": 0,
             "ticks": ""
            },
            "colorscale": [
             [
              0,
              "#0d0887"
             ],
             [
              0.1111111111111111,
              "#46039f"
             ],
             [
              0.2222222222222222,
              "#7201a8"
             ],
             [
              0.3333333333333333,
              "#9c179e"
             ],
             [
              0.4444444444444444,
              "#bd3786"
             ],
             [
              0.5555555555555556,
              "#d8576b"
             ],
             [
              0.6666666666666666,
              "#ed7953"
             ],
             [
              0.7777777777777778,
              "#fb9f3a"
             ],
             [
              0.8888888888888888,
              "#fdca26"
             ],
             [
              1,
              "#f0f921"
             ]
            ],
            "type": "heatmap"
           }
          ],
          "heatmapgl": [
           {
            "colorbar": {
             "outlinewidth": 0,
             "ticks": ""
            },
            "colorscale": [
             [
              0,
              "#0d0887"
             ],
             [
              0.1111111111111111,
              "#46039f"
             ],
             [
              0.2222222222222222,
              "#7201a8"
             ],
             [
              0.3333333333333333,
              "#9c179e"
             ],
             [
              0.4444444444444444,
              "#bd3786"
             ],
             [
              0.5555555555555556,
              "#d8576b"
             ],
             [
              0.6666666666666666,
              "#ed7953"
             ],
             [
              0.7777777777777778,
              "#fb9f3a"
             ],
             [
              0.8888888888888888,
              "#fdca26"
             ],
             [
              1,
              "#f0f921"
             ]
            ],
            "type": "heatmapgl"
           }
          ],
          "histogram": [
           {
            "marker": {
             "colorbar": {
              "outlinewidth": 0,
              "ticks": ""
             }
            },
            "type": "histogram"
           }
          ],
          "histogram2d": [
           {
            "colorbar": {
             "outlinewidth": 0,
             "ticks": ""
            },
            "colorscale": [
             [
              0,
              "#0d0887"
             ],
             [
              0.1111111111111111,
              "#46039f"
             ],
             [
              0.2222222222222222,
              "#7201a8"
             ],
             [
              0.3333333333333333,
              "#9c179e"
             ],
             [
              0.4444444444444444,
              "#bd3786"
             ],
             [
              0.5555555555555556,
              "#d8576b"
             ],
             [
              0.6666666666666666,
              "#ed7953"
             ],
             [
              0.7777777777777778,
              "#fb9f3a"
             ],
             [
              0.8888888888888888,
              "#fdca26"
             ],
             [
              1,
              "#f0f921"
             ]
            ],
            "type": "histogram2d"
           }
          ],
          "histogram2dcontour": [
           {
            "colorbar": {
             "outlinewidth": 0,
             "ticks": ""
            },
            "colorscale": [
             [
              0,
              "#0d0887"
             ],
             [
              0.1111111111111111,
              "#46039f"
             ],
             [
              0.2222222222222222,
              "#7201a8"
             ],
             [
              0.3333333333333333,
              "#9c179e"
             ],
             [
              0.4444444444444444,
              "#bd3786"
             ],
             [
              0.5555555555555556,
              "#d8576b"
             ],
             [
              0.6666666666666666,
              "#ed7953"
             ],
             [
              0.7777777777777778,
              "#fb9f3a"
             ],
             [
              0.8888888888888888,
              "#fdca26"
             ],
             [
              1,
              "#f0f921"
             ]
            ],
            "type": "histogram2dcontour"
           }
          ],
          "mesh3d": [
           {
            "colorbar": {
             "outlinewidth": 0,
             "ticks": ""
            },
            "type": "mesh3d"
           }
          ],
          "parcoords": [
           {
            "line": {
             "colorbar": {
              "outlinewidth": 0,
              "ticks": ""
             }
            },
            "type": "parcoords"
           }
          ],
          "pie": [
           {
            "automargin": true,
            "type": "pie"
           }
          ],
          "scatter": [
           {
            "marker": {
             "colorbar": {
              "outlinewidth": 0,
              "ticks": ""
             }
            },
            "type": "scatter"
           }
          ],
          "scatter3d": [
           {
            "line": {
             "colorbar": {
              "outlinewidth": 0,
              "ticks": ""
             }
            },
            "marker": {
             "colorbar": {
              "outlinewidth": 0,
              "ticks": ""
             }
            },
            "type": "scatter3d"
           }
          ],
          "scattercarpet": [
           {
            "marker": {
             "colorbar": {
              "outlinewidth": 0,
              "ticks": ""
             }
            },
            "type": "scattercarpet"
           }
          ],
          "scattergeo": [
           {
            "marker": {
             "colorbar": {
              "outlinewidth": 0,
              "ticks": ""
             }
            },
            "type": "scattergeo"
           }
          ],
          "scattergl": [
           {
            "marker": {
             "colorbar": {
              "outlinewidth": 0,
              "ticks": ""
             }
            },
            "type": "scattergl"
           }
          ],
          "scattermapbox": [
           {
            "marker": {
             "colorbar": {
              "outlinewidth": 0,
              "ticks": ""
             }
            },
            "type": "scattermapbox"
           }
          ],
          "scatterpolar": [
           {
            "marker": {
             "colorbar": {
              "outlinewidth": 0,
              "ticks": ""
             }
            },
            "type": "scatterpolar"
           }
          ],
          "scatterpolargl": [
           {
            "marker": {
             "colorbar": {
              "outlinewidth": 0,
              "ticks": ""
             }
            },
            "type": "scatterpolargl"
           }
          ],
          "scatterternary": [
           {
            "marker": {
             "colorbar": {
              "outlinewidth": 0,
              "ticks": ""
             }
            },
            "type": "scatterternary"
           }
          ],
          "surface": [
           {
            "colorbar": {
             "outlinewidth": 0,
             "ticks": ""
            },
            "colorscale": [
             [
              0,
              "#0d0887"
             ],
             [
              0.1111111111111111,
              "#46039f"
             ],
             [
              0.2222222222222222,
              "#7201a8"
             ],
             [
              0.3333333333333333,
              "#9c179e"
             ],
             [
              0.4444444444444444,
              "#bd3786"
             ],
             [
              0.5555555555555556,
              "#d8576b"
             ],
             [
              0.6666666666666666,
              "#ed7953"
             ],
             [
              0.7777777777777778,
              "#fb9f3a"
             ],
             [
              0.8888888888888888,
              "#fdca26"
             ],
             [
              1,
              "#f0f921"
             ]
            ],
            "type": "surface"
           }
          ],
          "table": [
           {
            "cells": {
             "fill": {
              "color": "#EBF0F8"
             },
             "line": {
              "color": "white"
             }
            },
            "header": {
             "fill": {
              "color": "#C8D4E3"
             },
             "line": {
              "color": "white"
             }
            },
            "type": "table"
           }
          ]
         },
         "layout": {
          "annotationdefaults": {
           "arrowcolor": "#2a3f5f",
           "arrowhead": 0,
           "arrowwidth": 1
          },
          "coloraxis": {
           "colorbar": {
            "outlinewidth": 0,
            "ticks": ""
           }
          },
          "colorscale": {
           "diverging": [
            [
             0,
             "#8e0152"
            ],
            [
             0.1,
             "#c51b7d"
            ],
            [
             0.2,
             "#de77ae"
            ],
            [
             0.3,
             "#f1b6da"
            ],
            [
             0.4,
             "#fde0ef"
            ],
            [
             0.5,
             "#f7f7f7"
            ],
            [
             0.6,
             "#e6f5d0"
            ],
            [
             0.7,
             "#b8e186"
            ],
            [
             0.8,
             "#7fbc41"
            ],
            [
             0.9,
             "#4d9221"
            ],
            [
             1,
             "#276419"
            ]
           ],
           "sequential": [
            [
             0,
             "#0d0887"
            ],
            [
             0.1111111111111111,
             "#46039f"
            ],
            [
             0.2222222222222222,
             "#7201a8"
            ],
            [
             0.3333333333333333,
             "#9c179e"
            ],
            [
             0.4444444444444444,
             "#bd3786"
            ],
            [
             0.5555555555555556,
             "#d8576b"
            ],
            [
             0.6666666666666666,
             "#ed7953"
            ],
            [
             0.7777777777777778,
             "#fb9f3a"
            ],
            [
             0.8888888888888888,
             "#fdca26"
            ],
            [
             1,
             "#f0f921"
            ]
           ],
           "sequentialminus": [
            [
             0,
             "#0d0887"
            ],
            [
             0.1111111111111111,
             "#46039f"
            ],
            [
             0.2222222222222222,
             "#7201a8"
            ],
            [
             0.3333333333333333,
             "#9c179e"
            ],
            [
             0.4444444444444444,
             "#bd3786"
            ],
            [
             0.5555555555555556,
             "#d8576b"
            ],
            [
             0.6666666666666666,
             "#ed7953"
            ],
            [
             0.7777777777777778,
             "#fb9f3a"
            ],
            [
             0.8888888888888888,
             "#fdca26"
            ],
            [
             1,
             "#f0f921"
            ]
           ]
          },
          "colorway": [
           "#636efa",
           "#EF553B",
           "#00cc96",
           "#ab63fa",
           "#FFA15A",
           "#19d3f3",
           "#FF6692",
           "#B6E880",
           "#FF97FF",
           "#FECB52"
          ],
          "font": {
           "color": "#2a3f5f"
          },
          "geo": {
           "bgcolor": "white",
           "lakecolor": "white",
           "landcolor": "#E5ECF6",
           "showlakes": true,
           "showland": true,
           "subunitcolor": "white"
          },
          "hoverlabel": {
           "align": "left"
          },
          "hovermode": "closest",
          "mapbox": {
           "style": "light"
          },
          "paper_bgcolor": "white",
          "plot_bgcolor": "#E5ECF6",
          "polar": {
           "angularaxis": {
            "gridcolor": "white",
            "linecolor": "white",
            "ticks": ""
           },
           "bgcolor": "#E5ECF6",
           "radialaxis": {
            "gridcolor": "white",
            "linecolor": "white",
            "ticks": ""
           }
          },
          "scene": {
           "xaxis": {
            "backgroundcolor": "#E5ECF6",
            "gridcolor": "white",
            "gridwidth": 2,
            "linecolor": "white",
            "showbackground": true,
            "ticks": "",
            "zerolinecolor": "white"
           },
           "yaxis": {
            "backgroundcolor": "#E5ECF6",
            "gridcolor": "white",
            "gridwidth": 2,
            "linecolor": "white",
            "showbackground": true,
            "ticks": "",
            "zerolinecolor": "white"
           },
           "zaxis": {
            "backgroundcolor": "#E5ECF6",
            "gridcolor": "white",
            "gridwidth": 2,
            "linecolor": "white",
            "showbackground": true,
            "ticks": "",
            "zerolinecolor": "white"
           }
          },
          "shapedefaults": {
           "line": {
            "color": "#2a3f5f"
           }
          },
          "ternary": {
           "aaxis": {
            "gridcolor": "white",
            "linecolor": "white",
            "ticks": ""
           },
           "baxis": {
            "gridcolor": "white",
            "linecolor": "white",
            "ticks": ""
           },
           "bgcolor": "#E5ECF6",
           "caxis": {
            "gridcolor": "white",
            "linecolor": "white",
            "ticks": ""
           }
          },
          "title": {
           "x": 0.05
          },
          "xaxis": {
           "automargin": true,
           "gridcolor": "white",
           "linecolor": "white",
           "ticks": "",
           "title": {
            "standoff": 15
           },
           "zerolinecolor": "white",
           "zerolinewidth": 2
          },
          "yaxis": {
           "automargin": true,
           "gridcolor": "white",
           "linecolor": "white",
           "ticks": "",
           "title": {
            "standoff": 15
           },
           "zerolinecolor": "white",
           "zerolinewidth": 2
          }
         }
        },
        "title": {
         "text": "Total Female Athletes by Country Over All Olympic Competitions"
        }
       }
      },
      "text/html": [
       "<div>\n",
       "        \n",
       "        \n",
       "            <div id=\"03d1abcc-d222-4b1f-9504-f766c1d3691e\" class=\"plotly-graph-div\" style=\"height:525px; width:100%;\"></div>\n",
       "            <script type=\"text/javascript\">\n",
       "                require([\"plotly\"], function(Plotly) {\n",
       "                    window.PLOTLYENV=window.PLOTLYENV || {};\n",
       "                    \n",
       "                if (document.getElementById(\"03d1abcc-d222-4b1f-9504-f766c1d3691e\")) {\n",
       "                    Plotly.newPlot(\n",
       "                        '03d1abcc-d222-4b1f-9504-f766c1d3691e',\n",
       "                        [{\"autocolorscale\": false, \"colorbar\": {\"tickprefix\": \"\", \"title\": {\"text\": \"Total Athletes\"}}, \"colorscale\": [[0.0, \"rgb(103,0,31)\"], [0.1, \"rgb(178,24,43)\"], [0.2, \"rgb(214,96,77)\"], [0.3, \"rgb(244,165,130)\"], [0.4, \"rgb(253,219,199)\"], [0.5, \"rgb(247,247,247)\"], [0.6, \"rgb(209,229,240)\"], [0.7, \"rgb(146,197,222)\"], [0.8, \"rgb(67,147,195)\"], [0.9, \"rgb(33,102,172)\"], [1.0, \"rgb(5,48,97)\"]], \"locationmode\": \"country names\", \"locations\": [\"Afghanistan\", \"Curacao\", \"Albania\", \"Algeria\", \"Andorra\", \"Angola\", \"Antigua\", \"Argentina\", \"Armenia\", \"Aruba\", \"American Samoa\", \"Austria\", \"Azerbaijan\", \"Bahamas\", \"Bangladesh\", \"Barbados\", \"Burundi\", \"Belgium\", \"Benin\", \"Bermuda\", \"Bhutan\", \"Bosnia and Herzegovina\", \"Belize\", \"Belarus\", \"Boliva\", \"Botswana\", \"Brazil\", \"Bahrain\", \"Brunei\", \"Bulgaria\", \"Burkina Faso\", \"Central African Republic\", \"Cambodia\", \"Cayman Islands\", \"Republic of Congo\", \"Chad\", \"Chile\", \"Ivory Coast\", \"Cameroon\", \"Democratic Republic of the Congo\", \"Cook Islands\", \"Colombia\", \"Comoros\", \"Cape Verde\", \"Costa Rica\", \"Croatia\", \"Cuba\", \"Cyprus\", \"Denmark\", \"Djibouti\", \"Dominica\", \"Dominican Republic\", \"Ecuador\", \"Egypt\", \"Eritrea\", \"El Salvador\", \"Spain\", \"Estonia\", \"Ethiopia\", \"Fiji\", \"Finland\", \"France\", \"Micronesia\", \"Gabon\", \"Gambia\", \"UK\", \"Guinea-Bissau\", \"Georgia\", \"Equatorial Guinea\", \"Ghana\", \"Grenada\", \"Guatemala\", \"Guinea\", \"Guam\", \"Guyana\", \"Haiti\", \"Honduras\", \"Hungary\", \"Indonesia\", \"India\", \"Individual Olympic Athletes\", \"Iran\", \"Ireland\", \"Iraq\", \"Iceland\", \"Israel\", \"Virgin Islands, US\", \"Italy\", \"Virgin Islands, British\", \"Jamaica\", \"Jordan\", \"Japan\", \"Kazakhstan\", \"Kenya\", \"Kyrgyzstan\", \"Kiribati\", \"South Korea\", \"Kosovo\", \"Saudi Arabia\", \"Kuwait\", \"Laos\", \"Latvia\", \"Libya\", \"Liberia\", \"Saint Lucia\", \"Lesotho\", \"Lebanon\", \"Liechtenstein\", \"Lithuania\", \"Luxembourg\", \"Madagascar\", \"Morocco\", \"Malawi\", \"Moldova\", \"Maldives\", \"Mexico\", \"Mongolia\", \"Marshall Islands\", \"Macedonia\", \"Mali\", \"Malta\", \"Montenegro\", \"Monaco\", \"Mozambique\", \"Mauritius\", \"Mauritania\", \"Myanmar\", \"Namibia\", \"Nicaragua\", \"Netherlands\", \"Nepal\", \"Nigeria\", \"Niger\", \"Norway\", \"Nauru\", \"New Zealand\", \"Oman\", \"Pakistan\", \"Panama\", \"Paraguay\", \"Peru\", \"Philippines\", \"Palestine\", \"Palau\", \"Papua New Guinea\", \"Poland\", \"Portugal\", \"North Korea\", \"Puerto Rico\", \"Qatar\", null, \"Romania\", \"South Africa\", \"Rwanda\", \"Samoa\", \"Senegal\", \"Seychelles\", \"Saint Kitts\", \"Sierra Leone\", \"Slovenia\", \"San Marino\", \"Solomon Islands\", \"Somalia\", \"Sri Lanka\", \"South Sudan\", \"Sao Tome and Principe\", \"Sudan\", \"Switzerland\", \"Suriname\", \"Slovakia\", \"Sweden\", \"Swaziland\", \"Tanzania\", \"Tonga\", \"Thailand\", \"Tajikistan\", \"Turkmenistan\", \"Timor-Leste\", \"Togo\", \"Taiwan\", \"Tunisia\", \"Turkey\", null, \"United Arab Emirates\", \"Uganda\", \"Ukraine\", null, \"Uruguay\", \"USA\", \"Uzbekistan\", \"Vanuatu\", \"Venezuela\", \"Vietnam\", \"Saint Vincent\", \"Vietnam\", \"Zambia\", \"Germany\", \"Yemen\", \"Serbia\", \"Czech Republic\", \"Russia\", \"Malaysia\", \"Greece\", \"Trinidad\", \"Vietnam\", \"Zimbabwe\", \"Australia\", \"Syria\", \"Canada\", \"China\"], \"marker\": {\"line\": {\"color\": \"rgb(0,0,0)\", \"width\": 0.5}}, \"reversescale\": false, \"text\": [\"Afghanistan\", \"Curacao\", \"Albania\", \"Algeria\", \"Andorra\", \"Angola\", \"Antigua\", \"Argentina\", \"Armenia\", \"Aruba\", \"American Samoa\", \"Austria\", \"Azerbaijan\", \"Bahamas\", \"Bangladesh\", \"Barbados\", \"Burundi\", \"Belgium\", \"Benin\", \"Bermuda\", \"Bhutan\", \"Bosnia and Herzegovina\", \"Belize\", \"Belarus\", \"Boliva\", \"Botswana\", \"Brazil\", \"Bahrain\", \"Brunei\", \"Bulgaria\", \"Burkina Faso\", \"Central African Republic\", \"Cambodia\", \"Cayman Islands\", \"Republic of Congo\", \"Chad\", \"Chile\", \"Ivory Coast\", \"Cameroon\", \"Democratic Republic of the Congo\", \"Cook Islands\", \"Colombia\", \"Comoros\", \"Cape Verde\", \"Costa Rica\", \"Croatia\", \"Cuba\", \"Cyprus\", \"Denmark\", \"Djibouti\", \"Dominica\", \"Dominican Republic\", \"Ecuador\", \"Egypt\", \"Eritrea\", \"El Salvador\", \"Spain\", \"Estonia\", \"Ethiopia\", \"Fiji\", \"Finland\", \"France\", \"Micronesia\", \"Gabon\", \"Gambia\", \"UK\", \"Guinea-Bissau\", \"Georgia\", \"Equatorial Guinea\", \"Ghana\", \"Grenada\", \"Guatemala\", \"Guinea\", \"Guam\", \"Guyana\", \"Haiti\", \"Honduras\", \"Hungary\", \"Indonesia\", \"India\", \"Individual Olympic Athletes\", \"Iran\", \"Ireland\", \"Iraq\", \"Iceland\", \"Israel\", \"Virgin Islands, US\", \"Italy\", \"Virgin Islands, British\", \"Jamaica\", \"Jordan\", \"Japan\", \"Kazakhstan\", \"Kenya\", \"Kyrgyzstan\", \"Kiribati\", \"South Korea\", \"Kosovo\", \"Saudi Arabia\", \"Kuwait\", \"Laos\", \"Latvia\", \"Libya\", \"Liberia\", \"Saint Lucia\", \"Lesotho\", \"Lebanon\", \"Liechtenstein\", \"Lithuania\", \"Luxembourg\", \"Madagascar\", \"Morocco\", \"Malawi\", \"Moldova\", \"Maldives\", \"Mexico\", \"Mongolia\", \"Marshall Islands\", \"Macedonia\", \"Mali\", \"Malta\", \"Montenegro\", \"Monaco\", \"Mozambique\", \"Mauritius\", \"Mauritania\", \"Myanmar\", \"Namibia\", \"Nicaragua\", \"Netherlands\", \"Nepal\", \"Nigeria\", \"Niger\", \"Norway\", \"Nauru\", \"New Zealand\", \"Oman\", \"Pakistan\", \"Panama\", \"Paraguay\", \"Peru\", \"Philippines\", \"Palestine\", \"Palau\", \"Papua New Guinea\", \"Poland\", \"Portugal\", \"North Korea\", \"Puerto Rico\", \"Qatar\", null, \"Romania\", \"South Africa\", \"Rwanda\", \"Samoa\", \"Senegal\", \"Seychelles\", \"Saint Kitts\", \"Sierra Leone\", \"Slovenia\", \"San Marino\", \"Solomon Islands\", \"Somalia\", \"Sri Lanka\", \"South Sudan\", \"Sao Tome and Principe\", \"Sudan\", \"Switzerland\", \"Suriname\", \"Slovakia\", \"Sweden\", \"Swaziland\", \"Tanzania\", \"Tonga\", \"Thailand\", \"Tajikistan\", \"Turkmenistan\", \"Timor-Leste\", \"Togo\", \"Taiwan\", \"Tunisia\", \"Turkey\", null, \"United Arab Emirates\", \"Uganda\", \"Ukraine\", null, \"Uruguay\", \"USA\", \"Uzbekistan\", \"Vanuatu\", \"Venezuela\", \"Vietnam\", \"Saint Vincent\", \"Vietnam\", \"Zambia\", \"Germany\", \"Yemen\", \"Serbia\", \"Czech Republic\", \"Russia\", \"Malaysia\", \"Greece\", \"Trinidad\", \"Vietnam\", \"Zimbabwe\", \"Australia\", \"Syria\", \"Canada\", \"China\"], \"type\": \"choropleth\", \"z\": [5.0, 12.0, 27.0, 94.0, 42.0, 129.0, 37.0, 643.0, 38.0, 16.0, 7.0, 1100.0, 71.0, 100.0, 13.0, 39.0, 14.0, 604.0, 14.0, 41.0, 17.0, 39.0, 9.0, 794.0, 36.0, 7.0, 1148.0, 31.0, 2.0, 1069.0, 15.0, 16.0, 17.0, 12.0, 35.0, 10.0, 118.0, 58.0, 94.0, 25.0, 16.0, 295.0, 8.0, 9.0, 65.0, 236.0, 588.0, 58.0, 710.0, 5.0, 7.0, 72.0, 64.0, 181.0, 6.0, 66.0, 1439.0, 221.0, 92.0, 67.0, 992.0, 2781.0, 11.0, 15.0, 13.0, 3277.0, 8.0, 72.0, 11.0, 58.0, 17.0, 75.0, 15.0, 27.0, 21.0, 19.0, 39.0, 1748.0, 136.0, 241.0, 29.0, 49.0, 283.0, 7.0, 129.0, 207.0, 57.0, 2543.0, 5.0, 366.0, 23.0, 2779.0, 549.0, 159.0, 54.0, 3.0, 1490.0, 5.0, 5.0, 4.0, 12.0, 197.0, 11.0, 13.0, 13.0, 15.0, 41.0, 75.0, 209.0, 73.0, 48.0, 92.0, 14.0, 64.0, 12.0, 649.0, 149.0, 7.0, 33.0, 29.0, 31.0, 36.0, 18.0, 23.0, 51.0, 5.0, 24.0, 28.0, 22.0, 1924.0, 24.0, 309.0, 10.0, 1130.0, 2.0, 784.0, 4.0, 11.0, 39.0, 23.0, 162.0, 104.0, 8.0, 13.0, 26.0, 1751.0, 280.0, 396.0, 167.0, 7.0, 5.0, 1619.0, 434.0, 20.0, 12.0, 77.0, 23.0, 17.0, 27.0, 414.0, 17.0, 9.0, 5.0, 44.0, 1.0, 6.0, 10.0, 1205.0, 22.0, 361.0, 1985.0, 8.0, 21.0, 10.0, 214.0, 16.0, 22.0, 5.0, 11.0, 408.0, 95.0, 251.0, 2.0, 7.0, 42.0, 1180.0, 0.0, 62.0, 5533.0, 151.0, 12.0, 221.0, 74.0, 11.0, 2.0, 19.0, 4849.0, 4.0, 575.0, 1603.0, 4105.0, 102.0, 655.0, 80.0, 76.0, 114.0, 2751.0, 17.0, 3563.0, 2992.0]}],\n",
       "                        {\"geo\": {\"projection\": {\"type\": \"natural earth\"}, \"showcoastlines\": true, \"showframe\": true, \"showlakes\": false}, \"template\": {\"data\": {\"bar\": [{\"error_x\": {\"color\": \"#2a3f5f\"}, \"error_y\": {\"color\": \"#2a3f5f\"}, \"marker\": {\"line\": {\"color\": \"#E5ECF6\", \"width\": 0.5}}, \"type\": \"bar\"}], \"barpolar\": [{\"marker\": {\"line\": {\"color\": \"#E5ECF6\", \"width\": 0.5}}, \"type\": \"barpolar\"}], \"carpet\": [{\"aaxis\": {\"endlinecolor\": \"#2a3f5f\", \"gridcolor\": \"white\", \"linecolor\": \"white\", \"minorgridcolor\": \"white\", \"startlinecolor\": \"#2a3f5f\"}, \"baxis\": {\"endlinecolor\": \"#2a3f5f\", \"gridcolor\": \"white\", \"linecolor\": \"white\", \"minorgridcolor\": \"white\", \"startlinecolor\": \"#2a3f5f\"}, \"type\": \"carpet\"}], \"choropleth\": [{\"colorbar\": {\"outlinewidth\": 0, \"ticks\": \"\"}, \"type\": \"choropleth\"}], \"contour\": [{\"colorbar\": {\"outlinewidth\": 0, \"ticks\": \"\"}, \"colorscale\": [[0.0, \"#0d0887\"], [0.1111111111111111, \"#46039f\"], [0.2222222222222222, \"#7201a8\"], [0.3333333333333333, \"#9c179e\"], [0.4444444444444444, \"#bd3786\"], [0.5555555555555556, \"#d8576b\"], [0.6666666666666666, \"#ed7953\"], [0.7777777777777778, \"#fb9f3a\"], [0.8888888888888888, \"#fdca26\"], [1.0, \"#f0f921\"]], \"type\": \"contour\"}], \"contourcarpet\": [{\"colorbar\": {\"outlinewidth\": 0, \"ticks\": \"\"}, \"type\": \"contourcarpet\"}], \"heatmap\": [{\"colorbar\": {\"outlinewidth\": 0, \"ticks\": \"\"}, \"colorscale\": [[0.0, \"#0d0887\"], [0.1111111111111111, \"#46039f\"], [0.2222222222222222, \"#7201a8\"], [0.3333333333333333, \"#9c179e\"], [0.4444444444444444, \"#bd3786\"], [0.5555555555555556, \"#d8576b\"], [0.6666666666666666, \"#ed7953\"], [0.7777777777777778, \"#fb9f3a\"], [0.8888888888888888, \"#fdca26\"], [1.0, \"#f0f921\"]], \"type\": \"heatmap\"}], \"heatmapgl\": [{\"colorbar\": {\"outlinewidth\": 0, \"ticks\": \"\"}, \"colorscale\": [[0.0, \"#0d0887\"], [0.1111111111111111, \"#46039f\"], [0.2222222222222222, \"#7201a8\"], [0.3333333333333333, \"#9c179e\"], [0.4444444444444444, \"#bd3786\"], [0.5555555555555556, \"#d8576b\"], [0.6666666666666666, \"#ed7953\"], [0.7777777777777778, \"#fb9f3a\"], [0.8888888888888888, \"#fdca26\"], [1.0, \"#f0f921\"]], \"type\": \"heatmapgl\"}], \"histogram\": [{\"marker\": {\"colorbar\": {\"outlinewidth\": 0, \"ticks\": \"\"}}, \"type\": \"histogram\"}], \"histogram2d\": [{\"colorbar\": {\"outlinewidth\": 0, \"ticks\": \"\"}, \"colorscale\": [[0.0, \"#0d0887\"], [0.1111111111111111, \"#46039f\"], [0.2222222222222222, \"#7201a8\"], [0.3333333333333333, \"#9c179e\"], [0.4444444444444444, \"#bd3786\"], [0.5555555555555556, \"#d8576b\"], [0.6666666666666666, \"#ed7953\"], [0.7777777777777778, \"#fb9f3a\"], [0.8888888888888888, \"#fdca26\"], [1.0, \"#f0f921\"]], \"type\": \"histogram2d\"}], \"histogram2dcontour\": [{\"colorbar\": {\"outlinewidth\": 0, \"ticks\": \"\"}, \"colorscale\": [[0.0, \"#0d0887\"], [0.1111111111111111, \"#46039f\"], [0.2222222222222222, \"#7201a8\"], [0.3333333333333333, \"#9c179e\"], [0.4444444444444444, \"#bd3786\"], [0.5555555555555556, \"#d8576b\"], [0.6666666666666666, \"#ed7953\"], [0.7777777777777778, \"#fb9f3a\"], [0.8888888888888888, \"#fdca26\"], [1.0, \"#f0f921\"]], \"type\": \"histogram2dcontour\"}], \"mesh3d\": [{\"colorbar\": {\"outlinewidth\": 0, \"ticks\": \"\"}, \"type\": \"mesh3d\"}], \"parcoords\": [{\"line\": {\"colorbar\": {\"outlinewidth\": 0, \"ticks\": \"\"}}, \"type\": \"parcoords\"}], \"pie\": [{\"automargin\": true, \"type\": \"pie\"}], \"scatter\": [{\"marker\": {\"colorbar\": {\"outlinewidth\": 0, \"ticks\": \"\"}}, \"type\": \"scatter\"}], \"scatter3d\": [{\"line\": {\"colorbar\": {\"outlinewidth\": 0, \"ticks\": \"\"}}, \"marker\": {\"colorbar\": {\"outlinewidth\": 0, \"ticks\": \"\"}}, \"type\": \"scatter3d\"}], \"scattercarpet\": [{\"marker\": {\"colorbar\": {\"outlinewidth\": 0, \"ticks\": \"\"}}, \"type\": \"scattercarpet\"}], \"scattergeo\": [{\"marker\": {\"colorbar\": {\"outlinewidth\": 0, \"ticks\": \"\"}}, \"type\": \"scattergeo\"}], \"scattergl\": [{\"marker\": {\"colorbar\": {\"outlinewidth\": 0, \"ticks\": \"\"}}, \"type\": \"scattergl\"}], \"scattermapbox\": [{\"marker\": {\"colorbar\": {\"outlinewidth\": 0, \"ticks\": \"\"}}, \"type\": \"scattermapbox\"}], \"scatterpolar\": [{\"marker\": {\"colorbar\": {\"outlinewidth\": 0, \"ticks\": \"\"}}, \"type\": \"scatterpolar\"}], \"scatterpolargl\": [{\"marker\": {\"colorbar\": {\"outlinewidth\": 0, \"ticks\": \"\"}}, \"type\": \"scatterpolargl\"}], \"scatterternary\": [{\"marker\": {\"colorbar\": {\"outlinewidth\": 0, \"ticks\": \"\"}}, \"type\": \"scatterternary\"}], \"surface\": [{\"colorbar\": {\"outlinewidth\": 0, \"ticks\": \"\"}, \"colorscale\": [[0.0, \"#0d0887\"], [0.1111111111111111, \"#46039f\"], [0.2222222222222222, \"#7201a8\"], [0.3333333333333333, \"#9c179e\"], [0.4444444444444444, \"#bd3786\"], [0.5555555555555556, \"#d8576b\"], [0.6666666666666666, \"#ed7953\"], [0.7777777777777778, \"#fb9f3a\"], [0.8888888888888888, \"#fdca26\"], [1.0, \"#f0f921\"]], \"type\": \"surface\"}], \"table\": [{\"cells\": {\"fill\": {\"color\": \"#EBF0F8\"}, \"line\": {\"color\": \"white\"}}, \"header\": {\"fill\": {\"color\": \"#C8D4E3\"}, \"line\": {\"color\": \"white\"}}, \"type\": \"table\"}]}, \"layout\": {\"annotationdefaults\": {\"arrowcolor\": \"#2a3f5f\", \"arrowhead\": 0, \"arrowwidth\": 1}, \"coloraxis\": {\"colorbar\": {\"outlinewidth\": 0, \"ticks\": \"\"}}, \"colorscale\": {\"diverging\": [[0, \"#8e0152\"], [0.1, \"#c51b7d\"], [0.2, \"#de77ae\"], [0.3, \"#f1b6da\"], [0.4, \"#fde0ef\"], [0.5, \"#f7f7f7\"], [0.6, \"#e6f5d0\"], [0.7, \"#b8e186\"], [0.8, \"#7fbc41\"], [0.9, \"#4d9221\"], [1, \"#276419\"]], \"sequential\": [[0.0, \"#0d0887\"], [0.1111111111111111, \"#46039f\"], [0.2222222222222222, \"#7201a8\"], [0.3333333333333333, \"#9c179e\"], [0.4444444444444444, \"#bd3786\"], [0.5555555555555556, \"#d8576b\"], [0.6666666666666666, \"#ed7953\"], [0.7777777777777778, \"#fb9f3a\"], [0.8888888888888888, \"#fdca26\"], [1.0, \"#f0f921\"]], \"sequentialminus\": [[0.0, \"#0d0887\"], [0.1111111111111111, \"#46039f\"], [0.2222222222222222, \"#7201a8\"], [0.3333333333333333, \"#9c179e\"], [0.4444444444444444, \"#bd3786\"], [0.5555555555555556, \"#d8576b\"], [0.6666666666666666, \"#ed7953\"], [0.7777777777777778, \"#fb9f3a\"], [0.8888888888888888, \"#fdca26\"], [1.0, \"#f0f921\"]]}, \"colorway\": [\"#636efa\", \"#EF553B\", \"#00cc96\", \"#ab63fa\", \"#FFA15A\", \"#19d3f3\", \"#FF6692\", \"#B6E880\", \"#FF97FF\", \"#FECB52\"], \"font\": {\"color\": \"#2a3f5f\"}, \"geo\": {\"bgcolor\": \"white\", \"lakecolor\": \"white\", \"landcolor\": \"#E5ECF6\", \"showlakes\": true, \"showland\": true, \"subunitcolor\": \"white\"}, \"hoverlabel\": {\"align\": \"left\"}, \"hovermode\": \"closest\", \"mapbox\": {\"style\": \"light\"}, \"paper_bgcolor\": \"white\", \"plot_bgcolor\": \"#E5ECF6\", \"polar\": {\"angularaxis\": {\"gridcolor\": \"white\", \"linecolor\": \"white\", \"ticks\": \"\"}, \"bgcolor\": \"#E5ECF6\", \"radialaxis\": {\"gridcolor\": \"white\", \"linecolor\": \"white\", \"ticks\": \"\"}}, \"scene\": {\"xaxis\": {\"backgroundcolor\": \"#E5ECF6\", \"gridcolor\": \"white\", \"gridwidth\": 2, \"linecolor\": \"white\", \"showbackground\": true, \"ticks\": \"\", \"zerolinecolor\": \"white\"}, \"yaxis\": {\"backgroundcolor\": \"#E5ECF6\", \"gridcolor\": \"white\", \"gridwidth\": 2, \"linecolor\": \"white\", \"showbackground\": true, \"ticks\": \"\", \"zerolinecolor\": \"white\"}, \"zaxis\": {\"backgroundcolor\": \"#E5ECF6\", \"gridcolor\": \"white\", \"gridwidth\": 2, \"linecolor\": \"white\", \"showbackground\": true, \"ticks\": \"\", \"zerolinecolor\": \"white\"}}, \"shapedefaults\": {\"line\": {\"color\": \"#2a3f5f\"}}, \"ternary\": {\"aaxis\": {\"gridcolor\": \"white\", \"linecolor\": \"white\", \"ticks\": \"\"}, \"baxis\": {\"gridcolor\": \"white\", \"linecolor\": \"white\", \"ticks\": \"\"}, \"bgcolor\": \"#E5ECF6\", \"caxis\": {\"gridcolor\": \"white\", \"linecolor\": \"white\", \"ticks\": \"\"}}, \"title\": {\"x\": 0.05}, \"xaxis\": {\"automargin\": true, \"gridcolor\": \"white\", \"linecolor\": \"white\", \"ticks\": \"\", \"title\": {\"standoff\": 15}, \"zerolinecolor\": \"white\", \"zerolinewidth\": 2}, \"yaxis\": {\"automargin\": true, \"gridcolor\": \"white\", \"linecolor\": \"white\", \"ticks\": \"\", \"title\": {\"standoff\": 15}, \"zerolinecolor\": \"white\", \"zerolinewidth\": 2}}}, \"title\": {\"text\": \"Total Female Athletes by Country Over All Olympic Competitions\"}},\n",
       "                        {\"responsive\": true}\n",
       "                    ).then(function(){\n",
       "                            \n",
       "var gd = document.getElementById('03d1abcc-d222-4b1f-9504-f766c1d3691e');\n",
       "var x = new MutationObserver(function (mutations, observer) {{\n",
       "        var display = window.getComputedStyle(gd).display;\n",
       "        if (!display || display === 'none') {{\n",
       "            console.log([gd, 'removed!']);\n",
       "            Plotly.purge(gd);\n",
       "            observer.disconnect();\n",
       "        }}\n",
       "}});\n",
       "\n",
       "// Listen for the removal of the full notebook cells\n",
       "var notebookContainer = gd.closest('#notebook-container');\n",
       "if (notebookContainer) {{\n",
       "    x.observe(notebookContainer, {childList: true});\n",
       "}}\n",
       "\n",
       "// Listen for the clearing of the current output cell\n",
       "var outputEl = gd.closest('.output');\n",
       "if (outputEl) {{\n",
       "    x.observe(outputEl, {childList: true});\n",
       "}}\n",
       "\n",
       "                        })\n",
       "                };\n",
       "                });\n",
       "            </script>\n",
       "        </div>"
      ]
     },
     "metadata": {},
     "output_type": "display_data"
    }
   ],
   "source": [
    "create_map(country_gender_map, 'Female', 'RdBu')"
   ]
  },
  {
   "cell_type": "markdown",
   "metadata": {},
   "source": [
    "**In order to see the interactive map above, please proceed to https://nbviewer.jupyter.org/ and enter the url for this notebook!**"
   ]
  },
  {
   "cell_type": "markdown",
   "metadata": {},
   "source": [
    "The map above displays the total number of female athletes per country throughout the history of the Olympic Games. Notable observations include:\n",
    "- African and Middle Eastern nations appear to have the lowest female participation in the games.\n",
    "- South American and Eastern European nations have slightly more than the former mentioned regions but still much lower than average.\n",
    "- The United States boasts the greatest number of female athletes at 5533.\n",
    "- Russia, Germany, the UK, and Canada follow the United States' lead, all with high numbers of female athletes.\n",
    "- Given their high standing in other areas of our analysis, China, Australia, Japan, France, and many other Western European nations remain relatively low with regards to the number of female athletes."
   ]
  },
  {
   "cell_type": "markdown",
   "metadata": {},
   "source": [
    "Next, we will create another dataframe for mapping that computes the proportion of a country's athletes that are female. Given the differing sizes of nations, this will allow us to more accurately visualize how country's compare in their gender equality, without allowing countries such as the US to outrank other countries based simply on sheer size."
   ]
  },
  {
   "cell_type": "code",
   "execution_count": 97,
   "metadata": {},
   "outputs": [],
   "source": [
    "prop_gender_map = country_gender_map.copy()"
   ]
  },
  {
   "cell_type": "code",
   "execution_count": 100,
   "metadata": {},
   "outputs": [],
   "source": [
    "prop_gender_map['Total'] = prop_gender_map.Female+prop_gender_map.Male"
   ]
  },
  {
   "cell_type": "code",
   "execution_count": 102,
   "metadata": {},
   "outputs": [],
   "source": [
    "prop_gender_map['Proportion Female'] = prop_gender_map.Female/prop_gender_map.Total"
   ]
  },
  {
   "cell_type": "code",
   "execution_count": 103,
   "metadata": {},
   "outputs": [],
   "source": [
    "prop_gender_map['Proportion Male'] = prop_gender_map.Male/prop_gender_map.Total"
   ]
  },
  {
   "cell_type": "code",
   "execution_count": 107,
   "metadata": {},
   "outputs": [
    {
     "data": {
      "application/vnd.plotly.v1+json": {
       "config": {
        "linkText": "Export to plot.ly",
        "plotlyServerURL": "https://plot.ly",
        "showLink": false
       },
       "data": [
        {
         "autocolorscale": false,
         "colorbar": {
          "tickprefix": "",
          "title": {
           "text": "Total Athletes"
          }
         },
         "colorscale": [
          [
           0,
           "rgb(103,0,31)"
          ],
          [
           0.1,
           "rgb(178,24,43)"
          ],
          [
           0.2,
           "rgb(214,96,77)"
          ],
          [
           0.3,
           "rgb(244,165,130)"
          ],
          [
           0.4,
           "rgb(253,219,199)"
          ],
          [
           0.5,
           "rgb(247,247,247)"
          ],
          [
           0.6,
           "rgb(209,229,240)"
          ],
          [
           0.7,
           "rgb(146,197,222)"
          ],
          [
           0.8,
           "rgb(67,147,195)"
          ],
          [
           0.9,
           "rgb(33,102,172)"
          ],
          [
           1,
           "rgb(5,48,97)"
          ]
         ],
         "locationmode": "country names",
         "locations": [
          "Afghanistan",
          "Curacao",
          "Albania",
          "Algeria",
          "Andorra",
          "Angola",
          "Antigua",
          "Argentina",
          "Armenia",
          "Aruba",
          "American Samoa",
          "Austria",
          "Azerbaijan",
          "Bahamas",
          "Bangladesh",
          "Barbados",
          "Burundi",
          "Belgium",
          "Benin",
          "Bermuda",
          "Bhutan",
          "Bosnia and Herzegovina",
          "Belize",
          "Belarus",
          "Boliva",
          "Botswana",
          "Brazil",
          "Bahrain",
          "Brunei",
          "Bulgaria",
          "Burkina Faso",
          "Central African Republic",
          "Cambodia",
          "Cayman Islands",
          "Republic of Congo",
          "Chad",
          "Chile",
          "Ivory Coast",
          "Cameroon",
          "Democratic Republic of the Congo",
          "Cook Islands",
          "Colombia",
          "Comoros",
          "Cape Verde",
          "Costa Rica",
          "Croatia",
          "Cuba",
          "Cyprus",
          "Denmark",
          "Djibouti",
          "Dominica",
          "Dominican Republic",
          "Ecuador",
          "Egypt",
          "Eritrea",
          "El Salvador",
          "Spain",
          "Estonia",
          "Ethiopia",
          "Fiji",
          "Finland",
          "France",
          "Micronesia",
          "Gabon",
          "Gambia",
          "UK",
          "Guinea-Bissau",
          "Georgia",
          "Equatorial Guinea",
          "Ghana",
          "Grenada",
          "Guatemala",
          "Guinea",
          "Guam",
          "Guyana",
          "Haiti",
          "Honduras",
          "Hungary",
          "Indonesia",
          "India",
          "Individual Olympic Athletes",
          "Iran",
          "Ireland",
          "Iraq",
          "Iceland",
          "Israel",
          "Virgin Islands, US",
          "Italy",
          "Virgin Islands, British",
          "Jamaica",
          "Jordan",
          "Japan",
          "Kazakhstan",
          "Kenya",
          "Kyrgyzstan",
          "Kiribati",
          "South Korea",
          "Kosovo",
          "Saudi Arabia",
          "Kuwait",
          "Laos",
          "Latvia",
          "Libya",
          "Liberia",
          "Saint Lucia",
          "Lesotho",
          "Lebanon",
          "Liechtenstein",
          "Lithuania",
          "Luxembourg",
          "Madagascar",
          "Morocco",
          "Malawi",
          "Moldova",
          "Maldives",
          "Mexico",
          "Mongolia",
          "Marshall Islands",
          "Macedonia",
          "Mali",
          "Malta",
          "Montenegro",
          "Monaco",
          "Mozambique",
          "Mauritius",
          "Mauritania",
          "Myanmar",
          "Namibia",
          "Nicaragua",
          "Netherlands",
          "Nepal",
          "Nigeria",
          "Niger",
          "Norway",
          "Nauru",
          "New Zealand",
          "Oman",
          "Pakistan",
          "Panama",
          "Paraguay",
          "Peru",
          "Philippines",
          "Palestine",
          "Palau",
          "Papua New Guinea",
          "Poland",
          "Portugal",
          "North Korea",
          "Puerto Rico",
          "Qatar",
          null,
          "Romania",
          "South Africa",
          "Rwanda",
          "Samoa",
          "Senegal",
          "Seychelles",
          "Saint Kitts",
          "Sierra Leone",
          "Slovenia",
          "San Marino",
          "Solomon Islands",
          "Somalia",
          "Sri Lanka",
          "South Sudan",
          "Sao Tome and Principe",
          "Sudan",
          "Switzerland",
          "Suriname",
          "Slovakia",
          "Sweden",
          "Swaziland",
          "Tanzania",
          "Tonga",
          "Thailand",
          "Tajikistan",
          "Turkmenistan",
          "Timor-Leste",
          "Togo",
          "Taiwan",
          "Tunisia",
          "Turkey",
          null,
          "United Arab Emirates",
          "Uganda",
          "Ukraine",
          null,
          "Uruguay",
          "USA",
          "Uzbekistan",
          "Vanuatu",
          "Venezuela",
          "Vietnam",
          "Saint Vincent",
          "Vietnam",
          "Zambia",
          "Germany",
          "Yemen",
          "Serbia",
          "Czech Republic",
          "Russia",
          "Malaysia",
          "Greece",
          "Trinidad",
          "Vietnam",
          "Zimbabwe",
          "Australia",
          "Syria",
          "Canada",
          "China"
         ],
         "marker": {
          "line": {
           "color": "rgb(0,0,0)",
           "width": 0.5
          }
         },
         "reversescale": false,
         "text": [
          "Afghanistan",
          "Curacao",
          "Albania",
          "Algeria",
          "Andorra",
          "Angola",
          "Antigua",
          "Argentina",
          "Armenia",
          "Aruba",
          "American Samoa",
          "Austria",
          "Azerbaijan",
          "Bahamas",
          "Bangladesh",
          "Barbados",
          "Burundi",
          "Belgium",
          "Benin",
          "Bermuda",
          "Bhutan",
          "Bosnia and Herzegovina",
          "Belize",
          "Belarus",
          "Boliva",
          "Botswana",
          "Brazil",
          "Bahrain",
          "Brunei",
          "Bulgaria",
          "Burkina Faso",
          "Central African Republic",
          "Cambodia",
          "Cayman Islands",
          "Republic of Congo",
          "Chad",
          "Chile",
          "Ivory Coast",
          "Cameroon",
          "Democratic Republic of the Congo",
          "Cook Islands",
          "Colombia",
          "Comoros",
          "Cape Verde",
          "Costa Rica",
          "Croatia",
          "Cuba",
          "Cyprus",
          "Denmark",
          "Djibouti",
          "Dominica",
          "Dominican Republic",
          "Ecuador",
          "Egypt",
          "Eritrea",
          "El Salvador",
          "Spain",
          "Estonia",
          "Ethiopia",
          "Fiji",
          "Finland",
          "France",
          "Micronesia",
          "Gabon",
          "Gambia",
          "UK",
          "Guinea-Bissau",
          "Georgia",
          "Equatorial Guinea",
          "Ghana",
          "Grenada",
          "Guatemala",
          "Guinea",
          "Guam",
          "Guyana",
          "Haiti",
          "Honduras",
          "Hungary",
          "Indonesia",
          "India",
          "Individual Olympic Athletes",
          "Iran",
          "Ireland",
          "Iraq",
          "Iceland",
          "Israel",
          "Virgin Islands, US",
          "Italy",
          "Virgin Islands, British",
          "Jamaica",
          "Jordan",
          "Japan",
          "Kazakhstan",
          "Kenya",
          "Kyrgyzstan",
          "Kiribati",
          "South Korea",
          "Kosovo",
          "Saudi Arabia",
          "Kuwait",
          "Laos",
          "Latvia",
          "Libya",
          "Liberia",
          "Saint Lucia",
          "Lesotho",
          "Lebanon",
          "Liechtenstein",
          "Lithuania",
          "Luxembourg",
          "Madagascar",
          "Morocco",
          "Malawi",
          "Moldova",
          "Maldives",
          "Mexico",
          "Mongolia",
          "Marshall Islands",
          "Macedonia",
          "Mali",
          "Malta",
          "Montenegro",
          "Monaco",
          "Mozambique",
          "Mauritius",
          "Mauritania",
          "Myanmar",
          "Namibia",
          "Nicaragua",
          "Netherlands",
          "Nepal",
          "Nigeria",
          "Niger",
          "Norway",
          "Nauru",
          "New Zealand",
          "Oman",
          "Pakistan",
          "Panama",
          "Paraguay",
          "Peru",
          "Philippines",
          "Palestine",
          "Palau",
          "Papua New Guinea",
          "Poland",
          "Portugal",
          "North Korea",
          "Puerto Rico",
          "Qatar",
          null,
          "Romania",
          "South Africa",
          "Rwanda",
          "Samoa",
          "Senegal",
          "Seychelles",
          "Saint Kitts",
          "Sierra Leone",
          "Slovenia",
          "San Marino",
          "Solomon Islands",
          "Somalia",
          "Sri Lanka",
          "South Sudan",
          "Sao Tome and Principe",
          "Sudan",
          "Switzerland",
          "Suriname",
          "Slovakia",
          "Sweden",
          "Swaziland",
          "Tanzania",
          "Tonga",
          "Thailand",
          "Tajikistan",
          "Turkmenistan",
          "Timor-Leste",
          "Togo",
          "Taiwan",
          "Tunisia",
          "Turkey",
          null,
          "United Arab Emirates",
          "Uganda",
          "Ukraine",
          null,
          "Uruguay",
          "USA",
          "Uzbekistan",
          "Vanuatu",
          "Venezuela",
          "Vietnam",
          "Saint Vincent",
          "Vietnam",
          "Zambia",
          "Germany",
          "Yemen",
          "Serbia",
          "Czech Republic",
          "Russia",
          "Malaysia",
          "Greece",
          "Trinidad",
          "Vietnam",
          "Zimbabwe",
          "Australia",
          "Syria",
          "Canada",
          "China"
         ],
         "type": "choropleth",
         "z": [
          0.03968253968253968,
          0.1518987341772152,
          0.38571428571428573,
          0.1705989110707804,
          0.2485207100591716,
          0.48314606741573035,
          0.2781954887218045,
          0.19502578101304216,
          0.17194570135746606,
          0.38095238095238093,
          0.1891891891891892,
          0.21396615444466058,
          0.2508833922261484,
          0.26737967914438504,
          0.23636363636363636,
          0.1780821917808219,
          0.358974358974359,
          0.15659839253305677,
          0.19718309859154928,
          0.19339622641509435,
          0.4722222222222222,
          0.291044776119403,
          0.11842105263157894,
          0.4443200895355344,
          0.23684210526315788,
          0.07777777777777778,
          0.2983367983367983,
          0.24603174603174602,
          0.2,
          0.3028328611898017,
          0.3409090909090909,
          0.23880597014925373,
          0.2698412698412698,
          0.14457831325301204,
          0.3333333333333333,
          0.24390243902439024,
          0.12756756756756757,
          0.3005181347150259,
          0.30128205128205127,
          0.26881720430107525,
          0.4,
          0.27595884003741816,
          0.42105263157894735,
          0.5,
          0.24621212121212122,
          0.2694063926940639,
          0.23719241629689392,
          0.2577777777777778,
          0.19887955182072828,
          0.13157894736842105,
          0.3684210526315789,
          0.259927797833935,
          0.23104693140794225,
          0.11159062885326756,
          0.13953488372093023,
          0.30275229357798167,
          0.27084509693205344,
          0.2522831050228311,
          0.24338624338624337,
          0.28879310344827586,
          0.181452350466435,
          0.21798087474525787,
          0.4230769230769231,
          0.23809523809523808,
          0.23214285714285715,
          0.2673792428198433,
          0.38095238095238093,
          0.2517482517482518,
          0.275,
          0.1615598885793872,
          0.3148148148148148,
          0.17647058823529413,
          0.2054794520547945,
          0.24107142857142858,
          0.20588235294117646,
          0.1792452830188679,
          0.20634920634920634,
          0.26456788254881186,
          0.3300970873786408,
          0.17116477272727273,
          0.30851063829787234,
          0.062103929024081114,
          0.21358490566037736,
          0.03017241379310345,
          0.20574162679425836,
          0.3112781954887218,
          0.19387755102040816,
          0.2373308446103593,
          0.1111111111111111,
          0.43160377358490565,
          0.2875,
          0.32910942681193744,
          0.384184744576627,
          0.20595854922279794,
          0.23788546255506607,
          0.2727272727272727,
          0.33378136200716846,
          0.625,
          0.021739130434782608,
          0.014084507042253521,
          0.2222222222222222,
          0.20715036803364878,
          0.13095238095238096,
          0.17567567567567569,
          0.4642857142857143,
          0.22727272727272727,
          0.12462006079027356,
          0.2032520325203252,
          0.3195718654434251,
          0.07329317269076305,
          0.40336134453781514,
          0.1348973607038123,
          0.16091954022988506,
          0.27350427350427353,
          0.24489795918367346,
          0.22534722222222223,
          0.27090909090909093,
          0.5,
          0.39285714285714285,
          0.31521739130434784,
          0.2627118644067797,
          0.3829787234042553,
          0.09137055837563451,
          0.2948717948717949,
          0.3541666666666667,
          0.1724137931034483,
          0.21621621621621623,
          0.36363636363636365,
          0.17054263565891473,
          0.3295084774790204,
          0.2553191489361702,
          0.35034013605442177,
          0.2127659574468085,
          0.22782258064516128,
          0.15384615384615385,
          0.33475661827497866,
          0.06060606060606061,
          0.019572953736654804,
          0.2805755395683453,
          0.17037037037037037,
          0.30451127819548873,
          0.14985590778097982,
          0.38095238095238093,
          0.52,
          0.24074074074074073,
          0.28210085387465766,
          0.18396846254927726,
          0.49070631970260226,
          0.18015102481121897,
          0.036458333333333336,
          0.4166666666666667,
          0.36753688989784333,
          0.2536528345996493,
          0.35714285714285715,
          0.19047619047619047,
          0.19592875318066158,
          0.2072072072072072,
          0.40476190476190477,
          0.23684210526315788,
          0.3726372637263726,
          0.09392265193370165,
          0.3333333333333333,
          0.15625,
          0.3013698630136986,
          0.3333333333333333,
          0.4,
          0.09345794392523364,
          0.19593495934959348,
          0.3188405797101449,
          0.34218009478672984,
          0.2380381340688332,
          0.11940298507462686,
          0.13043478260869565,
          0.21739130434782608,
          0.28647925033467203,
          0.22857142857142856,
          0.4074074074074074,
          0.5555555555555556,
          0.1864406779661017,
          0.37192342752962626,
          0.16934046345811052,
          0.1851032448377581,
          0.2857142857142857,
          0.04861111111111111,
          0.16153846153846155,
          0.4611176240719031,
          0,
          0.1076388888888889,
          0.2934811435845754,
          0.30505050505050507,
          0.34285714285714286,
          0.23891891891891892,
          0.4805194805194805,
          0.2619047619047619,
          0.03225806451612903,
          0.10382513661202186,
          0.30529496946420703,
          0.08333333333333333,
          0.17445388349514562,
          0.2492613901415021,
          0.3510947656517277,
          0.17677642980935876,
          0.20520050125313283,
          0.20253164556962025,
          0.35185185185185186,
          0.35294117647058826,
          0.356162610046608,
          0.06093189964157706,
          0.36603657283747687,
          0.5135599038791624
         ]
        }
       ],
       "layout": {
        "geo": {
         "projection": {
          "type": "natural earth"
         },
         "showcoastlines": true,
         "showframe": true,
         "showlakes": false
        },
        "template": {
         "data": {
          "bar": [
           {
            "error_x": {
             "color": "#2a3f5f"
            },
            "error_y": {
             "color": "#2a3f5f"
            },
            "marker": {
             "line": {
              "color": "#E5ECF6",
              "width": 0.5
             }
            },
            "type": "bar"
           }
          ],
          "barpolar": [
           {
            "marker": {
             "line": {
              "color": "#E5ECF6",
              "width": 0.5
             }
            },
            "type": "barpolar"
           }
          ],
          "carpet": [
           {
            "aaxis": {
             "endlinecolor": "#2a3f5f",
             "gridcolor": "white",
             "linecolor": "white",
             "minorgridcolor": "white",
             "startlinecolor": "#2a3f5f"
            },
            "baxis": {
             "endlinecolor": "#2a3f5f",
             "gridcolor": "white",
             "linecolor": "white",
             "minorgridcolor": "white",
             "startlinecolor": "#2a3f5f"
            },
            "type": "carpet"
           }
          ],
          "choropleth": [
           {
            "colorbar": {
             "outlinewidth": 0,
             "ticks": ""
            },
            "type": "choropleth"
           }
          ],
          "contour": [
           {
            "colorbar": {
             "outlinewidth": 0,
             "ticks": ""
            },
            "colorscale": [
             [
              0,
              "#0d0887"
             ],
             [
              0.1111111111111111,
              "#46039f"
             ],
             [
              0.2222222222222222,
              "#7201a8"
             ],
             [
              0.3333333333333333,
              "#9c179e"
             ],
             [
              0.4444444444444444,
              "#bd3786"
             ],
             [
              0.5555555555555556,
              "#d8576b"
             ],
             [
              0.6666666666666666,
              "#ed7953"
             ],
             [
              0.7777777777777778,
              "#fb9f3a"
             ],
             [
              0.8888888888888888,
              "#fdca26"
             ],
             [
              1,
              "#f0f921"
             ]
            ],
            "type": "contour"
           }
          ],
          "contourcarpet": [
           {
            "colorbar": {
             "outlinewidth": 0,
             "ticks": ""
            },
            "type": "contourcarpet"
           }
          ],
          "heatmap": [
           {
            "colorbar": {
             "outlinewidth": 0,
             "ticks": ""
            },
            "colorscale": [
             [
              0,
              "#0d0887"
             ],
             [
              0.1111111111111111,
              "#46039f"
             ],
             [
              0.2222222222222222,
              "#7201a8"
             ],
             [
              0.3333333333333333,
              "#9c179e"
             ],
             [
              0.4444444444444444,
              "#bd3786"
             ],
             [
              0.5555555555555556,
              "#d8576b"
             ],
             [
              0.6666666666666666,
              "#ed7953"
             ],
             [
              0.7777777777777778,
              "#fb9f3a"
             ],
             [
              0.8888888888888888,
              "#fdca26"
             ],
             [
              1,
              "#f0f921"
             ]
            ],
            "type": "heatmap"
           }
          ],
          "heatmapgl": [
           {
            "colorbar": {
             "outlinewidth": 0,
             "ticks": ""
            },
            "colorscale": [
             [
              0,
              "#0d0887"
             ],
             [
              0.1111111111111111,
              "#46039f"
             ],
             [
              0.2222222222222222,
              "#7201a8"
             ],
             [
              0.3333333333333333,
              "#9c179e"
             ],
             [
              0.4444444444444444,
              "#bd3786"
             ],
             [
              0.5555555555555556,
              "#d8576b"
             ],
             [
              0.6666666666666666,
              "#ed7953"
             ],
             [
              0.7777777777777778,
              "#fb9f3a"
             ],
             [
              0.8888888888888888,
              "#fdca26"
             ],
             [
              1,
              "#f0f921"
             ]
            ],
            "type": "heatmapgl"
           }
          ],
          "histogram": [
           {
            "marker": {
             "colorbar": {
              "outlinewidth": 0,
              "ticks": ""
             }
            },
            "type": "histogram"
           }
          ],
          "histogram2d": [
           {
            "colorbar": {
             "outlinewidth": 0,
             "ticks": ""
            },
            "colorscale": [
             [
              0,
              "#0d0887"
             ],
             [
              0.1111111111111111,
              "#46039f"
             ],
             [
              0.2222222222222222,
              "#7201a8"
             ],
             [
              0.3333333333333333,
              "#9c179e"
             ],
             [
              0.4444444444444444,
              "#bd3786"
             ],
             [
              0.5555555555555556,
              "#d8576b"
             ],
             [
              0.6666666666666666,
              "#ed7953"
             ],
             [
              0.7777777777777778,
              "#fb9f3a"
             ],
             [
              0.8888888888888888,
              "#fdca26"
             ],
             [
              1,
              "#f0f921"
             ]
            ],
            "type": "histogram2d"
           }
          ],
          "histogram2dcontour": [
           {
            "colorbar": {
             "outlinewidth": 0,
             "ticks": ""
            },
            "colorscale": [
             [
              0,
              "#0d0887"
             ],
             [
              0.1111111111111111,
              "#46039f"
             ],
             [
              0.2222222222222222,
              "#7201a8"
             ],
             [
              0.3333333333333333,
              "#9c179e"
             ],
             [
              0.4444444444444444,
              "#bd3786"
             ],
             [
              0.5555555555555556,
              "#d8576b"
             ],
             [
              0.6666666666666666,
              "#ed7953"
             ],
             [
              0.7777777777777778,
              "#fb9f3a"
             ],
             [
              0.8888888888888888,
              "#fdca26"
             ],
             [
              1,
              "#f0f921"
             ]
            ],
            "type": "histogram2dcontour"
           }
          ],
          "mesh3d": [
           {
            "colorbar": {
             "outlinewidth": 0,
             "ticks": ""
            },
            "type": "mesh3d"
           }
          ],
          "parcoords": [
           {
            "line": {
             "colorbar": {
              "outlinewidth": 0,
              "ticks": ""
             }
            },
            "type": "parcoords"
           }
          ],
          "pie": [
           {
            "automargin": true,
            "type": "pie"
           }
          ],
          "scatter": [
           {
            "marker": {
             "colorbar": {
              "outlinewidth": 0,
              "ticks": ""
             }
            },
            "type": "scatter"
           }
          ],
          "scatter3d": [
           {
            "line": {
             "colorbar": {
              "outlinewidth": 0,
              "ticks": ""
             }
            },
            "marker": {
             "colorbar": {
              "outlinewidth": 0,
              "ticks": ""
             }
            },
            "type": "scatter3d"
           }
          ],
          "scattercarpet": [
           {
            "marker": {
             "colorbar": {
              "outlinewidth": 0,
              "ticks": ""
             }
            },
            "type": "scattercarpet"
           }
          ],
          "scattergeo": [
           {
            "marker": {
             "colorbar": {
              "outlinewidth": 0,
              "ticks": ""
             }
            },
            "type": "scattergeo"
           }
          ],
          "scattergl": [
           {
            "marker": {
             "colorbar": {
              "outlinewidth": 0,
              "ticks": ""
             }
            },
            "type": "scattergl"
           }
          ],
          "scattermapbox": [
           {
            "marker": {
             "colorbar": {
              "outlinewidth": 0,
              "ticks": ""
             }
            },
            "type": "scattermapbox"
           }
          ],
          "scatterpolar": [
           {
            "marker": {
             "colorbar": {
              "outlinewidth": 0,
              "ticks": ""
             }
            },
            "type": "scatterpolar"
           }
          ],
          "scatterpolargl": [
           {
            "marker": {
             "colorbar": {
              "outlinewidth": 0,
              "ticks": ""
             }
            },
            "type": "scatterpolargl"
           }
          ],
          "scatterternary": [
           {
            "marker": {
             "colorbar": {
              "outlinewidth": 0,
              "ticks": ""
             }
            },
            "type": "scatterternary"
           }
          ],
          "surface": [
           {
            "colorbar": {
             "outlinewidth": 0,
             "ticks": ""
            },
            "colorscale": [
             [
              0,
              "#0d0887"
             ],
             [
              0.1111111111111111,
              "#46039f"
             ],
             [
              0.2222222222222222,
              "#7201a8"
             ],
             [
              0.3333333333333333,
              "#9c179e"
             ],
             [
              0.4444444444444444,
              "#bd3786"
             ],
             [
              0.5555555555555556,
              "#d8576b"
             ],
             [
              0.6666666666666666,
              "#ed7953"
             ],
             [
              0.7777777777777778,
              "#fb9f3a"
             ],
             [
              0.8888888888888888,
              "#fdca26"
             ],
             [
              1,
              "#f0f921"
             ]
            ],
            "type": "surface"
           }
          ],
          "table": [
           {
            "cells": {
             "fill": {
              "color": "#EBF0F8"
             },
             "line": {
              "color": "white"
             }
            },
            "header": {
             "fill": {
              "color": "#C8D4E3"
             },
             "line": {
              "color": "white"
             }
            },
            "type": "table"
           }
          ]
         },
         "layout": {
          "annotationdefaults": {
           "arrowcolor": "#2a3f5f",
           "arrowhead": 0,
           "arrowwidth": 1
          },
          "coloraxis": {
           "colorbar": {
            "outlinewidth": 0,
            "ticks": ""
           }
          },
          "colorscale": {
           "diverging": [
            [
             0,
             "#8e0152"
            ],
            [
             0.1,
             "#c51b7d"
            ],
            [
             0.2,
             "#de77ae"
            ],
            [
             0.3,
             "#f1b6da"
            ],
            [
             0.4,
             "#fde0ef"
            ],
            [
             0.5,
             "#f7f7f7"
            ],
            [
             0.6,
             "#e6f5d0"
            ],
            [
             0.7,
             "#b8e186"
            ],
            [
             0.8,
             "#7fbc41"
            ],
            [
             0.9,
             "#4d9221"
            ],
            [
             1,
             "#276419"
            ]
           ],
           "sequential": [
            [
             0,
             "#0d0887"
            ],
            [
             0.1111111111111111,
             "#46039f"
            ],
            [
             0.2222222222222222,
             "#7201a8"
            ],
            [
             0.3333333333333333,
             "#9c179e"
            ],
            [
             0.4444444444444444,
             "#bd3786"
            ],
            [
             0.5555555555555556,
             "#d8576b"
            ],
            [
             0.6666666666666666,
             "#ed7953"
            ],
            [
             0.7777777777777778,
             "#fb9f3a"
            ],
            [
             0.8888888888888888,
             "#fdca26"
            ],
            [
             1,
             "#f0f921"
            ]
           ],
           "sequentialminus": [
            [
             0,
             "#0d0887"
            ],
            [
             0.1111111111111111,
             "#46039f"
            ],
            [
             0.2222222222222222,
             "#7201a8"
            ],
            [
             0.3333333333333333,
             "#9c179e"
            ],
            [
             0.4444444444444444,
             "#bd3786"
            ],
            [
             0.5555555555555556,
             "#d8576b"
            ],
            [
             0.6666666666666666,
             "#ed7953"
            ],
            [
             0.7777777777777778,
             "#fb9f3a"
            ],
            [
             0.8888888888888888,
             "#fdca26"
            ],
            [
             1,
             "#f0f921"
            ]
           ]
          },
          "colorway": [
           "#636efa",
           "#EF553B",
           "#00cc96",
           "#ab63fa",
           "#FFA15A",
           "#19d3f3",
           "#FF6692",
           "#B6E880",
           "#FF97FF",
           "#FECB52"
          ],
          "font": {
           "color": "#2a3f5f"
          },
          "geo": {
           "bgcolor": "white",
           "lakecolor": "white",
           "landcolor": "#E5ECF6",
           "showlakes": true,
           "showland": true,
           "subunitcolor": "white"
          },
          "hoverlabel": {
           "align": "left"
          },
          "hovermode": "closest",
          "mapbox": {
           "style": "light"
          },
          "paper_bgcolor": "white",
          "plot_bgcolor": "#E5ECF6",
          "polar": {
           "angularaxis": {
            "gridcolor": "white",
            "linecolor": "white",
            "ticks": ""
           },
           "bgcolor": "#E5ECF6",
           "radialaxis": {
            "gridcolor": "white",
            "linecolor": "white",
            "ticks": ""
           }
          },
          "scene": {
           "xaxis": {
            "backgroundcolor": "#E5ECF6",
            "gridcolor": "white",
            "gridwidth": 2,
            "linecolor": "white",
            "showbackground": true,
            "ticks": "",
            "zerolinecolor": "white"
           },
           "yaxis": {
            "backgroundcolor": "#E5ECF6",
            "gridcolor": "white",
            "gridwidth": 2,
            "linecolor": "white",
            "showbackground": true,
            "ticks": "",
            "zerolinecolor": "white"
           },
           "zaxis": {
            "backgroundcolor": "#E5ECF6",
            "gridcolor": "white",
            "gridwidth": 2,
            "linecolor": "white",
            "showbackground": true,
            "ticks": "",
            "zerolinecolor": "white"
           }
          },
          "shapedefaults": {
           "line": {
            "color": "#2a3f5f"
           }
          },
          "ternary": {
           "aaxis": {
            "gridcolor": "white",
            "linecolor": "white",
            "ticks": ""
           },
           "baxis": {
            "gridcolor": "white",
            "linecolor": "white",
            "ticks": ""
           },
           "bgcolor": "#E5ECF6",
           "caxis": {
            "gridcolor": "white",
            "linecolor": "white",
            "ticks": ""
           }
          },
          "title": {
           "x": 0.05
          },
          "xaxis": {
           "automargin": true,
           "gridcolor": "white",
           "linecolor": "white",
           "ticks": "",
           "title": {
            "standoff": 15
           },
           "zerolinecolor": "white",
           "zerolinewidth": 2
          },
          "yaxis": {
           "automargin": true,
           "gridcolor": "white",
           "linecolor": "white",
           "ticks": "",
           "title": {
            "standoff": 15
           },
           "zerolinecolor": "white",
           "zerolinewidth": 2
          }
         }
        },
        "title": {
         "text": "Total Proportion Female Athletes by Country Over All Olympic Competitions"
        }
       }
      },
      "text/html": [
       "<div>\n",
       "        \n",
       "        \n",
       "            <div id=\"f54a6bd1-6f8b-4df7-81eb-ab0aa3958bfc\" class=\"plotly-graph-div\" style=\"height:525px; width:100%;\"></div>\n",
       "            <script type=\"text/javascript\">\n",
       "                require([\"plotly\"], function(Plotly) {\n",
       "                    window.PLOTLYENV=window.PLOTLYENV || {};\n",
       "                    \n",
       "                if (document.getElementById(\"f54a6bd1-6f8b-4df7-81eb-ab0aa3958bfc\")) {\n",
       "                    Plotly.newPlot(\n",
       "                        'f54a6bd1-6f8b-4df7-81eb-ab0aa3958bfc',\n",
       "                        [{\"autocolorscale\": false, \"colorbar\": {\"tickprefix\": \"\", \"title\": {\"text\": \"Total Athletes\"}}, \"colorscale\": [[0.0, \"rgb(103,0,31)\"], [0.1, \"rgb(178,24,43)\"], [0.2, \"rgb(214,96,77)\"], [0.3, \"rgb(244,165,130)\"], [0.4, \"rgb(253,219,199)\"], [0.5, \"rgb(247,247,247)\"], [0.6, \"rgb(209,229,240)\"], [0.7, \"rgb(146,197,222)\"], [0.8, \"rgb(67,147,195)\"], [0.9, \"rgb(33,102,172)\"], [1.0, \"rgb(5,48,97)\"]], \"locationmode\": \"country names\", \"locations\": [\"Afghanistan\", \"Curacao\", \"Albania\", \"Algeria\", \"Andorra\", \"Angola\", \"Antigua\", \"Argentina\", \"Armenia\", \"Aruba\", \"American Samoa\", \"Austria\", \"Azerbaijan\", \"Bahamas\", \"Bangladesh\", \"Barbados\", \"Burundi\", \"Belgium\", \"Benin\", \"Bermuda\", \"Bhutan\", \"Bosnia and Herzegovina\", \"Belize\", \"Belarus\", \"Boliva\", \"Botswana\", \"Brazil\", \"Bahrain\", \"Brunei\", \"Bulgaria\", \"Burkina Faso\", \"Central African Republic\", \"Cambodia\", \"Cayman Islands\", \"Republic of Congo\", \"Chad\", \"Chile\", \"Ivory Coast\", \"Cameroon\", \"Democratic Republic of the Congo\", \"Cook Islands\", \"Colombia\", \"Comoros\", \"Cape Verde\", \"Costa Rica\", \"Croatia\", \"Cuba\", \"Cyprus\", \"Denmark\", \"Djibouti\", \"Dominica\", \"Dominican Republic\", \"Ecuador\", \"Egypt\", \"Eritrea\", \"El Salvador\", \"Spain\", \"Estonia\", \"Ethiopia\", \"Fiji\", \"Finland\", \"France\", \"Micronesia\", \"Gabon\", \"Gambia\", \"UK\", \"Guinea-Bissau\", \"Georgia\", \"Equatorial Guinea\", \"Ghana\", \"Grenada\", \"Guatemala\", \"Guinea\", \"Guam\", \"Guyana\", \"Haiti\", \"Honduras\", \"Hungary\", \"Indonesia\", \"India\", \"Individual Olympic Athletes\", \"Iran\", \"Ireland\", \"Iraq\", \"Iceland\", \"Israel\", \"Virgin Islands, US\", \"Italy\", \"Virgin Islands, British\", \"Jamaica\", \"Jordan\", \"Japan\", \"Kazakhstan\", \"Kenya\", \"Kyrgyzstan\", \"Kiribati\", \"South Korea\", \"Kosovo\", \"Saudi Arabia\", \"Kuwait\", \"Laos\", \"Latvia\", \"Libya\", \"Liberia\", \"Saint Lucia\", \"Lesotho\", \"Lebanon\", \"Liechtenstein\", \"Lithuania\", \"Luxembourg\", \"Madagascar\", \"Morocco\", \"Malawi\", \"Moldova\", \"Maldives\", \"Mexico\", \"Mongolia\", \"Marshall Islands\", \"Macedonia\", \"Mali\", \"Malta\", \"Montenegro\", \"Monaco\", \"Mozambique\", \"Mauritius\", \"Mauritania\", \"Myanmar\", \"Namibia\", \"Nicaragua\", \"Netherlands\", \"Nepal\", \"Nigeria\", \"Niger\", \"Norway\", \"Nauru\", \"New Zealand\", \"Oman\", \"Pakistan\", \"Panama\", \"Paraguay\", \"Peru\", \"Philippines\", \"Palestine\", \"Palau\", \"Papua New Guinea\", \"Poland\", \"Portugal\", \"North Korea\", \"Puerto Rico\", \"Qatar\", null, \"Romania\", \"South Africa\", \"Rwanda\", \"Samoa\", \"Senegal\", \"Seychelles\", \"Saint Kitts\", \"Sierra Leone\", \"Slovenia\", \"San Marino\", \"Solomon Islands\", \"Somalia\", \"Sri Lanka\", \"South Sudan\", \"Sao Tome and Principe\", \"Sudan\", \"Switzerland\", \"Suriname\", \"Slovakia\", \"Sweden\", \"Swaziland\", \"Tanzania\", \"Tonga\", \"Thailand\", \"Tajikistan\", \"Turkmenistan\", \"Timor-Leste\", \"Togo\", \"Taiwan\", \"Tunisia\", \"Turkey\", null, \"United Arab Emirates\", \"Uganda\", \"Ukraine\", null, \"Uruguay\", \"USA\", \"Uzbekistan\", \"Vanuatu\", \"Venezuela\", \"Vietnam\", \"Saint Vincent\", \"Vietnam\", \"Zambia\", \"Germany\", \"Yemen\", \"Serbia\", \"Czech Republic\", \"Russia\", \"Malaysia\", \"Greece\", \"Trinidad\", \"Vietnam\", \"Zimbabwe\", \"Australia\", \"Syria\", \"Canada\", \"China\"], \"marker\": {\"line\": {\"color\": \"rgb(0,0,0)\", \"width\": 0.5}}, \"reversescale\": false, \"text\": [\"Afghanistan\", \"Curacao\", \"Albania\", \"Algeria\", \"Andorra\", \"Angola\", \"Antigua\", \"Argentina\", \"Armenia\", \"Aruba\", \"American Samoa\", \"Austria\", \"Azerbaijan\", \"Bahamas\", \"Bangladesh\", \"Barbados\", \"Burundi\", \"Belgium\", \"Benin\", \"Bermuda\", \"Bhutan\", \"Bosnia and Herzegovina\", \"Belize\", \"Belarus\", \"Boliva\", \"Botswana\", \"Brazil\", \"Bahrain\", \"Brunei\", \"Bulgaria\", \"Burkina Faso\", \"Central African Republic\", \"Cambodia\", \"Cayman Islands\", \"Republic of Congo\", \"Chad\", \"Chile\", \"Ivory Coast\", \"Cameroon\", \"Democratic Republic of the Congo\", \"Cook Islands\", \"Colombia\", \"Comoros\", \"Cape Verde\", \"Costa Rica\", \"Croatia\", \"Cuba\", \"Cyprus\", \"Denmark\", \"Djibouti\", \"Dominica\", \"Dominican Republic\", \"Ecuador\", \"Egypt\", \"Eritrea\", \"El Salvador\", \"Spain\", \"Estonia\", \"Ethiopia\", \"Fiji\", \"Finland\", \"France\", \"Micronesia\", \"Gabon\", \"Gambia\", \"UK\", \"Guinea-Bissau\", \"Georgia\", \"Equatorial Guinea\", \"Ghana\", \"Grenada\", \"Guatemala\", \"Guinea\", \"Guam\", \"Guyana\", \"Haiti\", \"Honduras\", \"Hungary\", \"Indonesia\", \"India\", \"Individual Olympic Athletes\", \"Iran\", \"Ireland\", \"Iraq\", \"Iceland\", \"Israel\", \"Virgin Islands, US\", \"Italy\", \"Virgin Islands, British\", \"Jamaica\", \"Jordan\", \"Japan\", \"Kazakhstan\", \"Kenya\", \"Kyrgyzstan\", \"Kiribati\", \"South Korea\", \"Kosovo\", \"Saudi Arabia\", \"Kuwait\", \"Laos\", \"Latvia\", \"Libya\", \"Liberia\", \"Saint Lucia\", \"Lesotho\", \"Lebanon\", \"Liechtenstein\", \"Lithuania\", \"Luxembourg\", \"Madagascar\", \"Morocco\", \"Malawi\", \"Moldova\", \"Maldives\", \"Mexico\", \"Mongolia\", \"Marshall Islands\", \"Macedonia\", \"Mali\", \"Malta\", \"Montenegro\", \"Monaco\", \"Mozambique\", \"Mauritius\", \"Mauritania\", \"Myanmar\", \"Namibia\", \"Nicaragua\", \"Netherlands\", \"Nepal\", \"Nigeria\", \"Niger\", \"Norway\", \"Nauru\", \"New Zealand\", \"Oman\", \"Pakistan\", \"Panama\", \"Paraguay\", \"Peru\", \"Philippines\", \"Palestine\", \"Palau\", \"Papua New Guinea\", \"Poland\", \"Portugal\", \"North Korea\", \"Puerto Rico\", \"Qatar\", null, \"Romania\", \"South Africa\", \"Rwanda\", \"Samoa\", \"Senegal\", \"Seychelles\", \"Saint Kitts\", \"Sierra Leone\", \"Slovenia\", \"San Marino\", \"Solomon Islands\", \"Somalia\", \"Sri Lanka\", \"South Sudan\", \"Sao Tome and Principe\", \"Sudan\", \"Switzerland\", \"Suriname\", \"Slovakia\", \"Sweden\", \"Swaziland\", \"Tanzania\", \"Tonga\", \"Thailand\", \"Tajikistan\", \"Turkmenistan\", \"Timor-Leste\", \"Togo\", \"Taiwan\", \"Tunisia\", \"Turkey\", null, \"United Arab Emirates\", \"Uganda\", \"Ukraine\", null, \"Uruguay\", \"USA\", \"Uzbekistan\", \"Vanuatu\", \"Venezuela\", \"Vietnam\", \"Saint Vincent\", \"Vietnam\", \"Zambia\", \"Germany\", \"Yemen\", \"Serbia\", \"Czech Republic\", \"Russia\", \"Malaysia\", \"Greece\", \"Trinidad\", \"Vietnam\", \"Zimbabwe\", \"Australia\", \"Syria\", \"Canada\", \"China\"], \"type\": \"choropleth\", \"z\": [0.03968253968253968, 0.1518987341772152, 0.38571428571428573, 0.1705989110707804, 0.2485207100591716, 0.48314606741573035, 0.2781954887218045, 0.19502578101304216, 0.17194570135746606, 0.38095238095238093, 0.1891891891891892, 0.21396615444466058, 0.2508833922261484, 0.26737967914438504, 0.23636363636363636, 0.1780821917808219, 0.358974358974359, 0.15659839253305677, 0.19718309859154928, 0.19339622641509435, 0.4722222222222222, 0.291044776119403, 0.11842105263157894, 0.4443200895355344, 0.23684210526315788, 0.07777777777777778, 0.2983367983367983, 0.24603174603174602, 0.2, 0.3028328611898017, 0.3409090909090909, 0.23880597014925373, 0.2698412698412698, 0.14457831325301204, 0.3333333333333333, 0.24390243902439024, 0.12756756756756757, 0.3005181347150259, 0.30128205128205127, 0.26881720430107525, 0.4, 0.27595884003741816, 0.42105263157894735, 0.5, 0.24621212121212122, 0.2694063926940639, 0.23719241629689392, 0.2577777777777778, 0.19887955182072828, 0.13157894736842105, 0.3684210526315789, 0.259927797833935, 0.23104693140794225, 0.11159062885326756, 0.13953488372093023, 0.30275229357798167, 0.27084509693205344, 0.2522831050228311, 0.24338624338624337, 0.28879310344827586, 0.181452350466435, 0.21798087474525787, 0.4230769230769231, 0.23809523809523808, 0.23214285714285715, 0.2673792428198433, 0.38095238095238093, 0.2517482517482518, 0.275, 0.1615598885793872, 0.3148148148148148, 0.17647058823529413, 0.2054794520547945, 0.24107142857142858, 0.20588235294117646, 0.1792452830188679, 0.20634920634920634, 0.26456788254881186, 0.3300970873786408, 0.17116477272727273, 0.30851063829787234, 0.062103929024081114, 0.21358490566037736, 0.03017241379310345, 0.20574162679425836, 0.3112781954887218, 0.19387755102040816, 0.2373308446103593, 0.1111111111111111, 0.43160377358490565, 0.2875, 0.32910942681193744, 0.384184744576627, 0.20595854922279794, 0.23788546255506607, 0.2727272727272727, 0.33378136200716846, 0.625, 0.021739130434782608, 0.014084507042253521, 0.2222222222222222, 0.20715036803364878, 0.13095238095238096, 0.17567567567567569, 0.4642857142857143, 0.22727272727272727, 0.12462006079027356, 0.2032520325203252, 0.3195718654434251, 0.07329317269076305, 0.40336134453781514, 0.1348973607038123, 0.16091954022988506, 0.27350427350427353, 0.24489795918367346, 0.22534722222222223, 0.27090909090909093, 0.5, 0.39285714285714285, 0.31521739130434784, 0.2627118644067797, 0.3829787234042553, 0.09137055837563451, 0.2948717948717949, 0.3541666666666667, 0.1724137931034483, 0.21621621621621623, 0.36363636363636365, 0.17054263565891473, 0.3295084774790204, 0.2553191489361702, 0.35034013605442177, 0.2127659574468085, 0.22782258064516128, 0.15384615384615385, 0.33475661827497866, 0.06060606060606061, 0.019572953736654804, 0.2805755395683453, 0.17037037037037037, 0.30451127819548873, 0.14985590778097982, 0.38095238095238093, 0.52, 0.24074074074074073, 0.28210085387465766, 0.18396846254927726, 0.49070631970260226, 0.18015102481121897, 0.036458333333333336, 0.4166666666666667, 0.36753688989784333, 0.2536528345996493, 0.35714285714285715, 0.19047619047619047, 0.19592875318066158, 0.2072072072072072, 0.40476190476190477, 0.23684210526315788, 0.3726372637263726, 0.09392265193370165, 0.3333333333333333, 0.15625, 0.3013698630136986, 0.3333333333333333, 0.4, 0.09345794392523364, 0.19593495934959348, 0.3188405797101449, 0.34218009478672984, 0.2380381340688332, 0.11940298507462686, 0.13043478260869565, 0.21739130434782608, 0.28647925033467203, 0.22857142857142856, 0.4074074074074074, 0.5555555555555556, 0.1864406779661017, 0.37192342752962626, 0.16934046345811052, 0.1851032448377581, 0.2857142857142857, 0.04861111111111111, 0.16153846153846155, 0.4611176240719031, 0.0, 0.1076388888888889, 0.2934811435845754, 0.30505050505050507, 0.34285714285714286, 0.23891891891891892, 0.4805194805194805, 0.2619047619047619, 0.03225806451612903, 0.10382513661202186, 0.30529496946420703, 0.08333333333333333, 0.17445388349514562, 0.2492613901415021, 0.3510947656517277, 0.17677642980935876, 0.20520050125313283, 0.20253164556962025, 0.35185185185185186, 0.35294117647058826, 0.356162610046608, 0.06093189964157706, 0.36603657283747687, 0.5135599038791624]}],\n",
       "                        {\"geo\": {\"projection\": {\"type\": \"natural earth\"}, \"showcoastlines\": true, \"showframe\": true, \"showlakes\": false}, \"template\": {\"data\": {\"bar\": [{\"error_x\": {\"color\": \"#2a3f5f\"}, \"error_y\": {\"color\": \"#2a3f5f\"}, \"marker\": {\"line\": {\"color\": \"#E5ECF6\", \"width\": 0.5}}, \"type\": \"bar\"}], \"barpolar\": [{\"marker\": {\"line\": {\"color\": \"#E5ECF6\", \"width\": 0.5}}, \"type\": \"barpolar\"}], \"carpet\": [{\"aaxis\": {\"endlinecolor\": \"#2a3f5f\", \"gridcolor\": \"white\", \"linecolor\": \"white\", \"minorgridcolor\": \"white\", \"startlinecolor\": \"#2a3f5f\"}, \"baxis\": {\"endlinecolor\": \"#2a3f5f\", \"gridcolor\": \"white\", \"linecolor\": \"white\", \"minorgridcolor\": \"white\", \"startlinecolor\": \"#2a3f5f\"}, \"type\": \"carpet\"}], \"choropleth\": [{\"colorbar\": {\"outlinewidth\": 0, \"ticks\": \"\"}, \"type\": \"choropleth\"}], \"contour\": [{\"colorbar\": {\"outlinewidth\": 0, \"ticks\": \"\"}, \"colorscale\": [[0.0, \"#0d0887\"], [0.1111111111111111, \"#46039f\"], [0.2222222222222222, \"#7201a8\"], [0.3333333333333333, \"#9c179e\"], [0.4444444444444444, \"#bd3786\"], [0.5555555555555556, \"#d8576b\"], [0.6666666666666666, \"#ed7953\"], [0.7777777777777778, \"#fb9f3a\"], [0.8888888888888888, \"#fdca26\"], [1.0, \"#f0f921\"]], \"type\": \"contour\"}], \"contourcarpet\": [{\"colorbar\": {\"outlinewidth\": 0, \"ticks\": \"\"}, \"type\": \"contourcarpet\"}], \"heatmap\": [{\"colorbar\": {\"outlinewidth\": 0, \"ticks\": \"\"}, \"colorscale\": [[0.0, \"#0d0887\"], [0.1111111111111111, \"#46039f\"], [0.2222222222222222, \"#7201a8\"], [0.3333333333333333, \"#9c179e\"], [0.4444444444444444, \"#bd3786\"], [0.5555555555555556, \"#d8576b\"], [0.6666666666666666, \"#ed7953\"], [0.7777777777777778, \"#fb9f3a\"], [0.8888888888888888, \"#fdca26\"], [1.0, \"#f0f921\"]], \"type\": \"heatmap\"}], \"heatmapgl\": [{\"colorbar\": {\"outlinewidth\": 0, \"ticks\": \"\"}, \"colorscale\": [[0.0, \"#0d0887\"], [0.1111111111111111, \"#46039f\"], [0.2222222222222222, \"#7201a8\"], [0.3333333333333333, \"#9c179e\"], [0.4444444444444444, \"#bd3786\"], [0.5555555555555556, \"#d8576b\"], [0.6666666666666666, \"#ed7953\"], [0.7777777777777778, \"#fb9f3a\"], [0.8888888888888888, \"#fdca26\"], [1.0, \"#f0f921\"]], \"type\": \"heatmapgl\"}], \"histogram\": [{\"marker\": {\"colorbar\": {\"outlinewidth\": 0, \"ticks\": \"\"}}, \"type\": \"histogram\"}], \"histogram2d\": [{\"colorbar\": {\"outlinewidth\": 0, \"ticks\": \"\"}, \"colorscale\": [[0.0, \"#0d0887\"], [0.1111111111111111, \"#46039f\"], [0.2222222222222222, \"#7201a8\"], [0.3333333333333333, \"#9c179e\"], [0.4444444444444444, \"#bd3786\"], [0.5555555555555556, \"#d8576b\"], [0.6666666666666666, \"#ed7953\"], [0.7777777777777778, \"#fb9f3a\"], [0.8888888888888888, \"#fdca26\"], [1.0, \"#f0f921\"]], \"type\": \"histogram2d\"}], \"histogram2dcontour\": [{\"colorbar\": {\"outlinewidth\": 0, \"ticks\": \"\"}, \"colorscale\": [[0.0, \"#0d0887\"], [0.1111111111111111, \"#46039f\"], [0.2222222222222222, \"#7201a8\"], [0.3333333333333333, \"#9c179e\"], [0.4444444444444444, \"#bd3786\"], [0.5555555555555556, \"#d8576b\"], [0.6666666666666666, \"#ed7953\"], [0.7777777777777778, \"#fb9f3a\"], [0.8888888888888888, \"#fdca26\"], [1.0, \"#f0f921\"]], \"type\": \"histogram2dcontour\"}], \"mesh3d\": [{\"colorbar\": {\"outlinewidth\": 0, \"ticks\": \"\"}, \"type\": \"mesh3d\"}], \"parcoords\": [{\"line\": {\"colorbar\": {\"outlinewidth\": 0, \"ticks\": \"\"}}, \"type\": \"parcoords\"}], \"pie\": [{\"automargin\": true, \"type\": \"pie\"}], \"scatter\": [{\"marker\": {\"colorbar\": {\"outlinewidth\": 0, \"ticks\": \"\"}}, \"type\": \"scatter\"}], \"scatter3d\": [{\"line\": {\"colorbar\": {\"outlinewidth\": 0, \"ticks\": \"\"}}, \"marker\": {\"colorbar\": {\"outlinewidth\": 0, \"ticks\": \"\"}}, \"type\": \"scatter3d\"}], \"scattercarpet\": [{\"marker\": {\"colorbar\": {\"outlinewidth\": 0, \"ticks\": \"\"}}, \"type\": \"scattercarpet\"}], \"scattergeo\": [{\"marker\": {\"colorbar\": {\"outlinewidth\": 0, \"ticks\": \"\"}}, \"type\": \"scattergeo\"}], \"scattergl\": [{\"marker\": {\"colorbar\": {\"outlinewidth\": 0, \"ticks\": \"\"}}, \"type\": \"scattergl\"}], \"scattermapbox\": [{\"marker\": {\"colorbar\": {\"outlinewidth\": 0, \"ticks\": \"\"}}, \"type\": \"scattermapbox\"}], \"scatterpolar\": [{\"marker\": {\"colorbar\": {\"outlinewidth\": 0, \"ticks\": \"\"}}, \"type\": \"scatterpolar\"}], \"scatterpolargl\": [{\"marker\": {\"colorbar\": {\"outlinewidth\": 0, \"ticks\": \"\"}}, \"type\": \"scatterpolargl\"}], \"scatterternary\": [{\"marker\": {\"colorbar\": {\"outlinewidth\": 0, \"ticks\": \"\"}}, \"type\": \"scatterternary\"}], \"surface\": [{\"colorbar\": {\"outlinewidth\": 0, \"ticks\": \"\"}, \"colorscale\": [[0.0, \"#0d0887\"], [0.1111111111111111, \"#46039f\"], [0.2222222222222222, \"#7201a8\"], [0.3333333333333333, \"#9c179e\"], [0.4444444444444444, \"#bd3786\"], [0.5555555555555556, \"#d8576b\"], [0.6666666666666666, \"#ed7953\"], [0.7777777777777778, \"#fb9f3a\"], [0.8888888888888888, \"#fdca26\"], [1.0, \"#f0f921\"]], \"type\": \"surface\"}], \"table\": [{\"cells\": {\"fill\": {\"color\": \"#EBF0F8\"}, \"line\": {\"color\": \"white\"}}, \"header\": {\"fill\": {\"color\": \"#C8D4E3\"}, \"line\": {\"color\": \"white\"}}, \"type\": \"table\"}]}, \"layout\": {\"annotationdefaults\": {\"arrowcolor\": \"#2a3f5f\", \"arrowhead\": 0, \"arrowwidth\": 1}, \"coloraxis\": {\"colorbar\": {\"outlinewidth\": 0, \"ticks\": \"\"}}, \"colorscale\": {\"diverging\": [[0, \"#8e0152\"], [0.1, \"#c51b7d\"], [0.2, \"#de77ae\"], [0.3, \"#f1b6da\"], [0.4, \"#fde0ef\"], [0.5, \"#f7f7f7\"], [0.6, \"#e6f5d0\"], [0.7, \"#b8e186\"], [0.8, \"#7fbc41\"], [0.9, \"#4d9221\"], [1, \"#276419\"]], \"sequential\": [[0.0, \"#0d0887\"], [0.1111111111111111, \"#46039f\"], [0.2222222222222222, \"#7201a8\"], [0.3333333333333333, \"#9c179e\"], [0.4444444444444444, \"#bd3786\"], [0.5555555555555556, \"#d8576b\"], [0.6666666666666666, \"#ed7953\"], [0.7777777777777778, \"#fb9f3a\"], [0.8888888888888888, \"#fdca26\"], [1.0, \"#f0f921\"]], \"sequentialminus\": [[0.0, \"#0d0887\"], [0.1111111111111111, \"#46039f\"], [0.2222222222222222, \"#7201a8\"], [0.3333333333333333, \"#9c179e\"], [0.4444444444444444, \"#bd3786\"], [0.5555555555555556, \"#d8576b\"], [0.6666666666666666, \"#ed7953\"], [0.7777777777777778, \"#fb9f3a\"], [0.8888888888888888, \"#fdca26\"], [1.0, \"#f0f921\"]]}, \"colorway\": [\"#636efa\", \"#EF553B\", \"#00cc96\", \"#ab63fa\", \"#FFA15A\", \"#19d3f3\", \"#FF6692\", \"#B6E880\", \"#FF97FF\", \"#FECB52\"], \"font\": {\"color\": \"#2a3f5f\"}, \"geo\": {\"bgcolor\": \"white\", \"lakecolor\": \"white\", \"landcolor\": \"#E5ECF6\", \"showlakes\": true, \"showland\": true, \"subunitcolor\": \"white\"}, \"hoverlabel\": {\"align\": \"left\"}, \"hovermode\": \"closest\", \"mapbox\": {\"style\": \"light\"}, \"paper_bgcolor\": \"white\", \"plot_bgcolor\": \"#E5ECF6\", \"polar\": {\"angularaxis\": {\"gridcolor\": \"white\", \"linecolor\": \"white\", \"ticks\": \"\"}, \"bgcolor\": \"#E5ECF6\", \"radialaxis\": {\"gridcolor\": \"white\", \"linecolor\": \"white\", \"ticks\": \"\"}}, \"scene\": {\"xaxis\": {\"backgroundcolor\": \"#E5ECF6\", \"gridcolor\": \"white\", \"gridwidth\": 2, \"linecolor\": \"white\", \"showbackground\": true, \"ticks\": \"\", \"zerolinecolor\": \"white\"}, \"yaxis\": {\"backgroundcolor\": \"#E5ECF6\", \"gridcolor\": \"white\", \"gridwidth\": 2, \"linecolor\": \"white\", \"showbackground\": true, \"ticks\": \"\", \"zerolinecolor\": \"white\"}, \"zaxis\": {\"backgroundcolor\": \"#E5ECF6\", \"gridcolor\": \"white\", \"gridwidth\": 2, \"linecolor\": \"white\", \"showbackground\": true, \"ticks\": \"\", \"zerolinecolor\": \"white\"}}, \"shapedefaults\": {\"line\": {\"color\": \"#2a3f5f\"}}, \"ternary\": {\"aaxis\": {\"gridcolor\": \"white\", \"linecolor\": \"white\", \"ticks\": \"\"}, \"baxis\": {\"gridcolor\": \"white\", \"linecolor\": \"white\", \"ticks\": \"\"}, \"bgcolor\": \"#E5ECF6\", \"caxis\": {\"gridcolor\": \"white\", \"linecolor\": \"white\", \"ticks\": \"\"}}, \"title\": {\"x\": 0.05}, \"xaxis\": {\"automargin\": true, \"gridcolor\": \"white\", \"linecolor\": \"white\", \"ticks\": \"\", \"title\": {\"standoff\": 15}, \"zerolinecolor\": \"white\", \"zerolinewidth\": 2}, \"yaxis\": {\"automargin\": true, \"gridcolor\": \"white\", \"linecolor\": \"white\", \"ticks\": \"\", \"title\": {\"standoff\": 15}, \"zerolinecolor\": \"white\", \"zerolinewidth\": 2}}}, \"title\": {\"text\": \"Total Proportion Female Athletes by Country Over All Olympic Competitions\"}},\n",
       "                        {\"responsive\": true}\n",
       "                    ).then(function(){\n",
       "                            \n",
       "var gd = document.getElementById('f54a6bd1-6f8b-4df7-81eb-ab0aa3958bfc');\n",
       "var x = new MutationObserver(function (mutations, observer) {{\n",
       "        var display = window.getComputedStyle(gd).display;\n",
       "        if (!display || display === 'none') {{\n",
       "            console.log([gd, 'removed!']);\n",
       "            Plotly.purge(gd);\n",
       "            observer.disconnect();\n",
       "        }}\n",
       "}});\n",
       "\n",
       "// Listen for the removal of the full notebook cells\n",
       "var notebookContainer = gd.closest('#notebook-container');\n",
       "if (notebookContainer) {{\n",
       "    x.observe(notebookContainer, {childList: true});\n",
       "}}\n",
       "\n",
       "// Listen for the clearing of the current output cell\n",
       "var outputEl = gd.closest('.output');\n",
       "if (outputEl) {{\n",
       "    x.observe(outputEl, {childList: true});\n",
       "}}\n",
       "\n",
       "                        })\n",
       "                };\n",
       "                });\n",
       "            </script>\n",
       "        </div>"
      ]
     },
     "metadata": {},
     "output_type": "display_data"
    }
   ],
   "source": [
    "create_map(prop_gender_map, 'Proportion Female', 'RdBu')"
   ]
  },
  {
   "cell_type": "markdown",
   "metadata": {},
   "source": [
    "Based on our map of the proportion of female athletes per country, we notice the following trends:\n",
    "- China, Angola, Ukraine, Belarus, Madagascar, Kazakhstan, and Vietnam all rise to top with over 40% female athletes.\n",
    "- The Middle East clearly falls to the bottom, with the lowest proportion of female athletes.\n",
    "- Many North and East African nations follow a similar trend as the Middle East, though we decreased severity.\n",
    "- The nations that appeared most impressive in our previous map (United States, Russia, the UK, Canada) fall slightly here, with decreased percentages of female athletes.\n",
    "- Western European nations still surprisingly show lower than expected (given their typical progressiveness) proportions of female athletes."
   ]
  },
  {
   "cell_type": "markdown",
   "metadata": {},
   "source": [
    "## Can we predict an athlete's gender based on their height, weight, and age?"
   ]
  },
  {
   "cell_type": "markdown",
   "metadata": {},
   "source": [
    "According to our work above, signficant differences exist between male and female atheletes' height, weight, and age. Below, we will attempt to create a classification model based on these features that most accurately determines whether a given athlete is male or female. We will use a KNearest neighbors classifier, logistic regression, and decision tree to perform the classification, and will compare the performance of each model accordingly."
   ]
  },
  {
   "cell_type": "markdown",
   "metadata": {},
   "source": [
    "To prepare our data for classfication, we create our features dataframe with 'Age', 'Height', and 'Weight' included, as well as our target dataframe for 'Sex'."
   ]
  },
  {
   "cell_type": "code",
   "execution_count": 147,
   "metadata": {},
   "outputs": [],
   "source": [
    "X = data[['Age','Height','Weight']].copy()"
   ]
  },
  {
   "cell_type": "code",
   "execution_count": 148,
   "metadata": {},
   "outputs": [],
   "source": [
    "Y = data['Sex'].copy()"
   ]
  },
  {
   "cell_type": "markdown",
   "metadata": {},
   "source": [
    "### KNearest Neighbors"
   ]
  },
  {
   "cell_type": "code",
   "execution_count": 149,
   "metadata": {},
   "outputs": [],
   "source": [
    "from sklearn.model_selection import train_test_split\n",
    "X_train, X_test, y_train, y_test = train_test_split(X,Y)"
   ]
  },
  {
   "cell_type": "code",
   "execution_count": 150,
   "metadata": {},
   "outputs": [],
   "source": [
    "from sklearn.neighbors import KNeighborsClassifier\n",
    "from sklearn import metrics\n",
    "import timeit\n",
    "from sklearn.metrics import confusion_matrix"
   ]
  },
  {
   "cell_type": "code",
   "execution_count": 151,
   "metadata": {},
   "outputs": [
    {
     "name": "stdout",
     "output_type": "stream",
     "text": [
      "Accuracy: 0.8612156174232923\n",
      "Accuracy: 0.8410127030496172\n",
      "Time Taken: 0.0007497690003219759\n"
     ]
    }
   ],
   "source": [
    "start = timeit.timeit()\n",
    "model = KNeighborsClassifier()\n",
    "model.fit(X_train, y_train)\n",
    "Yhat_train = model.predict(X_train)\n",
    "acc_train = metrics.accuracy_score(Yhat_train, y_train)\n",
    "Yhat_test = model.predict(X_test)\n",
    "acc_test = metrics.accuracy_score(Yhat_test, y_test)\n",
    "end = timeit.timeit()\n",
    "print(\"Accuracy:\",acc_train)\n",
    "print(\"Accuracy:\",acc_test)\n",
    "print (\"Time Taken:\", end - start)"
   ]
  },
  {
   "cell_type": "markdown",
   "metadata": {},
   "source": [
    "With our KNearest neighbors classifier, we achieve an 86.12% training accuracy rate and an 84.10% testing accuracy rate. This is a pretty high initial benchmark, much higher than the statistical 50/50 accuracy rate we could expect with random chance. Let's visualize this in a confusion matrix below!"
   ]
  },
  {
   "cell_type": "code",
   "execution_count": 152,
   "metadata": {},
   "outputs": [
    {
     "name": "stdout",
     "output_type": "stream",
     "text": [
      "[[12194  6361]\n",
      " [ 4415 44809]]\n"
     ]
    }
   ],
   "source": [
    "cm_knn = confusion_matrix(y_test, Yhat_test)\n",
    "print(cm_knn)"
   ]
  },
  {
   "cell_type": "code",
   "execution_count": 153,
   "metadata": {},
   "outputs": [],
   "source": [
    "import itertools\n",
    "def final_confusion_matrix(cnf_matrix, y, title):\n",
    "    plt.imshow(cnf_matrix,  cmap=plt.cm.Blues) #Create the basic matrix.\n",
    "\n",
    "    #Add title and Axis Labels\n",
    "    plt.title('Confusion Matrix for {}'.format(title))\n",
    "    plt.ylabel('True label')\n",
    "    plt.xlabel('Predicted label')\n",
    "\n",
    "    #Add appropriate Axis Scales\n",
    "    class_names = set(y) #Get class labels to add to matrix\n",
    "    tick_marks = np.arange(len(class_names))\n",
    "    plt.xticks(tick_marks, class_names, rotation=45)\n",
    "    plt.yticks(tick_marks, class_names)\n",
    "\n",
    "    #Add Labels to Each Cell\n",
    "    thresh = cnf_matrix.max() / 2. #Used for text coloring below\n",
    "    #Here we iterate through the confusion matrix and append labels to our visualization.\n",
    "    for i, j in itertools.product(range(cnf_matrix.shape[0]), range(cnf_matrix.shape[1])):\n",
    "        plt.text(j, i, cnf_matrix[i, j],\n",
    "                 horizontalalignment=\"center\",\n",
    "                 color=\"white\" if cnf_matrix[i, j] > thresh else \"black\")\n",
    "\n",
    "    #Add a Side Bar Legend Showing Colors\n",
    "    plt.colorbar()"
   ]
  },
  {
   "cell_type": "code",
   "execution_count": 154,
   "metadata": {},
   "outputs": [
    {
     "data": {
      "image/png": "[encoded data removed]",
      "text/plain": [
       "<Figure size 432x288 with 2 Axes>"
      ]
     },
     "metadata": {
      "needs_background": "light"
     },
     "output_type": "display_data"
    }
   ],
   "source": [
    "final_confusion_matrix(cm_knn, Y, 'KNearestNeighbors')"
   ]
  },
  {
   "cell_type": "markdown",
   "metadata": {},
   "source": [
    "The confusion matrix above, shows that our model accurately predicted 12194 female athletes and 44809 male athletes! However, it misclassified 10776 total athletes, approximately 15% of the testing dataset. Let's see if our logistic regression or decision tree model can do better!"
   ]
  },
  {
   "cell_type": "markdown",
   "metadata": {},
   "source": [
    "### Logistic Regression"
   ]
  },
  {
   "cell_type": "code",
   "execution_count": 155,
   "metadata": {},
   "outputs": [],
   "source": [
    "Y.replace('M',0,inplace=True)\n",
    "Y.replace('F',1,inplace=True)"
   ]
  },
  {
   "cell_type": "code",
   "execution_count": 156,
   "metadata": {},
   "outputs": [],
   "source": [
    "X_train, X_test, y_train, y_test = train_test_split(X,Y)"
   ]
  },
  {
   "cell_type": "code",
   "execution_count": 157,
   "metadata": {},
   "outputs": [
    {
     "name": "stderr",
     "output_type": "stream",
     "text": [
      "/anaconda3/lib/python3.7/site-packages/sklearn/linear_model/logistic.py:433: FutureWarning: Default solver will be changed to 'lbfgs' in 0.22. Specify a solver to silence this warning.\n",
      "  FutureWarning)\n"
     ]
    },
    {
     "name": "stdout",
     "output_type": "stream",
     "text": [
      "Training Accuracy:  0.8330161259387125\n",
      "Testing Accuracy:  0.8314227120494548\n",
      "[[45163  3878]\n",
      " [ 7548 11190]]\n"
     ]
    }
   ],
   "source": [
    "from sklearn.linear_model import LogisticRegression\n",
    "\n",
    "logreg = LogisticRegression(fit_intercept = False, C = 1e12) #Starter code\n",
    "#Your code here\n",
    "model_log = logreg.fit(X_train, y_train)\n",
    "model_log\n",
    "\n",
    "y_hat_test = logreg.predict(X_test)\n",
    "y_hat_train = logreg.predict(X_train)\n",
    "\n",
    "residuals = y_train - y_hat_train\n",
    "print('Training Accuracy: ',pd.Series(residuals).value_counts(normalize=True)[0])\n",
    "\n",
    "residuals = y_test - y_hat_test\n",
    "print('Testing Accuracy: ',pd.Series(residuals).value_counts(normalize=True)[0])\n",
    "\n",
    "cm_logreg = confusion_matrix(y_test, y_hat_test)\n",
    "print(cm_logreg)"
   ]
  },
  {
   "cell_type": "markdown",
   "metadata": {},
   "source": [
    "With our logistic regression classifier, we achieve an 83.30% training accuracy rate and an 83.14% testing accuracy rate. This is another pretty high result, much higher than the statistical 50/50 accuracy rate we could expect with random chance, but slightly lower than the KNearest neighbors classifier from before. Let's visualize this in a confusion matrix below!"
   ]
  },
  {
   "cell_type": "code",
   "execution_count": 158,
   "metadata": {},
   "outputs": [
    {
     "data": {
      "image/png": "[encoded data removed]",
      "text/plain": [
       "<Figure size 432x288 with 2 Axes>"
      ]
     },
     "metadata": {
      "needs_background": "light"
     },
     "output_type": "display_data"
    }
   ],
   "source": [
    "final_confusion_matrix(cm_logreg, Y, 'Logistic Regression')"
   ]
  },
  {
   "cell_type": "markdown",
   "metadata": {},
   "source": [
    "The confusion matrix above shows that our model accurately predicted 11190 female athletes and 45163 male athletes! However, it misclassified 11426 total athletes, approximately 17% of the testing dataset. Let's see if our decision tree model can do better!"
   ]
  },
  {
   "cell_type": "markdown",
   "metadata": {},
   "source": [
    "### Decision Tree"
   ]
  },
  {
   "cell_type": "code",
   "execution_count": 160,
   "metadata": {},
   "outputs": [
    {
     "name": "stdout",
     "output_type": "stream",
     "text": [
      "[[45463  3578]\n",
      " [ 6740 11998]]\n",
      "Training Accuracy:  0.88216605930057\n",
      "Testing Accuracy:  0.8477699582466546\n"
     ]
    }
   ],
   "source": [
    "from sklearn.tree import DecisionTreeClassifier\n",
    "from sklearn.metrics import accuracy_score\n",
    "\n",
    "dt = DecisionTreeClassifier(criterion='entropy')\n",
    "dt.fit(X_train, y_train)\n",
    "\n",
    "y_pred_dt = dt.predict(X_test)\n",
    "y_pred_dt_train = dt.predict(X_train)\n",
    "\n",
    "cm_dt = confusion_matrix(y_test, y_pred_dt)\n",
    "print(cm_dt)\n",
    "print('Training Accuracy: ',accuracy_score(y_train, y_pred_dt_train))\n",
    "print('Testing Accuracy: ',accuracy_score(y_test, y_pred_dt))"
   ]
  },
  {
   "cell_type": "markdown",
   "metadata": {},
   "source": [
    "With our decision tree classifier, we achieve an 88.22% training accuracy rate and an 84.78% testing accuracy rate. This is the highest of all three initial models, and much higher than the statistical 50/50 accuracy rate we could expect with random chance. Let's visualize this in a confusion matrix below!"
   ]
  },
  {
   "cell_type": "code",
   "execution_count": 162,
   "metadata": {},
   "outputs": [
    {
     "data": {
      "image/png": "[encoded data removed]",
      "text/plain": [
       "<Figure size 432x288 with 2 Axes>"
      ]
     },
     "metadata": {
      "needs_background": "light"
     },
     "output_type": "display_data"
    }
   ],
   "source": [
    "final_confusion_matrix(cm_dt, Y, 'Decision Tree Classifier')"
   ]
  },
  {
   "cell_type": "markdown",
   "metadata": {},
   "source": [
    "The confusion matrix above shows that our model accurately predicted 11998 female athletes and 45463 male athletes! However, it misclassified 10318 total athletes, approximately 15% of the testing dataset. Let's see if our we can improve on our decision tree classifier below!"
   ]
  },
  {
   "cell_type": "markdown",
   "metadata": {},
   "source": [
    "## Summary"
   ]
  },
  {
   "cell_type": "markdown",
   "metadata": {},
   "source": [
    "In this section, we explored the impact, influence, and distribution of gender throughout the history of the modern Olympic Games. We answered many questions about gender, including:\n",
    "- What is the overall gender composition of the Olympic Games?\n",
    "- Are height, weight, and age of male and female athletes substantially different?\n",
    "- How has the proportion of male and female athletes changed over time?\n",
    "- Which countries boast the greatest gender equality based on female participation?\n",
    "- Can we predict an athlete's gender based on their height, weight, and age?\n",
    "\n",
    "Moving forward, I hope that we see a continued increase in the inclusion of female athletes in the Olympic Games. Since 1896, a year with 0 female participants, we have certainly come far, although the fight for gender equality still has a great deal further to go. For more news, information, and analysis about gender in the Olympic Games, check out the following sources:\n",
    "- https://www.olympic.org/gender-equality\n",
    "- https://stillmed.olympic.org/media/Document%20Library/OlympicOrg/News/2018/03/IOC-Gender-Equality-Report-March-2018.pdf\n",
    "- https://www.pri.org/stories/2016-08-17/see-120-years-struggle-gender-equality-olympics\n",
    "- https://www.olympic.org/news/ioc-is-leading-the-way-in-gender-equality\n",
    "- https://www.bbc.com/news/world-41272613"
   ]
  }
 ],
 "metadata": {
  "kernelspec": {
   "display_name": "Python 3",
   "language": "python",
   "name": "python3"
  },
  "language_info": {
   "codemirror_mode": {
    "name": "ipython",
    "version": 3
   },
   "file_extension": ".py",
   "mimetype": "text/x-python",
   "name": "python",
   "nbconvert_exporter": "python",
   "pygments_lexer": "ipython3",
   "version": "3.7.3"
  }
 },
 "nbformat": 4,
 "nbformat_minor": 2
}
